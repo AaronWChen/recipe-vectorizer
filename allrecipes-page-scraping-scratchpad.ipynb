{
 "cells": [
  {
   "cell_type": "code",
   "execution_count": 391,
   "metadata": {},
   "outputs": [],
   "source": [
    "import time\n",
    "import random\n",
    "import requests\n",
    "import selenium\n",
    "from string import ascii_lowercase\n",
    "from selenium.webdriver import Firefox, Chrome\n",
    "from bs4 import BeautifulSoup\n",
    "import pandas as pd\n",
    "import string\n",
    "import numpy as np\n",
    "from selenium.webdriver.common.keys import Keys\n",
    "import pymongo"
   ]
  },
  {
   "cell_type": "code",
   "execution_count": 182,
   "metadata": {},
   "outputs": [],
   "source": [
    "browser = Chrome()"
   ]
  },
  {
   "cell_type": "code",
   "execution_count": 314,
   "metadata": {},
   "outputs": [],
   "source": [
    "url='https://www.allrecipes.com/recipe/141833/thai-green-curry-chicken/'\n",
    "browser.get(url)"
   ]
  },
  {
   "cell_type": "code",
   "execution_count": 84,
   "metadata": {},
   "outputs": [],
   "source": [
    "time.sleep(2)"
   ]
  },
  {
   "cell_type": "code",
   "execution_count": 307,
   "metadata": {},
   "outputs": [],
   "source": [
    "def _get_ingredients(browser):\n",
    "    all_items = []\n",
    "    count = 1\n",
    "    while True:\n",
    "        try:\n",
    "            sel = 'ul#lst_ingredients_{0}'.format(count)\n",
    "            ing_list = browser.find_element_by_css_selector(sel)\n",
    "            all_items += ing_list.text.split('\\n')\n",
    "            count += 1\n",
    "        except:\n",
    "            break\n",
    "    ingredients = []\n",
    "    for item in all_items:\n",
    "        if item[0] in string.digits:\n",
    "            ingredients.append(item)\n",
    "    return ingredients"
   ]
  },
  {
   "cell_type": "code",
   "execution_count": 403,
   "metadata": {},
   "outputs": [
    {
     "data": {
      "text/plain": [
       "['2 pounds lean ground beef',\n",
       " '1 (46 fluid ounce) can tomato juice',\n",
       " '1 (29 ounce) can tomato sauce',\n",
       " '1 1/2 cups chopped onion',\n",
       " '1/2 cup chopped celery',\n",
       " '1/4 cup chopped green bell pepper',\n",
       " '1/4 cup chili powder',\n",
       " '2 teaspoons ground cumin',\n",
       " '1 1/2 teaspoons garlic powder',\n",
       " '1 teaspoon salt',\n",
       " '1/2 teaspoon ground black pepper',\n",
       " '1/2 teaspoon dried oregano',\n",
       " '1/2 teaspoon white sugar',\n",
       " '1/8 teaspoon ground cayenne pepper',\n",
       " '2 cups canned red beans, drained and rinsed']"
      ]
     },
     "execution_count": 403,
     "metadata": {},
     "output_type": "execute_result"
    }
   ],
   "source": [
    "ingredients = get_ingredients()\n",
    "ingredients"
   ]
  },
  {
   "cell_type": "code",
   "execution_count": 369,
   "metadata": {},
   "outputs": [],
   "source": [
    "def _determine_quantity(item):\n",
    "    quantity = 0\n",
    "    for i, elem in enumerate(item.split()):\n",
    "        if elem[0] in string.digits:\n",
    "            try:\n",
    "                quantity += float(elem)\n",
    "            except:\n",
    "                numer, denom = elem.split('/')\n",
    "                quantity += float(numer) / float(denom)\n",
    "        else:\n",
    "            idx = i\n",
    "            break\n",
    "    remainder = ' '.join(item.split()[idx:])\n",
    "    return quantity, remainder"
   ]
  },
  {
   "cell_type": "code",
   "execution_count": 370,
   "metadata": {},
   "outputs": [],
   "source": [
    "def _parse_special(item, flag_words):\n",
    "    # Determine special word\n",
    "    sp_word = ')'\n",
    "    for word in flag_words:\n",
    "        if word in item.split():\n",
    "            sp_word = ' ' + word + ' '\n",
    "            break\n",
    "    \n",
    "    # Parse item \n",
    "    count_and_size = item.split(sp_word)[0]\n",
    "    remainder = item.split(sp_word)[1]\n",
    "    count, rest = _determine_quantity(count_and_size)\n",
    "    if sp_word == ')':\n",
    "        size, unit = _determine_quantity(rest[1:])\n",
    "    else:\n",
    "        size, unit = _determine_quantity(rest[1:-1])\n",
    "    quantity = count * size\n",
    "    return quantity, unit, remainder"
   ]
  },
  {
   "cell_type": "code",
   "execution_count": 371,
   "metadata": {},
   "outputs": [],
   "source": [
    "def _remove_descriptors(item,\n",
    "                        phrases=phrases,\n",
    "                        stopwords=stopwords,\n",
    "                        suffixes=suffixes):\n",
    "    # Remove common/unnecessary ending phrases\n",
    "    for phrase in phrases:\n",
    "        if len(item.split(phrase)) > 1:\n",
    "            item = item.split(phrase)[0]\n",
    "    # Remove punctuation and stopwords\n",
    "    words = []\n",
    "    for elem in item.split():\n",
    "        word = ''.join([letter for letter in elem.lower() if letter in string.ascii_lowercase])\n",
    "        if word not in stopwords:\n",
    "            words.append(word)\n",
    "    # Remove adjectives and adverbs    \n",
    "    for suffix in suffixes:\n",
    "        for word in words.copy():\n",
    "            try:\n",
    "                if (word[-len(suffix):] == suffix) and word != 'red':\n",
    "                    words.remove(word)\n",
    "            except:\n",
    "                continue\n",
    "    return ' '.join(words)"
   ]
  },
  {
   "cell_type": "code",
   "execution_count": 372,
   "metadata": {},
   "outputs": [],
   "source": [
    "def parse_ingredients(ingredients, units=units, flag_words=flag_words):\n",
    "    '''\n",
    "    Parses a list of ingredients into a list of dictionaries with the following format: \n",
    "        {'quantity': (float),\n",
    "         'units': (str),\n",
    "         'ingredient': (str)}\n",
    "    Also takes argument 'units', a list of accepted units (e.g., ['cups', 'tablespoon']).\n",
    "    If an ingredident does not specify a unit in this list, the label 'each' will be applied.\n",
    "    '''\n",
    "    ing_list = []\n",
    "    for item in ingredients:\n",
    "        item_dict = {}\n",
    "        # Check item for flag words (require special parsing treatment)\n",
    "        flag = False\n",
    "        for word in item.split():\n",
    "            if word in flag_words:\n",
    "                flag = True\n",
    "        if item.split()[1][0] == '(':\n",
    "            flag = True  \n",
    "        # Parse quantities and units        \n",
    "        if flag:\n",
    "            quantity, unit, remainder = _parse_special(item, flag_words)\n",
    "            item_dict['quantity'] = quantity\n",
    "            item_dict['units'] = unit if unit[-1] != 's' else unit[:-1]\n",
    "        else:\n",
    "            quantity, remainder = _determine_quantity(item) \n",
    "            item_dict['quantity'] = quantity\n",
    "            if remainder.split()[0] in units:\n",
    "                unit = remainder.split()[0]\n",
    "                item_dict['units'] = unit if unit[-1] != 's' else unit[:-1]\n",
    "                remainder = ' '.join(remainder.split()[1:])\n",
    "            else:\n",
    "                item_dict['units'] = 'each'\n",
    "        # Remove preparation instructions from remaining text to isolate ingredient\n",
    "        item_dict['ingredient'] = _remove_descriptors(remainder)\n",
    "        # Add item dictionary to list\n",
    "        ing_list.append(item_dict)\n",
    "    return ing_list"
   ]
  },
  {
   "cell_type": "code",
   "execution_count": 386,
   "metadata": {},
   "outputs": [],
   "source": [
    "units = ['pound', 'pounds', 'cup', 'cups', 'tablespoon', 'tablespoons', 'teaspoon', 'teaspoons',\n",
    "         'clove', 'cloves', 'stalk', 'stalks', 'ounce', 'ounces', 'oz.', 'cubes', 'pint', 'pints',\n",
    "         'quart', 'quarts']\n",
    "phrases = [' - ',', or', ', for garnish', ', cut', ' such as', ' like', 'e.g.']\n",
    "stopwords = ['and', 'into', 'very', 'hot', 'cold', 'fresh', 'large', 'medium', 'small', 'halves', 'torn', 'bulk']\n",
    "suffixes = ['ed','less','ly']\n",
    "flag_words = ['can', 'cans', 'package', 'packages', 'jar', 'jars', 'container', 'containers', 'bag', 'bags']"
   ]
  },
  {
   "cell_type": "code",
   "execution_count": 373,
   "metadata": {},
   "outputs": [
    {
     "data": {
      "text/html": [
       "<div>\n",
       "<style scoped>\n",
       "    .dataframe tbody tr th:only-of-type {\n",
       "        vertical-align: middle;\n",
       "    }\n",
       "\n",
       "    .dataframe tbody tr th {\n",
       "        vertical-align: top;\n",
       "    }\n",
       "\n",
       "    .dataframe thead th {\n",
       "        text-align: right;\n",
       "    }\n",
       "</style>\n",
       "<table border=\"1\" class=\"dataframe\">\n",
       "  <thead>\n",
       "    <tr style=\"text-align: right;\">\n",
       "      <th></th>\n",
       "      <th>ingredient</th>\n",
       "      <th>quantity</th>\n",
       "      <th>units</th>\n",
       "    </tr>\n",
       "  </thead>\n",
       "  <tbody>\n",
       "    <tr>\n",
       "      <th>0</th>\n",
       "      <td>ground beef chuck</td>\n",
       "      <td>2.00</td>\n",
       "      <td>pound</td>\n",
       "    </tr>\n",
       "    <tr>\n",
       "      <th>1</th>\n",
       "      <td>italian sausage</td>\n",
       "      <td>1.00</td>\n",
       "      <td>pound</td>\n",
       "    </tr>\n",
       "    <tr>\n",
       "      <th>2</th>\n",
       "      <td>chili beans</td>\n",
       "      <td>45.00</td>\n",
       "      <td>ounce</td>\n",
       "    </tr>\n",
       "    <tr>\n",
       "      <th>3</th>\n",
       "      <td>chili beans in spicy sauce</td>\n",
       "      <td>15.00</td>\n",
       "      <td>ounce</td>\n",
       "    </tr>\n",
       "    <tr>\n",
       "      <th>4</th>\n",
       "      <td>tomatoes with juice</td>\n",
       "      <td>56.00</td>\n",
       "      <td>ounce</td>\n",
       "    </tr>\n",
       "    <tr>\n",
       "      <th>5</th>\n",
       "      <td>tomato paste</td>\n",
       "      <td>6.00</td>\n",
       "      <td>ounce</td>\n",
       "    </tr>\n",
       "    <tr>\n",
       "      <th>6</th>\n",
       "      <td>yellow onion</td>\n",
       "      <td>1.00</td>\n",
       "      <td>each</td>\n",
       "    </tr>\n",
       "    <tr>\n",
       "      <th>7</th>\n",
       "      <td>celery</td>\n",
       "      <td>3.00</td>\n",
       "      <td>stalk</td>\n",
       "    </tr>\n",
       "    <tr>\n",
       "      <th>8</th>\n",
       "      <td>green bell pepper</td>\n",
       "      <td>1.00</td>\n",
       "      <td>each</td>\n",
       "    </tr>\n",
       "    <tr>\n",
       "      <th>9</th>\n",
       "      <td>red bell pepper</td>\n",
       "      <td>1.00</td>\n",
       "      <td>each</td>\n",
       "    </tr>\n",
       "    <tr>\n",
       "      <th>10</th>\n",
       "      <td>green chile peppers</td>\n",
       "      <td>2.00</td>\n",
       "      <td>each</td>\n",
       "    </tr>\n",
       "    <tr>\n",
       "      <th>11</th>\n",
       "      <td>bacon bits</td>\n",
       "      <td>1.00</td>\n",
       "      <td>tablespoon</td>\n",
       "    </tr>\n",
       "    <tr>\n",
       "      <th>12</th>\n",
       "      <td>beef bouillon</td>\n",
       "      <td>4.00</td>\n",
       "      <td>cube</td>\n",
       "    </tr>\n",
       "    <tr>\n",
       "      <th>13</th>\n",
       "      <td>beer</td>\n",
       "      <td>0.50</td>\n",
       "      <td>cup</td>\n",
       "    </tr>\n",
       "    <tr>\n",
       "      <th>14</th>\n",
       "      <td>chili powder</td>\n",
       "      <td>0.25</td>\n",
       "      <td>cup</td>\n",
       "    </tr>\n",
       "    <tr>\n",
       "      <th>15</th>\n",
       "      <td>worcestershire sauce</td>\n",
       "      <td>1.00</td>\n",
       "      <td>tablespoon</td>\n",
       "    </tr>\n",
       "    <tr>\n",
       "      <th>16</th>\n",
       "      <td>garlic</td>\n",
       "      <td>1.00</td>\n",
       "      <td>tablespoon</td>\n",
       "    </tr>\n",
       "    <tr>\n",
       "      <th>17</th>\n",
       "      <td>oregano</td>\n",
       "      <td>1.00</td>\n",
       "      <td>tablespoon</td>\n",
       "    </tr>\n",
       "    <tr>\n",
       "      <th>18</th>\n",
       "      <td>ground cumin</td>\n",
       "      <td>2.00</td>\n",
       "      <td>teaspoon</td>\n",
       "    </tr>\n",
       "    <tr>\n",
       "      <th>19</th>\n",
       "      <td>pepper sauce eg tabasco</td>\n",
       "      <td>2.00</td>\n",
       "      <td>teaspoon</td>\n",
       "    </tr>\n",
       "    <tr>\n",
       "      <th>20</th>\n",
       "      <td>basil</td>\n",
       "      <td>1.00</td>\n",
       "      <td>teaspoon</td>\n",
       "    </tr>\n",
       "    <tr>\n",
       "      <th>21</th>\n",
       "      <td>salt</td>\n",
       "      <td>1.00</td>\n",
       "      <td>teaspoon</td>\n",
       "    </tr>\n",
       "    <tr>\n",
       "      <th>22</th>\n",
       "      <td>ground black pepper</td>\n",
       "      <td>1.00</td>\n",
       "      <td>teaspoon</td>\n",
       "    </tr>\n",
       "    <tr>\n",
       "      <th>23</th>\n",
       "      <td>cayenne pepper</td>\n",
       "      <td>1.00</td>\n",
       "      <td>teaspoon</td>\n",
       "    </tr>\n",
       "    <tr>\n",
       "      <th>24</th>\n",
       "      <td>paprika</td>\n",
       "      <td>1.00</td>\n",
       "      <td>teaspoon</td>\n",
       "    </tr>\n",
       "    <tr>\n",
       "      <th>25</th>\n",
       "      <td>white sugar</td>\n",
       "      <td>1.00</td>\n",
       "      <td>teaspoon</td>\n",
       "    </tr>\n",
       "    <tr>\n",
       "      <th>26</th>\n",
       "      <td>corn chips</td>\n",
       "      <td>10.50</td>\n",
       "      <td>ounce</td>\n",
       "    </tr>\n",
       "    <tr>\n",
       "      <th>27</th>\n",
       "      <td>cheddar cheese</td>\n",
       "      <td>8.00</td>\n",
       "      <td>ounce</td>\n",
       "    </tr>\n",
       "  </tbody>\n",
       "</table>\n",
       "</div>"
      ],
      "text/plain": [
       "                    ingredient  quantity       units\n",
       "0            ground beef chuck      2.00       pound\n",
       "1              italian sausage      1.00       pound\n",
       "2                  chili beans     45.00       ounce\n",
       "3   chili beans in spicy sauce     15.00       ounce\n",
       "4          tomatoes with juice     56.00       ounce\n",
       "5                 tomato paste      6.00       ounce\n",
       "6                 yellow onion      1.00        each\n",
       "7                       celery      3.00       stalk\n",
       "8            green bell pepper      1.00        each\n",
       "9              red bell pepper      1.00        each\n",
       "10         green chile peppers      2.00        each\n",
       "11                  bacon bits      1.00  tablespoon\n",
       "12               beef bouillon      4.00        cube\n",
       "13                        beer      0.50         cup\n",
       "14                chili powder      0.25         cup\n",
       "15        worcestershire sauce      1.00  tablespoon\n",
       "16                      garlic      1.00  tablespoon\n",
       "17                     oregano      1.00  tablespoon\n",
       "18                ground cumin      2.00    teaspoon\n",
       "19     pepper sauce eg tabasco      2.00    teaspoon\n",
       "20                       basil      1.00    teaspoon\n",
       "21                        salt      1.00    teaspoon\n",
       "22         ground black pepper      1.00    teaspoon\n",
       "23              cayenne pepper      1.00    teaspoon\n",
       "24                     paprika      1.00    teaspoon\n",
       "25                 white sugar      1.00    teaspoon\n",
       "26                  corn chips     10.50       ounce\n",
       "27              cheddar cheese      8.00       ounce"
      ]
     },
     "execution_count": 373,
     "metadata": {},
     "output_type": "execute_result"
    }
   ],
   "source": [
    "pd.DataFrame(parse_ingredients(ingredients))"
   ]
  },
  {
   "cell_type": "code",
   "execution_count": 400,
   "metadata": {},
   "outputs": [],
   "source": [
    "def _get_id(browser):\n",
    "    id_and_name = browser.current_url.split('recipe/')[1]\n",
    "    return int(id_and_name.split('/')[0])"
   ]
  },
  {
   "cell_type": "code",
   "execution_count": 273,
   "metadata": {},
   "outputs": [],
   "source": [
    "def _get_name(browser):\n",
    "    sel = 'h1#recipe-main-content'\n",
    "    name = browser.find_element_by_css_selector(sel)\n",
    "    return name.text"
   ]
  },
  {
   "cell_type": "code",
   "execution_count": 404,
   "metadata": {},
   "outputs": [
    {
     "data": {
      "text/plain": [
       "'Flatlander Chili'"
      ]
     },
     "execution_count": 404,
     "metadata": {},
     "output_type": "execute_result"
    }
   ],
   "source": [
    "_get_name(browser)"
   ]
  },
  {
   "cell_type": "code",
   "execution_count": 285,
   "metadata": {},
   "outputs": [],
   "source": [
    "def _get_rating_info(browser):\n",
    "    rating_info = {}\n",
    "    sel = 'div.rating-stars'\n",
    "    rating = browser.find_element_by_css_selector(sel)\n",
    "    rating_info['rating'] = float(rating.get_attribute('data-ratingstars'))\n",
    "    sel = 'div.summary-stats-box a.read--reviews'\n",
    "    reviews = browser.find_element_by_css_selector(sel).text.split()\n",
    "    try:\n",
    "        n_made = int(reviews[0])\n",
    "    except:\n",
    "        n_made = int(reviews[0][:-1]) * 1000\n",
    "    try:\n",
    "        n_reviews = int(reviews[4])\n",
    "    except:\n",
    "        n_reviews = int(reviews[4][:-1]) * 1000    \n",
    "    rating_info['made_by'] = n_made\n",
    "    rating_info['reviews'] = n_reviews\n",
    "    return rating_info"
   ]
  },
  {
   "cell_type": "code",
   "execution_count": 284,
   "metadata": {},
   "outputs": [
    {
     "data": {
      "text/plain": [
       "['2k', 'made', 'it', '|', '1k', 'reviews']"
      ]
     },
     "execution_count": 284,
     "metadata": {},
     "output_type": "execute_result"
    }
   ],
   "source": [
    "sel = 'div.summary-stats-box a.read--reviews'\n",
    "reviews = browser.find_element_by_css_selector(sel)\n",
    "reviews.text.split()"
   ]
  },
  {
   "cell_type": "code",
   "execution_count": 286,
   "metadata": {},
   "outputs": [
    {
     "data": {
      "text/plain": [
       "{'rating': 4.74810457229614, 'made_by': 2000, 'reviews': 1000}"
      ]
     },
     "execution_count": 286,
     "metadata": {},
     "output_type": "execute_result"
    }
   ],
   "source": [
    "_get_rating_info(browser)"
   ]
  },
  {
   "cell_type": "code",
   "execution_count": 305,
   "metadata": {},
   "outputs": [],
   "source": [
    "def _get_categories(browser):\n",
    "    sel = 'ol.breadcrumbs li'\n",
    "    categories = browser.find_elements_by_css_selector(sel)\n",
    "    cat_list = [category.text for category in categories]\n",
    "    cat_dict = {}\n",
    "    cat_dict['lvl_1'] = cat_list[2]\n",
    "    try:\n",
    "        cat_dict['lvl_2'] = cat_list[3]\n",
    "    except:\n",
    "        cat_dict['lvl_2'] = None\n",
    "    try:\n",
    "        cat_dict['lvl_3'] = cat_list[4]\n",
    "    except:\n",
    "        cat_dict['lvl_3'] = None\n",
    "    return cat_dict"
   ]
  },
  {
   "cell_type": "code",
   "execution_count": 290,
   "metadata": {},
   "outputs": [
    {
     "data": {
      "text/plain": [
       "{'cat_1': 'Soups, Stews and Chili', 'cat_2': 'Soup', 'cat_3': 'Chicken Soup'}"
      ]
     },
     "execution_count": 290,
     "metadata": {},
     "output_type": "execute_result"
    }
   ],
   "source": [
    "_get_categories(browser)"
   ]
  },
  {
   "cell_type": "code",
   "execution_count": 310,
   "metadata": {},
   "outputs": [],
   "source": [
    "def _get_submitter_info(browser):\n",
    "    submitter_info = {}\n",
    "    sel = 'div.summary-background div.submitter'\n",
    "    submitter = browser.find_element_by_css_selector(sel)\n",
    "    followers = submitter.find_element_by_css_selector('div.submitter__img span').text\n",
    "    name = submitter.find_element_by_css_selector('p span.submitter__name').text\n",
    "    href = (submitter.find_element_by_css_selector('div.submitter__img a')\n",
    "                     .get_attribute('href'))\n",
    "    id_num = href.split('/')[-2]\n",
    "    submitter_info['id'] = int(id_num)\n",
    "    submitter_info['name'] = name\n",
    "    submitter_info['followers'] = int(followers)\n",
    "    submitter_info['href'] = href\n",
    "    return submitter_info"
   ]
  },
  {
   "cell_type": "code",
   "execution_count": 406,
   "metadata": {},
   "outputs": [
    {
     "ename": "NoSuchElementException",
     "evalue": "Message: no such element: Unable to locate element: {\"method\":\"css selector\",\"selector\":\"div.submitter__img span\"}\n  (Session info: chrome=73.0.3683.86)\n  (Driver info: chromedriver=73.0.3683.20 (8e2b610813e167eee3619ac4ce6e42e3ec622017),platform=Mac OS X 10.14.3 x86_64)\n",
     "output_type": "error",
     "traceback": [
      "\u001b[0;31m---------------------------------------------------------------------------\u001b[0m",
      "\u001b[0;31mNoSuchElementException\u001b[0m                    Traceback (most recent call last)",
      "\u001b[0;32m<ipython-input-406-89d007f1ac67>\u001b[0m in \u001b[0;36m<module>\u001b[0;34m\u001b[0m\n\u001b[0;32m----> 1\u001b[0;31m \u001b[0m_get_submitter_info\u001b[0m\u001b[0;34m(\u001b[0m\u001b[0mbrowser\u001b[0m\u001b[0;34m)\u001b[0m\u001b[0;34m\u001b[0m\u001b[0;34m\u001b[0m\u001b[0m\n\u001b[0m",
      "\u001b[0;32m<ipython-input-310-f3c223cfd0ff>\u001b[0m in \u001b[0;36m_get_submitter_info\u001b[0;34m(browser)\u001b[0m\n\u001b[1;32m      3\u001b[0m     \u001b[0msel\u001b[0m \u001b[0;34m=\u001b[0m \u001b[0;34m'div.summary-background div.submitter'\u001b[0m\u001b[0;34m\u001b[0m\u001b[0;34m\u001b[0m\u001b[0m\n\u001b[1;32m      4\u001b[0m     \u001b[0msubmitter\u001b[0m \u001b[0;34m=\u001b[0m \u001b[0mbrowser\u001b[0m\u001b[0;34m.\u001b[0m\u001b[0mfind_element_by_css_selector\u001b[0m\u001b[0;34m(\u001b[0m\u001b[0msel\u001b[0m\u001b[0;34m)\u001b[0m\u001b[0;34m\u001b[0m\u001b[0;34m\u001b[0m\u001b[0m\n\u001b[0;32m----> 5\u001b[0;31m     \u001b[0mfollowers\u001b[0m \u001b[0;34m=\u001b[0m \u001b[0msubmitter\u001b[0m\u001b[0;34m.\u001b[0m\u001b[0mfind_element_by_css_selector\u001b[0m\u001b[0;34m(\u001b[0m\u001b[0;34m'div.submitter__img span'\u001b[0m\u001b[0;34m)\u001b[0m\u001b[0;34m.\u001b[0m\u001b[0mtext\u001b[0m\u001b[0;34m\u001b[0m\u001b[0;34m\u001b[0m\u001b[0m\n\u001b[0m\u001b[1;32m      6\u001b[0m     \u001b[0mname\u001b[0m \u001b[0;34m=\u001b[0m \u001b[0msubmitter\u001b[0m\u001b[0;34m.\u001b[0m\u001b[0mfind_element_by_css_selector\u001b[0m\u001b[0;34m(\u001b[0m\u001b[0;34m'p span.submitter__name'\u001b[0m\u001b[0;34m)\u001b[0m\u001b[0;34m.\u001b[0m\u001b[0mtext\u001b[0m\u001b[0;34m\u001b[0m\u001b[0;34m\u001b[0m\u001b[0m\n\u001b[1;32m      7\u001b[0m     href = (submitter.find_element_by_css_selector('div.submitter__img a')\n",
      "\u001b[0;32m~/anaconda3/lib/python3.6/site-packages/selenium/webdriver/remote/webelement.py\u001b[0m in \u001b[0;36mfind_element_by_css_selector\u001b[0;34m(self, css_selector)\u001b[0m\n\u001b[1;32m    428\u001b[0m             \u001b[0melement\u001b[0m \u001b[0;34m=\u001b[0m \u001b[0melement\u001b[0m\u001b[0;34m.\u001b[0m\u001b[0mfind_element_by_css_selector\u001b[0m\u001b[0;34m(\u001b[0m\u001b[0;34m'#foo'\u001b[0m\u001b[0;34m)\u001b[0m\u001b[0;34m\u001b[0m\u001b[0;34m\u001b[0m\u001b[0m\n\u001b[1;32m    429\u001b[0m         \"\"\"\n\u001b[0;32m--> 430\u001b[0;31m         \u001b[0;32mreturn\u001b[0m \u001b[0mself\u001b[0m\u001b[0;34m.\u001b[0m\u001b[0mfind_element\u001b[0m\u001b[0;34m(\u001b[0m\u001b[0mby\u001b[0m\u001b[0;34m=\u001b[0m\u001b[0mBy\u001b[0m\u001b[0;34m.\u001b[0m\u001b[0mCSS_SELECTOR\u001b[0m\u001b[0;34m,\u001b[0m \u001b[0mvalue\u001b[0m\u001b[0;34m=\u001b[0m\u001b[0mcss_selector\u001b[0m\u001b[0;34m)\u001b[0m\u001b[0;34m\u001b[0m\u001b[0;34m\u001b[0m\u001b[0m\n\u001b[0m\u001b[1;32m    431\u001b[0m \u001b[0;34m\u001b[0m\u001b[0m\n\u001b[1;32m    432\u001b[0m     \u001b[0;32mdef\u001b[0m \u001b[0mfind_elements_by_css_selector\u001b[0m\u001b[0;34m(\u001b[0m\u001b[0mself\u001b[0m\u001b[0;34m,\u001b[0m \u001b[0mcss_selector\u001b[0m\u001b[0;34m)\u001b[0m\u001b[0;34m:\u001b[0m\u001b[0;34m\u001b[0m\u001b[0;34m\u001b[0m\u001b[0m\n",
      "\u001b[0;32m~/anaconda3/lib/python3.6/site-packages/selenium/webdriver/remote/webelement.py\u001b[0m in \u001b[0;36mfind_element\u001b[0;34m(self, by, value)\u001b[0m\n\u001b[1;32m    657\u001b[0m \u001b[0;34m\u001b[0m\u001b[0m\n\u001b[1;32m    658\u001b[0m         return self._execute(Command.FIND_CHILD_ELEMENT,\n\u001b[0;32m--> 659\u001b[0;31m                              {\"using\": by, \"value\": value})['value']\n\u001b[0m\u001b[1;32m    660\u001b[0m \u001b[0;34m\u001b[0m\u001b[0m\n\u001b[1;32m    661\u001b[0m     \u001b[0;32mdef\u001b[0m \u001b[0mfind_elements\u001b[0m\u001b[0;34m(\u001b[0m\u001b[0mself\u001b[0m\u001b[0;34m,\u001b[0m \u001b[0mby\u001b[0m\u001b[0;34m=\u001b[0m\u001b[0mBy\u001b[0m\u001b[0;34m.\u001b[0m\u001b[0mID\u001b[0m\u001b[0;34m,\u001b[0m \u001b[0mvalue\u001b[0m\u001b[0;34m=\u001b[0m\u001b[0;32mNone\u001b[0m\u001b[0;34m)\u001b[0m\u001b[0;34m:\u001b[0m\u001b[0;34m\u001b[0m\u001b[0;34m\u001b[0m\u001b[0m\n",
      "\u001b[0;32m~/anaconda3/lib/python3.6/site-packages/selenium/webdriver/remote/webelement.py\u001b[0m in \u001b[0;36m_execute\u001b[0;34m(self, command, params)\u001b[0m\n\u001b[1;32m    631\u001b[0m             \u001b[0mparams\u001b[0m \u001b[0;34m=\u001b[0m \u001b[0;34m{\u001b[0m\u001b[0;34m}\u001b[0m\u001b[0;34m\u001b[0m\u001b[0;34m\u001b[0m\u001b[0m\n\u001b[1;32m    632\u001b[0m         \u001b[0mparams\u001b[0m\u001b[0;34m[\u001b[0m\u001b[0;34m'id'\u001b[0m\u001b[0;34m]\u001b[0m \u001b[0;34m=\u001b[0m \u001b[0mself\u001b[0m\u001b[0;34m.\u001b[0m\u001b[0m_id\u001b[0m\u001b[0;34m\u001b[0m\u001b[0;34m\u001b[0m\u001b[0m\n\u001b[0;32m--> 633\u001b[0;31m         \u001b[0;32mreturn\u001b[0m \u001b[0mself\u001b[0m\u001b[0;34m.\u001b[0m\u001b[0m_parent\u001b[0m\u001b[0;34m.\u001b[0m\u001b[0mexecute\u001b[0m\u001b[0;34m(\u001b[0m\u001b[0mcommand\u001b[0m\u001b[0;34m,\u001b[0m \u001b[0mparams\u001b[0m\u001b[0;34m)\u001b[0m\u001b[0;34m\u001b[0m\u001b[0;34m\u001b[0m\u001b[0m\n\u001b[0m\u001b[1;32m    634\u001b[0m \u001b[0;34m\u001b[0m\u001b[0m\n\u001b[1;32m    635\u001b[0m     \u001b[0;32mdef\u001b[0m \u001b[0mfind_element\u001b[0m\u001b[0;34m(\u001b[0m\u001b[0mself\u001b[0m\u001b[0;34m,\u001b[0m \u001b[0mby\u001b[0m\u001b[0;34m=\u001b[0m\u001b[0mBy\u001b[0m\u001b[0;34m.\u001b[0m\u001b[0mID\u001b[0m\u001b[0;34m,\u001b[0m \u001b[0mvalue\u001b[0m\u001b[0;34m=\u001b[0m\u001b[0;32mNone\u001b[0m\u001b[0;34m)\u001b[0m\u001b[0;34m:\u001b[0m\u001b[0;34m\u001b[0m\u001b[0;34m\u001b[0m\u001b[0m\n",
      "\u001b[0;32m~/anaconda3/lib/python3.6/site-packages/selenium/webdriver/remote/webdriver.py\u001b[0m in \u001b[0;36mexecute\u001b[0;34m(self, driver_command, params)\u001b[0m\n\u001b[1;32m    319\u001b[0m         \u001b[0mresponse\u001b[0m \u001b[0;34m=\u001b[0m \u001b[0mself\u001b[0m\u001b[0;34m.\u001b[0m\u001b[0mcommand_executor\u001b[0m\u001b[0;34m.\u001b[0m\u001b[0mexecute\u001b[0m\u001b[0;34m(\u001b[0m\u001b[0mdriver_command\u001b[0m\u001b[0;34m,\u001b[0m \u001b[0mparams\u001b[0m\u001b[0;34m)\u001b[0m\u001b[0;34m\u001b[0m\u001b[0;34m\u001b[0m\u001b[0m\n\u001b[1;32m    320\u001b[0m         \u001b[0;32mif\u001b[0m \u001b[0mresponse\u001b[0m\u001b[0;34m:\u001b[0m\u001b[0;34m\u001b[0m\u001b[0;34m\u001b[0m\u001b[0m\n\u001b[0;32m--> 321\u001b[0;31m             \u001b[0mself\u001b[0m\u001b[0;34m.\u001b[0m\u001b[0merror_handler\u001b[0m\u001b[0;34m.\u001b[0m\u001b[0mcheck_response\u001b[0m\u001b[0;34m(\u001b[0m\u001b[0mresponse\u001b[0m\u001b[0;34m)\u001b[0m\u001b[0;34m\u001b[0m\u001b[0;34m\u001b[0m\u001b[0m\n\u001b[0m\u001b[1;32m    322\u001b[0m             response['value'] = self._unwrap_value(\n\u001b[1;32m    323\u001b[0m                 response.get('value', None))\n",
      "\u001b[0;32m~/anaconda3/lib/python3.6/site-packages/selenium/webdriver/remote/errorhandler.py\u001b[0m in \u001b[0;36mcheck_response\u001b[0;34m(self, response)\u001b[0m\n\u001b[1;32m    240\u001b[0m                 \u001b[0malert_text\u001b[0m \u001b[0;34m=\u001b[0m \u001b[0mvalue\u001b[0m\u001b[0;34m[\u001b[0m\u001b[0;34m'alert'\u001b[0m\u001b[0;34m]\u001b[0m\u001b[0;34m.\u001b[0m\u001b[0mget\u001b[0m\u001b[0;34m(\u001b[0m\u001b[0;34m'text'\u001b[0m\u001b[0;34m)\u001b[0m\u001b[0;34m\u001b[0m\u001b[0;34m\u001b[0m\u001b[0m\n\u001b[1;32m    241\u001b[0m             \u001b[0;32mraise\u001b[0m \u001b[0mexception_class\u001b[0m\u001b[0;34m(\u001b[0m\u001b[0mmessage\u001b[0m\u001b[0;34m,\u001b[0m \u001b[0mscreen\u001b[0m\u001b[0;34m,\u001b[0m \u001b[0mstacktrace\u001b[0m\u001b[0;34m,\u001b[0m \u001b[0malert_text\u001b[0m\u001b[0;34m)\u001b[0m\u001b[0;34m\u001b[0m\u001b[0;34m\u001b[0m\u001b[0m\n\u001b[0;32m--> 242\u001b[0;31m         \u001b[0;32mraise\u001b[0m \u001b[0mexception_class\u001b[0m\u001b[0;34m(\u001b[0m\u001b[0mmessage\u001b[0m\u001b[0;34m,\u001b[0m \u001b[0mscreen\u001b[0m\u001b[0;34m,\u001b[0m \u001b[0mstacktrace\u001b[0m\u001b[0;34m)\u001b[0m\u001b[0;34m\u001b[0m\u001b[0;34m\u001b[0m\u001b[0m\n\u001b[0m\u001b[1;32m    243\u001b[0m \u001b[0;34m\u001b[0m\u001b[0m\n\u001b[1;32m    244\u001b[0m     \u001b[0;32mdef\u001b[0m \u001b[0m_value_or_default\u001b[0m\u001b[0;34m(\u001b[0m\u001b[0mself\u001b[0m\u001b[0;34m,\u001b[0m \u001b[0mobj\u001b[0m\u001b[0;34m,\u001b[0m \u001b[0mkey\u001b[0m\u001b[0;34m,\u001b[0m \u001b[0mdefault\u001b[0m\u001b[0;34m)\u001b[0m\u001b[0;34m:\u001b[0m\u001b[0;34m\u001b[0m\u001b[0;34m\u001b[0m\u001b[0m\n",
      "\u001b[0;31mNoSuchElementException\u001b[0m: Message: no such element: Unable to locate element: {\"method\":\"css selector\",\"selector\":\"div.submitter__img span\"}\n  (Session info: chrome=73.0.3683.86)\n  (Driver info: chromedriver=73.0.3683.20 (8e2b610813e167eee3619ac4ce6e42e3ec622017),platform=Mac OS X 10.14.3 x86_64)\n"
     ]
    }
   ],
   "source": [
    "_get_submitter_info(browser)"
   ]
  },
  {
   "cell_type": "code",
   "execution_count": 414,
   "metadata": {},
   "outputs": [],
   "source": [
    "def get_recipe_info(browser):\n",
    "    recipe_info = {}\n",
    "    recipe_info['id'] = _get_id(browser)\n",
    "    recipe_info['name'] = _get_name(browser)\n",
    "    recipe_info['href'] = browser.current_url.split('?')[0]\n",
    "    recipe_info['category'] = _get_categories(browser)\n",
    "    recipe_info['rating_info'] = _get_rating_info(browser)\n",
    "    try:\n",
    "        recipe_info['submitter_info'] = _get_submitter_info(browser)\n",
    "    except:\n",
    "        recipe_info['submitter_info'] = None\n",
    "    ingredients = _get_ingredients(browser)\n",
    "    recipe_info['ingredients'] = parse_ingredients(ingredients)\n",
    "    recipe_info['directions'] = _get_directions(browser)\n",
    "    return recipe_info"
   ]
  },
  {
   "cell_type": "code",
   "execution_count": 415,
   "metadata": {},
   "outputs": [
    {
     "data": {
      "text/plain": [
       "{'id': 13079,\n",
       " 'name': 'Flatlander Chili',\n",
       " 'href': 'https://www.allrecipes.com/recipe/13079/flatlander-chili/',\n",
       " 'category': {'lvl_1': 'Soups, Stews and Chili',\n",
       "  'lvl_2': 'Chili',\n",
       "  'lvl_3': 'Beef Chili'},\n",
       " 'rating_info': {'rating': 4.73050260543823, 'made_by': 3000, 'reviews': 1000},\n",
       " 'submitter_info': None,\n",
       " 'ingredients': [{'quantity': 2.0,\n",
       "   'units': 'pound',\n",
       "   'ingredient': 'lean ground beef'},\n",
       "  {'quantity': 46.0, 'units': 'fluid ounce', 'ingredient': 'tomato juice'},\n",
       "  {'quantity': 29.0, 'units': 'ounce', 'ingredient': 'tomato sauce'},\n",
       "  {'quantity': 1.5, 'units': 'cup', 'ingredient': 'onion'},\n",
       "  {'quantity': 0.5, 'units': 'cup', 'ingredient': 'celery'},\n",
       "  {'quantity': 0.25, 'units': 'cup', 'ingredient': 'green bell pepper'},\n",
       "  {'quantity': 0.25, 'units': 'cup', 'ingredient': 'chili powder'},\n",
       "  {'quantity': 2.0, 'units': 'teaspoon', 'ingredient': 'ground cumin'},\n",
       "  {'quantity': 1.5, 'units': 'teaspoon', 'ingredient': 'garlic powder'},\n",
       "  {'quantity': 1.0, 'units': 'teaspoon', 'ingredient': 'salt'},\n",
       "  {'quantity': 0.5, 'units': 'teaspoon', 'ingredient': 'ground black pepper'},\n",
       "  {'quantity': 0.5, 'units': 'teaspoon', 'ingredient': 'oregano'},\n",
       "  {'quantity': 0.5, 'units': 'teaspoon', 'ingredient': 'white sugar'},\n",
       "  {'quantity': 0.125,\n",
       "   'units': 'teaspoon',\n",
       "   'ingredient': 'ground cayenne pepper'},\n",
       "  {'quantity': 2.0, 'units': 'cup', 'ingredient': 'red beans'}],\n",
       " 'directions': {'timing': {'prep': 15, 'cook': 90, 'total': 105},\n",
       "  'steps': ['Place ground beef in a large, deep skillet. Cook over medium-high heat until evenly brown. Drain, crumble, and set aside.',\n",
       "   'Add all ingredients to a large kettle. Bring to boil. Reduce heat and simmer for 1 to 1 1/2 hours, stirring occasionally.'],\n",
       "  'servings': 10}}"
      ]
     },
     "execution_count": 415,
     "metadata": {},
     "output_type": "execute_result"
    }
   ],
   "source": [
    "get_recipe_info(browser)"
   ]
  },
  {
   "cell_type": "code",
   "execution_count": 387,
   "metadata": {},
   "outputs": [],
   "source": [
    "def _get_directions(browser):\n",
    "    directions = {}\n",
    "    directions['timing'] = _get_timing(browser)\n",
    "    sel = 'div.directions--section li.step'\n",
    "    steps = browser.find_elements_by_css_selector(sel)\n",
    "    directions['steps'] = [step.text for step in steps if step.text]\n",
    "    directions['servings'] = _get_servings(browser)\n",
    "    return directions"
   ]
  },
  {
   "cell_type": "code",
   "execution_count": 336,
   "metadata": {},
   "outputs": [
    {
     "data": {
      "text/plain": [
       "{'timing': {'prep': 20, 'cook': 40, 'ready_in': 60},\n",
       " 'steps': ['Toss chicken first in 1 tablespoon dark soy sauce, then in the flour, coating pieces evenly. Heat the oil in a large skillet over medium high heat. Place chicken in the skillet, cook and stir chicken until browned, about 5 minutes. Remove chicken.',\n",
       "  'Reduce heat to medium and stir in curry paste. Cook for 1 minute until fragrant, then stir in green onions, garlic, and ginger; cook an additional 2 minutes. Return chicken to the skillet, stirring to coat with the curry mixture. Stir the coconut milk, fish sauce, 1 tablespoon soy sauce, and sugar into the chicken-curry mixture. Allow to simmer over medium heat for 20 minutes until the chicken is tender. Serve garnished with cilantro leaves.']}"
      ]
     },
     "execution_count": 336,
     "metadata": {},
     "output_type": "execute_result"
    }
   ],
   "source": [
    "_get_directions(browser)"
   ]
  },
  {
   "cell_type": "code",
   "execution_count": 411,
   "metadata": {},
   "outputs": [],
   "source": [
    "def _get_timing(browser):\n",
    "    timing = {}\n",
    "    sel = 'div.directions--section ul.prepTime li.prepTime__item'\n",
    "    timing_list = browser.find_elements_by_css_selector(sel)\n",
    "    time_str = timing_list[1].get_attribute('aria-label').split(': ')[1]\n",
    "    timing['prep'] = _parse_timing_string(time_str)\n",
    "    time_str = timing_list[2].get_attribute('aria-label').split(': ')[1]\n",
    "    timing['cook'] = _parse_timing_string(time_str)\n",
    "    time_str = timing_list[3].get_attribute('aria-label').split('Ready in ')[1]\n",
    "    timing['total'] = _parse_timing_string(time_str)\n",
    "    return timing"
   ]
  },
  {
   "cell_type": "code",
   "execution_count": 410,
   "metadata": {},
   "outputs": [],
   "source": [
    "def _parse_timing_string(string):\n",
    "    total = 0\n",
    "    if len(string.split('Hours')) > 1:\n",
    "        total += 60 * int(string.split('Hours')[0])\n",
    "        string = string.split('Hours')[1]\n",
    "    if len(string.split('Hour')) > 1:\n",
    "        total += 60 * int(string.split('Hour')[0])\n",
    "        string = string.split('Hour')[1]\n",
    "    if len(string.split('Minutes')) > 1:\n",
    "        total += int(string.split('Minutes')[0])\n",
    "    return total"
   ]
  },
  {
   "cell_type": "code",
   "execution_count": 382,
   "metadata": {},
   "outputs": [],
   "source": [
    "def _get_servings(browser):\n",
    "    sel = 'span.servings-count span.ng-binding'\n",
    "    servings = browser.find_element_by_css_selector(sel)\n",
    "    return int(servings.text)"
   ]
  },
  {
   "cell_type": "code",
   "execution_count": 383,
   "metadata": {},
   "outputs": [
    {
     "data": {
      "text/plain": [
       "12"
      ]
     },
     "execution_count": 383,
     "metadata": {},
     "output_type": "execute_result"
    }
   ],
   "source": [
    "_get_servings(browser)"
   ]
  },
  {
   "cell_type": "code",
   "execution_count": 392,
   "metadata": {},
   "outputs": [],
   "source": [
    "mc = pymongo.MongoClient()"
   ]
  },
  {
   "cell_type": "code",
   "execution_count": 396,
   "metadata": {},
   "outputs": [],
   "source": [
    "test_db = mc['recipes_test']\n",
    "recipes_coll = test_db['recipes']"
   ]
  },
  {
   "cell_type": "code",
   "execution_count": 398,
   "metadata": {},
   "outputs": [
    {
     "data": {
      "text/plain": [
       "<pymongo.results.InsertOneResult at 0x10ef51dc8>"
      ]
     },
     "execution_count": 398,
     "metadata": {},
     "output_type": "execute_result"
    }
   ],
   "source": [
    "recipes_coll.insert_one(get_recipe_info(browser))"
   ]
  },
  {
   "cell_type": "code",
   "execution_count": 399,
   "metadata": {},
   "outputs": [
    {
     "data": {
      "text/plain": [
       "[{'_id': ObjectId('5ca3adba8fd54b1b485da598'),\n",
       "  'id': '78299',\n",
       "  'name': 'Boilermaker Tailgate Chili',\n",
       "  'href': 'https://www.allrecipes.com/recipe/78299/boilermaker-tailgate-chili/',\n",
       "  'category': {'lvl_1': 'Soups, Stews and Chili',\n",
       "   'lvl_2': 'Chili',\n",
       "   'lvl_3': 'Pork Chili'},\n",
       "  'rating_info': {'rating': 4.8183069229126,\n",
       "   'made_by': 12000,\n",
       "   'reviews': 4000},\n",
       "  'submitter_info': {'id': 591623,\n",
       "   'name': 'MIGHTYPURDUE22',\n",
       "   'followers': 41,\n",
       "   'href': 'https://www.allrecipes.com/cook/591623/'},\n",
       "  'ingredients': [{'quantity': 2.0,\n",
       "    'units': 'pound',\n",
       "    'ingredient': 'ground beef chuck'},\n",
       "   {'quantity': 1.0, 'units': 'pound', 'ingredient': 'italian sausage'},\n",
       "   {'quantity': 45.0, 'units': 'ounce', 'ingredient': 'chili beans'},\n",
       "   {'quantity': 15.0,\n",
       "    'units': 'ounce',\n",
       "    'ingredient': 'chili beans in spicy sauce'},\n",
       "   {'quantity': 56.0, 'units': 'ounce', 'ingredient': 'tomatoes with juice'},\n",
       "   {'quantity': 6.0, 'units': 'ounce', 'ingredient': 'tomato paste'},\n",
       "   {'quantity': 1.0, 'units': 'each', 'ingredient': 'yellow onion'},\n",
       "   {'quantity': 3.0, 'units': 'stalk', 'ingredient': 'celery'},\n",
       "   {'quantity': 1.0, 'units': 'each', 'ingredient': 'green bell pepper'},\n",
       "   {'quantity': 1.0, 'units': 'each', 'ingredient': 'red bell pepper'},\n",
       "   {'quantity': 2.0, 'units': 'each', 'ingredient': 'green chile peppers'},\n",
       "   {'quantity': 1.0, 'units': 'tablespoon', 'ingredient': 'bacon bits'},\n",
       "   {'quantity': 4.0, 'units': 'cube', 'ingredient': 'beef bouillon'},\n",
       "   {'quantity': 0.5, 'units': 'cup', 'ingredient': 'beer'},\n",
       "   {'quantity': 0.25, 'units': 'cup', 'ingredient': 'chili powder'},\n",
       "   {'quantity': 1.0,\n",
       "    'units': 'tablespoon',\n",
       "    'ingredient': 'worcestershire sauce'},\n",
       "   {'quantity': 1.0, 'units': 'tablespoon', 'ingredient': 'garlic'},\n",
       "   {'quantity': 1.0, 'units': 'tablespoon', 'ingredient': 'oregano'},\n",
       "   {'quantity': 2.0, 'units': 'teaspoon', 'ingredient': 'ground cumin'},\n",
       "   {'quantity': 2.0,\n",
       "    'units': 'teaspoon',\n",
       "    'ingredient': 'pepper sauce eg tabasco'},\n",
       "   {'quantity': 1.0, 'units': 'teaspoon', 'ingredient': 'basil'},\n",
       "   {'quantity': 1.0, 'units': 'teaspoon', 'ingredient': 'salt'},\n",
       "   {'quantity': 1.0, 'units': 'teaspoon', 'ingredient': 'ground black pepper'},\n",
       "   {'quantity': 1.0, 'units': 'teaspoon', 'ingredient': 'cayenne pepper'},\n",
       "   {'quantity': 1.0, 'units': 'teaspoon', 'ingredient': 'paprika'},\n",
       "   {'quantity': 1.0, 'units': 'teaspoon', 'ingredient': 'white sugar'},\n",
       "   {'quantity': 10.5, 'units': 'ounce', 'ingredient': 'corn chips'},\n",
       "   {'quantity': 8.0, 'units': 'ounce', 'ingredient': 'cheddar cheese'}],\n",
       "  'directions': {'timing': {'prep': 30, 'cook': 120, 'total': 150},\n",
       "   'steps': ['Heat a large stock pot over medium-high heat. Crumble the ground chuck and sausage into the hot pan, and cook until evenly browned. Drain off excess grease.',\n",
       "    'Pour in the chili beans, spicy chili beans, diced tomatoes and tomato paste. Add the onion, celery, green and red bell peppers, chile peppers, bacon bits, bouillon, and beer. Season with chili powder, Worcestershire sauce, garlic, oregano, cumin, hot pepper sauce, basil, salt, pepper, cayenne, paprika, and sugar. Stir to blend, then cover and simmer over low heat for at least 2 hours, stirring occasionally.',\n",
       "    'After 2 hours, taste, and adjust salt, pepper, and chili powder if necessary. The longer the chili simmers, the better it will taste. Remove from heat and serve, or refrigerate, and serve the next day.',\n",
       "    'To serve, ladle into bowls, and top with corn chips and shredded Cheddar cheese.'],\n",
       "   'servings': 12}}]"
      ]
     },
     "execution_count": 399,
     "metadata": {},
     "output_type": "execute_result"
    }
   ],
   "source": [
    "list(recipes_coll.find())"
   ]
  },
  {
   "cell_type": "code",
   "execution_count": null,
   "metadata": {},
   "outputs": [],
   "source": []
  }
 ],
 "metadata": {
  "kernelspec": {
   "display_name": "Python 3",
   "language": "python",
   "name": "python3"
  },
  "language_info": {
   "codemirror_mode": {
    "name": "ipython",
    "version": 3
   },
   "file_extension": ".py",
   "mimetype": "text/x-python",
   "name": "python",
   "nbconvert_exporter": "python",
   "pygments_lexer": "ipython3",
   "version": "3.6.8"
  }
 },
 "nbformat": 4,
 "nbformat_minor": 2
}
