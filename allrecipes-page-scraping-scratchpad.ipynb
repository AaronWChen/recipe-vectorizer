{
 "cells": [
  {
   "cell_type": "code",
   "execution_count": 86,
   "metadata": {},
   "outputs": [],
   "source": [
    "import time\n",
    "import random\n",
    "import requests\n",
    "import selenium\n",
    "from string import ascii_lowercase\n",
    "from selenium.webdriver import Firefox, Chrome\n",
    "from bs4 import BeautifulSoup\n",
    "import pandas as pd\n",
    "import string\n",
    "import numpy as np\n",
    "from selenium.webdriver.common.keys import Keys"
   ]
  },
  {
   "cell_type": "code",
   "execution_count": 87,
   "metadata": {},
   "outputs": [],
   "source": [
    "browser = Chrome()"
   ]
  },
  {
   "cell_type": "code",
   "execution_count": 88,
   "metadata": {},
   "outputs": [],
   "source": [
    "url='https://www.allrecipes.com/recipe/141833/thai-green-curry-chicken/'\n",
    "browser.get(url)"
   ]
  },
  {
   "cell_type": "code",
   "execution_count": 84,
   "metadata": {},
   "outputs": [],
   "source": [
    "time.sleep(2)"
   ]
  },
  {
   "cell_type": "code",
   "execution_count": 9,
   "metadata": {},
   "outputs": [],
   "source": [
    "sel = 'ul'\n",
    "ing_lists = browser.find_elements_by_css_selector(sel)"
   ]
  },
  {
   "cell_type": "code",
   "execution_count": 11,
   "metadata": {},
   "outputs": [],
   "source": [
    "sel = 'ul#lst_ingredients_1'\n",
    "ing_list_1 = browser.find_element_by_css_selector(sel)"
   ]
  },
  {
   "cell_type": "code",
   "execution_count": 12,
   "metadata": {},
   "outputs": [
    {
     "data": {
      "text/plain": [
       "['1 pound skinless, boneless chicken breast halves - cut into 1 inch cubes',\n",
       " '1 tablespoon dark soy sauce',\n",
       " '1 tablespoon all-purpose flour',\n",
       " 'Great Value All Purpose Flour, 32 oz',\n",
       " 'In Stores Only',\n",
       " 'SEE EVERYDAY LOW PRICE',\n",
       " 'ADVERTISEMENT',\n",
       " '2 tablespoons cooking oil',\n",
       " '2 tablespoons green curry paste',\n",
       " '2 green onions with tops, chopped',\n",
       " '3 cloves garlic, peeled and chopped']"
      ]
     },
     "execution_count": 12,
     "metadata": {},
     "output_type": "execute_result"
    }
   ],
   "source": [
    "ing_list_1.text.split('\\n')"
   ]
  },
  {
   "cell_type": "code",
   "execution_count": 10,
   "metadata": {},
   "outputs": [
    {
     "ename": "AttributeError",
     "evalue": "'list' object has no attribute 'text'",
     "output_type": "error",
     "traceback": [
      "\u001b[0;31m---------------------------------------------------------------------------\u001b[0m",
      "\u001b[0;31mAttributeError\u001b[0m                            Traceback (most recent call last)",
      "\u001b[0;32m<ipython-input-10-a1a6cb486d56>\u001b[0m in \u001b[0;36m<module>\u001b[0;34m\u001b[0m\n\u001b[0;32m----> 1\u001b[0;31m \u001b[0ming_lists\u001b[0m\u001b[0;34m.\u001b[0m\u001b[0mtext\u001b[0m\u001b[0;34m.\u001b[0m\u001b[0msplit\u001b[0m\u001b[0;34m(\u001b[0m\u001b[0;34m'\\n'\u001b[0m\u001b[0;34m)\u001b[0m\u001b[0;34m\u001b[0m\u001b[0;34m\u001b[0m\u001b[0m\n\u001b[0m",
      "\u001b[0;31mAttributeError\u001b[0m: 'list' object has no attribute 'text'"
     ]
    }
   ],
   "source": [
    "ing_lists.text.split('\\n')"
   ]
  },
  {
   "cell_type": "code",
   "execution_count": 13,
   "metadata": {},
   "outputs": [],
   "source": [
    "sel = 'ul#lst_ingredients_2'\n",
    "ing_list_2 = browser.find_element_by_css_selector(sel)"
   ]
  },
  {
   "cell_type": "code",
   "execution_count": 14,
   "metadata": {},
   "outputs": [
    {
     "data": {
      "text/plain": [
       "['']"
      ]
     },
     "execution_count": 14,
     "metadata": {},
     "output_type": "execute_result"
    }
   ],
   "source": [
    "ing_list_2.text.split('\\n')"
   ]
  },
  {
   "cell_type": "code",
   "execution_count": 15,
   "metadata": {},
   "outputs": [],
   "source": [
    "ing_lists = ing_list_1.text.split('\\n') + ing_list_2.text.split('\\n')"
   ]
  },
  {
   "cell_type": "code",
   "execution_count": 16,
   "metadata": {},
   "outputs": [
    {
     "ename": "IndexError",
     "evalue": "string index out of range",
     "output_type": "error",
     "traceback": [
      "\u001b[0;31m---------------------------------------------------------------------------\u001b[0m",
      "\u001b[0;31mIndexError\u001b[0m                                Traceback (most recent call last)",
      "\u001b[0;32m<ipython-input-16-fdea527786b8>\u001b[0m in \u001b[0;36m<module>\u001b[0;34m\u001b[0m\n\u001b[1;32m      1\u001b[0m \u001b[0mingredients\u001b[0m \u001b[0;34m=\u001b[0m \u001b[0;34m[\u001b[0m\u001b[0;34m]\u001b[0m\u001b[0;34m\u001b[0m\u001b[0;34m\u001b[0m\u001b[0m\n\u001b[1;32m      2\u001b[0m \u001b[0;32mfor\u001b[0m \u001b[0mitem\u001b[0m \u001b[0;32min\u001b[0m \u001b[0ming_lists\u001b[0m\u001b[0;34m:\u001b[0m\u001b[0;34m\u001b[0m\u001b[0;34m\u001b[0m\u001b[0m\n\u001b[0;32m----> 3\u001b[0;31m     \u001b[0;32mif\u001b[0m \u001b[0mitem\u001b[0m\u001b[0;34m[\u001b[0m\u001b[0;36m0\u001b[0m\u001b[0;34m]\u001b[0m \u001b[0;32min\u001b[0m \u001b[0mstring\u001b[0m\u001b[0;34m.\u001b[0m\u001b[0mdigits\u001b[0m\u001b[0;34m:\u001b[0m\u001b[0;34m\u001b[0m\u001b[0;34m\u001b[0m\u001b[0m\n\u001b[0m\u001b[1;32m      4\u001b[0m         \u001b[0mingredients\u001b[0m\u001b[0;34m.\u001b[0m\u001b[0mappend\u001b[0m\u001b[0;34m(\u001b[0m\u001b[0mitem\u001b[0m\u001b[0;34m)\u001b[0m\u001b[0;34m\u001b[0m\u001b[0;34m\u001b[0m\u001b[0m\n",
      "\u001b[0;31mIndexError\u001b[0m: string index out of range"
     ]
    }
   ],
   "source": [
    "ingredients = []\n",
    "for item in ing_lists:\n",
    "    if item[0] in string.digits:\n",
    "        ingredients.append(item)"
   ]
  },
  {
   "cell_type": "code",
   "execution_count": 17,
   "metadata": {},
   "outputs": [
    {
     "data": {
      "text/plain": [
       "[]"
      ]
     },
     "execution_count": 17,
     "metadata": {},
     "output_type": "execute_result"
    }
   ],
   "source": [
    "ingredients"
   ]
  },
  {
   "cell_type": "code",
   "execution_count": 49,
   "metadata": {},
   "outputs": [],
   "source": [
    "quantities = []\n",
    "units = []\n",
    "ingredient = []\n",
    "for item in ingredients:\n",
    "    quantities.append(item.split()[0])\n",
    "    units.append(item.split()[1])\n",
    "    ingredient.append(' '.join(item.split()[2:]))"
   ]
  },
  {
   "cell_type": "code",
   "execution_count": 1,
   "metadata": {},
   "outputs": [
    {
     "ename": "NameError",
     "evalue": "name 'units' is not defined",
     "output_type": "error",
     "traceback": [
      "\u001b[0;31m---------------------------------------------------------------------------\u001b[0m",
      "\u001b[0;31mNameError\u001b[0m                                 Traceback (most recent call last)",
      "\u001b[0;32m<ipython-input-1-1b4ada50d449>\u001b[0m in \u001b[0;36m<module>\u001b[0;34m\u001b[0m\n\u001b[0;32m----> 1\u001b[0;31m \u001b[0munits\u001b[0m\u001b[0;34m\u001b[0m\u001b[0;34m\u001b[0m\u001b[0m\n\u001b[0m",
      "\u001b[0;31mNameError\u001b[0m: name 'units' is not defined"
     ]
    }
   ],
   "source": [
    "units"
   ]
  },
  {
   "cell_type": "code",
   "execution_count": 90,
   "metadata": {},
   "outputs": [],
   "source": [
    "def get_ingredients():\n",
    "    all_items = []\n",
    "    count = 1\n",
    "    while True:\n",
    "        try:\n",
    "            sel = 'ul#lst_ingredients_{0}'.format(count)\n",
    "            ing_list = browser.find_element_by_css_selector(sel)\n",
    "            all_items += ing_list.text.split('\\n')\n",
    "            count += 1\n",
    "        except:\n",
    "            break\n",
    "    ingredients = []\n",
    "    for item in all_items:\n",
    "        if item[0] in string.digits:\n",
    "            ingredients.append(item)\n",
    "    return ingredients"
   ]
  },
  {
   "cell_type": "code",
   "execution_count": 104,
   "metadata": {},
   "outputs": [
    {
     "data": {
      "text/plain": [
       "['1 pound skinless, boneless chicken breast halves - cut into 1 inch cubes',\n",
       " '1 tablespoon dark soy sauce',\n",
       " '1 tablespoon all-purpose flour',\n",
       " '2 tablespoons cooking oil',\n",
       " '2 tablespoons green curry paste',\n",
       " '2 green onions with tops, chopped',\n",
       " '3 cloves garlic, peeled and chopped',\n",
       " '1 teaspoon fresh ginger, peeled and finely chopped',\n",
       " '2 cups coconut milk',\n",
       " '1 tablespoon fish sauce',\n",
       " '1 tablespoon dark soy sauce',\n",
       " '2 tablespoons white sugar',\n",
       " '1/2 cup cilantro leaves, for garnish']"
      ]
     },
     "execution_count": 104,
     "metadata": {},
     "output_type": "execute_result"
    }
   ],
   "source": [
    "ingredients = get_ingredients()\n",
    "ingredients"
   ]
  },
  {
   "cell_type": "code",
   "execution_count": 110,
   "metadata": {},
   "outputs": [],
   "source": [
    "def parse_ingredients(ingredients, units):\n",
    "    '''\n",
    "    Parses a list of ingredients into a list of dictionaries with the following format: \n",
    "        {'ingredient': (str),\n",
    "         'quantity': (float),\n",
    "         'units': (str),\n",
    "         'preparation': (str)}\n",
    "    Also takes argument 'units', a list of accepted units (e.g., ['cups', 'tablespoon']).\n",
    "    If an ingredident does not specify a unit in this list, the label 'each' will be applied.\n",
    "    '''\n",
    "    ing_list = []\n",
    "    for item in ingredients:\n",
    "        item_dict = {}\n",
    "        \n",
    "        # Determine quantity\n",
    "        quantity = item.split()[0]\n",
    "        try:\n",
    "            item_dict['quantity'] = float(quantity)\n",
    "        except:\n",
    "            numer, denom = quantity.split('/')\n",
    "            item_dict['quantity'] = float(numer) / float(denom)\n",
    "        \n",
    "        # Determine units\n",
    "        if item.split()[2] not in ['can', 'cans']:\n",
    "            if item.split()[1] in units:\n",
    "                item_dict['units'] = item.split()[1]\n",
    "                remainder = ' '.join(item.split()[2:])\n",
    "            else:\n",
    "                item_dict['units'] = 'each'\n",
    "                remainder = ' '.join(item.split()[1:])\n",
    "        else:\n",
    "            item_dict['units'] = item.split()[1:3]\n",
    "            remainder = ' '.join(item.split()[3:])\n",
    "            \n",
    "        # Split remaining text between ingredient and preparation\n",
    "        if len(remainder.split(' - ')) != 1:\n",
    "            item_dict['ingredient'] = remainder.split(' - ')[0]\n",
    "            item_dict['preparation'] = remainder.split(' - ')[1]\n",
    "        else:\n",
    "            item_dict['ingredient'] = remainder.split(', ')[0]\n",
    "            if len(remainder.split(', ')) != 1:\n",
    "                item_dict['preparation'] = remainder.split(', ')[1]\n",
    "            else:\n",
    "                item_dict['preparation'] = None\n",
    "                \n",
    "        # Add item dictionary to list\n",
    "        ing_list.append(item_dict)\n",
    "    \n",
    "    return ing_list"
   ]
  },
  {
   "cell_type": "code",
   "execution_count": 105,
   "metadata": {},
   "outputs": [],
   "source": [
    "units = ['pound', 'pounds', 'cup', 'cups', 'tablespoon', 'tablespoons', 'teaspoon', 'teaspoons',\n",
    "         'clove', 'cloves']"
   ]
  },
  {
   "cell_type": "code",
   "execution_count": 111,
   "metadata": {},
   "outputs": [
    {
     "data": {
      "text/plain": [
       "[{'quantity': 1.0,\n",
       "  'units': 'pound',\n",
       "  'ingredient': 'skinless, boneless chicken breast halves',\n",
       "  'preparation': 'cut into 1 inch cubes'},\n",
       " {'quantity': 1.0,\n",
       "  'units': 'tablespoon',\n",
       "  'ingredient': 'dark soy sauce',\n",
       "  'preparation': None},\n",
       " {'quantity': 1.0,\n",
       "  'units': 'tablespoon',\n",
       "  'ingredient': 'all-purpose flour',\n",
       "  'preparation': None},\n",
       " {'quantity': 2.0,\n",
       "  'units': 'tablespoons',\n",
       "  'ingredient': 'cooking oil',\n",
       "  'preparation': None},\n",
       " {'quantity': 2.0,\n",
       "  'units': 'tablespoons',\n",
       "  'ingredient': 'green curry paste',\n",
       "  'preparation': None},\n",
       " {'quantity': 2.0,\n",
       "  'units': 'each',\n",
       "  'ingredient': 'green onions with tops',\n",
       "  'preparation': 'chopped'},\n",
       " {'quantity': 3.0,\n",
       "  'units': 'cloves',\n",
       "  'ingredient': 'garlic',\n",
       "  'preparation': 'peeled and chopped'},\n",
       " {'quantity': 1.0,\n",
       "  'units': 'teaspoon',\n",
       "  'ingredient': 'fresh ginger',\n",
       "  'preparation': 'peeled and finely chopped'},\n",
       " {'quantity': 2.0,\n",
       "  'units': 'cups',\n",
       "  'ingredient': 'coconut milk',\n",
       "  'preparation': None},\n",
       " {'quantity': 1.0,\n",
       "  'units': 'tablespoon',\n",
       "  'ingredient': 'fish sauce',\n",
       "  'preparation': None},\n",
       " {'quantity': 1.0,\n",
       "  'units': 'tablespoon',\n",
       "  'ingredient': 'dark soy sauce',\n",
       "  'preparation': None},\n",
       " {'quantity': 2.0,\n",
       "  'units': 'tablespoons',\n",
       "  'ingredient': 'white sugar',\n",
       "  'preparation': None},\n",
       " {'quantity': 0.5,\n",
       "  'units': 'cup',\n",
       "  'ingredient': 'cilantro leaves',\n",
       "  'preparation': 'for garnish'}]"
      ]
     },
     "execution_count": 111,
     "metadata": {},
     "output_type": "execute_result"
    }
   ],
   "source": [
    "parse_ingredients(ingredients, units)"
   ]
  },
  {
   "cell_type": "code",
   "execution_count": 95,
   "metadata": {},
   "outputs": [],
   "source": [
    "def get_name():\n",
    "    sel = 'h1#recipe-main-content'\n",
    "    name = browser.find_element_by_css_selector(sel)\n",
    "    return name.text"
   ]
  },
  {
   "cell_type": "code",
   "execution_count": 98,
   "metadata": {},
   "outputs": [
    {
     "data": {
      "text/plain": [
       "'Thai Green Curry Chicken'"
      ]
     },
     "execution_count": 98,
     "metadata": {},
     "output_type": "execute_result"
    }
   ],
   "source": [
    "get_name()"
   ]
  },
  {
   "cell_type": "code",
   "execution_count": 93,
   "metadata": {},
   "outputs": [],
   "source": [
    "def get_rating():\n",
    "    sel = 'div.rating-stars'\n",
    "    rating = browser.find_element_by_css_selector(sel)\n",
    "    return float(rating.get_attribute('data-ratingstars'))"
   ]
  },
  {
   "cell_type": "code",
   "execution_count": 94,
   "metadata": {},
   "outputs": [
    {
     "data": {
      "text/plain": [
       "4.53484010696411"
      ]
     },
     "execution_count": 94,
     "metadata": {},
     "output_type": "execute_result"
    }
   ],
   "source": [
    "get_rating()"
   ]
  },
  {
   "cell_type": "code",
   "execution_count": 96,
   "metadata": {},
   "outputs": [],
   "source": [
    "def get_categories():\n",
    "    sel = 'ol.breadcrumbs li'\n",
    "    categories = browser.find_elements_by_css_selector(sel)\n",
    "    return [category.text for category in categories]"
   ]
  },
  {
   "cell_type": "code",
   "execution_count": 97,
   "metadata": {},
   "outputs": [
    {
     "data": {
      "text/plain": [
       "['Home', 'Recipes', 'World Cuisine', 'Asian', 'Thai']"
      ]
     },
     "execution_count": 97,
     "metadata": {},
     "output_type": "execute_result"
    }
   ],
   "source": [
    "get_categories()"
   ]
  },
  {
   "cell_type": "code",
   "execution_count": 100,
   "metadata": {},
   "outputs": [],
   "source": [
    "a = '1/2'"
   ]
  },
  {
   "cell_type": "code",
   "execution_count": 101,
   "metadata": {},
   "outputs": [],
   "source": [
    "x, y = a.split('/')"
   ]
  },
  {
   "cell_type": "code",
   "execution_count": 102,
   "metadata": {},
   "outputs": [
    {
     "data": {
      "text/plain": [
       "'1'"
      ]
     },
     "execution_count": 102,
     "metadata": {},
     "output_type": "execute_result"
    }
   ],
   "source": [
    "x"
   ]
  },
  {
   "cell_type": "code",
   "execution_count": null,
   "metadata": {},
   "outputs": [],
   "source": []
  }
 ],
 "metadata": {
  "kernelspec": {
   "display_name": "Python 3",
   "language": "python",
   "name": "python3"
  },
  "language_info": {
   "codemirror_mode": {
    "name": "ipython",
    "version": 3
   },
   "file_extension": ".py",
   "mimetype": "text/x-python",
   "name": "python",
   "nbconvert_exporter": "python",
   "pygments_lexer": "ipython3",
   "version": "3.6.8"
  }
 },
 "nbformat": 4,
 "nbformat_minor": 2
}
