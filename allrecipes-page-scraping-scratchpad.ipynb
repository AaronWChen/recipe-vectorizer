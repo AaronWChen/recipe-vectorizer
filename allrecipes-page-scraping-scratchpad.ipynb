{
 "cells": [
  {
   "cell_type": "code",
   "execution_count": 86,
   "metadata": {},
   "outputs": [],
   "source": [
    "import time\n",
    "import random\n",
    "import requests\n",
    "import selenium\n",
    "from string import ascii_lowercase\n",
    "from selenium.webdriver import Firefox, Chrome\n",
    "from bs4 import BeautifulSoup\n",
    "import pandas as pd\n",
    "import string\n",
    "import numpy as np\n",
    "from selenium.webdriver.common.keys import Keys"
   ]
  },
  {
   "cell_type": "code",
   "execution_count": 182,
   "metadata": {},
   "outputs": [],
   "source": [
    "browser = Chrome()"
   ]
  },
  {
   "cell_type": "code",
   "execution_count": 314,
   "metadata": {},
   "outputs": [],
   "source": [
    "url='https://www.allrecipes.com/recipe/141833/thai-green-curry-chicken/'\n",
    "browser.get(url)"
   ]
  },
  {
   "cell_type": "code",
   "execution_count": 84,
   "metadata": {},
   "outputs": [],
   "source": [
    "time.sleep(2)"
   ]
  },
  {
   "cell_type": "code",
   "execution_count": 307,
   "metadata": {},
   "outputs": [],
   "source": [
    "def _get_ingredients(browser):\n",
    "    all_items = []\n",
    "    count = 1\n",
    "    while True:\n",
    "        try:\n",
    "            sel = 'ul#lst_ingredients_{0}'.format(count)\n",
    "            ing_list = browser.find_element_by_css_selector(sel)\n",
    "            all_items += ing_list.text.split('\\n')\n",
    "            count += 1\n",
    "        except:\n",
    "            break\n",
    "    ingredients = []\n",
    "    for item in all_items:\n",
    "        if item[0] in string.digits:\n",
    "            ingredients.append(item)\n",
    "    return ingredients"
   ]
  },
  {
   "cell_type": "code",
   "execution_count": 302,
   "metadata": {},
   "outputs": [
    {
     "data": {
      "text/plain": [
       "['1 pound bulk Italian sausage',\n",
       " '4 cups half-and-half',\n",
       " '3 cups cubed potatoes',\n",
       " '2 cups low-sodium chicken broth',\n",
       " '2 cups whole milk',\n",
       " '1 onion, chopped',\n",
       " '1/2 teaspoon dried oregano',\n",
       " '1/2 teaspoon red pepper flakes, or more to taste',\n",
       " '1/2 teaspoon ground black pepper',\n",
       " '2 cups torn kale leaves (bite-size pieces)']"
      ]
     },
     "execution_count": 302,
     "metadata": {},
     "output_type": "execute_result"
    }
   ],
   "source": [
    "ingredients = get_ingredients()\n",
    "ingredients"
   ]
  },
  {
   "cell_type": "code",
   "execution_count": 261,
   "metadata": {},
   "outputs": [],
   "source": [
    "def _determine_quantity(item):\n",
    "    quantity = 0\n",
    "    for i, elem in enumerate(item.split()):\n",
    "        if elem[0] in string.digits:\n",
    "            try:\n",
    "                quantity += float(elem)\n",
    "            except:\n",
    "                numer, denom = elem.split('/')\n",
    "                quantity += float(numer) / float(denom)\n",
    "        else:\n",
    "            idx = i\n",
    "            break\n",
    "    remainder = ' '.join(item.split()[idx:])\n",
    "    return quantity, remainder"
   ]
  },
  {
   "cell_type": "code",
   "execution_count": 262,
   "metadata": {},
   "outputs": [],
   "source": [
    "def _parse_special(item, flag_words):\n",
    "    # Determine special word\n",
    "    sp_word = ')'\n",
    "    for word in flag_words:\n",
    "        if word in item.split():\n",
    "            sp_word = ' ' + word + ' '\n",
    "            break\n",
    "    \n",
    "    # Parse item \n",
    "    count_and_size = item.split(sp_word)[0]\n",
    "    remainder = item.split(sp_word)[1]\n",
    "    count, rest = _determine_quantity(count_and_size)\n",
    "    if sp_word == ')':\n",
    "        size, unit = _determine_quantity(rest[1:])\n",
    "    else:\n",
    "        size, unit = _determine_quantity(rest[1:-1])\n",
    "    quantity = count * size\n",
    "    return quantity, unit, remainder"
   ]
  },
  {
   "cell_type": "code",
   "execution_count": 263,
   "metadata": {},
   "outputs": [],
   "source": [
    "def _remove_descriptors(item,\n",
    "                        phrases=phrases,\n",
    "                        stopwords=stopwords,\n",
    "                        suffixes=suffixes):\n",
    "    # Remove common/unnecessary ending phrases\n",
    "    for phrase in phrases:\n",
    "        if len(item.split(phrase)) > 1:\n",
    "            item = item.split(phrase)[0]\n",
    "    # Remove punctuation and stopwords\n",
    "    words = []\n",
    "    for elem in item.split():\n",
    "        word = ''.join([letter for letter in elem.lower() if letter in string.ascii_lowercase])\n",
    "        if word not in stopwords:\n",
    "            words.append(word)\n",
    "    # Remove adjectives and adverbs    \n",
    "    for suffix in suffixes:\n",
    "        for word in words.copy():\n",
    "            try:\n",
    "                if word[-len(suffix):] == suffix:\n",
    "                    words.remove(word)\n",
    "            except:\n",
    "                continue\n",
    "    return ' '.join(words)"
   ]
  },
  {
   "cell_type": "code",
   "execution_count": 264,
   "metadata": {},
   "outputs": [],
   "source": [
    "def parse_ingredients(ingredients, units=units, flag_words=flag_words):\n",
    "    '''\n",
    "    Parses a list of ingredients into a list of dictionaries with the following format: \n",
    "        {'quantity': (float),\n",
    "         'units': (str),\n",
    "         'ingredient': (str)}\n",
    "    Also takes argument 'units', a list of accepted units (e.g., ['cups', 'tablespoon']).\n",
    "    If an ingredident does not specify a unit in this list, the label 'each' will be applied.\n",
    "    '''\n",
    "    ing_list = []\n",
    "    for item in ingredients:\n",
    "        item_dict = {}\n",
    "        # Check item for flag words (require special parsing treatment)\n",
    "        flag = False\n",
    "        for word in item.split():\n",
    "            if word in flag_words:\n",
    "                flag = True\n",
    "        if item.split()[1][0] == '(':\n",
    "            flag = True  \n",
    "        # Parse quantities and units        \n",
    "        if flag:\n",
    "            quantity, unit, remainder = _parse_special(item, flag_words)\n",
    "            item_dict['quantity'] = quantity\n",
    "            item_dict['units'] = unit if unit[-1] != 's' else unit[:-1]\n",
    "        else:\n",
    "            quantity, remainder = _determine_quantity(item) \n",
    "            item_dict['quantity'] = quantity\n",
    "            if remainder.split()[0] in units:\n",
    "                unit = remainder.split()[0]\n",
    "                item_dict['units'] = unit if unit[-1] != 's' else unit[:-1]\n",
    "                remainder = ' '.join(remainder.split()[1:])\n",
    "            else:\n",
    "                item_dict['units'] = 'each'\n",
    "        # Remove preparation instructions from remaining text to isolate ingredient\n",
    "        item_dict['ingredient'] = _remove_descriptors(remainder)\n",
    "        # Add item dictionary to list\n",
    "        ing_list.append(item_dict)\n",
    "    return ing_list"
   ]
  },
  {
   "cell_type": "code",
   "execution_count": 304,
   "metadata": {},
   "outputs": [],
   "source": [
    "units = ['pound', 'pounds', 'cup', 'cups', 'tablespoon', 'tablespoons', 'teaspoon', 'teaspoons',\n",
    "         'clove', 'cloves', 'stalk', 'stalks', 'ounce', 'ounces', 'oz.', 'cubes', 'pint', 'pints',\n",
    "         'quart', 'quarts']\n",
    "phrases = [' - ',', or', ', for garnish', ', cut']\n",
    "stopwords = ['and', 'into', 'very', 'hot', 'cold', 'fresh', 'large', 'medium', 'small', 'halves', 'torn']\n",
    "suffixes = ['ed','less','ly']\n",
    "flag_words = ['can', 'cans', 'package', 'packages', 'jar', 'jars', 'container', 'containers']"
   ]
  },
  {
   "cell_type": "code",
   "execution_count": 303,
   "metadata": {},
   "outputs": [
    {
     "data": {
      "text/html": [
       "<div>\n",
       "<style scoped>\n",
       "    .dataframe tbody tr th:only-of-type {\n",
       "        vertical-align: middle;\n",
       "    }\n",
       "\n",
       "    .dataframe tbody tr th {\n",
       "        vertical-align: top;\n",
       "    }\n",
       "\n",
       "    .dataframe thead th {\n",
       "        text-align: right;\n",
       "    }\n",
       "</style>\n",
       "<table border=\"1\" class=\"dataframe\">\n",
       "  <thead>\n",
       "    <tr style=\"text-align: right;\">\n",
       "      <th></th>\n",
       "      <th>ingredient</th>\n",
       "      <th>quantity</th>\n",
       "      <th>units</th>\n",
       "    </tr>\n",
       "  </thead>\n",
       "  <tbody>\n",
       "    <tr>\n",
       "      <th>0</th>\n",
       "      <td>bulk italian sausage</td>\n",
       "      <td>1.0</td>\n",
       "      <td>pound</td>\n",
       "    </tr>\n",
       "    <tr>\n",
       "      <th>1</th>\n",
       "      <td>halfandhalf</td>\n",
       "      <td>4.0</td>\n",
       "      <td>cup</td>\n",
       "    </tr>\n",
       "    <tr>\n",
       "      <th>2</th>\n",
       "      <td>potatoes</td>\n",
       "      <td>3.0</td>\n",
       "      <td>cup</td>\n",
       "    </tr>\n",
       "    <tr>\n",
       "      <th>3</th>\n",
       "      <td>lowsodium chicken broth</td>\n",
       "      <td>2.0</td>\n",
       "      <td>cup</td>\n",
       "    </tr>\n",
       "    <tr>\n",
       "      <th>4</th>\n",
       "      <td>whole milk</td>\n",
       "      <td>2.0</td>\n",
       "      <td>cup</td>\n",
       "    </tr>\n",
       "    <tr>\n",
       "      <th>5</th>\n",
       "      <td>onion</td>\n",
       "      <td>1.0</td>\n",
       "      <td>each</td>\n",
       "    </tr>\n",
       "    <tr>\n",
       "      <th>6</th>\n",
       "      <td>oregano</td>\n",
       "      <td>0.5</td>\n",
       "      <td>teaspoon</td>\n",
       "    </tr>\n",
       "    <tr>\n",
       "      <th>7</th>\n",
       "      <td>pepper flakes</td>\n",
       "      <td>0.5</td>\n",
       "      <td>teaspoon</td>\n",
       "    </tr>\n",
       "    <tr>\n",
       "      <th>8</th>\n",
       "      <td>ground black pepper</td>\n",
       "      <td>0.5</td>\n",
       "      <td>teaspoon</td>\n",
       "    </tr>\n",
       "    <tr>\n",
       "      <th>9</th>\n",
       "      <td>torn kale leaves bitesize pieces</td>\n",
       "      <td>2.0</td>\n",
       "      <td>cup</td>\n",
       "    </tr>\n",
       "  </tbody>\n",
       "</table>\n",
       "</div>"
      ],
      "text/plain": [
       "                         ingredient  quantity     units\n",
       "0              bulk italian sausage       1.0     pound\n",
       "1                       halfandhalf       4.0       cup\n",
       "2                          potatoes       3.0       cup\n",
       "3           lowsodium chicken broth       2.0       cup\n",
       "4                        whole milk       2.0       cup\n",
       "5                             onion       1.0      each\n",
       "6                           oregano       0.5  teaspoon\n",
       "7                     pepper flakes       0.5  teaspoon\n",
       "8               ground black pepper       0.5  teaspoon\n",
       "9  torn kale leaves bitesize pieces       2.0       cup"
      ]
     },
     "execution_count": 303,
     "metadata": {},
     "output_type": "execute_result"
    }
   ],
   "source": [
    "pd.DataFrame(parse_ingredients(ingredients))"
   ]
  },
  {
   "cell_type": "code",
   "execution_count": 297,
   "metadata": {},
   "outputs": [],
   "source": [
    "def _get_id(browser):\n",
    "    id_and_name = browser.current_url.split('recipe/')[1]\n",
    "    return id_and_name.split('/')[0]"
   ]
  },
  {
   "cell_type": "code",
   "execution_count": 273,
   "metadata": {},
   "outputs": [],
   "source": [
    "def _get_name(browser):\n",
    "    sel = 'h1#recipe-main-content'\n",
    "    name = browser.find_element_by_css_selector(sel)\n",
    "    return name.text"
   ]
  },
  {
   "cell_type": "code",
   "execution_count": 275,
   "metadata": {},
   "outputs": [
    {
     "data": {
      "text/plain": [
       "\"Catherine's Spicy Chicken Soup\""
      ]
     },
     "execution_count": 275,
     "metadata": {},
     "output_type": "execute_result"
    }
   ],
   "source": [
    "_get_name(browser)"
   ]
  },
  {
   "cell_type": "code",
   "execution_count": 285,
   "metadata": {},
   "outputs": [],
   "source": [
    "def _get_rating_info(browser):\n",
    "    rating_info = {}\n",
    "    sel = 'div.rating-stars'\n",
    "    rating = browser.find_element_by_css_selector(sel)\n",
    "    rating_info['rating'] = float(rating.get_attribute('data-ratingstars'))\n",
    "    sel = 'div.summary-stats-box a.read--reviews'\n",
    "    reviews = browser.find_element_by_css_selector(sel).text.split()\n",
    "    try:\n",
    "        n_made = int(reviews[0])\n",
    "    except:\n",
    "        n_made = int(reviews[0][:-1]) * 1000\n",
    "    try:\n",
    "        n_reviews = int(reviews[4])\n",
    "    except:\n",
    "        n_reviews = int(reviews[4][:-1]) * 1000    \n",
    "    rating_info['made_by'] = n_made\n",
    "    rating_info['reviews'] = n_reviews\n",
    "    return rating_info"
   ]
  },
  {
   "cell_type": "code",
   "execution_count": 284,
   "metadata": {},
   "outputs": [
    {
     "data": {
      "text/plain": [
       "['2k', 'made', 'it', '|', '1k', 'reviews']"
      ]
     },
     "execution_count": 284,
     "metadata": {},
     "output_type": "execute_result"
    }
   ],
   "source": [
    "sel = 'div.summary-stats-box a.read--reviews'\n",
    "reviews = browser.find_element_by_css_selector(sel)\n",
    "reviews.text.split()"
   ]
  },
  {
   "cell_type": "code",
   "execution_count": 286,
   "metadata": {},
   "outputs": [
    {
     "data": {
      "text/plain": [
       "{'rating': 4.74810457229614, 'made_by': 2000, 'reviews': 1000}"
      ]
     },
     "execution_count": 286,
     "metadata": {},
     "output_type": "execute_result"
    }
   ],
   "source": [
    "_get_rating_info(browser)"
   ]
  },
  {
   "cell_type": "code",
   "execution_count": 305,
   "metadata": {},
   "outputs": [],
   "source": [
    "def _get_categories(browser):\n",
    "    sel = 'ol.breadcrumbs li'\n",
    "    categories = browser.find_elements_by_css_selector(sel)\n",
    "    cat_list = [category.text for category in categories]\n",
    "    cat_dict = {}\n",
    "    cat_dict['lvl_1'] = cat_list[2]\n",
    "    try:\n",
    "        cat_dict['lvl_2'] = cat_list[3]\n",
    "    except:\n",
    "        cat_dict['lvl_2'] = None\n",
    "    try:\n",
    "        cat_dict['lvl_3'] = cat_list[4]\n",
    "    except:\n",
    "        cat_dict['lvl_3'] = None\n",
    "    return cat_dict"
   ]
  },
  {
   "cell_type": "code",
   "execution_count": 290,
   "metadata": {},
   "outputs": [
    {
     "data": {
      "text/plain": [
       "{'cat_1': 'Soups, Stews and Chili', 'cat_2': 'Soup', 'cat_3': 'Chicken Soup'}"
      ]
     },
     "execution_count": 290,
     "metadata": {},
     "output_type": "execute_result"
    }
   ],
   "source": [
    "_get_categories(browser)"
   ]
  },
  {
   "cell_type": "code",
   "execution_count": 310,
   "metadata": {},
   "outputs": [],
   "source": [
    "def _get_submitter_info(browser):\n",
    "    submitter_info = {}\n",
    "    sel = 'div.summary-background div.submitter'\n",
    "    submitter = browser.find_element_by_css_selector(sel)\n",
    "    followers = submitter.find_element_by_css_selector('div.submitter__img span').text\n",
    "    name = submitter.find_element_by_css_selector('p span.submitter__name').text\n",
    "    href = (submitter.find_element_by_css_selector('div.submitter__img a')\n",
    "                     .get_attribute('href'))\n",
    "    id_num = href.split('/')[-2]\n",
    "    submitter_info['id'] = int(id_num)\n",
    "    submitter_info['name'] = name\n",
    "    submitter_info['followers'] = int(followers)\n",
    "    submitter_info['href'] = href\n",
    "    return submitter_info"
   ]
  },
  {
   "cell_type": "code",
   "execution_count": 281,
   "metadata": {},
   "outputs": [
    {
     "data": {
      "text/plain": [
       "{'href': 'https://www.allrecipes.com/cook/177251/',\n",
       " 'id': 177251,\n",
       " 'name': 'AUNTTAF',\n",
       " 'followers': 14}"
      ]
     },
     "execution_count": 281,
     "metadata": {},
     "output_type": "execute_result"
    }
   ],
   "source": [
    "_get_submitter_info(browser)"
   ]
  },
  {
   "cell_type": "code",
   "execution_count": 338,
   "metadata": {},
   "outputs": [],
   "source": [
    "def get_recipe_info(browser):\n",
    "    recipe_info = {}\n",
    "    recipe_info['id'] = _get_id(browser)\n",
    "    recipe_info['name'] = _get_name(browser)\n",
    "    recipe_info['href'] = browser.current_url.split('?')[0]\n",
    "    recipe_info['category'] = _get_categories(browser)\n",
    "    recipe_info['rating_info'] = _get_rating_info(browser)\n",
    "    recipe_info['submitter_info'] = _get_submitter_info(browser)\n",
    "    ingredients = _get_ingredients(browser)\n",
    "    recipe_info['ingredients'] = parse_ingredients(ingredients)\n",
    "    recipe_info['directions'] = _get_directions(browser)\n",
    "    return recipe_info"
   ]
  },
  {
   "cell_type": "code",
   "execution_count": 339,
   "metadata": {},
   "outputs": [
    {
     "data": {
      "text/plain": [
       "{'id': '141833',\n",
       " 'name': 'Thai Green Curry Chicken',\n",
       " 'href': 'https://www.allrecipes.com/recipe/141833/thai-green-curry-chicken/',\n",
       " 'category': {'lvl_1': 'World Cuisine', 'lvl_2': 'Asian', 'lvl_3': 'Thai'},\n",
       " 'rating_info': {'rating': 4.53484010696411, 'made_by': 813, 'reviews': 378},\n",
       " 'submitter_info': {'id': 2370128,\n",
       "  'name': 'laus',\n",
       "  'followers': 0,\n",
       "  'href': 'https://www.allrecipes.com/cook/2370128/'},\n",
       " 'ingredients': [{'quantity': 1.0,\n",
       "   'units': 'pound',\n",
       "   'ingredient': 'chicken breast'},\n",
       "  {'quantity': 1.0, 'units': 'tablespoon', 'ingredient': 'dark soy sauce'},\n",
       "  {'quantity': 1.0, 'units': 'tablespoon', 'ingredient': 'allpurpose flour'},\n",
       "  {'quantity': 2.0, 'units': 'tablespoon', 'ingredient': 'cooking oil'},\n",
       "  {'quantity': 2.0, 'units': 'tablespoon', 'ingredient': 'green curry paste'},\n",
       "  {'quantity': 2.0, 'units': 'each', 'ingredient': 'green onions with tops'},\n",
       "  {'quantity': 3.0, 'units': 'clove', 'ingredient': 'garlic'},\n",
       "  {'quantity': 1.0, 'units': 'teaspoon', 'ingredient': 'ginger'},\n",
       "  {'quantity': 2.0, 'units': 'cup', 'ingredient': 'coconut milk'},\n",
       "  {'quantity': 1.0, 'units': 'tablespoon', 'ingredient': 'fish sauce'},\n",
       "  {'quantity': 1.0, 'units': 'tablespoon', 'ingredient': 'dark soy sauce'},\n",
       "  {'quantity': 2.0, 'units': 'tablespoon', 'ingredient': 'white sugar'},\n",
       "  {'quantity': 0.5, 'units': 'cup', 'ingredient': 'cilantro leaves'}],\n",
       " 'directions': {'timing': {'prep': 20, 'cook': 40, 'ready_in': 60},\n",
       "  'steps': ['Toss chicken first in 1 tablespoon dark soy sauce, then in the flour, coating pieces evenly. Heat the oil in a large skillet over medium high heat. Place chicken in the skillet, cook and stir chicken until browned, about 5 minutes. Remove chicken.',\n",
       "   'Reduce heat to medium and stir in curry paste. Cook for 1 minute until fragrant, then stir in green onions, garlic, and ginger; cook an additional 2 minutes. Return chicken to the skillet, stirring to coat with the curry mixture. Stir the coconut milk, fish sauce, 1 tablespoon soy sauce, and sugar into the chicken-curry mixture. Allow to simmer over medium heat for 20 minutes until the chicken is tender. Serve garnished with cilantro leaves.']}}"
      ]
     },
     "execution_count": 339,
     "metadata": {},
     "output_type": "execute_result"
    }
   ],
   "source": [
    "get_recipe_info(browser)"
   ]
  },
  {
   "cell_type": "code",
   "execution_count": 335,
   "metadata": {},
   "outputs": [],
   "source": [
    "def _get_directions(browser):\n",
    "    directions = {}\n",
    "    directions['timing'] = _get_timing(browser)\n",
    "    sel = 'div.directions--section li.step'\n",
    "    steps = browser.find_elements_by_css_selector(sel)\n",
    "    directions['steps'] = [step.text for step in steps if step.text]\n",
    "    return directions"
   ]
  },
  {
   "cell_type": "code",
   "execution_count": 336,
   "metadata": {},
   "outputs": [
    {
     "data": {
      "text/plain": [
       "{'timing': {'prep': 20, 'cook': 40, 'ready_in': 60},\n",
       " 'steps': ['Toss chicken first in 1 tablespoon dark soy sauce, then in the flour, coating pieces evenly. Heat the oil in a large skillet over medium high heat. Place chicken in the skillet, cook and stir chicken until browned, about 5 minutes. Remove chicken.',\n",
       "  'Reduce heat to medium and stir in curry paste. Cook for 1 minute until fragrant, then stir in green onions, garlic, and ginger; cook an additional 2 minutes. Return chicken to the skillet, stirring to coat with the curry mixture. Stir the coconut milk, fish sauce, 1 tablespoon soy sauce, and sugar into the chicken-curry mixture. Allow to simmer over medium heat for 20 minutes until the chicken is tender. Serve garnished with cilantro leaves.']}"
      ]
     },
     "execution_count": 336,
     "metadata": {},
     "output_type": "execute_result"
    }
   ],
   "source": [
    "_get_directions(browser)"
   ]
  },
  {
   "cell_type": "code",
   "execution_count": 330,
   "metadata": {},
   "outputs": [],
   "source": [
    "def _get_timing(browser):\n",
    "    timing = {}\n",
    "    sel = 'div.directions--section ul.prepTime li.prepTime__item'\n",
    "    timing_list = browser.find_elements_by_css_selector(sel)\n",
    "    prep_time = timing_list[1].get_attribute('aria-label')\n",
    "    num, unit = prep_time.split(': ')[1].split()\n",
    "    timing['prep'] = int(num) if unit == 'Minutes' else 60 * int(num)\n",
    "    cook_time = timing_list[2].get_attribute('aria-label')\n",
    "    num, unit = cook_time.split(': ')[1].split()\n",
    "    timing['cook'] = int(num) if unit == 'Minutes' else 60 * int(num)\n",
    "    total_time = timing_list[3].get_attribute('aria-label')\n",
    "    num, unit = total_time.split('Ready in ')[1].split()\n",
    "    timing['ready_in'] = int(num) if unit == 'Minutes' else 60 * int(num)\n",
    "    return timing"
   ]
  },
  {
   "cell_type": "code",
   "execution_count": 337,
   "metadata": {},
   "outputs": [
    {
     "data": {
      "text/plain": [
       "{'prep': 20, 'cook': 40, 'ready_in': 60}"
      ]
     },
     "execution_count": 337,
     "metadata": {},
     "output_type": "execute_result"
    }
   ],
   "source": [
    "_get_timing(browser)"
   ]
  },
  {
   "cell_type": "code",
   "execution_count": null,
   "metadata": {},
   "outputs": [],
   "source": []
  }
 ],
 "metadata": {
  "kernelspec": {
   "display_name": "Python 3",
   "language": "python",
   "name": "python3"
  },
  "language_info": {
   "codemirror_mode": {
    "name": "ipython",
    "version": 3
   },
   "file_extension": ".py",
   "mimetype": "text/x-python",
   "name": "python",
   "nbconvert_exporter": "python",
   "pygments_lexer": "ipython3",
   "version": "3.6.8"
  }
 },
 "nbformat": 4,
 "nbformat_minor": 2
}
