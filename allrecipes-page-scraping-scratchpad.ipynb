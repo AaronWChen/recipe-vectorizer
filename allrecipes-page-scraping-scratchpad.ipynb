{
 "cells": [
  {
   "cell_type": "code",
   "execution_count": 86,
   "metadata": {},
   "outputs": [],
   "source": [
    "import time\n",
    "import random\n",
    "import requests\n",
    "import selenium\n",
    "from string import ascii_lowercase\n",
    "from selenium.webdriver import Firefox, Chrome\n",
    "from bs4 import BeautifulSoup\n",
    "import pandas as pd\n",
    "import string\n",
    "import numpy as np\n",
    "from selenium.webdriver.common.keys import Keys"
   ]
  },
  {
   "cell_type": "code",
   "execution_count": 182,
   "metadata": {},
   "outputs": [],
   "source": [
    "browser = Chrome()"
   ]
  },
  {
   "cell_type": "code",
   "execution_count": 183,
   "metadata": {},
   "outputs": [],
   "source": [
    "url='https://www.allrecipes.com/recipe/141833/thai-green-curry-chicken/'\n",
    "browser.get(url)"
   ]
  },
  {
   "cell_type": "code",
   "execution_count": 84,
   "metadata": {},
   "outputs": [],
   "source": [
    "time.sleep(2)"
   ]
  },
  {
   "cell_type": "code",
   "execution_count": 90,
   "metadata": {},
   "outputs": [],
   "source": [
    "def get_ingredients():\n",
    "    all_items = []\n",
    "    count = 1\n",
    "    while True:\n",
    "        try:\n",
    "            sel = 'ul#lst_ingredients_{0}'.format(count)\n",
    "            ing_list = browser.find_element_by_css_selector(sel)\n",
    "            all_items += ing_list.text.split('\\n')\n",
    "            count += 1\n",
    "        except:\n",
    "            break\n",
    "    ingredients = []\n",
    "    for item in all_items:\n",
    "        if item[0] in string.digits:\n",
    "            ingredients.append(item)\n",
    "    return ingredients"
   ]
  },
  {
   "cell_type": "code",
   "execution_count": 225,
   "metadata": {},
   "outputs": [
    {
     "data": {
      "text/plain": [
       "['2 red bell pepper, seeded and sliced into strips',\n",
       " '4 (8 ounce) boneless pork loin chops',\n",
       " '1/2 cup teriyaki sauce',\n",
       " '1/4 cup creamy peanut butter',\n",
       " '2 tablespoons rice vinegar',\n",
       " '1 teaspoon crushed red pepper flakes',\n",
       " '2 cloves garlic, minced',\n",
       " '1/2 cup chopped green onions',\n",
       " '1/4 cup chopped roasted peanuts',\n",
       " '2 limes, cut into wedges']"
      ]
     },
     "execution_count": 225,
     "metadata": {},
     "output_type": "execute_result"
    }
   ],
   "source": [
    "ingredients = get_ingredients()\n",
    "ingredients"
   ]
  },
  {
   "cell_type": "code",
   "execution_count": 215,
   "metadata": {},
   "outputs": [],
   "source": [
    "def _determine_quantity(item):\n",
    "    quantity = 0\n",
    "    for i, elem in enumerate(item.split()):\n",
    "        if elem[0] in string.digits:\n",
    "            try:\n",
    "                quantity += float(elem)\n",
    "            except:\n",
    "                numer, denom = elem.split('/')\n",
    "                quantity += float(numer) / float(denom)\n",
    "        else:\n",
    "            idx = i\n",
    "            break\n",
    "    remainder = ' '.join(item.split()[idx:])\n",
    "    return quantity, remainder"
   ]
  },
  {
   "cell_type": "code",
   "execution_count": 216,
   "metadata": {},
   "outputs": [],
   "source": [
    "def _parse_special(item, flag_words):\n",
    "    # Determine special word\n",
    "    sp_word = ')'\n",
    "    for word in flag_words:\n",
    "        if word in item.split():\n",
    "            sp_word = ' ' + word + ' '\n",
    "            break\n",
    "    \n",
    "    # Parse item \n",
    "    count_and_size = item.split(sp_word)[0]\n",
    "    remainder = item.split(sp_word)[1]\n",
    "    count, rest = _determine_quantity(count_and_size)\n",
    "    if sp_word == ')':\n",
    "        size, unit = _determine_quantity(rest[1:])\n",
    "    else:\n",
    "        size, unit = _determine_quantity(rest[1:-1])\n",
    "    quantity = count * size\n",
    "    return quantity, unit, remainder"
   ]
  },
  {
   "cell_type": "code",
   "execution_count": 221,
   "metadata": {},
   "outputs": [],
   "source": [
    "def _remove_descriptors(item,\n",
    "                        phrases=phrases,\n",
    "                        stopwords=stopwords,\n",
    "                        suffixes=suffixes):\n",
    "    # Remove common/unnecessary ending phrases\n",
    "    for phrase in phrases:\n",
    "        if len(item.split(phrase)) > 1:\n",
    "            item = item.split(phrase)[0]\n",
    "    # Remove punctuation and stopwords\n",
    "    words = []\n",
    "    for elem in item.split():\n",
    "        word = ''.join([letter for letter in elem.lower() if letter in string.ascii_lowercase])\n",
    "        if word not in stopwords:\n",
    "            words.append(word)\n",
    "    # Remove adjectives and adverbs    \n",
    "    for suffix in suffixes:\n",
    "        for word in words.copy():\n",
    "            try:\n",
    "                if word[-len(suffix):] == suffix:\n",
    "                    words.remove(word)\n",
    "            except:\n",
    "                continue\n",
    "    return ' '.join(words)"
   ]
  },
  {
   "cell_type": "code",
   "execution_count": 222,
   "metadata": {},
   "outputs": [],
   "source": [
    "def parse_ingredients(ingredients, units=units, flag_words=flag_words):\n",
    "    '''\n",
    "    Parses a list of ingredients into a list of dictionaries with the following format: \n",
    "        {'quantity': (float),\n",
    "         'units': (str),\n",
    "         'ingredient': (str)}\n",
    "    Also takes argument 'units', a list of accepted units (e.g., ['cups', 'tablespoon']).\n",
    "    If an ingredident does not specify a unit in this list, the label 'each' will be applied.\n",
    "    '''\n",
    "    ing_list = []\n",
    "    for item in ingredients:\n",
    "        item_dict = {}\n",
    "        # Check item for flag words (require special parsing treatment)\n",
    "        flag = False\n",
    "        for word in item.split():\n",
    "            if word in flag_words:\n",
    "                flag = True\n",
    "        if item.split()[1][0] == '(':\n",
    "            flag = True  \n",
    "        # Parse quantities and units        \n",
    "        if flag:\n",
    "            quantity, unit, remainder = _parse_special(item, flag_words)\n",
    "            item_dict['quantity'] = quantity\n",
    "            item_dict['units'] = unit if unit[-1] != 's' else unit[:-1]\n",
    "        else:\n",
    "            quantity, remainder = _determine_quantity(item) \n",
    "            item_dict['quantity'] = quantity\n",
    "            if remainder.split()[0] in units:\n",
    "                unit = remainder.split()[0]\n",
    "                item_dict['units'] = unit if unit[-1] != 's' else unit[:-1]\n",
    "                remainder = ' '.join(remainder.split()[1:])\n",
    "            else:\n",
    "                item_dict['units'] = 'each'\n",
    "        # Remove preparation instructions from remaining text to isolate ingredient\n",
    "        item_dict['ingredient'] = _remove_descriptors(remainder)\n",
    "        # Add item dictionary to list\n",
    "        ing_list.append(item_dict)\n",
    "    return ing_list"
   ]
  },
  {
   "cell_type": "code",
   "execution_count": 223,
   "metadata": {},
   "outputs": [],
   "source": [
    "units = ['pound', 'pounds', 'cup', 'cups', 'tablespoon', 'tablespoons', 'teaspoon', 'teaspoons',\n",
    "         'clove', 'cloves', 'stalk', 'stalks', 'ounce', 'ounces', 'oz.']\n",
    "phrases = [' - ',', or', ', for garnish', ', cut']\n",
    "stopwords = ['and', 'into', 'very', 'hot', 'cold', 'fresh', 'large', 'medium', 'small']\n",
    "suffixes = ['ed','less','ly']\n",
    "flag_words = ['can', 'cans', 'package', 'packages']"
   ]
  },
  {
   "cell_type": "code",
   "execution_count": 227,
   "metadata": {},
   "outputs": [
    {
     "data": {
      "text/html": [
       "<div>\n",
       "<style scoped>\n",
       "    .dataframe tbody tr th:only-of-type {\n",
       "        vertical-align: middle;\n",
       "    }\n",
       "\n",
       "    .dataframe tbody tr th {\n",
       "        vertical-align: top;\n",
       "    }\n",
       "\n",
       "    .dataframe thead th {\n",
       "        text-align: right;\n",
       "    }\n",
       "</style>\n",
       "<table border=\"1\" class=\"dataframe\">\n",
       "  <thead>\n",
       "    <tr style=\"text-align: right;\">\n",
       "      <th></th>\n",
       "      <th>ingredient</th>\n",
       "      <th>quantity</th>\n",
       "      <th>units</th>\n",
       "    </tr>\n",
       "  </thead>\n",
       "  <tbody>\n",
       "    <tr>\n",
       "      <th>0</th>\n",
       "      <td>bell pepper strips</td>\n",
       "      <td>2.00</td>\n",
       "      <td>each</td>\n",
       "    </tr>\n",
       "    <tr>\n",
       "      <th>1</th>\n",
       "      <td>pork loin chops</td>\n",
       "      <td>32.00</td>\n",
       "      <td>ounce</td>\n",
       "    </tr>\n",
       "    <tr>\n",
       "      <th>2</th>\n",
       "      <td>teriyaki sauce</td>\n",
       "      <td>0.50</td>\n",
       "      <td>cup</td>\n",
       "    </tr>\n",
       "    <tr>\n",
       "      <th>3</th>\n",
       "      <td>creamy peanut butter</td>\n",
       "      <td>0.25</td>\n",
       "      <td>cup</td>\n",
       "    </tr>\n",
       "    <tr>\n",
       "      <th>4</th>\n",
       "      <td>rice vinegar</td>\n",
       "      <td>2.00</td>\n",
       "      <td>tablespoon</td>\n",
       "    </tr>\n",
       "    <tr>\n",
       "      <th>5</th>\n",
       "      <td>pepper flakes</td>\n",
       "      <td>1.00</td>\n",
       "      <td>teaspoon</td>\n",
       "    </tr>\n",
       "    <tr>\n",
       "      <th>6</th>\n",
       "      <td>garlic</td>\n",
       "      <td>2.00</td>\n",
       "      <td>clove</td>\n",
       "    </tr>\n",
       "    <tr>\n",
       "      <th>7</th>\n",
       "      <td>green onions</td>\n",
       "      <td>0.50</td>\n",
       "      <td>cup</td>\n",
       "    </tr>\n",
       "    <tr>\n",
       "      <th>8</th>\n",
       "      <td>peanuts</td>\n",
       "      <td>0.25</td>\n",
       "      <td>cup</td>\n",
       "    </tr>\n",
       "    <tr>\n",
       "      <th>9</th>\n",
       "      <td>limes</td>\n",
       "      <td>2.00</td>\n",
       "      <td>each</td>\n",
       "    </tr>\n",
       "  </tbody>\n",
       "</table>\n",
       "</div>"
      ],
      "text/plain": [
       "             ingredient  quantity       units\n",
       "0    bell pepper strips      2.00        each\n",
       "1       pork loin chops     32.00       ounce\n",
       "2        teriyaki sauce      0.50         cup\n",
       "3  creamy peanut butter      0.25         cup\n",
       "4          rice vinegar      2.00  tablespoon\n",
       "5         pepper flakes      1.00    teaspoon\n",
       "6                garlic      2.00       clove\n",
       "7          green onions      0.50         cup\n",
       "8               peanuts      0.25         cup\n",
       "9                 limes      2.00        each"
      ]
     },
     "execution_count": 227,
     "metadata": {},
     "output_type": "execute_result"
    }
   ],
   "source": [
    "pd.DataFrame(parse_ingredients(ingredients))"
   ]
  },
  {
   "cell_type": "code",
   "execution_count": 95,
   "metadata": {},
   "outputs": [],
   "source": [
    "def get_name():\n",
    "    sel = 'h1#recipe-main-content'\n",
    "    name = browser.find_element_by_css_selector(sel)\n",
    "    return name.text"
   ]
  },
  {
   "cell_type": "code",
   "execution_count": 98,
   "metadata": {},
   "outputs": [
    {
     "data": {
      "text/plain": [
       "'Thai Green Curry Chicken'"
      ]
     },
     "execution_count": 98,
     "metadata": {},
     "output_type": "execute_result"
    }
   ],
   "source": [
    "get_name()"
   ]
  },
  {
   "cell_type": "code",
   "execution_count": 93,
   "metadata": {},
   "outputs": [],
   "source": [
    "def get_rating():\n",
    "    sel = 'div.rating-stars'\n",
    "    rating = browser.find_element_by_css_selector(sel)\n",
    "    return float(rating.get_attribute('data-ratingstars'))"
   ]
  },
  {
   "cell_type": "code",
   "execution_count": 94,
   "metadata": {},
   "outputs": [
    {
     "data": {
      "text/plain": [
       "4.53484010696411"
      ]
     },
     "execution_count": 94,
     "metadata": {},
     "output_type": "execute_result"
    }
   ],
   "source": [
    "get_rating()"
   ]
  },
  {
   "cell_type": "code",
   "execution_count": 96,
   "metadata": {},
   "outputs": [],
   "source": [
    "def get_categories():\n",
    "    sel = 'ol.breadcrumbs li'\n",
    "    categories = browser.find_elements_by_css_selector(sel)\n",
    "    return [category.text for category in categories]"
   ]
  },
  {
   "cell_type": "code",
   "execution_count": 97,
   "metadata": {},
   "outputs": [
    {
     "data": {
      "text/plain": [
       "['Home', 'Recipes', 'World Cuisine', 'Asian', 'Thai']"
      ]
     },
     "execution_count": 97,
     "metadata": {},
     "output_type": "execute_result"
    }
   ],
   "source": [
    "get_categories()"
   ]
  },
  {
   "cell_type": "code",
   "execution_count": 100,
   "metadata": {},
   "outputs": [],
   "source": [
    "a = '1/2'"
   ]
  },
  {
   "cell_type": "code",
   "execution_count": 101,
   "metadata": {},
   "outputs": [],
   "source": [
    "x, y = a.split('/')"
   ]
  },
  {
   "cell_type": "code",
   "execution_count": 102,
   "metadata": {},
   "outputs": [
    {
     "data": {
      "text/plain": [
       "'1'"
      ]
     },
     "execution_count": 102,
     "metadata": {},
     "output_type": "execute_result"
    }
   ],
   "source": [
    "x"
   ]
  },
  {
   "cell_type": "code",
   "execution_count": 159,
   "metadata": {},
   "outputs": [],
   "source": [
    "a = [1,4,5]"
   ]
  },
  {
   "cell_type": "code",
   "execution_count": 160,
   "metadata": {},
   "outputs": [],
   "source": [
    "a.remove(4)"
   ]
  },
  {
   "cell_type": "code",
   "execution_count": 161,
   "metadata": {},
   "outputs": [
    {
     "data": {
      "text/plain": [
       "[1, 5]"
      ]
     },
     "execution_count": 161,
     "metadata": {},
     "output_type": "execute_result"
    }
   ],
   "source": [
    "a"
   ]
  },
  {
   "cell_type": "code",
   "execution_count": 194,
   "metadata": {},
   "outputs": [],
   "source": [
    "s = 'chicken, for garnish'"
   ]
  },
  {
   "cell_type": "code",
   "execution_count": 196,
   "metadata": {},
   "outputs": [
    {
     "data": {
      "text/plain": [
       "2"
      ]
     },
     "execution_count": 196,
     "metadata": {},
     "output_type": "execute_result"
    }
   ],
   "source": [
    "len(s.split(', for garnish'))"
   ]
  },
  {
   "cell_type": "code",
   "execution_count": null,
   "metadata": {},
   "outputs": [],
   "source": [
    "s"
   ]
  }
 ],
 "metadata": {
  "kernelspec": {
   "display_name": "Python 3",
   "language": "python",
   "name": "python3"
  },
  "language_info": {
   "codemirror_mode": {
    "name": "ipython",
    "version": 3
   },
   "file_extension": ".py",
   "mimetype": "text/x-python",
   "name": "python",
   "nbconvert_exporter": "python",
   "pygments_lexer": "ipython3",
   "version": "3.6.8"
  }
 },
 "nbformat": 4,
 "nbformat_minor": 2
}
