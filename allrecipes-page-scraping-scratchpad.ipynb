{
 "cells": [
  {
   "cell_type": "code",
   "execution_count": 86,
   "metadata": {},
   "outputs": [],
   "source": [
    "import time\n",
    "import random\n",
    "import requests\n",
    "import selenium\n",
    "from string import ascii_lowercase\n",
    "from selenium.webdriver import Firefox, Chrome\n",
    "from bs4 import BeautifulSoup\n",
    "import pandas as pd\n",
    "import string\n",
    "import numpy as np\n",
    "from selenium.webdriver.common.keys import Keys"
   ]
  },
  {
   "cell_type": "code",
   "execution_count": 182,
   "metadata": {},
   "outputs": [],
   "source": [
    "browser = Chrome()"
   ]
  },
  {
   "cell_type": "code",
   "execution_count": 183,
   "metadata": {},
   "outputs": [],
   "source": [
    "url='https://www.allrecipes.com/recipe/141833/thai-green-curry-chicken/'\n",
    "browser.get(url)"
   ]
  },
  {
   "cell_type": "code",
   "execution_count": 84,
   "metadata": {},
   "outputs": [],
   "source": [
    "time.sleep(2)"
   ]
  },
  {
   "cell_type": "code",
   "execution_count": 90,
   "metadata": {},
   "outputs": [],
   "source": [
    "def get_ingredients():\n",
    "    all_items = []\n",
    "    count = 1\n",
    "    while True:\n",
    "        try:\n",
    "            sel = 'ul#lst_ingredients_{0}'.format(count)\n",
    "            ing_list = browser.find_element_by_css_selector(sel)\n",
    "            all_items += ing_list.text.split('\\n')\n",
    "            count += 1\n",
    "        except:\n",
    "            break\n",
    "    ingredients = []\n",
    "    for item in all_items:\n",
    "        if item[0] in string.digits:\n",
    "            ingredients.append(item)\n",
    "    return ingredients"
   ]
  },
  {
   "cell_type": "code",
   "execution_count": 184,
   "metadata": {},
   "outputs": [
    {
     "data": {
      "text/plain": [
       "['1 pound skinless, boneless chicken breast halves - cut into 1 inch cubes',\n",
       " '1 tablespoon dark soy sauce',\n",
       " '1 tablespoon all-purpose flour',\n",
       " '2 tablespoons cooking oil',\n",
       " '2 tablespoons green curry paste',\n",
       " '2 green onions with tops, chopped',\n",
       " '3 cloves garlic, peeled and chopped',\n",
       " '1 teaspoon fresh ginger, peeled and finely chopped',\n",
       " '2 cups coconut milk',\n",
       " '1 tablespoon fish sauce',\n",
       " '1 tablespoon dark soy sauce',\n",
       " '2 tablespoons white sugar',\n",
       " '1/2 cup cilantro leaves, for garnish']"
      ]
     },
     "execution_count": 184,
     "metadata": {},
     "output_type": "execute_result"
    }
   ],
   "source": [
    "ingredients = get_ingredients()\n",
    "ingredients"
   ]
  },
  {
   "cell_type": "code",
   "execution_count": 172,
   "metadata": {},
   "outputs": [],
   "source": [
    "def _determine_quantity(item):\n",
    "    quantity = 0\n",
    "    for i, elem in enumerate(item.split()):\n",
    "        if elem[0] in string.digits:\n",
    "            try:\n",
    "                quantity += float(elem)\n",
    "            except:\n",
    "                numer, denom = elem.split('/')\n",
    "                quantity += float(numer) / float(denom)\n",
    "        else:\n",
    "            idx = i\n",
    "            break\n",
    "    remainder = ' '.join(item.split()[idx:])\n",
    "    return quantity, remainder"
   ]
  },
  {
   "cell_type": "code",
   "execution_count": 167,
   "metadata": {},
   "outputs": [
    {
     "data": {
      "text/plain": [
       "' ounces pancetta bacon'"
      ]
     },
     "execution_count": 167,
     "metadata": {},
     "output_type": "execute_result"
    }
   ],
   "source": [
    "_remove_descriptors(ingredients[1])"
   ]
  },
  {
   "cell_type": "code",
   "execution_count": 177,
   "metadata": {},
   "outputs": [],
   "source": [
    "def _parse_special(item, flag_words):\n",
    "    # Determine special word\n",
    "    for word in flag_words:\n",
    "        if word in item.split():\n",
    "            sp_word = ' ' + word + ' '\n",
    "            break\n",
    "    \n",
    "    # Parse item \n",
    "    count_and_size = item.split(sp_word)[0]\n",
    "    remainder = item.split(sp_word)[1]\n",
    "    count, rest = _determine_quantity(count_and_size)\n",
    "    size, unit = _determine_quantity(rest[1:-1])\n",
    "    quantity = count * size\n",
    "    return quantity, unit, remainder"
   ]
  },
  {
   "cell_type": "code",
   "execution_count": 189,
   "metadata": {},
   "outputs": [],
   "source": [
    "def _remove_descriptors(item, stopwords=['and'], endings=['ed','less','ly']):\n",
    "    \n",
    "    # Remove meat preparation instructions\n",
    "    if len(item.split(' - ')) > 1:\n",
    "        item = item.split(' - ')[0]\n",
    "    \n",
    "    # Remove punctuation and stopwords\n",
    "    words = []\n",
    "    for elem in item.split():\n",
    "        word = ''.join([letter for letter in elem.lower() if letter in string.ascii_lowercase])\n",
    "        if word not in stopwords:\n",
    "            words.append(word)\n",
    "    \n",
    "    # Remove adjectives and adverbs    \n",
    "    for ending in endings:\n",
    "        for word in words.copy():\n",
    "            try:\n",
    "                if word[-len(ending):] == ending:\n",
    "                    words.remove(word)\n",
    "            except:\n",
    "                continue\n",
    "    return ' '.join(words)"
   ]
  },
  {
   "cell_type": "code",
   "execution_count": 190,
   "metadata": {},
   "outputs": [],
   "source": [
    "def parse_ingredients(ingredients, units, flag_words=['can', 'cans', 'package', 'packages']):\n",
    "    '''\n",
    "    Parses a list of ingredients into a list of dictionaries with the following format: \n",
    "        {'quantity': (float),\n",
    "         'units': (str),\n",
    "         'ingredient': (str)}\n",
    "    Also takes argument 'units', a list of accepted units (e.g., ['cups', 'tablespoon']).\n",
    "    If an ingredident does not specify a unit in this list, the label 'each' will be applied.\n",
    "    '''\n",
    "    ing_list = []\n",
    "    for item in ingredients:\n",
    "        item_dict = {}\n",
    "        \n",
    "        # Check item for flag words (require special parsing treatment)\n",
    "        flag = False\n",
    "        for word in item.split():\n",
    "            if word in flag_words:\n",
    "                flag = True\n",
    "        \n",
    "        # Parse quantities and units        \n",
    "        if flag:\n",
    "            quantity, unit, remainder = _parse_special(item, flag_words)\n",
    "            item_dict['quantity'] = quantity\n",
    "            item_dict['units'] = unit if unit[-1] != 's' else unit[:-1]\n",
    "        else:\n",
    "            quantity, remainder = _determine_quantity(item) \n",
    "            item_dict['quantity'] = quantity\n",
    "            if remainder.split()[0] in units:\n",
    "                unit = remainder.split()[0]\n",
    "                item_dict['units'] = unit if unit[-1] != 's' else unit[:-1]\n",
    "                remainder = ' '.join(remainder.split()[1:])\n",
    "            else:\n",
    "                item_dict['units'] = 'each'\n",
    "        \n",
    "        # Remove preparation instructions from remaining text to isolate ingredient\n",
    "        item_dict['ingredient'] = _remove_descriptors(remainder)\n",
    "        \n",
    "        # Add item dictionary to list\n",
    "        ing_list.append(item_dict)\n",
    "    \n",
    "    return ing_list"
   ]
  },
  {
   "cell_type": "code",
   "execution_count": 157,
   "metadata": {},
   "outputs": [],
   "source": [
    "units = ['pound', 'pounds', 'cup', 'cups', 'tablespoon', 'tablespoons', 'teaspoon', 'teaspoons',\n",
    "         'clove', 'cloves', 'stalk', 'stalks', 'ounce', 'ounces', 'oz.']"
   ]
  },
  {
   "cell_type": "code",
   "execution_count": 191,
   "metadata": {},
   "outputs": [
    {
     "data": {
      "text/plain": [
       "[{'quantity': 1.0, 'units': 'pound', 'ingredient': 'chicken breast halves'},\n",
       " {'quantity': 1.0, 'units': 'tablespoon', 'ingredient': 'dark soy sauce'},\n",
       " {'quantity': 1.0, 'units': 'tablespoon', 'ingredient': 'allpurpose flour'},\n",
       " {'quantity': 2.0, 'units': 'tablespoon', 'ingredient': 'cooking oil'},\n",
       " {'quantity': 2.0, 'units': 'tablespoon', 'ingredient': 'green curry paste'},\n",
       " {'quantity': 2.0, 'units': 'each', 'ingredient': 'green onions with tops'},\n",
       " {'quantity': 3.0, 'units': 'clove', 'ingredient': 'garlic'},\n",
       " {'quantity': 1.0, 'units': 'teaspoon', 'ingredient': 'fresh ginger'},\n",
       " {'quantity': 2.0, 'units': 'cup', 'ingredient': 'coconut milk'},\n",
       " {'quantity': 1.0, 'units': 'tablespoon', 'ingredient': 'fish sauce'},\n",
       " {'quantity': 1.0, 'units': 'tablespoon', 'ingredient': 'dark soy sauce'},\n",
       " {'quantity': 2.0, 'units': 'tablespoon', 'ingredient': 'white sugar'},\n",
       " {'quantity': 0.5,\n",
       "  'units': 'cup',\n",
       "  'ingredient': 'cilantro leaves for garnish'}]"
      ]
     },
     "execution_count": 191,
     "metadata": {},
     "output_type": "execute_result"
    }
   ],
   "source": [
    "parse_ingredients(ingredients, units)"
   ]
  },
  {
   "cell_type": "code",
   "execution_count": 95,
   "metadata": {},
   "outputs": [],
   "source": [
    "def get_name():\n",
    "    sel = 'h1#recipe-main-content'\n",
    "    name = browser.find_element_by_css_selector(sel)\n",
    "    return name.text"
   ]
  },
  {
   "cell_type": "code",
   "execution_count": 98,
   "metadata": {},
   "outputs": [
    {
     "data": {
      "text/plain": [
       "'Thai Green Curry Chicken'"
      ]
     },
     "execution_count": 98,
     "metadata": {},
     "output_type": "execute_result"
    }
   ],
   "source": [
    "get_name()"
   ]
  },
  {
   "cell_type": "code",
   "execution_count": 93,
   "metadata": {},
   "outputs": [],
   "source": [
    "def get_rating():\n",
    "    sel = 'div.rating-stars'\n",
    "    rating = browser.find_element_by_css_selector(sel)\n",
    "    return float(rating.get_attribute('data-ratingstars'))"
   ]
  },
  {
   "cell_type": "code",
   "execution_count": 94,
   "metadata": {},
   "outputs": [
    {
     "data": {
      "text/plain": [
       "4.53484010696411"
      ]
     },
     "execution_count": 94,
     "metadata": {},
     "output_type": "execute_result"
    }
   ],
   "source": [
    "get_rating()"
   ]
  },
  {
   "cell_type": "code",
   "execution_count": 96,
   "metadata": {},
   "outputs": [],
   "source": [
    "def get_categories():\n",
    "    sel = 'ol.breadcrumbs li'\n",
    "    categories = browser.find_elements_by_css_selector(sel)\n",
    "    return [category.text for category in categories]"
   ]
  },
  {
   "cell_type": "code",
   "execution_count": 97,
   "metadata": {},
   "outputs": [
    {
     "data": {
      "text/plain": [
       "['Home', 'Recipes', 'World Cuisine', 'Asian', 'Thai']"
      ]
     },
     "execution_count": 97,
     "metadata": {},
     "output_type": "execute_result"
    }
   ],
   "source": [
    "get_categories()"
   ]
  },
  {
   "cell_type": "code",
   "execution_count": 100,
   "metadata": {},
   "outputs": [],
   "source": [
    "a = '1/2'"
   ]
  },
  {
   "cell_type": "code",
   "execution_count": 101,
   "metadata": {},
   "outputs": [],
   "source": [
    "x, y = a.split('/')"
   ]
  },
  {
   "cell_type": "code",
   "execution_count": 102,
   "metadata": {},
   "outputs": [
    {
     "data": {
      "text/plain": [
       "'1'"
      ]
     },
     "execution_count": 102,
     "metadata": {},
     "output_type": "execute_result"
    }
   ],
   "source": [
    "x"
   ]
  },
  {
   "cell_type": "code",
   "execution_count": 159,
   "metadata": {},
   "outputs": [],
   "source": [
    "a = [1,4,5]"
   ]
  },
  {
   "cell_type": "code",
   "execution_count": 160,
   "metadata": {},
   "outputs": [],
   "source": [
    "a.remove(4)"
   ]
  },
  {
   "cell_type": "code",
   "execution_count": 161,
   "metadata": {},
   "outputs": [
    {
     "data": {
      "text/plain": [
       "[1, 5]"
      ]
     },
     "execution_count": 161,
     "metadata": {},
     "output_type": "execute_result"
    }
   ],
   "source": [
    "a"
   ]
  },
  {
   "cell_type": "code",
   "execution_count": null,
   "metadata": {},
   "outputs": [],
   "source": []
  }
 ],
 "metadata": {
  "kernelspec": {
   "display_name": "Python 3",
   "language": "python",
   "name": "python3"
  },
  "language_info": {
   "codemirror_mode": {
    "name": "ipython",
    "version": 3
   },
   "file_extension": ".py",
   "mimetype": "text/x-python",
   "name": "python",
   "nbconvert_exporter": "python",
   "pygments_lexer": "ipython3",
   "version": "3.6.8"
  }
 },
 "nbformat": 4,
 "nbformat_minor": 2
}
