{
 "cells": [
  {
   "cell_type": "code",
   "execution_count": 86,
   "metadata": {},
   "outputs": [],
   "source": [
    "import time\n",
    "import random\n",
    "import requests\n",
    "import selenium\n",
    "from string import ascii_lowercase\n",
    "from selenium.webdriver import Firefox, Chrome\n",
    "from bs4 import BeautifulSoup\n",
    "import pandas as pd\n",
    "import string\n",
    "import numpy as np\n",
    "from selenium.webdriver.common.keys import Keys"
   ]
  },
  {
   "cell_type": "code",
   "execution_count": 182,
   "metadata": {},
   "outputs": [],
   "source": [
    "browser = Chrome()"
   ]
  },
  {
   "cell_type": "code",
   "execution_count": 183,
   "metadata": {},
   "outputs": [],
   "source": [
    "url='https://www.allrecipes.com/recipe/141833/thai-green-curry-chicken/'\n",
    "browser.get(url)"
   ]
  },
  {
   "cell_type": "code",
   "execution_count": 84,
   "metadata": {},
   "outputs": [],
   "source": [
    "time.sleep(2)"
   ]
  },
  {
   "cell_type": "code",
   "execution_count": 90,
   "metadata": {},
   "outputs": [],
   "source": [
    "def get_ingredients():\n",
    "    all_items = []\n",
    "    count = 1\n",
    "    while True:\n",
    "        try:\n",
    "            sel = 'ul#lst_ingredients_{0}'.format(count)\n",
    "            ing_list = browser.find_element_by_css_selector(sel)\n",
    "            all_items += ing_list.text.split('\\n')\n",
    "            count += 1\n",
    "        except:\n",
    "            break\n",
    "    ingredients = []\n",
    "    for item in all_items:\n",
    "        if item[0] in string.digits:\n",
    "            ingredients.append(item)\n",
    "    return ingredients"
   ]
  },
  {
   "cell_type": "code",
   "execution_count": 240,
   "metadata": {},
   "outputs": [
    {
     "data": {
      "text/plain": [
       "['2 quarts water',\n",
       " '8 skinless, boneless chicken breast halves',\n",
       " '1/2 teaspoon salt',\n",
       " '1 teaspoon ground black pepper',\n",
       " '1 teaspoon garlic powder',\n",
       " '2 tablespoons dried parsley',\n",
       " '1 tablespoon onion powder',\n",
       " '5 cubes chicken bouillon',\n",
       " '3 tablespoons olive oil',\n",
       " '1 onion, chopped',\n",
       " '3 cloves garlic, chopped',\n",
       " '1 (16 ounce) jar chunky salsa',\n",
       " '2 (14.5 ounce) cans peeled and diced tomatoes',\n",
       " '1 (14.5 ounce) can whole peeled tomatoes',\n",
       " '1 (10.75 ounce) can condensed tomato soup',\n",
       " '3 tablespoons chili powder',\n",
       " '1 (15 ounce) can whole kernel corn, drained',\n",
       " '2 (16 ounce) cans chili beans, undrained',\n",
       " '1 (8 ounce) container sour cream']"
      ]
     },
     "execution_count": 240,
     "metadata": {},
     "output_type": "execute_result"
    }
   ],
   "source": [
    "ingredients = get_ingredients()\n",
    "ingredients"
   ]
  },
  {
   "cell_type": "code",
   "execution_count": 261,
   "metadata": {},
   "outputs": [],
   "source": [
    "def _determine_quantity(item):\n",
    "    quantity = 0\n",
    "    for i, elem in enumerate(item.split()):\n",
    "        if elem[0] in string.digits:\n",
    "            try:\n",
    "                quantity += float(elem)\n",
    "            except:\n",
    "                numer, denom = elem.split('/')\n",
    "                quantity += float(numer) / float(denom)\n",
    "        else:\n",
    "            idx = i\n",
    "            break\n",
    "    remainder = ' '.join(item.split()[idx:])\n",
    "    return quantity, remainder"
   ]
  },
  {
   "cell_type": "code",
   "execution_count": 262,
   "metadata": {},
   "outputs": [],
   "source": [
    "def _parse_special(item, flag_words):\n",
    "    # Determine special word\n",
    "    sp_word = ')'\n",
    "    for word in flag_words:\n",
    "        if word in item.split():\n",
    "            sp_word = ' ' + word + ' '\n",
    "            break\n",
    "    \n",
    "    # Parse item \n",
    "    count_and_size = item.split(sp_word)[0]\n",
    "    remainder = item.split(sp_word)[1]\n",
    "    count, rest = _determine_quantity(count_and_size)\n",
    "    if sp_word == ')':\n",
    "        size, unit = _determine_quantity(rest[1:])\n",
    "    else:\n",
    "        size, unit = _determine_quantity(rest[1:-1])\n",
    "    quantity = count * size\n",
    "    return quantity, unit, remainder"
   ]
  },
  {
   "cell_type": "code",
   "execution_count": 263,
   "metadata": {},
   "outputs": [],
   "source": [
    "def _remove_descriptors(item,\n",
    "                        phrases=phrases,\n",
    "                        stopwords=stopwords,\n",
    "                        suffixes=suffixes):\n",
    "    # Remove common/unnecessary ending phrases\n",
    "    for phrase in phrases:\n",
    "        if len(item.split(phrase)) > 1:\n",
    "            item = item.split(phrase)[0]\n",
    "    # Remove punctuation and stopwords\n",
    "    words = []\n",
    "    for elem in item.split():\n",
    "        word = ''.join([letter for letter in elem.lower() if letter in string.ascii_lowercase])\n",
    "        if word not in stopwords:\n",
    "            words.append(word)\n",
    "    # Remove adjectives and adverbs    \n",
    "    for suffix in suffixes:\n",
    "        for word in words.copy():\n",
    "            try:\n",
    "                if word[-len(suffix):] == suffix:\n",
    "                    words.remove(word)\n",
    "            except:\n",
    "                continue\n",
    "    return ' '.join(words)"
   ]
  },
  {
   "cell_type": "code",
   "execution_count": 264,
   "metadata": {},
   "outputs": [],
   "source": [
    "def parse_ingredients(ingredients, units=units, flag_words=flag_words):\n",
    "    '''\n",
    "    Parses a list of ingredients into a list of dictionaries with the following format: \n",
    "        {'quantity': (float),\n",
    "         'units': (str),\n",
    "         'ingredient': (str)}\n",
    "    Also takes argument 'units', a list of accepted units (e.g., ['cups', 'tablespoon']).\n",
    "    If an ingredident does not specify a unit in this list, the label 'each' will be applied.\n",
    "    '''\n",
    "    ing_list = []\n",
    "    for item in ingredients:\n",
    "        item_dict = {}\n",
    "        # Check item for flag words (require special parsing treatment)\n",
    "        flag = False\n",
    "        for word in item.split():\n",
    "            if word in flag_words:\n",
    "                flag = True\n",
    "        if item.split()[1][0] == '(':\n",
    "            flag = True  \n",
    "        # Parse quantities and units        \n",
    "        if flag:\n",
    "            quantity, unit, remainder = _parse_special(item, flag_words)\n",
    "            item_dict['quantity'] = quantity\n",
    "            item_dict['units'] = unit if unit[-1] != 's' else unit[:-1]\n",
    "        else:\n",
    "            quantity, remainder = _determine_quantity(item) \n",
    "            item_dict['quantity'] = quantity\n",
    "            if remainder.split()[0] in units:\n",
    "                unit = remainder.split()[0]\n",
    "                item_dict['units'] = unit if unit[-1] != 's' else unit[:-1]\n",
    "                remainder = ' '.join(remainder.split()[1:])\n",
    "            else:\n",
    "                item_dict['units'] = 'each'\n",
    "        # Remove preparation instructions from remaining text to isolate ingredient\n",
    "        item_dict['ingredient'] = _remove_descriptors(remainder)\n",
    "        # Add item dictionary to list\n",
    "        ing_list.append(item_dict)\n",
    "    return ing_list"
   ]
  },
  {
   "cell_type": "code",
   "execution_count": 260,
   "metadata": {},
   "outputs": [],
   "source": [
    "units = ['pound', 'pounds', 'cup', 'cups', 'tablespoon', 'tablespoons', 'teaspoon', 'teaspoons',\n",
    "         'clove', 'cloves', 'stalk', 'stalks', 'ounce', 'ounces', 'oz.', 'cubes', 'pint', 'pints',\n",
    "         'quart', 'quarts']\n",
    "phrases = [' - ',', or', ', for garnish', ', cut']\n",
    "stopwords = ['and', 'into', 'very', 'hot', 'cold', 'fresh', 'large', 'medium', 'small', 'halves']\n",
    "suffixes = ['ed','less','ly']\n",
    "flag_words = ['can', 'cans', 'package', 'packages', 'jar', 'jars', 'container', 'containers']"
   ]
  },
  {
   "cell_type": "code",
   "execution_count": 265,
   "metadata": {},
   "outputs": [
    {
     "data": {
      "text/html": [
       "<div>\n",
       "<style scoped>\n",
       "    .dataframe tbody tr th:only-of-type {\n",
       "        vertical-align: middle;\n",
       "    }\n",
       "\n",
       "    .dataframe tbody tr th {\n",
       "        vertical-align: top;\n",
       "    }\n",
       "\n",
       "    .dataframe thead th {\n",
       "        text-align: right;\n",
       "    }\n",
       "</style>\n",
       "<table border=\"1\" class=\"dataframe\">\n",
       "  <thead>\n",
       "    <tr style=\"text-align: right;\">\n",
       "      <th></th>\n",
       "      <th>ingredient</th>\n",
       "      <th>quantity</th>\n",
       "      <th>units</th>\n",
       "    </tr>\n",
       "  </thead>\n",
       "  <tbody>\n",
       "    <tr>\n",
       "      <th>0</th>\n",
       "      <td>water</td>\n",
       "      <td>2.00</td>\n",
       "      <td>quart</td>\n",
       "    </tr>\n",
       "    <tr>\n",
       "      <th>1</th>\n",
       "      <td>chicken breast</td>\n",
       "      <td>8.00</td>\n",
       "      <td>each</td>\n",
       "    </tr>\n",
       "    <tr>\n",
       "      <th>2</th>\n",
       "      <td>salt</td>\n",
       "      <td>0.50</td>\n",
       "      <td>teaspoon</td>\n",
       "    </tr>\n",
       "    <tr>\n",
       "      <th>3</th>\n",
       "      <td>ground black pepper</td>\n",
       "      <td>1.00</td>\n",
       "      <td>teaspoon</td>\n",
       "    </tr>\n",
       "    <tr>\n",
       "      <th>4</th>\n",
       "      <td>garlic powder</td>\n",
       "      <td>1.00</td>\n",
       "      <td>teaspoon</td>\n",
       "    </tr>\n",
       "    <tr>\n",
       "      <th>5</th>\n",
       "      <td>parsley</td>\n",
       "      <td>2.00</td>\n",
       "      <td>tablespoon</td>\n",
       "    </tr>\n",
       "    <tr>\n",
       "      <th>6</th>\n",
       "      <td>onion powder</td>\n",
       "      <td>1.00</td>\n",
       "      <td>tablespoon</td>\n",
       "    </tr>\n",
       "    <tr>\n",
       "      <th>7</th>\n",
       "      <td>chicken bouillon</td>\n",
       "      <td>5.00</td>\n",
       "      <td>cube</td>\n",
       "    </tr>\n",
       "    <tr>\n",
       "      <th>8</th>\n",
       "      <td>olive oil</td>\n",
       "      <td>3.00</td>\n",
       "      <td>tablespoon</td>\n",
       "    </tr>\n",
       "    <tr>\n",
       "      <th>9</th>\n",
       "      <td>onion</td>\n",
       "      <td>1.00</td>\n",
       "      <td>each</td>\n",
       "    </tr>\n",
       "    <tr>\n",
       "      <th>10</th>\n",
       "      <td>garlic</td>\n",
       "      <td>3.00</td>\n",
       "      <td>clove</td>\n",
       "    </tr>\n",
       "    <tr>\n",
       "      <th>11</th>\n",
       "      <td>chunky salsa</td>\n",
       "      <td>16.00</td>\n",
       "      <td>ounce</td>\n",
       "    </tr>\n",
       "    <tr>\n",
       "      <th>12</th>\n",
       "      <td>tomatoes</td>\n",
       "      <td>29.00</td>\n",
       "      <td>ounce</td>\n",
       "    </tr>\n",
       "    <tr>\n",
       "      <th>13</th>\n",
       "      <td>whole tomatoes</td>\n",
       "      <td>14.50</td>\n",
       "      <td>ounce</td>\n",
       "    </tr>\n",
       "    <tr>\n",
       "      <th>14</th>\n",
       "      <td>tomato soup</td>\n",
       "      <td>10.75</td>\n",
       "      <td>ounce</td>\n",
       "    </tr>\n",
       "    <tr>\n",
       "      <th>15</th>\n",
       "      <td>chili powder</td>\n",
       "      <td>3.00</td>\n",
       "      <td>tablespoon</td>\n",
       "    </tr>\n",
       "    <tr>\n",
       "      <th>16</th>\n",
       "      <td>whole kernel corn</td>\n",
       "      <td>15.00</td>\n",
       "      <td>ounce</td>\n",
       "    </tr>\n",
       "    <tr>\n",
       "      <th>17</th>\n",
       "      <td>chili beans</td>\n",
       "      <td>32.00</td>\n",
       "      <td>ounce</td>\n",
       "    </tr>\n",
       "    <tr>\n",
       "      <th>18</th>\n",
       "      <td>sour cream</td>\n",
       "      <td>8.00</td>\n",
       "      <td>ounce</td>\n",
       "    </tr>\n",
       "  </tbody>\n",
       "</table>\n",
       "</div>"
      ],
      "text/plain": [
       "             ingredient  quantity       units\n",
       "0                 water      2.00       quart\n",
       "1        chicken breast      8.00        each\n",
       "2                  salt      0.50    teaspoon\n",
       "3   ground black pepper      1.00    teaspoon\n",
       "4         garlic powder      1.00    teaspoon\n",
       "5               parsley      2.00  tablespoon\n",
       "6          onion powder      1.00  tablespoon\n",
       "7      chicken bouillon      5.00        cube\n",
       "8             olive oil      3.00  tablespoon\n",
       "9                 onion      1.00        each\n",
       "10               garlic      3.00       clove\n",
       "11         chunky salsa     16.00       ounce\n",
       "12             tomatoes     29.00       ounce\n",
       "13       whole tomatoes     14.50       ounce\n",
       "14          tomato soup     10.75       ounce\n",
       "15         chili powder      3.00  tablespoon\n",
       "16    whole kernel corn     15.00       ounce\n",
       "17          chili beans     32.00       ounce\n",
       "18           sour cream      8.00       ounce"
      ]
     },
     "execution_count": 265,
     "metadata": {},
     "output_type": "execute_result"
    }
   ],
   "source": [
    "pd.DataFrame(parse_ingredients(ingredients))"
   ]
  },
  {
   "cell_type": "code",
   "execution_count": null,
   "metadata": {},
   "outputs": [],
   "source": []
  },
  {
   "cell_type": "code",
   "execution_count": 273,
   "metadata": {},
   "outputs": [],
   "source": [
    "def _get_name(browser):\n",
    "    sel = 'h1#recipe-main-content'\n",
    "    name = browser.find_element_by_css_selector(sel)\n",
    "    return name.text"
   ]
  },
  {
   "cell_type": "code",
   "execution_count": 275,
   "metadata": {},
   "outputs": [
    {
     "data": {
      "text/plain": [
       "\"Catherine's Spicy Chicken Soup\""
      ]
     },
     "execution_count": 275,
     "metadata": {},
     "output_type": "execute_result"
    }
   ],
   "source": [
    "_get_name(browser)"
   ]
  },
  {
   "cell_type": "code",
   "execution_count": 285,
   "metadata": {},
   "outputs": [],
   "source": [
    "def _get_rating_info(browser):\n",
    "    rating_info = {}\n",
    "    sel = 'div.rating-stars'\n",
    "    rating = browser.find_element_by_css_selector(sel)\n",
    "    rating_info['rating'] = float(rating.get_attribute('data-ratingstars'))\n",
    "    sel = 'div.summary-stats-box a.read--reviews'\n",
    "    reviews = browser.find_element_by_css_selector(sel).text.split()\n",
    "    try:\n",
    "        n_made = int(reviews[0])\n",
    "    except:\n",
    "        n_made = int(reviews[0][:-1]) * 1000\n",
    "    try:\n",
    "        n_reviews = int(reviews[4])\n",
    "    except:\n",
    "        n_reviews = int(reviews[4][:-1]) * 1000    \n",
    "    rating_info['made_by'] = n_made\n",
    "    rating_info['reviews'] = n_reviews\n",
    "    return rating_info"
   ]
  },
  {
   "cell_type": "code",
   "execution_count": 284,
   "metadata": {},
   "outputs": [
    {
     "data": {
      "text/plain": [
       "['2k', 'made', 'it', '|', '1k', 'reviews']"
      ]
     },
     "execution_count": 284,
     "metadata": {},
     "output_type": "execute_result"
    }
   ],
   "source": [
    "sel = 'div.summary-stats-box a.read--reviews'\n",
    "reviews = browser.find_element_by_css_selector(sel)\n",
    "reviews.text.split()"
   ]
  },
  {
   "cell_type": "code",
   "execution_count": 286,
   "metadata": {},
   "outputs": [
    {
     "data": {
      "text/plain": [
       "{'rating': 4.74810457229614, 'made_by': 2000, 'reviews': 1000}"
      ]
     },
     "execution_count": 286,
     "metadata": {},
     "output_type": "execute_result"
    }
   ],
   "source": [
    "_get_rating_info(browser)"
   ]
  },
  {
   "cell_type": "code",
   "execution_count": 289,
   "metadata": {},
   "outputs": [],
   "source": [
    "def _get_categories(browser):\n",
    "    sel = 'ol.breadcrumbs li'\n",
    "    categories = browser.find_elements_by_css_selector(sel)\n",
    "    cat_list = [category.text for category in categories]\n",
    "    cat_dict = {}\n",
    "    cat_dict['cat_1'] = cat_list[2]\n",
    "    cat_dict['cat_2'] = cat_list[3]\n",
    "    cat_dict['cat_3'] = cat_list[4]\n",
    "    return cat_dict"
   ]
  },
  {
   "cell_type": "code",
   "execution_count": 290,
   "metadata": {},
   "outputs": [
    {
     "data": {
      "text/plain": [
       "{'cat_1': 'Soups, Stews and Chili', 'cat_2': 'Soup', 'cat_3': 'Chicken Soup'}"
      ]
     },
     "execution_count": 290,
     "metadata": {},
     "output_type": "execute_result"
    }
   ],
   "source": [
    "_get_categories(browser)"
   ]
  },
  {
   "cell_type": "code",
   "execution_count": 280,
   "metadata": {},
   "outputs": [],
   "source": [
    "def _get_submitter_info(browser):\n",
    "    submitter_info = {}\n",
    "    sel = 'div.summary-background div.submitter'\n",
    "    submitter = browser.find_element_by_css_selector(sel)\n",
    "    href = (submitter.find_element_by_css_selector('div.submitter__img a')\n",
    "                     .get_attribute('href'))\n",
    "    id_num = href.split('/')[-2]\n",
    "    followers = submitter.find_element_by_css_selector('div.submitter__img span').text\n",
    "    name = submitter.find_element_by_css_selector('p span.submitter__name').text\n",
    "    submitter_info['href'] = href\n",
    "    submitter_info['id'] = int(id_num)\n",
    "    submitter_info['name'] = name\n",
    "    submitter_info['followers'] = int(followers)\n",
    "    return submitter_info"
   ]
  },
  {
   "cell_type": "code",
   "execution_count": 281,
   "metadata": {},
   "outputs": [
    {
     "data": {
      "text/plain": [
       "{'href': 'https://www.allrecipes.com/cook/177251/',\n",
       " 'id': 177251,\n",
       " 'name': 'AUNTTAF',\n",
       " 'followers': 14}"
      ]
     },
     "execution_count": 281,
     "metadata": {},
     "output_type": "execute_result"
    }
   ],
   "source": [
    "_get_submitter_info(browser)"
   ]
  },
  {
   "cell_type": "code",
   "execution_count": 291,
   "metadata": {},
   "outputs": [],
   "source": [
    "def get_recipe_info(browser):\n",
    "    recipe_info = {}\n",
    "    recipe_info['name'] = _get_name(browser)\n",
    "    recipe_info['category'] = _get_categories(browser)\n",
    "    recipe_info['rating_info'] = _get_rating_info(browser)\n",
    "    recipe_info['submitter_info'] = _get_submitter_info(browser)\n",
    "    return recipe_info"
   ]
  },
  {
   "cell_type": "code",
   "execution_count": 292,
   "metadata": {},
   "outputs": [
    {
     "data": {
      "text/plain": [
       "{'name': \"Catherine's Spicy Chicken Soup\",\n",
       " 'category': {'cat_1': 'Soups, Stews and Chili',\n",
       "  'cat_2': 'Soup',\n",
       "  'cat_3': 'Chicken Soup'},\n",
       " 'rating_info': {'rating': 4.74810457229614, 'made_by': 2000, 'reviews': 1000},\n",
       " 'submitter_info': {'href': 'https://www.allrecipes.com/cook/177251/',\n",
       "  'id': 177251,\n",
       "  'name': 'AUNTTAF',\n",
       "  'followers': 14}}"
      ]
     },
     "execution_count": 292,
     "metadata": {},
     "output_type": "execute_result"
    }
   ],
   "source": [
    "get_recipe_info(browser)"
   ]
  },
  {
   "cell_type": "code",
   "execution_count": null,
   "metadata": {},
   "outputs": [],
   "source": []
  }
 ],
 "metadata": {
  "kernelspec": {
   "display_name": "Python 3",
   "language": "python",
   "name": "python3"
  },
  "language_info": {
   "codemirror_mode": {
    "name": "ipython",
    "version": 3
   },
   "file_extension": ".py",
   "mimetype": "text/x-python",
   "name": "python",
   "nbconvert_exporter": "python",
   "pygments_lexer": "ipython3",
   "version": "3.6.8"
  }
 },
 "nbformat": 4,
 "nbformat_minor": 2
}
