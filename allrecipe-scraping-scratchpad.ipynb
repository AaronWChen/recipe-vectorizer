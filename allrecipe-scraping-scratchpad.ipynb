{
 "cells": [
  {
   "cell_type": "code",
   "execution_count": 131,
   "metadata": {},
   "outputs": [],
   "source": [
    "import time\n",
    "import random\n",
    "import requests\n",
    "import selenium\n",
    "from string import ascii_lowercase\n",
    "from selenium.webdriver import Firefox, Chrome\n",
    "from bs4 import BeautifulSoup\n",
    "import pandas as pd\n",
    "import string\n",
    "import numpy as np\n",
    "from selenium.webdriver.common.keys import Keys"
   ]
  },
  {
   "cell_type": "code",
   "execution_count": 104,
   "metadata": {},
   "outputs": [],
   "source": [
    "browser = Chrome()"
   ]
  },
  {
   "cell_type": "code",
   "execution_count": 21,
   "metadata": {},
   "outputs": [],
   "source": [
    "url='https://www.allrecipes.com/recipe/141833/thai-green-curry-chicken/'\n",
    "browser.get(url)"
   ]
  },
  {
   "cell_type": "code",
   "execution_count": 84,
   "metadata": {},
   "outputs": [],
   "source": [
    "time.sleep(2)"
   ]
  },
  {
   "cell_type": "code",
   "execution_count": 9,
   "metadata": {},
   "outputs": [],
   "source": [
    "sel = 'ul'\n",
    "ing_lists = browser.find_elements_by_css_selector(sel)"
   ]
  },
  {
   "cell_type": "code",
   "execution_count": 11,
   "metadata": {},
   "outputs": [],
   "source": [
    "sel = 'ul#lst_ingredients_1'\n",
    "ing_list_1 = browser.find_element_by_css_selector(sel)"
   ]
  },
  {
   "cell_type": "code",
   "execution_count": 12,
   "metadata": {},
   "outputs": [
    {
     "data": {
      "text/plain": [
       "['1 pound skinless, boneless chicken breast halves - cut into 1 inch cubes',\n",
       " '1 tablespoon dark soy sauce',\n",
       " '1 tablespoon all-purpose flour',\n",
       " 'Great Value All Purpose Flour, 32 oz',\n",
       " 'In Stores Only',\n",
       " 'SEE EVERYDAY LOW PRICE',\n",
       " 'ADVERTISEMENT',\n",
       " '2 tablespoons cooking oil',\n",
       " '2 tablespoons green curry paste',\n",
       " '2 green onions with tops, chopped',\n",
       " '3 cloves garlic, peeled and chopped']"
      ]
     },
     "execution_count": 12,
     "metadata": {},
     "output_type": "execute_result"
    }
   ],
   "source": [
    "ing_list_1.text.split('\\n')"
   ]
  },
  {
   "cell_type": "code",
   "execution_count": 10,
   "metadata": {},
   "outputs": [
    {
     "ename": "AttributeError",
     "evalue": "'list' object has no attribute 'text'",
     "output_type": "error",
     "traceback": [
      "\u001b[0;31m---------------------------------------------------------------------------\u001b[0m",
      "\u001b[0;31mAttributeError\u001b[0m                            Traceback (most recent call last)",
      "\u001b[0;32m<ipython-input-10-a1a6cb486d56>\u001b[0m in \u001b[0;36m<module>\u001b[0;34m\u001b[0m\n\u001b[0;32m----> 1\u001b[0;31m \u001b[0ming_lists\u001b[0m\u001b[0;34m.\u001b[0m\u001b[0mtext\u001b[0m\u001b[0;34m.\u001b[0m\u001b[0msplit\u001b[0m\u001b[0;34m(\u001b[0m\u001b[0;34m'\\n'\u001b[0m\u001b[0;34m)\u001b[0m\u001b[0;34m\u001b[0m\u001b[0;34m\u001b[0m\u001b[0m\n\u001b[0m",
      "\u001b[0;31mAttributeError\u001b[0m: 'list' object has no attribute 'text'"
     ]
    }
   ],
   "source": [
    "ing_lists.text.split('\\n')"
   ]
  },
  {
   "cell_type": "code",
   "execution_count": 13,
   "metadata": {},
   "outputs": [],
   "source": [
    "sel = 'ul#lst_ingredients_2'\n",
    "ing_list_2 = browser.find_element_by_css_selector(sel)"
   ]
  },
  {
   "cell_type": "code",
   "execution_count": 14,
   "metadata": {},
   "outputs": [
    {
     "data": {
      "text/plain": [
       "['']"
      ]
     },
     "execution_count": 14,
     "metadata": {},
     "output_type": "execute_result"
    }
   ],
   "source": [
    "ing_list_2.text.split('\\n')"
   ]
  },
  {
   "cell_type": "code",
   "execution_count": 15,
   "metadata": {},
   "outputs": [],
   "source": [
    "ing_lists = ing_list_1.text.split('\\n') + ing_list_2.text.split('\\n')"
   ]
  },
  {
   "cell_type": "code",
   "execution_count": 16,
   "metadata": {},
   "outputs": [
    {
     "ename": "IndexError",
     "evalue": "string index out of range",
     "output_type": "error",
     "traceback": [
      "\u001b[0;31m---------------------------------------------------------------------------\u001b[0m",
      "\u001b[0;31mIndexError\u001b[0m                                Traceback (most recent call last)",
      "\u001b[0;32m<ipython-input-16-fdea527786b8>\u001b[0m in \u001b[0;36m<module>\u001b[0;34m\u001b[0m\n\u001b[1;32m      1\u001b[0m \u001b[0mingredients\u001b[0m \u001b[0;34m=\u001b[0m \u001b[0;34m[\u001b[0m\u001b[0;34m]\u001b[0m\u001b[0;34m\u001b[0m\u001b[0;34m\u001b[0m\u001b[0m\n\u001b[1;32m      2\u001b[0m \u001b[0;32mfor\u001b[0m \u001b[0mitem\u001b[0m \u001b[0;32min\u001b[0m \u001b[0ming_lists\u001b[0m\u001b[0;34m:\u001b[0m\u001b[0;34m\u001b[0m\u001b[0;34m\u001b[0m\u001b[0m\n\u001b[0;32m----> 3\u001b[0;31m     \u001b[0;32mif\u001b[0m \u001b[0mitem\u001b[0m\u001b[0;34m[\u001b[0m\u001b[0;36m0\u001b[0m\u001b[0;34m]\u001b[0m \u001b[0;32min\u001b[0m \u001b[0mstring\u001b[0m\u001b[0;34m.\u001b[0m\u001b[0mdigits\u001b[0m\u001b[0;34m:\u001b[0m\u001b[0;34m\u001b[0m\u001b[0;34m\u001b[0m\u001b[0m\n\u001b[0m\u001b[1;32m      4\u001b[0m         \u001b[0mingredients\u001b[0m\u001b[0;34m.\u001b[0m\u001b[0mappend\u001b[0m\u001b[0;34m(\u001b[0m\u001b[0mitem\u001b[0m\u001b[0;34m)\u001b[0m\u001b[0;34m\u001b[0m\u001b[0;34m\u001b[0m\u001b[0m\n",
      "\u001b[0;31mIndexError\u001b[0m: string index out of range"
     ]
    }
   ],
   "source": [
    "ingredients = []\n",
    "for item in ing_lists:\n",
    "    if item[0] in string.digits:\n",
    "        ingredients.append(item)"
   ]
  },
  {
   "cell_type": "code",
   "execution_count": 17,
   "metadata": {},
   "outputs": [
    {
     "data": {
      "text/plain": [
       "[]"
      ]
     },
     "execution_count": 17,
     "metadata": {},
     "output_type": "execute_result"
    }
   ],
   "source": [
    "ingredients"
   ]
  },
  {
   "cell_type": "code",
   "execution_count": 49,
   "metadata": {},
   "outputs": [],
   "source": [
    "quantities = []\n",
    "units = []\n",
    "ingredient = []\n",
    "for item in ingredients:\n",
    "    quantities.append(item.split()[0])\n",
    "    units.append(item.split()[1])\n",
    "    ingredient.append(' '.join(item.split()[2:]))"
   ]
  },
  {
   "cell_type": "code",
   "execution_count": 1,
   "metadata": {},
   "outputs": [
    {
     "ename": "NameError",
     "evalue": "name 'units' is not defined",
     "output_type": "error",
     "traceback": [
      "\u001b[0;31m---------------------------------------------------------------------------\u001b[0m",
      "\u001b[0;31mNameError\u001b[0m                                 Traceback (most recent call last)",
      "\u001b[0;32m<ipython-input-1-1b4ada50d449>\u001b[0m in \u001b[0;36m<module>\u001b[0;34m\u001b[0m\n\u001b[0;32m----> 1\u001b[0;31m \u001b[0munits\u001b[0m\u001b[0;34m\u001b[0m\u001b[0;34m\u001b[0m\u001b[0m\n\u001b[0m",
      "\u001b[0;31mNameError\u001b[0m: name 'units' is not defined"
     ]
    }
   ],
   "source": [
    "units"
   ]
  },
  {
   "cell_type": "code",
   "execution_count": 22,
   "metadata": {},
   "outputs": [],
   "source": [
    "def get_ingredients():\n",
    "    all_items = []\n",
    "    count = 1\n",
    "    while True:\n",
    "        try:\n",
    "            sel = 'ul#lst_ingredients_{0}'.format(count)\n",
    "            ing_list = browser.find_element_by_css_selector(sel)\n",
    "            all_items += ing_list.text.split('\\n')\n",
    "            count += 1\n",
    "        except:\n",
    "            break\n",
    "    ingredients = []\n",
    "    for item in all_items:\n",
    "        if item[0] in string.digits:\n",
    "            ingredients.append(item)\n",
    "    return ingredients"
   ]
  },
  {
   "cell_type": "code",
   "execution_count": 23,
   "metadata": {},
   "outputs": [],
   "source": [
    "ing = get_ingredients()"
   ]
  },
  {
   "cell_type": "code",
   "execution_count": 24,
   "metadata": {},
   "outputs": [
    {
     "data": {
      "text/plain": [
       "['1 pound skinless, boneless chicken breast halves - cut into 1 inch cubes',\n",
       " '1 tablespoon dark soy sauce',\n",
       " '1 tablespoon all-purpose flour',\n",
       " '2 tablespoons cooking oil',\n",
       " '2 tablespoons green curry paste',\n",
       " '2 green onions with tops, chopped',\n",
       " '3 cloves garlic, peeled and chopped',\n",
       " '1 teaspoon fresh ginger, peeled and finely chopped',\n",
       " '2 cups coconut milk',\n",
       " '1 tablespoon fish sauce',\n",
       " '1 tablespoon dark soy sauce',\n",
       " '2 tablespoons white sugar',\n",
       " '1/2 cup cilantro leaves, for garnish']"
      ]
     },
     "execution_count": 24,
     "metadata": {},
     "output_type": "execute_result"
    }
   ],
   "source": [
    "ing"
   ]
  },
  {
   "cell_type": "code",
   "execution_count": 90,
   "metadata": {},
   "outputs": [],
   "source": [
    "url='https://www.allrecipes.com/recipe/56094/thai-chicken-curry-in-coconut-milk'\n",
    "browser.get(url)"
   ]
  },
  {
   "cell_type": "code",
   "execution_count": 91,
   "metadata": {},
   "outputs": [
    {
     "data": {
      "text/plain": [
       "['1 tablespoon vegetable oil',\n",
       " '1 teaspoon curry paste',\n",
       " '1 1/4 pounds skinless, boneless chicken breast meat - cut into strips',\n",
       " '1 onion, coarsely chopped',\n",
       " '1 red bell pepper, cut into strips',\n",
       " '1 tablespoon grated lemon zest',\n",
       " '1 cup light coconut milk',\n",
       " '1 tablespoon fish sauce',\n",
       " '1 tablespoon fresh lemon juice',\n",
       " '1/3 cup chopped fresh cilantro']"
      ]
     },
     "execution_count": 91,
     "metadata": {},
     "output_type": "execute_result"
    }
   ],
   "source": [
    "find_ingredients()"
   ]
  },
  {
   "cell_type": "code",
   "execution_count": 92,
   "metadata": {},
   "outputs": [],
   "source": [
    "url='https://www.allrecipes.com/recipe/24789/gumbo-style-chicken-creole'\n",
    "browser.get(url)"
   ]
  },
  {
   "cell_type": "code",
   "execution_count": 93,
   "metadata": {},
   "outputs": [
    {
     "data": {
      "text/plain": [
       "['1/4 cup vegetable oil',\n",
       " '1/4 cup all-purpose flour',\n",
       " '1 green bell pepper, chopped',\n",
       " '1 medium onion, chopped',\n",
       " '2 cups cooked chicken, chopped',\n",
       " '1 (14.5 ounce) can diced tomatoes with green chile peppers, with liquid',\n",
       " '1 (4.5 ounce) can sliced mushrooms, drained',\n",
       " '2 tablespoons chopped fresh parsley',\n",
       " '2 teaspoons Worcestershire sauce',\n",
       " '3 cloves garlic, minced',\n",
       " '1 teaspoon soy sauce',\n",
       " '1 teaspoon white sugar',\n",
       " '1/2 teaspoon salt',\n",
       " '1/2 teaspoon ground black pepper',\n",
       " '3 dashes hot sauce, or to taste',\n",
       " '1/2 cup chicken broth, or as needed (optional)']"
      ]
     },
     "execution_count": 93,
     "metadata": {},
     "output_type": "execute_result"
    }
   ],
   "source": [
    "find_ingredients()"
   ]
  },
  {
   "cell_type": "code",
   "execution_count": 25,
   "metadata": {},
   "outputs": [],
   "source": [
    "def get_name():\n",
    "    sel = 'h1#recipe-main-content'\n",
    "    name = browser.find_element_by_css_selector(sel)\n",
    "    return name.text"
   ]
  },
  {
   "cell_type": "code",
   "execution_count": 101,
   "metadata": {},
   "outputs": [],
   "source": [
    "sel = 'div.rating-stars'\n",
    "rating = browser.find_element_by_css_selector(sel)"
   ]
  },
  {
   "cell_type": "code",
   "execution_count": 102,
   "metadata": {},
   "outputs": [
    {
     "data": {
      "text/plain": [
       "'4.5330810546875'"
      ]
     },
     "execution_count": 102,
     "metadata": {},
     "output_type": "execute_result"
    }
   ],
   "source": [
    "rating.get_attribute('data-ratingstars')"
   ]
  },
  {
   "cell_type": "code",
   "execution_count": 26,
   "metadata": {},
   "outputs": [],
   "source": [
    "def get_rating():\n",
    "    sel = 'div.rating-stars'\n",
    "    rating = browser.find_element_by_css_selector(sel)\n",
    "    return float(rating.get_attribute('data-ratingstars'))"
   ]
  },
  {
   "cell_type": "code",
   "execution_count": 108,
   "metadata": {},
   "outputs": [
    {
     "data": {
      "text/plain": [
       "4.5330810546875"
      ]
     },
     "execution_count": 108,
     "metadata": {},
     "output_type": "execute_result"
    }
   ],
   "source": [
    "get_rating()"
   ]
  },
  {
   "cell_type": "code",
   "execution_count": 113,
   "metadata": {},
   "outputs": [],
   "source": [
    "sel = 'ol.breadcrumbs li'\n",
    "category_hierarchy = browser.find_elements_by_css_selector(sel)"
   ]
  },
  {
   "cell_type": "code",
   "execution_count": 115,
   "metadata": {},
   "outputs": [
    {
     "data": {
      "text/plain": [
       "'Home'"
      ]
     },
     "execution_count": 115,
     "metadata": {},
     "output_type": "execute_result"
    }
   ],
   "source": [
    "category_hierarchy[0].text"
   ]
  },
  {
   "cell_type": "code",
   "execution_count": 27,
   "metadata": {},
   "outputs": [],
   "source": [
    "def get_categories():\n",
    "    sel = 'ol.breadcrumbs li'\n",
    "    categories = browser.find_elements_by_css_selector(sel)\n",
    "    return [category.text for category in categories]"
   ]
  },
  {
   "cell_type": "code",
   "execution_count": 28,
   "metadata": {},
   "outputs": [
    {
     "data": {
      "text/plain": [
       "['Home', 'Recipes', 'World Cuisine', 'Asian', 'Thai']"
      ]
     },
     "execution_count": 28,
     "metadata": {},
     "output_type": "execute_result"
    }
   ],
   "source": [
    "get_categories()"
   ]
  },
  {
   "cell_type": "code",
   "execution_count": 101,
   "metadata": {},
   "outputs": [],
   "source": [
    "def search_allrecipes(search_item, browser, typo_rate=0.1):\n",
    "    \"\"\"Goes to the Allrecipes.com homepage and searches for item specified by 'search_item'\"\"\"\n",
    "    url='https://www.allrecipes.com'\n",
    "    browser.get(url)\n",
    "    sel = 'input#searchText'\n",
    "    search_bar = browser.find_element_by_css_selector(sel)\n",
    "    search_bar.click()\n",
    "    type_item(search_item, search_bar, typo_rate)\n",
    "    search_bar.send_keys('\\n')"
   ]
  },
  {
   "cell_type": "code",
   "execution_count": 29,
   "metadata": {},
   "outputs": [],
   "source": [
    "url='https://www.allrecipes.com'\n",
    "browser.get(url)"
   ]
  },
  {
   "cell_type": "code",
   "execution_count": 30,
   "metadata": {},
   "outputs": [],
   "source": [
    "sel = 'input#searchText'\n",
    "search_bar = browser.find_element_by_css_selector(sel)\n",
    "search_bar.click()"
   ]
  },
  {
   "cell_type": "code",
   "execution_count": 97,
   "metadata": {},
   "outputs": [],
   "source": [
    "def type_item(item, field, typo_rate=0.1):\n",
    "    for char in item:\n",
    "        if np.random.random() < typo_rate:\n",
    "            field.send_keys(make_typo(char))\n",
    "            time.sleep(0.2 * np.random.random() + typo_rate)\n",
    "            field.send_keys('\\b')\n",
    "        field.send_keys(char)\n",
    "        time.sleep(0.05 * np.random.random() + typo_rate)"
   ]
  },
  {
   "cell_type": "code",
   "execution_count": 48,
   "metadata": {},
   "outputs": [],
   "source": [
    "def make_typo(key, repeat=True):\n",
    "    '''Returns a letter adjacent to (or identical to, if repeat=True) the input key.'''\n",
    "    key = key.lower()\n",
    "    row2 = list('qwertyuiop[')\n",
    "    row3 = list(\"asdfghjkl;\")\n",
    "    row4 = list('zxcvbnm,.')\n",
    "    adj_keys = [key] if repeat else []\n",
    "    if key in row2:\n",
    "        idx = row2.index(key)\n",
    "        if idx > 0:\n",
    "            adj_keys += [row2[idx-1] , row2[idx+1]] + row3[idx-1:idx+1]\n",
    "        else:\n",
    "            adj_keys += list('was')\n",
    "    elif key in row3:\n",
    "        idx = row3.index(key)\n",
    "        if idx > 0:\n",
    "            adj_keys += row2[idx:idx+2] + [row3[idx-1] , row3[idx+1]] + row4[idx-1:idx+1]\n",
    "        else:\n",
    "            adj_keys += list('qwsz')\n",
    "    elif key in row4:\n",
    "        idx = row4.index(key)\n",
    "        if idx > 0:\n",
    "            adj_keys += row3[idx:idx+2] + [row4[idx-1] , row4[idx+1]]\n",
    "        else:\n",
    "            adj_keys += list('asx')\n",
    "    return np.random.choice(adj_keys)"
   ]
  },
  {
   "cell_type": "code",
   "execution_count": 57,
   "metadata": {},
   "outputs": [
    {
     "data": {
      "text/plain": [
       "'chicken enchiladas'"
      ]
     },
     "execution_count": 57,
     "metadata": {},
     "output_type": "execute_result"
    }
   ],
   "source": [
    "search_bar.get_attribute('value')"
   ]
  },
  {
   "cell_type": "code",
   "execution_count": 75,
   "metadata": {},
   "outputs": [],
   "source": [
    "def clear_field(field):\n",
    "    contents = field.get_attribute('value')\n",
    "    for _ in contents:\n",
    "        field.send_keys('\\b')\n",
    "        time.sleep(0.02 * np.random.random() + 0.05)"
   ]
  },
  {
   "cell_type": "code",
   "execution_count": 68,
   "metadata": {},
   "outputs": [],
   "source": [
    "clear_field()"
   ]
  },
  {
   "cell_type": "code",
   "execution_count": 69,
   "metadata": {},
   "outputs": [],
   "source": [
    "type_item('chicken pizza')"
   ]
  },
  {
   "cell_type": "code",
   "execution_count": 80,
   "metadata": {},
   "outputs": [],
   "source": [
    "browser = Chrome()"
   ]
  },
  {
   "cell_type": "code",
   "execution_count": 105,
   "metadata": {},
   "outputs": [],
   "source": [
    "search_allrecipes('chili', browser)"
   ]
  },
  {
   "cell_type": "code",
   "execution_count": 106,
   "metadata": {},
   "outputs": [],
   "source": [
    "sel = 'a.toggle-similar'\n",
    "sort = browser.find_element_by_css_selector(sel)\n",
    "sort.click()"
   ]
  },
  {
   "cell_type": "code",
   "execution_count": 111,
   "metadata": {},
   "outputs": [],
   "source": [
    "sel = 'a.toggle-similar ul.sort-nav'\n",
    "sort_options = browser.find_elements_by_css_selector(sel)\n",
    "sort_options"
   ]
  },
  {
   "cell_type": "code",
   "execution_count": 114,
   "metadata": {},
   "outputs": [
    {
     "data": {
      "text/plain": [
       "<selenium.webdriver.remote.webelement.WebElement (session=\"0917ca80e1c20a135db802e4c2754381\", element=\"0.7524946862274622-2\")>"
      ]
     },
     "execution_count": 114,
     "metadata": {},
     "output_type": "execute_result"
    }
   ],
   "source": [
    "sel = 'article.fixed-recipe-card'\n",
    "search_results = browser.find_elements_by_css_selector(sel)\n",
    "search_results[0]"
   ]
  },
  {
   "cell_type": "code",
   "execution_count": 125,
   "metadata": {},
   "outputs": [],
   "source": [
    "sel = 'div.fixed-recipe-card__info a'\n",
    "info = search_results[0].find_element_by_css_selector(sel)\n",
    "href = info.get_attribute('href')\n",
    "name = info.text"
   ]
  },
  {
   "cell_type": "code",
   "execution_count": 126,
   "metadata": {},
   "outputs": [
    {
     "data": {
      "text/plain": [
       "'Boilermaker Tailgate Chili'"
      ]
     },
     "execution_count": 126,
     "metadata": {},
     "output_type": "execute_result"
    }
   ],
   "source": [
    "name"
   ]
  },
  {
   "cell_type": "code",
   "execution_count": 127,
   "metadata": {},
   "outputs": [],
   "source": [
    "hrefs = []\n",
    "names = []\n",
    "for element in search_results:\n",
    "    sel = 'div.fixed-recipe-card__info a'\n",
    "    info = element.find_element_by_css_selector(sel)\n",
    "    hrefs.append(info.get_attribute('href'))\n",
    "    names.append(info.text)"
   ]
  },
  {
   "cell_type": "code",
   "execution_count": 129,
   "metadata": {},
   "outputs": [
    {
     "data": {
      "text/plain": [
       "['Boilermaker Tailgate Chili',\n",
       " 'Flatlander Chili',\n",
       " 'The Best Vegetarian Chili in the World',\n",
       " \"It's Chili by George!!\",\n",
       " 'Easy Chili I',\n",
       " \"Debdoozie's Blue Ribbon Chili\",\n",
       " 'Creamy White Chili',\n",
       " \"Just Like Wendy's® Chili\",\n",
       " \"Frank's Spicy Alabama Onion Beer Chili\",\n",
       " 'Terrific Turkey Chili',\n",
       " \"Smokin' Scovilles Turkey Chili\",\n",
       " 'Beef, Bean, and Beer Chili',\n",
       " 'Washabinaros Chili',\n",
       " 'Chili I',\n",
       " \"Jeff's Hot Dog Chili\",\n",
       " 'White Bean Chicken Chili',\n",
       " 'Best Damn Chili',\n",
       " 'My Chili',\n",
       " 'Paleo Chili',\n",
       " 'Quick Chili I']"
      ]
     },
     "execution_count": 129,
     "metadata": {},
     "output_type": "execute_result"
    }
   ],
   "source": [
    "names"
   ]
  },
  {
   "cell_type": "code",
   "execution_count": 130,
   "metadata": {},
   "outputs": [
    {
     "data": {
      "text/plain": [
       "['https://www.allrecipes.com/recipe/78299/boilermaker-tailgate-chili/?internalSource=hub%20recipe&referringContentType=Search',\n",
       " 'https://www.allrecipes.com/recipe/13079/flatlander-chili/?internalSource=hub%20recipe&referringContentType=Search',\n",
       " 'https://www.allrecipes.com/recipe/72508/the-best-vegetarian-chili-in-the-world/?internalSource=hub%20recipe&referringContentType=Search',\n",
       " 'https://www.allrecipes.com/recipe/14985/its-chili-by-george/?internalSource=hub%20recipe&referringContentType=Search',\n",
       " 'https://www.allrecipes.com/recipe/15401/easy-chili-i/?internalSource=hub%20recipe&referringContentType=Search',\n",
       " 'https://www.allrecipes.com/recipe/16235/debdoozies-blue-ribbon-chili/?internalSource=hub%20recipe&referringContentType=Search',\n",
       " 'https://www.allrecipes.com/recipe/229949/creamy-white-chili/?internalSource=hub%20recipe&referringContentType=Search',\n",
       " 'https://www.allrecipes.com/recipe/231082/just-like-wendys-chili/?internalSource=hub%20recipe&referringContentType=Search',\n",
       " 'https://www.allrecipes.com/recipe/70038/franks-spicy-alabama-onion-beer-chili/?internalSource=hub%20recipe&referringContentType=Search',\n",
       " 'https://www.allrecipes.com/recipe/62763/terrific-turkey-chili/?internalSource=hub%20recipe&referringContentType=Search',\n",
       " 'https://www.allrecipes.com/recipe/84760/smokin-scovilles-turkey-chili/?internalSource=hub%20recipe&referringContentType=Search',\n",
       " 'https://www.allrecipes.com/recipe/244558/beef-bean-and-beer-chili/?internalSource=hub%20recipe&referringContentType=Search',\n",
       " 'https://www.allrecipes.com/recipe/25711/washabinaros-chili/?internalSource=hub%20recipe&referringContentType=Search',\n",
       " 'https://www.allrecipes.com/recipe/16276/chili-i/?internalSource=hub%20recipe&referringContentType=Search',\n",
       " 'https://www.allrecipes.com/recipe/223538/jeffs-hot-dog-chili/?internalSource=hub%20recipe&referringContentType=Search',\n",
       " 'https://www.allrecipes.com/recipe/13010/white-bean-chicken-chili/?internalSource=hub%20recipe&referringContentType=Search',\n",
       " 'https://www.allrecipes.com/recipe/233613/best-damn-chili/?internalSource=hub%20recipe&referringContentType=Search',\n",
       " 'https://www.allrecipes.com/recipe/13423/my-chili/?internalSource=hub%20recipe&referringContentType=Search',\n",
       " 'https://www.allrecipes.com/recipe/235014/paleo-chili/?internalSource=hub%20recipe&referringContentType=Search',\n",
       " 'https://www.allrecipes.com/recipe/13329/quick-chili-i/?internalSource=hub%20recipe&referringContentType=Search']"
      ]
     },
     "execution_count": 130,
     "metadata": {},
     "output_type": "execute_result"
    }
   ],
   "source": [
    "hrefs"
   ]
  },
  {
   "cell_type": "code",
   "execution_count": 133,
   "metadata": {},
   "outputs": [
    {
     "data": {
      "text/plain": [
       "6343"
      ]
     },
     "execution_count": 133,
     "metadata": {},
     "output_type": "execute_result"
    }
   ],
   "source": [
    "browser.execute_script('''window.scrollTo(0, document.body.scrollHeight);\n",
    "                       var lenOfPage=document.body.scrollHeight;return lenOfPage;''')"
   ]
  },
  {
   "cell_type": "code",
   "execution_count": null,
   "metadata": {},
   "outputs": [],
   "source": [
    "more_button = "
   ]
  }
 ],
 "metadata": {
  "kernelspec": {
   "display_name": "Python 3",
   "language": "python",
   "name": "python3"
  },
  "language_info": {
   "codemirror_mode": {
    "name": "ipython",
    "version": 3
   },
   "file_extension": ".py",
   "mimetype": "text/x-python",
   "name": "python",
   "nbconvert_exporter": "python",
   "pygments_lexer": "ipython3",
   "version": "3.6.8"
  }
 },
 "nbformat": 4,
 "nbformat_minor": 2
}
