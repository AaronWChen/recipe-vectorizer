{
 "cells": [
  {
   "cell_type": "code",
   "execution_count": 2,
   "metadata": {},
   "outputs": [],
   "source": [
    "import time\n",
    "import random\n",
    "import requests\n",
    "import selenium\n",
    "from string import ascii_lowercase\n",
    "from selenium.webdriver import Firefox, Chrome\n",
    "from bs4 import BeautifulSoup\n",
    "import pandas as pd\n",
    "import string\n",
    "import numpy as np\n",
    "from selenium.webdriver.common.keys import Keys"
   ]
  },
  {
   "cell_type": "code",
   "execution_count": 3,
   "metadata": {},
   "outputs": [],
   "source": [
    "browser = Chrome()"
   ]
  },
  {
   "cell_type": "code",
   "execution_count": 21,
   "metadata": {},
   "outputs": [],
   "source": [
    "url='https://www.allrecipes.com/recipe/141833/thai-green-curry-chicken/'\n",
    "browser.get(url)"
   ]
  },
  {
   "cell_type": "code",
   "execution_count": 84,
   "metadata": {},
   "outputs": [],
   "source": [
    "time.sleep(2)"
   ]
  },
  {
   "cell_type": "code",
   "execution_count": 9,
   "metadata": {},
   "outputs": [],
   "source": [
    "sel = 'ul'\n",
    "ing_lists = browser.find_elements_by_css_selector(sel)"
   ]
  },
  {
   "cell_type": "code",
   "execution_count": 11,
   "metadata": {},
   "outputs": [],
   "source": [
    "sel = 'ul#lst_ingredients_1'\n",
    "ing_list_1 = browser.find_element_by_css_selector(sel)"
   ]
  },
  {
   "cell_type": "code",
   "execution_count": 12,
   "metadata": {},
   "outputs": [
    {
     "data": {
      "text/plain": [
       "['1 pound skinless, boneless chicken breast halves - cut into 1 inch cubes',\n",
       " '1 tablespoon dark soy sauce',\n",
       " '1 tablespoon all-purpose flour',\n",
       " 'Great Value All Purpose Flour, 32 oz',\n",
       " 'In Stores Only',\n",
       " 'SEE EVERYDAY LOW PRICE',\n",
       " 'ADVERTISEMENT',\n",
       " '2 tablespoons cooking oil',\n",
       " '2 tablespoons green curry paste',\n",
       " '2 green onions with tops, chopped',\n",
       " '3 cloves garlic, peeled and chopped']"
      ]
     },
     "execution_count": 12,
     "metadata": {},
     "output_type": "execute_result"
    }
   ],
   "source": [
    "ing_list_1.text.split('\\n')"
   ]
  },
  {
   "cell_type": "code",
   "execution_count": 10,
   "metadata": {},
   "outputs": [
    {
     "ename": "AttributeError",
     "evalue": "'list' object has no attribute 'text'",
     "output_type": "error",
     "traceback": [
      "\u001b[0;31m---------------------------------------------------------------------------\u001b[0m",
      "\u001b[0;31mAttributeError\u001b[0m                            Traceback (most recent call last)",
      "\u001b[0;32m<ipython-input-10-a1a6cb486d56>\u001b[0m in \u001b[0;36m<module>\u001b[0;34m\u001b[0m\n\u001b[0;32m----> 1\u001b[0;31m \u001b[0ming_lists\u001b[0m\u001b[0;34m.\u001b[0m\u001b[0mtext\u001b[0m\u001b[0;34m.\u001b[0m\u001b[0msplit\u001b[0m\u001b[0;34m(\u001b[0m\u001b[0;34m'\\n'\u001b[0m\u001b[0;34m)\u001b[0m\u001b[0;34m\u001b[0m\u001b[0;34m\u001b[0m\u001b[0m\n\u001b[0m",
      "\u001b[0;31mAttributeError\u001b[0m: 'list' object has no attribute 'text'"
     ]
    }
   ],
   "source": [
    "ing_lists.text.split('\\n')"
   ]
  },
  {
   "cell_type": "code",
   "execution_count": 13,
   "metadata": {},
   "outputs": [],
   "source": [
    "sel = 'ul#lst_ingredients_2'\n",
    "ing_list_2 = browser.find_element_by_css_selector(sel)"
   ]
  },
  {
   "cell_type": "code",
   "execution_count": 14,
   "metadata": {},
   "outputs": [
    {
     "data": {
      "text/plain": [
       "['']"
      ]
     },
     "execution_count": 14,
     "metadata": {},
     "output_type": "execute_result"
    }
   ],
   "source": [
    "ing_list_2.text.split('\\n')"
   ]
  },
  {
   "cell_type": "code",
   "execution_count": 15,
   "metadata": {},
   "outputs": [],
   "source": [
    "ing_lists = ing_list_1.text.split('\\n') + ing_list_2.text.split('\\n')"
   ]
  },
  {
   "cell_type": "code",
   "execution_count": 16,
   "metadata": {},
   "outputs": [
    {
     "ename": "IndexError",
     "evalue": "string index out of range",
     "output_type": "error",
     "traceback": [
      "\u001b[0;31m---------------------------------------------------------------------------\u001b[0m",
      "\u001b[0;31mIndexError\u001b[0m                                Traceback (most recent call last)",
      "\u001b[0;32m<ipython-input-16-fdea527786b8>\u001b[0m in \u001b[0;36m<module>\u001b[0;34m\u001b[0m\n\u001b[1;32m      1\u001b[0m \u001b[0mingredients\u001b[0m \u001b[0;34m=\u001b[0m \u001b[0;34m[\u001b[0m\u001b[0;34m]\u001b[0m\u001b[0;34m\u001b[0m\u001b[0;34m\u001b[0m\u001b[0m\n\u001b[1;32m      2\u001b[0m \u001b[0;32mfor\u001b[0m \u001b[0mitem\u001b[0m \u001b[0;32min\u001b[0m \u001b[0ming_lists\u001b[0m\u001b[0;34m:\u001b[0m\u001b[0;34m\u001b[0m\u001b[0;34m\u001b[0m\u001b[0m\n\u001b[0;32m----> 3\u001b[0;31m     \u001b[0;32mif\u001b[0m \u001b[0mitem\u001b[0m\u001b[0;34m[\u001b[0m\u001b[0;36m0\u001b[0m\u001b[0;34m]\u001b[0m \u001b[0;32min\u001b[0m \u001b[0mstring\u001b[0m\u001b[0;34m.\u001b[0m\u001b[0mdigits\u001b[0m\u001b[0;34m:\u001b[0m\u001b[0;34m\u001b[0m\u001b[0;34m\u001b[0m\u001b[0m\n\u001b[0m\u001b[1;32m      4\u001b[0m         \u001b[0mingredients\u001b[0m\u001b[0;34m.\u001b[0m\u001b[0mappend\u001b[0m\u001b[0;34m(\u001b[0m\u001b[0mitem\u001b[0m\u001b[0;34m)\u001b[0m\u001b[0;34m\u001b[0m\u001b[0;34m\u001b[0m\u001b[0m\n",
      "\u001b[0;31mIndexError\u001b[0m: string index out of range"
     ]
    }
   ],
   "source": [
    "ingredients = []\n",
    "for item in ing_lists:\n",
    "    if item[0] in string.digits:\n",
    "        ingredients.append(item)"
   ]
  },
  {
   "cell_type": "code",
   "execution_count": 17,
   "metadata": {},
   "outputs": [
    {
     "data": {
      "text/plain": [
       "[]"
      ]
     },
     "execution_count": 17,
     "metadata": {},
     "output_type": "execute_result"
    }
   ],
   "source": [
    "ingredients"
   ]
  },
  {
   "cell_type": "code",
   "execution_count": 49,
   "metadata": {},
   "outputs": [],
   "source": [
    "quantities = []\n",
    "units = []\n",
    "ingredient = []\n",
    "for item in ingredients:\n",
    "    quantities.append(item.split()[0])\n",
    "    units.append(item.split()[1])\n",
    "    ingredient.append(' '.join(item.split()[2:]))"
   ]
  },
  {
   "cell_type": "code",
   "execution_count": 1,
   "metadata": {},
   "outputs": [
    {
     "ename": "NameError",
     "evalue": "name 'units' is not defined",
     "output_type": "error",
     "traceback": [
      "\u001b[0;31m---------------------------------------------------------------------------\u001b[0m",
      "\u001b[0;31mNameError\u001b[0m                                 Traceback (most recent call last)",
      "\u001b[0;32m<ipython-input-1-1b4ada50d449>\u001b[0m in \u001b[0;36m<module>\u001b[0;34m\u001b[0m\n\u001b[0;32m----> 1\u001b[0;31m \u001b[0munits\u001b[0m\u001b[0;34m\u001b[0m\u001b[0;34m\u001b[0m\u001b[0m\n\u001b[0m",
      "\u001b[0;31mNameError\u001b[0m: name 'units' is not defined"
     ]
    }
   ],
   "source": [
    "units"
   ]
  },
  {
   "cell_type": "code",
   "execution_count": 22,
   "metadata": {},
   "outputs": [],
   "source": [
    "def get_ingredients():\n",
    "    all_items = []\n",
    "    count = 1\n",
    "    while True:\n",
    "        try:\n",
    "            sel = 'ul#lst_ingredients_{0}'.format(count)\n",
    "            ing_list = browser.find_element_by_css_selector(sel)\n",
    "            all_items += ing_list.text.split('\\n')\n",
    "            count += 1\n",
    "        except:\n",
    "            break\n",
    "    ingredients = []\n",
    "    for item in all_items:\n",
    "        if item[0] in string.digits:\n",
    "            ingredients.append(item)\n",
    "    return ingredients"
   ]
  },
  {
   "cell_type": "code",
   "execution_count": 23,
   "metadata": {},
   "outputs": [],
   "source": [
    "ing = get_ingredients()"
   ]
  },
  {
   "cell_type": "code",
   "execution_count": 24,
   "metadata": {},
   "outputs": [
    {
     "data": {
      "text/plain": [
       "['1 pound skinless, boneless chicken breast halves - cut into 1 inch cubes',\n",
       " '1 tablespoon dark soy sauce',\n",
       " '1 tablespoon all-purpose flour',\n",
       " '2 tablespoons cooking oil',\n",
       " '2 tablespoons green curry paste',\n",
       " '2 green onions with tops, chopped',\n",
       " '3 cloves garlic, peeled and chopped',\n",
       " '1 teaspoon fresh ginger, peeled and finely chopped',\n",
       " '2 cups coconut milk',\n",
       " '1 tablespoon fish sauce',\n",
       " '1 tablespoon dark soy sauce',\n",
       " '2 tablespoons white sugar',\n",
       " '1/2 cup cilantro leaves, for garnish']"
      ]
     },
     "execution_count": 24,
     "metadata": {},
     "output_type": "execute_result"
    }
   ],
   "source": [
    "ing"
   ]
  },
  {
   "cell_type": "code",
   "execution_count": 90,
   "metadata": {},
   "outputs": [],
   "source": [
    "url='https://www.allrecipes.com/recipe/56094/thai-chicken-curry-in-coconut-milk'\n",
    "browser.get(url)"
   ]
  },
  {
   "cell_type": "code",
   "execution_count": 91,
   "metadata": {},
   "outputs": [
    {
     "data": {
      "text/plain": [
       "['1 tablespoon vegetable oil',\n",
       " '1 teaspoon curry paste',\n",
       " '1 1/4 pounds skinless, boneless chicken breast meat - cut into strips',\n",
       " '1 onion, coarsely chopped',\n",
       " '1 red bell pepper, cut into strips',\n",
       " '1 tablespoon grated lemon zest',\n",
       " '1 cup light coconut milk',\n",
       " '1 tablespoon fish sauce',\n",
       " '1 tablespoon fresh lemon juice',\n",
       " '1/3 cup chopped fresh cilantro']"
      ]
     },
     "execution_count": 91,
     "metadata": {},
     "output_type": "execute_result"
    }
   ],
   "source": [
    "find_ingredients()"
   ]
  },
  {
   "cell_type": "code",
   "execution_count": 92,
   "metadata": {},
   "outputs": [],
   "source": [
    "url='https://www.allrecipes.com/recipe/24789/gumbo-style-chicken-creole'\n",
    "browser.get(url)"
   ]
  },
  {
   "cell_type": "code",
   "execution_count": 93,
   "metadata": {},
   "outputs": [
    {
     "data": {
      "text/plain": [
       "['1/4 cup vegetable oil',\n",
       " '1/4 cup all-purpose flour',\n",
       " '1 green bell pepper, chopped',\n",
       " '1 medium onion, chopped',\n",
       " '2 cups cooked chicken, chopped',\n",
       " '1 (14.5 ounce) can diced tomatoes with green chile peppers, with liquid',\n",
       " '1 (4.5 ounce) can sliced mushrooms, drained',\n",
       " '2 tablespoons chopped fresh parsley',\n",
       " '2 teaspoons Worcestershire sauce',\n",
       " '3 cloves garlic, minced',\n",
       " '1 teaspoon soy sauce',\n",
       " '1 teaspoon white sugar',\n",
       " '1/2 teaspoon salt',\n",
       " '1/2 teaspoon ground black pepper',\n",
       " '3 dashes hot sauce, or to taste',\n",
       " '1/2 cup chicken broth, or as needed (optional)']"
      ]
     },
     "execution_count": 93,
     "metadata": {},
     "output_type": "execute_result"
    }
   ],
   "source": [
    "find_ingredients()"
   ]
  },
  {
   "cell_type": "code",
   "execution_count": 25,
   "metadata": {},
   "outputs": [],
   "source": [
    "def get_name():\n",
    "    sel = 'h1#recipe-main-content'\n",
    "    name = browser.find_element_by_css_selector(sel)\n",
    "    return name.text"
   ]
  },
  {
   "cell_type": "code",
   "execution_count": 101,
   "metadata": {},
   "outputs": [],
   "source": [
    "sel = 'div.rating-stars'\n",
    "rating = browser.find_element_by_css_selector(sel)"
   ]
  },
  {
   "cell_type": "code",
   "execution_count": 102,
   "metadata": {},
   "outputs": [
    {
     "data": {
      "text/plain": [
       "'4.5330810546875'"
      ]
     },
     "execution_count": 102,
     "metadata": {},
     "output_type": "execute_result"
    }
   ],
   "source": [
    "rating.get_attribute('data-ratingstars')"
   ]
  },
  {
   "cell_type": "code",
   "execution_count": 26,
   "metadata": {},
   "outputs": [],
   "source": [
    "def get_rating():\n",
    "    sel = 'div.rating-stars'\n",
    "    rating = browser.find_element_by_css_selector(sel)\n",
    "    return float(rating.get_attribute('data-ratingstars'))"
   ]
  },
  {
   "cell_type": "code",
   "execution_count": 108,
   "metadata": {},
   "outputs": [
    {
     "data": {
      "text/plain": [
       "4.5330810546875"
      ]
     },
     "execution_count": 108,
     "metadata": {},
     "output_type": "execute_result"
    }
   ],
   "source": [
    "get_rating()"
   ]
  },
  {
   "cell_type": "code",
   "execution_count": 113,
   "metadata": {},
   "outputs": [],
   "source": [
    "sel = 'ol.breadcrumbs li'\n",
    "category_hierarchy = browser.find_elements_by_css_selector(sel)"
   ]
  },
  {
   "cell_type": "code",
   "execution_count": 115,
   "metadata": {},
   "outputs": [
    {
     "data": {
      "text/plain": [
       "'Home'"
      ]
     },
     "execution_count": 115,
     "metadata": {},
     "output_type": "execute_result"
    }
   ],
   "source": [
    "category_hierarchy[0].text"
   ]
  },
  {
   "cell_type": "code",
   "execution_count": 27,
   "metadata": {},
   "outputs": [],
   "source": [
    "def get_categories():\n",
    "    sel = 'ol.breadcrumbs li'\n",
    "    categories = browser.find_elements_by_css_selector(sel)\n",
    "    return [category.text for category in categories]"
   ]
  },
  {
   "cell_type": "code",
   "execution_count": 28,
   "metadata": {},
   "outputs": [
    {
     "data": {
      "text/plain": [
       "['Home', 'Recipes', 'World Cuisine', 'Asian', 'Thai']"
      ]
     },
     "execution_count": 28,
     "metadata": {},
     "output_type": "execute_result"
    }
   ],
   "source": [
    "get_categories()"
   ]
  },
  {
   "cell_type": "code",
   "execution_count": 5,
   "metadata": {},
   "outputs": [],
   "source": [
    "def search_allrecipes(search_item, browser, typo_rate=0.1):\n",
    "    \"\"\"Goes to the Allrecipes.com homepage and searches for item specified by 'search_item'\"\"\"\n",
    "    url='https://www.allrecipes.com'\n",
    "    browser.get(url)\n",
    "    sel = 'input#searchText'\n",
    "    search_bar = browser.find_element_by_css_selector(sel)\n",
    "    search_bar.click()\n",
    "    type_item(search_item, search_bar, typo_rate)\n",
    "    search_bar.send_keys('\\n')"
   ]
  },
  {
   "cell_type": "code",
   "execution_count": 29,
   "metadata": {},
   "outputs": [],
   "source": [
    "url='https://www.allrecipes.com'\n",
    "browser.get(url)"
   ]
  },
  {
   "cell_type": "code",
   "execution_count": 30,
   "metadata": {},
   "outputs": [],
   "source": [
    "sel = 'input#searchText'\n",
    "search_bar = browser.find_element_by_css_selector(sel)\n",
    "search_bar.click()"
   ]
  },
  {
   "cell_type": "code",
   "execution_count": 7,
   "metadata": {},
   "outputs": [],
   "source": [
    "def type_item(item, field, typo_rate=0.1):\n",
    "    for char in item:\n",
    "        if np.random.random() < typo_rate:\n",
    "            field.send_keys(make_typo(char))\n",
    "            time.sleep(0.2 * np.random.random() + typo_rate)\n",
    "            field.send_keys('\\b')\n",
    "        field.send_keys(char)\n",
    "        time.sleep(0.05 * np.random.random() + typo_rate)"
   ]
  },
  {
   "cell_type": "code",
   "execution_count": 8,
   "metadata": {},
   "outputs": [],
   "source": [
    "def make_typo(key, repeat=True):\n",
    "    '''Returns a letter adjacent to (or identical to, if repeat=True) the input key.'''\n",
    "    key = key.lower()\n",
    "    row2 = list('qwertyuiop[')\n",
    "    row3 = list(\"asdfghjkl;\")\n",
    "    row4 = list('zxcvbnm,.')\n",
    "    adj_keys = [key] if repeat else []\n",
    "    if key in row2:\n",
    "        idx = row2.index(key)\n",
    "        if idx > 0:\n",
    "            adj_keys += [row2[idx-1] , row2[idx+1]] + row3[idx-1:idx+1]\n",
    "        else:\n",
    "            adj_keys += list('was')\n",
    "    elif key in row3:\n",
    "        idx = row3.index(key)\n",
    "        if idx > 0:\n",
    "            adj_keys += row2[idx:idx+2] + [row3[idx-1] , row3[idx+1]] + row4[idx-1:idx+1]\n",
    "        else:\n",
    "            adj_keys += list('qwsz')\n",
    "    elif key in row4:\n",
    "        idx = row4.index(key)\n",
    "        if idx > 0:\n",
    "            adj_keys += row3[idx:idx+2] + [row4[idx-1] , row4[idx+1]]\n",
    "        else:\n",
    "            adj_keys += list('asx')\n",
    "    return np.random.choice(adj_keys)"
   ]
  },
  {
   "cell_type": "code",
   "execution_count": 57,
   "metadata": {},
   "outputs": [
    {
     "data": {
      "text/plain": [
       "'chicken enchiladas'"
      ]
     },
     "execution_count": 57,
     "metadata": {},
     "output_type": "execute_result"
    }
   ],
   "source": [
    "search_bar.get_attribute('value')"
   ]
  },
  {
   "cell_type": "code",
   "execution_count": 75,
   "metadata": {},
   "outputs": [],
   "source": [
    "def clear_field(field):\n",
    "    contents = field.get_attribute('value')\n",
    "    for _ in contents:\n",
    "        field.send_keys('\\b')\n",
    "        time.sleep(0.02 * np.random.random() + 0.05)"
   ]
  },
  {
   "cell_type": "code",
   "execution_count": 68,
   "metadata": {},
   "outputs": [],
   "source": [
    "clear_field()"
   ]
  },
  {
   "cell_type": "code",
   "execution_count": 69,
   "metadata": {},
   "outputs": [],
   "source": [
    "type_item('chicken pizza')"
   ]
  },
  {
   "cell_type": "code",
   "execution_count": 80,
   "metadata": {},
   "outputs": [],
   "source": [
    "browser = Chrome()"
   ]
  },
  {
   "cell_type": "code",
   "execution_count": 9,
   "metadata": {},
   "outputs": [],
   "source": [
    "search_allrecipes('chili', browser)"
   ]
  },
  {
   "cell_type": "code",
   "execution_count": 106,
   "metadata": {},
   "outputs": [],
   "source": [
    "sel = 'a.toggle-similar'\n",
    "sort = browser.find_element_by_css_selector(sel)\n",
    "sort.click()"
   ]
  },
  {
   "cell_type": "code",
   "execution_count": 111,
   "metadata": {},
   "outputs": [],
   "source": [
    "sel = 'a.toggle-similar ul.sort-nav'\n",
    "sort_options = browser.find_elements_by_css_selector(sel)\n",
    "sort_options"
   ]
  },
  {
   "cell_type": "code",
   "execution_count": 35,
   "metadata": {},
   "outputs": [],
   "source": [
    "sel = 'article.fixed-recipe-card'\n",
    "search_results = browser.find_elements_by_css_selector(sel)"
   ]
  },
  {
   "cell_type": "code",
   "execution_count": 38,
   "metadata": {},
   "outputs": [],
   "source": [
    "sel = 'div.fixed-recipe-card__info'\n",
    "info = search_results[22].find_element_by_css_selector(sel)\n",
    "href = info.get_attribute('href')\n",
    "name = info.text"
   ]
  },
  {
   "cell_type": "code",
   "execution_count": 39,
   "metadata": {},
   "outputs": [
    {
     "data": {
      "text/plain": [
       "'Elk Chili\\n77\\nA simple but tasty chili recipe using ground elk meat as the base. Best served with Mexican…\\nBy JJHOME'"
      ]
     },
     "execution_count": 39,
     "metadata": {},
     "output_type": "execute_result"
    }
   ],
   "source": [
    "name"
   ]
  },
  {
   "cell_type": "code",
   "execution_count": 33,
   "metadata": {},
   "outputs": [
    {
     "name": "stdout",
     "output_type": "stream",
     "text": [
      "Boilermaker Tailgate Chili\n",
      "Flatlander Chili\n",
      "The Best Vegetarian Chili in the World\n",
      "It's Chili by George!!\n",
      "Easy Chili I\n",
      "Debdoozie's Blue Ribbon Chili\n",
      "Creamy White Chili\n",
      "Just Like Wendy's® Chili\n",
      "Frank's Spicy Alabama Onion Beer Chili\n",
      "Terrific Turkey Chili\n",
      "Smokin' Scovilles Turkey Chili\n",
      "Beef, Bean, and Beer Chili\n",
      "Washabinaros Chili\n",
      "Chili I\n",
      "Jeff's Hot Dog Chili\n",
      "White Bean Chicken Chili\n",
      "Best Damn Chili\n",
      "My Chili\n",
      "Paleo Chili\n",
      "Quick Chili I\n",
      "Chili Sauce\n"
     ]
    },
    {
     "ename": "NoSuchElementException",
     "evalue": "Message: no such element: Unable to locate element: {\"method\":\"css selector\",\"selector\":\"div.fixed-recipe-card__info h3 a\"}\n  (Session info: chrome=73.0.3683.86)\n  (Driver info: chromedriver=73.0.3683.20 (8e2b610813e167eee3619ac4ce6e42e3ec622017),platform=Mac OS X 10.14.3 x86_64)\n",
     "output_type": "error",
     "traceback": [
      "\u001b[0;31m---------------------------------------------------------------------------\u001b[0m",
      "\u001b[0;31mNoSuchElementException\u001b[0m                    Traceback (most recent call last)",
      "\u001b[0;32m<ipython-input-33-42983c3a6e96>\u001b[0m in \u001b[0;36m<module>\u001b[0;34m\u001b[0m\n\u001b[1;32m      3\u001b[0m \u001b[0;32mfor\u001b[0m \u001b[0melement\u001b[0m \u001b[0;32min\u001b[0m \u001b[0msearch_results\u001b[0m\u001b[0;34m:\u001b[0m\u001b[0;34m\u001b[0m\u001b[0;34m\u001b[0m\u001b[0m\n\u001b[1;32m      4\u001b[0m     \u001b[0msel\u001b[0m \u001b[0;34m=\u001b[0m \u001b[0;34m'div.fixed-recipe-card__info h3 a'\u001b[0m\u001b[0;34m\u001b[0m\u001b[0;34m\u001b[0m\u001b[0m\n\u001b[0;32m----> 5\u001b[0;31m     \u001b[0minfo\u001b[0m \u001b[0;34m=\u001b[0m \u001b[0melement\u001b[0m\u001b[0;34m.\u001b[0m\u001b[0mfind_element_by_css_selector\u001b[0m\u001b[0;34m(\u001b[0m\u001b[0msel\u001b[0m\u001b[0;34m)\u001b[0m\u001b[0;34m\u001b[0m\u001b[0;34m\u001b[0m\u001b[0m\n\u001b[0m\u001b[1;32m      6\u001b[0m     \u001b[0mhrefs\u001b[0m\u001b[0;34m.\u001b[0m\u001b[0mappend\u001b[0m\u001b[0;34m(\u001b[0m\u001b[0minfo\u001b[0m\u001b[0;34m.\u001b[0m\u001b[0mget_attribute\u001b[0m\u001b[0;34m(\u001b[0m\u001b[0;34m'href'\u001b[0m\u001b[0;34m)\u001b[0m\u001b[0;34m)\u001b[0m\u001b[0;34m\u001b[0m\u001b[0;34m\u001b[0m\u001b[0m\n\u001b[1;32m      7\u001b[0m     \u001b[0mnames\u001b[0m\u001b[0;34m.\u001b[0m\u001b[0mappend\u001b[0m\u001b[0;34m(\u001b[0m\u001b[0minfo\u001b[0m\u001b[0;34m.\u001b[0m\u001b[0mtext\u001b[0m\u001b[0;34m)\u001b[0m\u001b[0;34m\u001b[0m\u001b[0;34m\u001b[0m\u001b[0m\n",
      "\u001b[0;32m~/anaconda3/lib/python3.6/site-packages/selenium/webdriver/remote/webelement.py\u001b[0m in \u001b[0;36mfind_element_by_css_selector\u001b[0;34m(self, css_selector)\u001b[0m\n\u001b[1;32m    428\u001b[0m             \u001b[0melement\u001b[0m \u001b[0;34m=\u001b[0m \u001b[0melement\u001b[0m\u001b[0;34m.\u001b[0m\u001b[0mfind_element_by_css_selector\u001b[0m\u001b[0;34m(\u001b[0m\u001b[0;34m'#foo'\u001b[0m\u001b[0;34m)\u001b[0m\u001b[0;34m\u001b[0m\u001b[0;34m\u001b[0m\u001b[0m\n\u001b[1;32m    429\u001b[0m         \"\"\"\n\u001b[0;32m--> 430\u001b[0;31m         \u001b[0;32mreturn\u001b[0m \u001b[0mself\u001b[0m\u001b[0;34m.\u001b[0m\u001b[0mfind_element\u001b[0m\u001b[0;34m(\u001b[0m\u001b[0mby\u001b[0m\u001b[0;34m=\u001b[0m\u001b[0mBy\u001b[0m\u001b[0;34m.\u001b[0m\u001b[0mCSS_SELECTOR\u001b[0m\u001b[0;34m,\u001b[0m \u001b[0mvalue\u001b[0m\u001b[0;34m=\u001b[0m\u001b[0mcss_selector\u001b[0m\u001b[0;34m)\u001b[0m\u001b[0;34m\u001b[0m\u001b[0;34m\u001b[0m\u001b[0m\n\u001b[0m\u001b[1;32m    431\u001b[0m \u001b[0;34m\u001b[0m\u001b[0m\n\u001b[1;32m    432\u001b[0m     \u001b[0;32mdef\u001b[0m \u001b[0mfind_elements_by_css_selector\u001b[0m\u001b[0;34m(\u001b[0m\u001b[0mself\u001b[0m\u001b[0;34m,\u001b[0m \u001b[0mcss_selector\u001b[0m\u001b[0;34m)\u001b[0m\u001b[0;34m:\u001b[0m\u001b[0;34m\u001b[0m\u001b[0;34m\u001b[0m\u001b[0m\n",
      "\u001b[0;32m~/anaconda3/lib/python3.6/site-packages/selenium/webdriver/remote/webelement.py\u001b[0m in \u001b[0;36mfind_element\u001b[0;34m(self, by, value)\u001b[0m\n\u001b[1;32m    657\u001b[0m \u001b[0;34m\u001b[0m\u001b[0m\n\u001b[1;32m    658\u001b[0m         return self._execute(Command.FIND_CHILD_ELEMENT,\n\u001b[0;32m--> 659\u001b[0;31m                              {\"using\": by, \"value\": value})['value']\n\u001b[0m\u001b[1;32m    660\u001b[0m \u001b[0;34m\u001b[0m\u001b[0m\n\u001b[1;32m    661\u001b[0m     \u001b[0;32mdef\u001b[0m \u001b[0mfind_elements\u001b[0m\u001b[0;34m(\u001b[0m\u001b[0mself\u001b[0m\u001b[0;34m,\u001b[0m \u001b[0mby\u001b[0m\u001b[0;34m=\u001b[0m\u001b[0mBy\u001b[0m\u001b[0;34m.\u001b[0m\u001b[0mID\u001b[0m\u001b[0;34m,\u001b[0m \u001b[0mvalue\u001b[0m\u001b[0;34m=\u001b[0m\u001b[0;32mNone\u001b[0m\u001b[0;34m)\u001b[0m\u001b[0;34m:\u001b[0m\u001b[0;34m\u001b[0m\u001b[0;34m\u001b[0m\u001b[0m\n",
      "\u001b[0;32m~/anaconda3/lib/python3.6/site-packages/selenium/webdriver/remote/webelement.py\u001b[0m in \u001b[0;36m_execute\u001b[0;34m(self, command, params)\u001b[0m\n\u001b[1;32m    631\u001b[0m             \u001b[0mparams\u001b[0m \u001b[0;34m=\u001b[0m \u001b[0;34m{\u001b[0m\u001b[0;34m}\u001b[0m\u001b[0;34m\u001b[0m\u001b[0;34m\u001b[0m\u001b[0m\n\u001b[1;32m    632\u001b[0m         \u001b[0mparams\u001b[0m\u001b[0;34m[\u001b[0m\u001b[0;34m'id'\u001b[0m\u001b[0;34m]\u001b[0m \u001b[0;34m=\u001b[0m \u001b[0mself\u001b[0m\u001b[0;34m.\u001b[0m\u001b[0m_id\u001b[0m\u001b[0;34m\u001b[0m\u001b[0;34m\u001b[0m\u001b[0m\n\u001b[0;32m--> 633\u001b[0;31m         \u001b[0;32mreturn\u001b[0m \u001b[0mself\u001b[0m\u001b[0;34m.\u001b[0m\u001b[0m_parent\u001b[0m\u001b[0;34m.\u001b[0m\u001b[0mexecute\u001b[0m\u001b[0;34m(\u001b[0m\u001b[0mcommand\u001b[0m\u001b[0;34m,\u001b[0m \u001b[0mparams\u001b[0m\u001b[0;34m)\u001b[0m\u001b[0;34m\u001b[0m\u001b[0;34m\u001b[0m\u001b[0m\n\u001b[0m\u001b[1;32m    634\u001b[0m \u001b[0;34m\u001b[0m\u001b[0m\n\u001b[1;32m    635\u001b[0m     \u001b[0;32mdef\u001b[0m \u001b[0mfind_element\u001b[0m\u001b[0;34m(\u001b[0m\u001b[0mself\u001b[0m\u001b[0;34m,\u001b[0m \u001b[0mby\u001b[0m\u001b[0;34m=\u001b[0m\u001b[0mBy\u001b[0m\u001b[0;34m.\u001b[0m\u001b[0mID\u001b[0m\u001b[0;34m,\u001b[0m \u001b[0mvalue\u001b[0m\u001b[0;34m=\u001b[0m\u001b[0;32mNone\u001b[0m\u001b[0;34m)\u001b[0m\u001b[0;34m:\u001b[0m\u001b[0;34m\u001b[0m\u001b[0;34m\u001b[0m\u001b[0m\n",
      "\u001b[0;32m~/anaconda3/lib/python3.6/site-packages/selenium/webdriver/remote/webdriver.py\u001b[0m in \u001b[0;36mexecute\u001b[0;34m(self, driver_command, params)\u001b[0m\n\u001b[1;32m    319\u001b[0m         \u001b[0mresponse\u001b[0m \u001b[0;34m=\u001b[0m \u001b[0mself\u001b[0m\u001b[0;34m.\u001b[0m\u001b[0mcommand_executor\u001b[0m\u001b[0;34m.\u001b[0m\u001b[0mexecute\u001b[0m\u001b[0;34m(\u001b[0m\u001b[0mdriver_command\u001b[0m\u001b[0;34m,\u001b[0m \u001b[0mparams\u001b[0m\u001b[0;34m)\u001b[0m\u001b[0;34m\u001b[0m\u001b[0;34m\u001b[0m\u001b[0m\n\u001b[1;32m    320\u001b[0m         \u001b[0;32mif\u001b[0m \u001b[0mresponse\u001b[0m\u001b[0;34m:\u001b[0m\u001b[0;34m\u001b[0m\u001b[0;34m\u001b[0m\u001b[0m\n\u001b[0;32m--> 321\u001b[0;31m             \u001b[0mself\u001b[0m\u001b[0;34m.\u001b[0m\u001b[0merror_handler\u001b[0m\u001b[0;34m.\u001b[0m\u001b[0mcheck_response\u001b[0m\u001b[0;34m(\u001b[0m\u001b[0mresponse\u001b[0m\u001b[0;34m)\u001b[0m\u001b[0;34m\u001b[0m\u001b[0;34m\u001b[0m\u001b[0m\n\u001b[0m\u001b[1;32m    322\u001b[0m             response['value'] = self._unwrap_value(\n\u001b[1;32m    323\u001b[0m                 response.get('value', None))\n",
      "\u001b[0;32m~/anaconda3/lib/python3.6/site-packages/selenium/webdriver/remote/errorhandler.py\u001b[0m in \u001b[0;36mcheck_response\u001b[0;34m(self, response)\u001b[0m\n\u001b[1;32m    240\u001b[0m                 \u001b[0malert_text\u001b[0m \u001b[0;34m=\u001b[0m \u001b[0mvalue\u001b[0m\u001b[0;34m[\u001b[0m\u001b[0;34m'alert'\u001b[0m\u001b[0;34m]\u001b[0m\u001b[0;34m.\u001b[0m\u001b[0mget\u001b[0m\u001b[0;34m(\u001b[0m\u001b[0;34m'text'\u001b[0m\u001b[0;34m)\u001b[0m\u001b[0;34m\u001b[0m\u001b[0;34m\u001b[0m\u001b[0m\n\u001b[1;32m    241\u001b[0m             \u001b[0;32mraise\u001b[0m \u001b[0mexception_class\u001b[0m\u001b[0;34m(\u001b[0m\u001b[0mmessage\u001b[0m\u001b[0;34m,\u001b[0m \u001b[0mscreen\u001b[0m\u001b[0;34m,\u001b[0m \u001b[0mstacktrace\u001b[0m\u001b[0;34m,\u001b[0m \u001b[0malert_text\u001b[0m\u001b[0;34m)\u001b[0m\u001b[0;34m\u001b[0m\u001b[0;34m\u001b[0m\u001b[0m\n\u001b[0;32m--> 242\u001b[0;31m         \u001b[0;32mraise\u001b[0m \u001b[0mexception_class\u001b[0m\u001b[0;34m(\u001b[0m\u001b[0mmessage\u001b[0m\u001b[0;34m,\u001b[0m \u001b[0mscreen\u001b[0m\u001b[0;34m,\u001b[0m \u001b[0mstacktrace\u001b[0m\u001b[0;34m)\u001b[0m\u001b[0;34m\u001b[0m\u001b[0;34m\u001b[0m\u001b[0m\n\u001b[0m\u001b[1;32m    243\u001b[0m \u001b[0;34m\u001b[0m\u001b[0m\n\u001b[1;32m    244\u001b[0m     \u001b[0;32mdef\u001b[0m \u001b[0m_value_or_default\u001b[0m\u001b[0;34m(\u001b[0m\u001b[0mself\u001b[0m\u001b[0;34m,\u001b[0m \u001b[0mobj\u001b[0m\u001b[0;34m,\u001b[0m \u001b[0mkey\u001b[0m\u001b[0;34m,\u001b[0m \u001b[0mdefault\u001b[0m\u001b[0;34m)\u001b[0m\u001b[0;34m:\u001b[0m\u001b[0;34m\u001b[0m\u001b[0;34m\u001b[0m\u001b[0m\n",
      "\u001b[0;31mNoSuchElementException\u001b[0m: Message: no such element: Unable to locate element: {\"method\":\"css selector\",\"selector\":\"div.fixed-recipe-card__info h3 a\"}\n  (Session info: chrome=73.0.3683.86)\n  (Driver info: chromedriver=73.0.3683.20 (8e2b610813e167eee3619ac4ce6e42e3ec622017),platform=Mac OS X 10.14.3 x86_64)\n"
     ]
    }
   ],
   "source": [
    "hrefs = []\n",
    "names = []\n",
    "for element in search_results:\n",
    "    sel = 'div.fixed-recipe-card__info h3 a'\n",
    "    info = element.find_element_by_css_selector(sel)\n",
    "    hrefs.append(info.get_attribute('href'))\n",
    "    names.append(info.text)\n",
    "    print(info.text)"
   ]
  },
  {
   "cell_type": "code",
   "execution_count": 32,
   "metadata": {},
   "outputs": [
    {
     "data": {
      "text/plain": [
       "21"
      ]
     },
     "execution_count": 32,
     "metadata": {},
     "output_type": "execute_result"
    }
   ],
   "source": [
    "len(names)"
   ]
  },
  {
   "cell_type": "code",
   "execution_count": 130,
   "metadata": {},
   "outputs": [
    {
     "data": {
      "text/plain": [
       "['https://www.allrecipes.com/recipe/78299/boilermaker-tailgate-chili/?internalSource=hub%20recipe&referringContentType=Search',\n",
       " 'https://www.allrecipes.com/recipe/13079/flatlander-chili/?internalSource=hub%20recipe&referringContentType=Search',\n",
       " 'https://www.allrecipes.com/recipe/72508/the-best-vegetarian-chili-in-the-world/?internalSource=hub%20recipe&referringContentType=Search',\n",
       " 'https://www.allrecipes.com/recipe/14985/its-chili-by-george/?internalSource=hub%20recipe&referringContentType=Search',\n",
       " 'https://www.allrecipes.com/recipe/15401/easy-chili-i/?internalSource=hub%20recipe&referringContentType=Search',\n",
       " 'https://www.allrecipes.com/recipe/16235/debdoozies-blue-ribbon-chili/?internalSource=hub%20recipe&referringContentType=Search',\n",
       " 'https://www.allrecipes.com/recipe/229949/creamy-white-chili/?internalSource=hub%20recipe&referringContentType=Search',\n",
       " 'https://www.allrecipes.com/recipe/231082/just-like-wendys-chili/?internalSource=hub%20recipe&referringContentType=Search',\n",
       " 'https://www.allrecipes.com/recipe/70038/franks-spicy-alabama-onion-beer-chili/?internalSource=hub%20recipe&referringContentType=Search',\n",
       " 'https://www.allrecipes.com/recipe/62763/terrific-turkey-chili/?internalSource=hub%20recipe&referringContentType=Search',\n",
       " 'https://www.allrecipes.com/recipe/84760/smokin-scovilles-turkey-chili/?internalSource=hub%20recipe&referringContentType=Search',\n",
       " 'https://www.allrecipes.com/recipe/244558/beef-bean-and-beer-chili/?internalSource=hub%20recipe&referringContentType=Search',\n",
       " 'https://www.allrecipes.com/recipe/25711/washabinaros-chili/?internalSource=hub%20recipe&referringContentType=Search',\n",
       " 'https://www.allrecipes.com/recipe/16276/chili-i/?internalSource=hub%20recipe&referringContentType=Search',\n",
       " 'https://www.allrecipes.com/recipe/223538/jeffs-hot-dog-chili/?internalSource=hub%20recipe&referringContentType=Search',\n",
       " 'https://www.allrecipes.com/recipe/13010/white-bean-chicken-chili/?internalSource=hub%20recipe&referringContentType=Search',\n",
       " 'https://www.allrecipes.com/recipe/233613/best-damn-chili/?internalSource=hub%20recipe&referringContentType=Search',\n",
       " 'https://www.allrecipes.com/recipe/13423/my-chili/?internalSource=hub%20recipe&referringContentType=Search',\n",
       " 'https://www.allrecipes.com/recipe/235014/paleo-chili/?internalSource=hub%20recipe&referringContentType=Search',\n",
       " 'https://www.allrecipes.com/recipe/13329/quick-chili-i/?internalSource=hub%20recipe&referringContentType=Search']"
      ]
     },
     "execution_count": 130,
     "metadata": {},
     "output_type": "execute_result"
    }
   ],
   "source": [
    "hrefs"
   ]
  },
  {
   "cell_type": "code",
   "execution_count": 49,
   "metadata": {},
   "outputs": [
    {
     "data": {
      "text/plain": [
       "36271"
      ]
     },
     "execution_count": 49,
     "metadata": {},
     "output_type": "execute_result"
    }
   ],
   "source": [
    "browser.execute_script('''window.scrollTo(0, document.body.scrollHeight);\n",
    "                       var lenOfPage=document.body.scrollHeight;return lenOfPage;''')"
   ]
  },
  {
   "cell_type": "code",
   "execution_count": 46,
   "metadata": {},
   "outputs": [],
   "source": [
    "def get_search_results(browser):\n",
    "    '''\n",
    "    Finds and returns all recipe names and hyperlink references on current browser page.\n",
    "    '''\n",
    "    sel = 'article.fixed-recipe-card'\n",
    "    search_results = browser.find_elements_by_css_selector(sel)\n",
    "    hrefs = []\n",
    "    names = []\n",
    "    for element in search_results:\n",
    "        try:\n",
    "            sel = 'div.fixed-recipe-card__info h3 a'\n",
    "            info = element.find_element_by_css_selector(sel)\n",
    "            href = info.get_attribute('href')\n",
    "            hrefs.append(href.split('/?')[0])\n",
    "            names.append(info.text)\n",
    "        except:\n",
    "            continue\n",
    "    return names, hrefs"
   ]
  },
  {
   "cell_type": "code",
   "execution_count": 50,
   "metadata": {},
   "outputs": [],
   "source": [
    "names, hrefs = get_search_results(browser)"
   ]
  },
  {
   "cell_type": "code",
   "execution_count": 51,
   "metadata": {},
   "outputs": [
    {
     "data": {
      "text/plain": [
       "180"
      ]
     },
     "execution_count": 51,
     "metadata": {},
     "output_type": "execute_result"
    }
   ],
   "source": [
    "len(names)"
   ]
  },
  {
   "cell_type": "code",
   "execution_count": 53,
   "metadata": {},
   "outputs": [
    {
     "data": {
      "text/plain": [
       "['https://www.allrecipes.com/recipe/78299/boilermaker-tailgate-chili',\n",
       " 'https://www.allrecipes.com/recipe/13079/flatlander-chili',\n",
       " 'https://www.allrecipes.com/recipe/72508/the-best-vegetarian-chili-in-the-world',\n",
       " 'https://www.allrecipes.com/recipe/14985/its-chili-by-george',\n",
       " 'https://www.allrecipes.com/recipe/15401/easy-chili-i',\n",
       " 'https://www.allrecipes.com/recipe/16235/debdoozies-blue-ribbon-chili',\n",
       " 'https://www.allrecipes.com/recipe/229949/creamy-white-chili',\n",
       " 'https://www.allrecipes.com/recipe/231082/just-like-wendys-chili',\n",
       " 'https://www.allrecipes.com/recipe/70038/franks-spicy-alabama-onion-beer-chili',\n",
       " 'https://www.allrecipes.com/recipe/62763/terrific-turkey-chili',\n",
       " 'https://www.allrecipes.com/recipe/84760/smokin-scovilles-turkey-chili',\n",
       " 'https://www.allrecipes.com/recipe/244558/beef-bean-and-beer-chili',\n",
       " 'https://www.allrecipes.com/recipe/25711/washabinaros-chili',\n",
       " 'https://www.allrecipes.com/recipe/16276/chili-i',\n",
       " 'https://www.allrecipes.com/recipe/223538/jeffs-hot-dog-chili',\n",
       " 'https://www.allrecipes.com/recipe/13010/white-bean-chicken-chili',\n",
       " 'https://www.allrecipes.com/recipe/233613/best-damn-chili',\n",
       " 'https://www.allrecipes.com/recipe/13423/my-chili',\n",
       " 'https://www.allrecipes.com/recipe/235014/paleo-chili',\n",
       " 'https://www.allrecipes.com/recipe/13329/quick-chili-i',\n",
       " 'https://www.allrecipes.com/recipe/58499/chili-sauce',\n",
       " 'https://www.allrecipes.com/recipe/42966/elk-chili',\n",
       " 'https://www.allrecipes.com/recipe/213912/chili-mac',\n",
       " 'https://www.allrecipes.com/recipe/235502/fiesta-chili',\n",
       " 'https://www.allrecipes.com/recipe/219020/oktoberfest-chili',\n",
       " 'https://www.allrecipes.com/recipe/213449/alligator-chili',\n",
       " 'https://www.allrecipes.com/recipe/26400/corn-chili',\n",
       " 'https://www.allrecipes.com/recipe/50100/polish-chili',\n",
       " 'https://www.allrecipes.com/recipe/24921/chili-dip',\n",
       " 'https://www.allrecipes.com/recipe/230828/jrays-chili',\n",
       " 'https://www.allrecipes.com/recipe/233828/chili-ghetti',\n",
       " 'https://www.allrecipes.com/recipe/245409/seafood-chili',\n",
       " 'https://www.allrecipes.com/recipe/35831/chili-verde',\n",
       " 'https://www.allrecipes.com/recipe/13331/tangy-chili',\n",
       " 'https://www.allrecipes.com/recipe/15914/chili-soup',\n",
       " 'https://www.allrecipes.com/recipe/49652/chili-liver',\n",
       " 'https://www.allrecipes.com/recipe/232559/chorizo-chili',\n",
       " 'https://www.allrecipes.com/recipe/26438/melanies-chili',\n",
       " 'https://www.allrecipes.com/recipe/13127/no-fuss-slow-cooker-chili',\n",
       " 'https://www.allrecipes.com/recipe/85752/johns-chili',\n",
       " 'https://www.allrecipes.com/recipe/218132/chinese-chili',\n",
       " 'https://www.allrecipes.com/recipe/213463/killer-chili',\n",
       " 'https://www.allrecipes.com/recipe/180300/fruity-chili',\n",
       " 'https://www.allrecipes.com/recipe/238051/quick-chili',\n",
       " 'https://www.allrecipes.com/recipe/103305/hearty-chili',\n",
       " 'https://www.allrecipes.com/recipe/242063/chili-with-quinoa',\n",
       " 'https://www.allrecipes.com/recipe/255259/homemade-chili',\n",
       " 'https://www.allrecipes.com/recipe/54669/fairuzahs-chili',\n",
       " 'https://www.allrecipes.com/recipe/25330/vegan-chili',\n",
       " 'https://www.allrecipes.com/recipe/205645/kas-chili',\n",
       " 'https://www.allrecipes.com/recipe/240380/chili-nachos',\n",
       " 'https://www.allrecipes.com/recipe/245493/rhubarb-chili',\n",
       " 'https://www.allrecipes.com/recipe/7056/chili-bread',\n",
       " 'https://www.allrecipes.com/recipe/141705/chili-colorado',\n",
       " 'https://www.allrecipes.com/recipe/88291/kellys-chili',\n",
       " 'https://www.allrecipes.com/recipe/17633/grandmas-chili',\n",
       " 'https://www.allrecipes.com/recipe/140099/tequila-chili',\n",
       " 'https://www.allrecipes.com/recipe/235466/football-chili',\n",
       " 'https://www.allrecipes.com/recipe/15410/steak-chili',\n",
       " 'https://www.allrecipes.com/recipe/26389/chili-iv',\n",
       " 'https://www.allrecipes.com/recipe/13987/easy-chili',\n",
       " 'https://www.allrecipes.com/recipe/16368/mamas-chili',\n",
       " 'https://www.allrecipes.com/recipe/75906/chili-burgers',\n",
       " 'https://www.allrecipes.com/recipe/13969/cornucopia-chili',\n",
       " 'https://www.allrecipes.com/recipe/214843/dads-chili',\n",
       " 'https://www.allrecipes.com/recipe/26462/russian-chili',\n",
       " 'https://www.allrecipes.com/recipe/15386/chili-iii',\n",
       " 'https://www.allrecipes.com/recipe/16188/camp-chili',\n",
       " 'https://www.allrecipes.com/recipe/8835/chicken-chili',\n",
       " 'https://www.allrecipes.com/recipe/13067/the-ultimate-chili',\n",
       " 'https://www.allrecipes.com/recipe/24406/swinks-chili',\n",
       " 'https://www.allrecipes.com/recipe/220076/mvp-chili',\n",
       " 'https://www.allrecipes.com/recipe/23118/chili-with-ziti',\n",
       " 'https://www.allrecipes.com/recipe/17308/casablanca-chili',\n",
       " 'https://www.allrecipes.com/recipe/15868/lentil-chili',\n",
       " 'https://www.allrecipes.com/recipe/80760/no-tomato-chili',\n",
       " 'https://www.allrecipes.com/recipe/25722/pumpkin-chili',\n",
       " 'https://www.allrecipes.com/recipe/25420/chili-casserole',\n",
       " 'https://www.allrecipes.com/recipe/25686/miners-chili',\n",
       " 'https://www.allrecipes.com/recipe/20080/chili-chicken',\n",
       " 'https://www.allrecipes.com/recipe/16882/chili-casserole',\n",
       " 'https://www.allrecipes.com/recipe/79779/tommys-chili',\n",
       " 'https://www.allrecipes.com/recipe/14985/its-chili-by-george',\n",
       " 'https://www.allrecipes.com/recipe/72508/the-best-vegetarian-chili-in-the-world',\n",
       " 'https://www.allrecipes.com/recipe/62763/terrific-turkey-chili',\n",
       " 'https://www.allrecipes.com/recipe/13010/white-bean-chicken-chili',\n",
       " 'https://www.allrecipes.com/recipe/84760/smokin-scovilles-turkey-chili',\n",
       " 'https://www.allrecipes.com/recipe/229949/creamy-white-chili',\n",
       " 'https://www.allrecipes.com/recipe/26391/chili-seasoning-mix-ii',\n",
       " 'https://www.allrecipes.com/recipe/231082/just-like-wendysr-chili',\n",
       " 'https://www.allrecipes.com/recipe/80969/simple-turkey-chili',\n",
       " 'https://www.allrecipes.com/recipe/166859/wazzu-tailgate-chili',\n",
       " 'https://www.allrecipes.com/recipe/13329/quick-chili-i',\n",
       " 'https://www.allrecipes.com/recipe/25370/habanero-hellfire-chili',\n",
       " 'https://www.allrecipes.com/recipe/217002/quinoa-and-black-bean-chili',\n",
       " 'https://www.allrecipes.com/recipe/220192/pub-style-vegetarian-chili',\n",
       " 'https://www.allrecipes.com/recipe/15401/easy-chili-i',\n",
       " 'https://www.allrecipes.com/recipe/233613/best-damn-chili',\n",
       " 'https://www.allrecipes.com/recipe/131107/butternut-squash-and-turkey-chili',\n",
       " 'https://www.allrecipes.com/recipe/16962/easy-white-chili',\n",
       " 'https://www.allrecipes.com/recipe/26357/award-winning-chili',\n",
       " 'https://www.allrecipes.com/recipe/229081/sweet-potato-chili',\n",
       " 'https://www.allrecipes.com/recipe/22302/cha-chas-white-chicken-chili',\n",
       " 'https://www.allrecipes.com/recipe/223171/coconut-curry-chili',\n",
       " 'https://www.allrecipes.com/recipe/85930/quick-and-spicy-chili',\n",
       " 'https://www.allrecipes.com/recipe/12906/chicken-and-corn-chili',\n",
       " 'https://www.allrecipes.com/recipe/22924/black-bean-chili',\n",
       " 'https://www.allrecipes.com/recipe/223390/spicy-slow-cooked-chili',\n",
       " 'https://www.allrecipes.com/recipe/168976/waistline-friendly-turkey-chili',\n",
       " 'https://www.allrecipes.com/recipe/12897/white-chili-i',\n",
       " 'https://www.allrecipes.com/recipe/218979/traditional-chili-with-ground-turkey',\n",
       " 'https://www.allrecipes.com/recipe/218328/easy-turkey-chili-',\n",
       " 'https://www.allrecipes.com/recipe/26377/chicken-chili-soup',\n",
       " 'https://www.allrecipes.com/recipe/80803/wicked-good-veggie-chili',\n",
       " 'https://www.allrecipes.com/recipe/15070/white-chili-ii',\n",
       " 'https://www.allrecipes.com/recipe/83716/veggie-vegetarian-chili',\n",
       " 'https://www.allrecipes.com/recipe/230792/crock-potr-chicken-chili',\n",
       " 'https://www.allrecipes.com/recipe/237576/slow-cooker-chipotle-chili',\n",
       " 'https://www.allrecipes.com/recipe/244558/beef-bean-and-beer-chili',\n",
       " 'https://www.allrecipes.com/recipe/216289/southwest-white-chicken-chili',\n",
       " 'https://www.allrecipes.com/recipe/25510/chili-cheese-dip-v',\n",
       " 'https://www.allrecipes.com/recipe/17088/chili-cheese-dip-iii',\n",
       " 'https://www.allrecipes.com/recipe/130872/drunk-deer-chili',\n",
       " 'https://www.allrecipes.com/recipe/84475/justins-hoosier-daddy-chili',\n",
       " 'https://www.allrecipes.com/recipe/26475/white-chili-iv',\n",
       " 'https://www.allrecipes.com/recipe/23215/darn-good-chili',\n",
       " 'https://www.allrecipes.com/recipe/131743/green-enchilada-pork-chili',\n",
       " 'https://www.allrecipes.com/recipe/23922/green-chili-stew',\n",
       " 'https://www.allrecipes.com/recipe/219076/chef-johns-turkey-chili-',\n",
       " 'https://www.allrecipes.com/recipe/233237/hot-dog-chili-sauce',\n",
       " 'https://www.allrecipes.com/recipe/223538/jeffs-hot-dog-chili',\n",
       " 'https://www.allrecipes.com/recipe/19934/chili-lime-chicken-kabobs',\n",
       " 'https://www.allrecipes.com/recipe/233973/wicked-easy-chili',\n",
       " 'https://www.allrecipes.com/recipe/218772/mile-high-green-chili',\n",
       " 'https://www.allrecipes.com/recipe/154121/colorado-buffalo-chili',\n",
       " 'https://www.allrecipes.com/recipe/159965/turkey-lentil-chili',\n",
       " 'https://www.allrecipes.com/recipe/234160/pumpkin-pineapple-chili',\n",
       " 'https://www.allrecipes.com/recipe/24652/dbs-seven-pepper-chili',\n",
       " 'https://www.allrecipes.com/recipe/240509/baked-chili-hot-dogs',\n",
       " 'https://www.allrecipes.com/recipe/239887/vegan-sweet-potato-chili',\n",
       " 'https://www.allrecipes.com/recipe/78889/meaty-thick-man-chili',\n",
       " 'https://www.allrecipes.com/recipe/206953/authentic-cincinnati-chili',\n",
       " 'https://www.allrecipes.com/recipe/217018/chili-relleno-casserole',\n",
       " 'https://www.allrecipes.com/recipe/228233/spicy-white-chili-with-chicken',\n",
       " 'https://www.allrecipes.com/recipe/237906/homemade-chili-sauce',\n",
       " 'https://www.allrecipes.com/recipe/229278/slow-cooker-white-chili',\n",
       " 'https://www.allrecipes.com/recipe/77517/fifteen-minute-chicken-chili',\n",
       " 'https://www.allrecipes.com/recipe/12892/jim-kaczmareks-chili',\n",
       " 'https://www.allrecipes.com/recipe/192357/pressure-cooker-chili',\n",
       " 'https://www.allrecipes.com/recipe/213092/lucies-vegetarian-chili',\n",
       " 'https://www.allrecipes.com/recipe/216629/the-best-turkey-chili',\n",
       " 'https://www.allrecipes.com/recipe/25522/jeffs-chili-con-queso',\n",
       " 'https://www.allrecipes.com/recipe/237366/slow-cooker-vegetarian-chili',\n",
       " 'https://www.allrecipes.com/recipe/22846/michelles-blonde-chicken-chili',\n",
       " 'https://www.allrecipes.com/recipe/218219/chili-cream-cheese-frosting',\n",
       " 'https://www.allrecipes.com/recipe/20719/creamy-chili-sauce',\n",
       " 'https://www.allrecipes.com/recipe/181572/white-turkey-chili',\n",
       " 'https://www.allrecipes.com/recipe/221960/pressure-cooker-beef-chili',\n",
       " 'https://www.allrecipes.com/recipe/233676/sarahs-chili-seasoning-mix',\n",
       " 'https://www.allrecipes.com/recipe/222977/quick-and-tasty-turkey-chili',\n",
       " 'https://www.allrecipes.com/recipe/79935/joshs-four-way-chili',\n",
       " 'https://www.allrecipes.com/recipe/148368/fresh-tomato-chili-sauce',\n",
       " 'https://www.allrecipes.com/recipe/90315/rainbow-veggie-chili',\n",
       " 'https://www.allrecipes.com/recipe/216393/sausage-corn-chili',\n",
       " 'https://www.allrecipes.com/recipe/212818/five-meat-habanero-chili',\n",
       " 'https://www.allrecipes.com/recipe/228545/chilly-day-chili',\n",
       " 'https://www.allrecipes.com/recipe/231858/warm-chili-cheese-dip',\n",
       " 'https://www.allrecipes.com/recipe/217121/speedy-chili-pot-pie',\n",
       " 'https://www.allrecipes.com/recipe/232083/toris-beanless-chili',\n",
       " 'https://www.allrecipes.com/recipe/83394/venison-bacon-white-chili',\n",
       " 'https://www.allrecipes.com/recipe/26461/quick-chili-ii',\n",
       " 'https://www.allrecipes.com/recipe/218299/chili-macaroni-casserole-',\n",
       " 'https://www.allrecipes.com/recipe/100705/slow-cooked-habanero-chili',\n",
       " 'https://www.allrecipes.com/recipe/219646/authentic-mexican-chili-rellenos',\n",
       " 'https://www.allrecipes.com/recipe/215228/simply-sensational-chili',\n",
       " 'https://www.allrecipes.com/recipe/239780/chicken-and-white-bean-chili',\n",
       " 'https://www.allrecipes.com/recipe/78198/penne-with-chili-chicken-and-prawns',\n",
       " 'https://www.allrecipes.com/recipe/240365/sausage-sweet-potato-chili',\n",
       " 'https://www.allrecipes.com/recipe/234624/quick-quinoa-chili',\n",
       " 'https://www.allrecipes.com/recipe/77955/italian-style-chili']"
      ]
     },
     "execution_count": 53,
     "metadata": {},
     "output_type": "execute_result"
    }
   ],
   "source": [
    "hrefs"
   ]
  },
  {
   "cell_type": "code",
   "execution_count": null,
   "metadata": {},
   "outputs": [],
   "source": []
  }
 ],
 "metadata": {
  "kernelspec": {
   "display_name": "Python 3",
   "language": "python",
   "name": "python3"
  },
  "language_info": {
   "codemirror_mode": {
    "name": "ipython",
    "version": 3
   },
   "file_extension": ".py",
   "mimetype": "text/x-python",
   "name": "python",
   "nbconvert_exporter": "python",
   "pygments_lexer": "ipython3",
   "version": "3.6.8"
  }
 },
 "nbformat": 4,
 "nbformat_minor": 2
}
