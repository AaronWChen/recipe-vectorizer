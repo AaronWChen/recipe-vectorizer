{
 "cells": [
  {
   "cell_type": "code",
   "execution_count": 1,
   "metadata": {},
   "outputs": [
    {
     "name": "stdout",
     "output_type": "stream",
     "text": [
      "/Users/heilman/galvanize/recipe-vectorizer\n"
     ]
    }
   ],
   "source": [
    "%cd .."
   ]
  },
  {
   "cell_type": "code",
   "execution_count": 2,
   "metadata": {},
   "outputs": [],
   "source": [
    "from src.functions import *\n",
    "from src.modeling_functions import *\n",
    "import numpy as np\n",
    "import networkx as nx\n",
    "import pandas as pd\n",
    "from collections import Counter\n",
    "from string import *\n",
    "from sklearn.metrics.pairwise import cosine_similarity\n",
    "from sys import argv, exit\n",
    "import pymongo\n",
    "import matplotlib.pyplot as plt\n",
    "%matplotlib inline\n",
    "from matplotlib import cm"
   ]
  },
  {
   "cell_type": "code",
   "execution_count": 3,
   "metadata": {},
   "outputs": [],
   "source": [
    "mc = pymongo.MongoClient()\n",
    "db = mc['allrecipes']\n",
    "recipes_coll = db['recipes']"
   ]
  },
  {
   "cell_type": "code",
   "execution_count": 6,
   "metadata": {},
   "outputs": [],
   "source": [
    "recipes, ratings = find_recipes_matching_search(recipes_coll, 'chili')"
   ]
  },
  {
   "cell_type": "code",
   "execution_count": 7,
   "metadata": {},
   "outputs": [
    {
     "data": {
      "text/plain": [
       "296"
      ]
     },
     "execution_count": 7,
     "metadata": {},
     "output_type": "execute_result"
    }
   ],
   "source": [
    "len(recipes)"
   ]
  },
  {
   "cell_type": "code",
   "execution_count": 9,
   "metadata": {},
   "outputs": [],
   "source": [
    "units_by_ing = get_common_units_by_ingredient(recipes)"
   ]
  },
  {
   "cell_type": "code",
   "execution_count": 17,
   "metadata": {},
   "outputs": [
    {
     "data": {
      "text/plain": [
       "'each'"
      ]
     },
     "execution_count": 17,
     "metadata": {},
     "output_type": "execute_result"
    }
   ],
   "source": [
    "units_by_ing['onion'].most_common(1)[0][0]"
   ]
  },
  {
   "cell_type": "code",
   "execution_count": null,
   "metadata": {},
   "outputs": [],
   "source": [
    "conversion_dict"
   ]
  },
  {
   "cell_type": "code",
   "execution_count": 76,
   "metadata": {},
   "outputs": [],
   "source": [
    "def convert_qty_to_common_units(ingredient,\n",
    "                                norm_qty,\n",
    "                                units_by_ing,\n",
    "                                conversion_dict=conversion_dict):\n",
    "    desired_units = units_by_ing[ingredient].most_common(1)[0][0]\n",
    "    volume_based_units = ['teaspoon','tablespoon','cup','pint','quart','gallon','ounce','fluid ounce','milliliter',\n",
    "                          'pinch','dash']\n",
    "    if desired_units in volume_based_units:\n",
    "        return decode_volume_units(norm_qty)\n",
    "    elif desired_units == 'pound':\n",
    "            return '{0:1.2} pounds'.format(norm_qty / 16)\n",
    "    elif desired_units == 'each':\n",
    "        ingredient_conversions = conversion_dict[desired_units]\n",
    "        try:\n",
    "            return str(round(norm_qty / ingredient_conversions[ingredient]))\n",
    "        except:\n",
    "            return str(round(norm_qty / ingredient_conversions['other']))\n",
    "    else:\n",
    "        try:\n",
    "            ingredient_conversions = conversion_dict[desired_units]\n",
    "            try:\n",
    "                return '{0} {1}'.format(round(norm_qty/ingredient_conversions[ingredient]), desired_units)\n",
    "            except:\n",
    "                return '{0} {1}'.format(round(norm_qty/ingredient_conversions['other']), desired_units)\n",
    "        except:\n",
    "            return '{0} {1}'.format(norm_qty, desired_units)"
   ]
  },
  {
   "cell_type": "code",
   "execution_count": 57,
   "metadata": {},
   "outputs": [
    {
     "data": {
      "text/plain": [
       "'1'"
      ]
     },
     "execution_count": 57,
     "metadata": {},
     "output_type": "execute_result"
    }
   ],
   "source": [
    "convert_qty_to_common_units('bell pepper', 4, units_by_ing)"
   ]
  },
  {
   "cell_type": "code",
   "execution_count": 43,
   "metadata": {},
   "outputs": [],
   "source": [
    "def decode_volume_units(norm_qty):\n",
    "    if norm_qty < 1/24 * 1.5:\n",
    "        return '1/4 teaspoon'\n",
    "    elif norm_qty < 1/12 * 1.5:\n",
    "        return '1/2 teaspoon'\n",
    "    elif norm_qty < 1/6 * 1.25:\n",
    "        return '1 teaspoon'\n",
    "    elif norm_qty < 1/6 * 1.75:\n",
    "        return '1 1/2 teaspoons'\n",
    "    elif norm_qty < 1/6 * 2.25:\n",
    "        return '2 teaspoons'\n",
    "    elif norm_qty < 1/6 * 2.75:\n",
    "        return '2 1/2 teaspoons'\n",
    "    elif norm_qty < 1/2 * 1.25:\n",
    "        return '1 tablespoon'\n",
    "    elif norm_qty < 1/2 * 1.75:\n",
    "        return '1 1/2 tablespoons'\n",
    "    elif norm_qty < 1.25:\n",
    "        return '2 tablespoons'\n",
    "    elif norm_qty < 1.75:\n",
    "        return '3 tablespoons'\n",
    "    elif norm_qty < 2.3:\n",
    "        return '1/4 cup'\n",
    "    elif norm_qty < 3:\n",
    "        return '1/3 cup'\n",
    "    elif norm_qty < 5:\n",
    "        return '1/2 cup'\n",
    "    elif norm_qty < 7:\n",
    "        return '3/4 cup'\n",
    "    elif norm_qty < 9:\n",
    "        return '1 cup'\n",
    "    elif norm_qty < 11:\n",
    "        return '1 1/4 cups'\n",
    "    elif norm_qty < 14:\n",
    "        return '1 1/2 cups'\n",
    "    elif norm_qty < 18:\n",
    "        return '2 cups'\n",
    "    elif norm_qty < 22:\n",
    "        return '2 1/2 cups'\n",
    "    elif norm_qty < 28:\n",
    "        return '3 cups'\n",
    "    elif norm_qty < 36:\n",
    "        return '1 quart'\n",
    "    else:\n",
    "        return '{0:1.2} quarts'.format(norm_qty / 32)"
   ]
  },
  {
   "cell_type": "code",
   "execution_count": 59,
   "metadata": {},
   "outputs": [
    {
     "data": {
      "text/plain": [
       "{'_id': ObjectId('5cae848ec6d0b07b2dbbe5cb'),\n",
       " 'id': 78299,\n",
       " 'name': 'Boilermaker Tailgate Chili',\n",
       " 'href': 'https://www.allrecipes.com/recipe/78299/boilermaker-tailgate-chili/',\n",
       " 'category': {'lvl_1': 'Soups, Stews and Chili',\n",
       "  'lvl_2': 'Chili',\n",
       "  'lvl_3': 'Pork Chili'},\n",
       " 'rating_info': {'rating': 4.81840705871582,\n",
       "  'made_by': 12000,\n",
       "  'reviews': 4000},\n",
       " 'submitter_info': {'id': 591623,\n",
       "  'name': 'MIGHTYPURDUE22',\n",
       "  'followers': 41,\n",
       "  'href': 'https://www.allrecipes.com/cook/591623/'},\n",
       " 'ingredients': {'beef chuck': {'quantity': 2.0,\n",
       "   'units': 'pound',\n",
       "   'normalized_qty': 32.0,\n",
       "   'category': 'other'},\n",
       "  'italian sausage': {'quantity': 1.0,\n",
       "   'units': 'pound',\n",
       "   'normalized_qty': 16.0,\n",
       "   'category': 'protein'},\n",
       "  'chili beans': {'quantity': 45.0,\n",
       "   'units': 'ounce',\n",
       "   'normalized_qty': 45.0,\n",
       "   'category': 'vegetable'},\n",
       "  'chili beans in spicy sauce': {'quantity': 15.0,\n",
       "   'units': 'ounce',\n",
       "   'normalized_qty': 15.0,\n",
       "   'category': 'other'},\n",
       "  'tomato': {'quantity': 56.0,\n",
       "   'units': 'ounce',\n",
       "   'normalized_qty': 56.0,\n",
       "   'category': 'vegetable'},\n",
       "  'tomato paste': {'quantity': 6.0,\n",
       "   'units': 'ounce',\n",
       "   'normalized_qty': 6.0,\n",
       "   'category': 'vegetable'},\n",
       "  'onion': {'quantity': 1.0,\n",
       "   'units': 'each',\n",
       "   'normalized_qty': 8.0,\n",
       "   'category': 'vegetable'},\n",
       "  'celery': {'quantity': 3.0,\n",
       "   'units': 'stalk',\n",
       "   'normalized_qty': 6.0,\n",
       "   'category': 'vegetable'},\n",
       "  'bell pepper': {'quantity': -1,\n",
       "   'units': 'combined',\n",
       "   'normalized_qty': 12.0,\n",
       "   'category': 'vegetable'},\n",
       "  'green chile': {'quantity': 2.0,\n",
       "   'units': 'each',\n",
       "   'normalized_qty': 2.0,\n",
       "   'category': 'vegetable'},\n",
       "  'bacon bit': {'quantity': 1.0,\n",
       "   'units': 'tablespoon',\n",
       "   'normalized_qty': 0.5,\n",
       "   'category': 'other'},\n",
       "  'beef bouillon': {'quantity': 4.0,\n",
       "   'units': 'cube',\n",
       "   'normalized_qty': 1.6,\n",
       "   'category': 'other'},\n",
       "  'beer': {'quantity': 0.5,\n",
       "   'units': 'cup',\n",
       "   'normalized_qty': 4.0,\n",
       "   'category': 'other'},\n",
       "  'chili powder': {'quantity': 0.25,\n",
       "   'units': 'cup',\n",
       "   'normalized_qty': 2.0,\n",
       "   'category': 'seasoning'},\n",
       "  'worcestershire sauce': {'quantity': 1.0,\n",
       "   'units': 'tablespoon',\n",
       "   'normalized_qty': 0.5,\n",
       "   'category': 'seasoning'},\n",
       "  'garlic': {'quantity': 1.0,\n",
       "   'units': 'tablespoon',\n",
       "   'normalized_qty': 0.5,\n",
       "   'category': 'vegetable'},\n",
       "  'oregano': {'quantity': 1.0,\n",
       "   'units': 'tablespoon',\n",
       "   'normalized_qty': 0.5,\n",
       "   'category': 'seasoning'},\n",
       "  'cumin': {'quantity': 2.0,\n",
       "   'units': 'teaspoon',\n",
       "   'normalized_qty': 0.3333333333333333,\n",
       "   'category': 'seasoning'},\n",
       "  'pepper sauce': {'quantity': 2.0,\n",
       "   'units': 'teaspoon',\n",
       "   'normalized_qty': 0.3333333333333333,\n",
       "   'category': 'seasoning'},\n",
       "  'basil': {'quantity': 1.0,\n",
       "   'units': 'teaspoon',\n",
       "   'normalized_qty': 0.16666666666666666,\n",
       "   'category': 'seasoning'},\n",
       "  'salt': {'quantity': 1.0,\n",
       "   'units': 'teaspoon',\n",
       "   'normalized_qty': 0.16666666666666666,\n",
       "   'category': 'seasoning'},\n",
       "  'black pepper': {'quantity': 1.0,\n",
       "   'units': 'teaspoon',\n",
       "   'normalized_qty': 0.16666666666666666,\n",
       "   'category': 'seasoning'},\n",
       "  'cayenne pepper': {'quantity': 1.0,\n",
       "   'units': 'teaspoon',\n",
       "   'normalized_qty': 0.16666666666666666,\n",
       "   'category': 'seasoning'},\n",
       "  'paprika': {'quantity': 1.0,\n",
       "   'units': 'teaspoon',\n",
       "   'normalized_qty': 0.16666666666666666,\n",
       "   'category': 'seasoning'},\n",
       "  'white sugar': {'quantity': 1.0,\n",
       "   'units': 'teaspoon',\n",
       "   'normalized_qty': 0.16666666666666666,\n",
       "   'category': 'seasoning'},\n",
       "  'corn chip': {'quantity': 10.5,\n",
       "   'units': 'ounce',\n",
       "   'normalized_qty': 10.5,\n",
       "   'category': 'other'},\n",
       "  'cheddar cheese': {'quantity': 8.0,\n",
       "   'units': 'ounce',\n",
       "   'normalized_qty': 8.0,\n",
       "   'category': 'other'}},\n",
       " 'ingredients_raw': ['2 pounds ground beef chuck',\n",
       "  '1 pound bulk Italian sausage',\n",
       "  '3 (15 ounce) cans chili beans, drained',\n",
       "  '1 (15 ounce) can chili beans in spicy sauce',\n",
       "  '2 (28 ounce) cans diced tomatoes with juice',\n",
       "  '1 (6 ounce) can tomato paste',\n",
       "  '1 large yellow onion, chopped',\n",
       "  '3 stalks celery, chopped',\n",
       "  '1 green bell pepper, seeded and chopped',\n",
       "  '1 red bell pepper, seeded and chopped',\n",
       "  '2 green chile peppers, seeded and chopped',\n",
       "  '1 tablespoon bacon bits',\n",
       "  '4 cubes beef bouillon',\n",
       "  '1/2 cup beer',\n",
       "  '1/4 cup chili powder',\n",
       "  '1 tablespoon Worcestershire sauce',\n",
       "  '1 tablespoon minced garlic',\n",
       "  '1 tablespoon dried oregano',\n",
       "  '2 teaspoons ground cumin',\n",
       "  '2 teaspoons hot pepper sauce (e.g. Tabasco™)',\n",
       "  '1 teaspoon dried basil',\n",
       "  '1 teaspoon salt',\n",
       "  '1 teaspoon ground black pepper',\n",
       "  '1 teaspoon cayenne pepper',\n",
       "  '1 teaspoon paprika',\n",
       "  '1 teaspoon white sugar',\n",
       "  '1 (10.5 ounce) bag corn chips such as Fritos®',\n",
       "  '1 (8 ounce) package shredded Cheddar cheese'],\n",
       " 'directions': {'timing': {'prep': 30, 'cook': 120, 'total': 150},\n",
       "  'steps': ['Heat a large stock pot over medium-high heat. Crumble the ground chuck and sausage into the hot pan, and cook until evenly browned. Drain off excess grease. Watch Now',\n",
       "   'Pour in the chili beans, spicy chili beans, diced tomatoes and tomato paste. Add the onion, celery, green and red bell peppers, chile peppers, bacon bits, bouillon, and beer. Season with chili powder, Worcestershire sauce, garlic, oregano, cumin, hot pepper sauce, basil, salt, pepper, cayenne, paprika, and sugar. Stir to blend, then cover and simmer over low heat for at least 2 hours, stirring occasionally. Watch Now',\n",
       "   'After 2 hours, taste, and adjust salt, pepper, and chili powder if necessary. The longer the chili simmers, the better it will taste. Remove from heat and serve, or refrigerate, and serve the next day. Watch Now',\n",
       "   'To serve, ladle into bowls, and top with corn chips and shredded Cheddar cheese. Watch Now'],\n",
       "  'servings': 12}}"
      ]
     },
     "execution_count": 59,
     "metadata": {},
     "output_type": "execute_result"
    }
   ],
   "source": [
    "#recipes[0]"
   ]
  },
  {
   "cell_type": "code",
   "execution_count": null,
   "metadata": {},
   "outputs": [],
   "source": []
  },
  {
   "cell_type": "code",
   "execution_count": 61,
   "metadata": {},
   "outputs": [],
   "source": [
    "df = create_dataframe(recipes)\n",
    "X = df.values\n",
    "cosine_sims = cosine_similarity(X)\n",
    "\n",
    "G = create_graph(cosine_sims, threshold=0.7)\n",
    "remove_isolates(G, 5)"
   ]
  },
  {
   "cell_type": "code",
   "execution_count": 62,
   "metadata": {},
   "outputs": [],
   "source": [
    "recipe_results = generate_recipes(G, df)"
   ]
  },
  {
   "cell_type": "code",
   "execution_count": 78,
   "metadata": {},
   "outputs": [
    {
     "name": "stdout",
     "output_type": "stream",
     "text": [
      "1 onion\n",
      "2 tablespoons chili powder\n",
      "2 1/2 cups tomato\n",
      "1 1/2 teaspoons cumin\n",
      "2 clove garlic\n",
      "1.0 pounds beef\n",
      "1 1/2 cups kidney beans\n",
      "1 bell pepper\n",
      "1/2 teaspoon salt\n",
      "1 teaspoon oregano\n",
      "3/4 cup tomato sauce\n",
      "1/4 teaspoon black pepper\n",
      "1/2 cup water\n",
      "1 1/2 teaspoons olive oil\n",
      "1/4 teaspoon cayenne pepper\n",
      "3/4 cup black beans\n",
      "2 tablespoons tomato paste\n",
      "1 1/2 teaspoons vegetable oil\n",
      "1/2 cup chicken broth\n",
      "2 tablespoons green chile\n"
     ]
    }
   ],
   "source": [
    "for i, qty in enumerate(recipe_results[0]):\n",
    "    ing = recipe_results[0].index[i]\n",
    "    print(convert_qty_to_common_units(ing, qty*10, units_by_ing), ing)"
   ]
  },
  {
   "cell_type": "code",
   "execution_count": 64,
   "metadata": {},
   "outputs": [
    {
     "data": {
      "text/plain": [
       "pandas.core.series.Series"
      ]
     },
     "execution_count": 64,
     "metadata": {},
     "output_type": "execute_result"
    }
   ],
   "source": [
    "type(recipe_results[0])"
   ]
  },
  {
   "cell_type": "code",
   "execution_count": null,
   "metadata": {},
   "outputs": [],
   "source": []
  }
 ],
 "metadata": {
  "kernelspec": {
   "display_name": "Python 3",
   "language": "python",
   "name": "python3"
  },
  "language_info": {
   "codemirror_mode": {
    "name": "ipython",
    "version": 3
   },
   "file_extension": ".py",
   "mimetype": "text/x-python",
   "name": "python",
   "nbconvert_exporter": "python",
   "pygments_lexer": "ipython3",
   "version": "3.6.8"
  }
 },
 "nbformat": 4,
 "nbformat_minor": 2
}
