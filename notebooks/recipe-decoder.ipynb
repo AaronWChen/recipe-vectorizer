{
 "cells": [
  {
   "cell_type": "code",
   "execution_count": 1,
   "metadata": {},
   "outputs": [
    {
     "name": "stdout",
     "output_type": "stream",
     "text": [
      "/Users/heilman/galvanize/recipe-vectorizer\n"
     ]
    }
   ],
   "source": [
    "%cd .."
   ]
  },
  {
   "cell_type": "code",
   "execution_count": 2,
   "metadata": {},
   "outputs": [],
   "source": [
    "from src.functions import *\n",
    "from src.modeling_functions import *\n",
    "import numpy as np\n",
    "import networkx as nx\n",
    "import pandas as pd\n",
    "from collections import Counter\n",
    "from string import *\n",
    "from sklearn.metrics.pairwise import cosine_similarity\n",
    "from sys import argv, exit\n",
    "import pymongo\n",
    "import matplotlib.pyplot as plt\n",
    "%matplotlib inline\n",
    "from matplotlib import cm"
   ]
  },
  {
   "cell_type": "code",
   "execution_count": 3,
   "metadata": {},
   "outputs": [],
   "source": [
    "mc = pymongo.MongoClient()\n",
    "db = mc['allrecipes']\n",
    "recipes_coll = db['recipes']"
   ]
  },
  {
   "cell_type": "code",
   "execution_count": 6,
   "metadata": {},
   "outputs": [],
   "source": [
    "recipes, ratings = find_recipes_matching_search(recipes_coll, 'chili')"
   ]
  },
  {
   "cell_type": "code",
   "execution_count": 7,
   "metadata": {},
   "outputs": [
    {
     "data": {
      "text/plain": [
       "296"
      ]
     },
     "execution_count": 7,
     "metadata": {},
     "output_type": "execute_result"
    }
   ],
   "source": [
    "len(recipes)"
   ]
  },
  {
   "cell_type": "code",
   "execution_count": 9,
   "metadata": {},
   "outputs": [],
   "source": [
    "units_by_ing = get_common_units_by_ingredient(recipes)"
   ]
  },
  {
   "cell_type": "code",
   "execution_count": 17,
   "metadata": {},
   "outputs": [
    {
     "data": {
      "text/plain": [
       "'each'"
      ]
     },
     "execution_count": 17,
     "metadata": {},
     "output_type": "execute_result"
    }
   ],
   "source": [
    "units_by_ing['onion'].most_common(1)[0][0]"
   ]
  },
  {
   "cell_type": "code",
   "execution_count": null,
   "metadata": {},
   "outputs": [],
   "source": [
    "conversion_dict"
   ]
  },
  {
   "cell_type": "code",
   "execution_count": 47,
   "metadata": {},
   "outputs": [],
   "source": [
    "def convert_qty_to_common_units(ingredient,\n",
    "                                norm_qty,\n",
    "                                units_by_ing,\n",
    "                                conversion_dict=conversion_dict):\n",
    "    desired_units = units_by_ing[ingredient].most_common(1)[0][0]\n",
    "    volume_based_units = ['teaspoon','tablespoon','cup','pint','quart','gallon','ounce','fluid ounce','milliliter',\n",
    "                          'pinch','dash']\n",
    "    if desired_units in volume_based_units:\n",
    "        return decode_volume_units(norm_qty)\n",
    "    elif desired_units == 'each':\n",
    "        ingredient_conversions = conversion_dict[desired_units]\n",
    "        try:\n",
    "            return str(round(norm_qty / ingredient_conversions[ingredient]))\n",
    "        except:\n",
    "            return str(round(norm_qty / ingredient_conversions['other']))\n",
    "    else:\n",
    "        try:\n",
    "            ingredient_conversions = conversion_dict[desired_units]\n",
    "            try:\n",
    "                return '{0} {1}'.format(round(norm_qty/ingredient_conversions[ingredient]), desired_units)\n",
    "            except:\n",
    "                return '{0} {1}'.format(round(norm_qty/ingredient_conversions['other']), desired_units)\n",
    "        except:\n",
    "            return '{0} {1}'.format(norm_qty, desired_units)"
   ]
  },
  {
   "cell_type": "code",
   "execution_count": 57,
   "metadata": {},
   "outputs": [
    {
     "data": {
      "text/plain": [
       "'1'"
      ]
     },
     "execution_count": 57,
     "metadata": {},
     "output_type": "execute_result"
    }
   ],
   "source": [
    "convert_qty_to_common_units('bell pepper', 4, units_by_ing)"
   ]
  },
  {
   "cell_type": "code",
   "execution_count": 43,
   "metadata": {},
   "outputs": [],
   "source": [
    "def decode_volume_units(norm_qty):\n",
    "    if norm_qty < 1/24 * 1.5:\n",
    "        return '1/4 teaspoon'\n",
    "    elif norm_qty < 1/12 * 1.5:\n",
    "        return '1/2 teaspoon'\n",
    "    elif norm_qty < 1/6 * 1.25:\n",
    "        return '1 teaspoon'\n",
    "    elif norm_qty < 1/6 * 1.75:\n",
    "        return '1 1/2 teaspoons'\n",
    "    elif norm_qty < 1/6 * 2.25:\n",
    "        return '2 teaspoons'\n",
    "    elif norm_qty < 1/6 * 2.75:\n",
    "        return '2 1/2 teaspoons'\n",
    "    elif norm_qty < 1/2 * 1.25:\n",
    "        return '1 tablespoon'\n",
    "    elif norm_qty < 1/2 * 1.75:\n",
    "        return '1 1/2 tablespoons'\n",
    "    elif norm_qty < 1.25:\n",
    "        return '2 tablespoons'\n",
    "    elif norm_qty < 1.75:\n",
    "        return '3 tablespoons'\n",
    "    elif norm_qty < 2.3:\n",
    "        return '1/4 cup'\n",
    "    elif norm_qty < 3:\n",
    "        return '1/3 cup'\n",
    "    elif norm_qty < 5:\n",
    "        return '1/2 cup'\n",
    "    elif norm_qty < 7:\n",
    "        return '3/4 cup'\n",
    "    elif norm_qty < 9:\n",
    "        return '1 cup'\n",
    "    elif norm_qty < 11:\n",
    "        return '1 1/4 cups'\n",
    "    elif norm_qty < 14:\n",
    "        return '1 1/2 cups'\n",
    "    elif norm_qty < 18:\n",
    "        return '2 cups'\n",
    "    elif norm_qty < 22:\n",
    "        return '2 1/2 cups'\n",
    "    elif norm_qty < 28:\n",
    "        return '3 cups'\n",
    "    elif norm_qty < 36:\n",
    "        return '1 quart'\n",
    "    else:\n",
    "        return '{0:1.2} quarts'.format(norm_qty / 32)"
   ]
  },
  {
   "cell_type": "code",
   "execution_count": 42,
   "metadata": {},
   "outputs": [
    {
     "data": {
      "text/plain": [
       "'1 1/4 cups'"
      ]
     },
     "execution_count": 42,
     "metadata": {},
     "output_type": "execute_result"
    }
   ],
   "source": []
  },
  {
   "cell_type": "code",
   "execution_count": null,
   "metadata": {},
   "outputs": [],
   "source": []
  }
 ],
 "metadata": {
  "kernelspec": {
   "display_name": "Python 3",
   "language": "python",
   "name": "python3"
  },
  "language_info": {
   "codemirror_mode": {
    "name": "ipython",
    "version": 3
   },
   "file_extension": ".py",
   "mimetype": "text/x-python",
   "name": "python",
   "nbconvert_exporter": "python",
   "pygments_lexer": "ipython3",
   "version": "3.6.8"
  }
 },
 "nbformat": 4,
 "nbformat_minor": 2
}
