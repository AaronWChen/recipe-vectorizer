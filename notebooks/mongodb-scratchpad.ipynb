{
 "cells": [
  {
   "cell_type": "code",
   "execution_count": 85,
   "metadata": {},
   "outputs": [],
   "source": [
    "import pymongo\n",
    "import numpy\n",
    "import json\n",
    "from datetime import *"
   ]
  },
  {
   "cell_type": "code",
   "execution_count": 2,
   "metadata": {},
   "outputs": [],
   "source": [
    "mc = pymongo.MongoClient()\n",
    "db = mc['allrecipes']\n",
    "recipes_coll = db['recipes']\n",
    "results_coll = db['search_results']"
   ]
  },
  {
   "cell_type": "code",
   "execution_count": 3,
   "metadata": {},
   "outputs": [
    {
     "data": {
      "text/plain": [
       "290"
      ]
     },
     "execution_count": 3,
     "metadata": {},
     "output_type": "execute_result"
    }
   ],
   "source": [
    "len(list(recipes_coll.find()))"
   ]
  },
  {
   "cell_type": "code",
   "execution_count": 4,
   "metadata": {},
   "outputs": [
    {
     "data": {
      "text/plain": [
       "488"
      ]
     },
     "execution_count": 4,
     "metadata": {},
     "output_type": "execute_result"
    }
   ],
   "source": [
    "len(list(results_coll.find()))"
   ]
  },
  {
   "cell_type": "code",
   "execution_count": 16,
   "metadata": {},
   "outputs": [
    {
     "name": "stdout",
     "output_type": "stream",
     "text": [
      "set()\n"
     ]
    }
   ],
   "source": [
    "cursor = recipes_coll.find()\n",
    "repeats = set()\n",
    "for recipe in cursor:\n",
    "    if len(list(recipes_coll.find({'id':recipe['id']}))) > 1:\n",
    "        repeats.add(recipe['id'])\n",
    "print(repeats)"
   ]
  },
  {
   "cell_type": "code",
   "execution_count": 13,
   "metadata": {},
   "outputs": [
    {
     "data": {
      "text/plain": [
       "[{'_id': ObjectId('5ca3cf24c6d0b005892ceb08'),\n",
       "  'id': 15914,\n",
       "  'name': 'Chili Soup',\n",
       "  'href': 'https://www.allrecipes.com/recipe/15914/chili-soup/',\n",
       "  'category': {'lvl_1': 'Soups, Stews and Chili',\n",
       "   'lvl_2': 'Chili',\n",
       "   'lvl_3': 'Beef Chili'},\n",
       "  'rating_info': {'rating': 4.4642858505249, 'made_by': 48, 'reviews': 25},\n",
       "  'submitter_info': None,\n",
       "  'ingredients': [{'quantity': 3.0,\n",
       "    'units': 'pound',\n",
       "    'ingredient': 'ground beef'},\n",
       "   {'quantity': 1.5, 'units': 'cup', 'ingredient': 'onion'},\n",
       "   {'quantity': 2.0, 'units': 'each', 'ingredient': 'potatoes'},\n",
       "   {'quantity': 60.0, 'units': 'ounce', 'ingredient': 'kidney beans'},\n",
       "   {'quantity': 43.0, 'units': 'ounce', 'ingredient': 'tomato soup'},\n",
       "   {'quantity': 8.0, 'units': 'cup', 'ingredient': 'tomato juice'},\n",
       "   {'quantity': 3.0, 'units': 'teaspoon', 'ingredient': 'chili powder'},\n",
       "   {'quantity': 8.0, 'units': 'cup', 'ingredient': 'water'}],\n",
       "  'directions': {'timing': None,\n",
       "   'steps': ['In a large pot over medium heat, combine the ground beef and onions. Saute for 5 minutes, or until meat is browned. Drain excess fat and add the potatoes, beans, tomato soup, tomato juice, chili powder, water and salt to taste. Bring just to a boil and reduce heat to low. Simmer for 1 hour and serve.'],\n",
       "   'servings': 14}},\n",
       " {'_id': ObjectId('5ca4cca8f07ba5267ca0892a'),\n",
       "  'id': 15914,\n",
       "  'name': 'Chili Soup',\n",
       "  'href': 'https://www.allrecipes.com/recipe/15914/chili-soup/',\n",
       "  'category': {'lvl_1': 'Soups, Stews and Chili',\n",
       "   'lvl_2': 'Chili',\n",
       "   'lvl_3': 'Beef Chili'},\n",
       "  'rating_info': None,\n",
       "  'submitter_info': None,\n",
       "  'ingredients': [{'quantity': 3.0,\n",
       "    'units': 'pound',\n",
       "    'ingredient': 'ground beef'},\n",
       "   {'quantity': 1.5, 'units': 'cup', 'ingredient': 'onion'},\n",
       "   {'quantity': 2.0, 'units': 'each', 'ingredient': 'potatoes'},\n",
       "   {'quantity': 60.0, 'units': 'ounce', 'ingredient': 'kidney beans'},\n",
       "   {'quantity': 43.0, 'units': 'ounce', 'ingredient': 'tomato soup'},\n",
       "   {'quantity': 8.0, 'units': 'cup', 'ingredient': 'tomato juice'},\n",
       "   {'quantity': 3.0, 'units': 'teaspoon', 'ingredient': 'chili powder'},\n",
       "   {'quantity': 8.0, 'units': 'cup', 'ingredient': 'water'}],\n",
       "  'ingredients_raw': ['3 pounds ground beef',\n",
       "   '1 1/2 cups chopped onion',\n",
       "   '2 potatoes, cubed',\n",
       "   '4 (15 ounce) cans kidney beans',\n",
       "   '4 (10.75 ounce) cans condensed tomato soup',\n",
       "   '8 cups tomato juice',\n",
       "   '3 teaspoons chili powder',\n",
       "   '8 cups water'],\n",
       "  'directions': {'timing': None,\n",
       "   'steps': ['In a large pot over medium heat, combine the ground beef and onions. Saute for 5 minutes, or until meat is browned. Drain excess fat and add the potatoes, beans, tomato soup, tomato juice, chili powder, water and salt to taste. Bring just to a boil and reduce heat to low. Simmer for 1 hour and serve.'],\n",
       "   'servings': 14}}]"
      ]
     },
     "execution_count": 13,
     "metadata": {},
     "output_type": "execute_result"
    }
   ],
   "source": [
    "list(recipes_coll.find({'id':15914}))"
   ]
  },
  {
   "cell_type": "code",
   "execution_count": 15,
   "metadata": {},
   "outputs": [],
   "source": [
    "for recipe_id in repeats:\n",
    "    recipes_coll.delete_one({'id':recipe_id})"
   ]
  },
  {
   "cell_type": "code",
   "execution_count": 32,
   "metadata": {},
   "outputs": [
    {
     "name": "stdout",
     "output_type": "stream",
     "text": [
      "List length : 386\n",
      "Set length  : 386\n",
      "Repeats     : 0\n"
     ]
    }
   ],
   "source": [
    "cursor = results_coll.find()\n",
    "id_list = []\n",
    "id_set = set()\n",
    "repeats = set()\n",
    "for result in cursor:\n",
    "    if len(list(results_coll.find({'id':result['id']}))) > 1:\n",
    "        repeats.add(result['id'])\n",
    "    id_list.append(result['id'])\n",
    "    id_set.add(result['id'])\n",
    "print('List length :', len(id_list))\n",
    "print('Set length  :', len(id_set))\n",
    "print('Repeats     :', len(repeats))"
   ]
  },
  {
   "cell_type": "code",
   "execution_count": 31,
   "metadata": {},
   "outputs": [
    {
     "name": "stdout",
     "output_type": "stream",
     "text": [
      "Len. prev.: 0\n",
      "Len. curr.: 486\n",
      "Len. prev.: 486\n",
      "Len. curr.: 426\n",
      "Len. prev.: 426\n",
      "Len. curr.: 387\n",
      "Len. prev.: 387\n",
      "Len. curr.: 387\n",
      "Len. prev.: 387\n",
      "Len. curr.: 386\n"
     ]
    }
   ],
   "source": [
    "len_prev = 0\n",
    "while True:\n",
    "    cursor = results_coll.find()\n",
    "    repeats = set()\n",
    "    len_current = 0\n",
    "    for result in cursor:\n",
    "        if len(list(results_coll.find({'id':result['id']}))) > 1:\n",
    "            repeats.add(result['id'])\n",
    "        len_current += 1\n",
    "    print('Len. prev.:', len_prev)\n",
    "    print('Len. curr.:', len_current)\n",
    "    if len(repeats) == 0:\n",
    "        break\n",
    "    if len_prev == len_current:\n",
    "        for result_id in repeats:\n",
    "            results_coll.delete_one({'id':result_id, 'viewed':1})\n",
    "    else:\n",
    "        for result_id in repeats:\n",
    "            results_coll.delete_one({'id':result_id, 'viewed':0})\n",
    "    len_prev = len_current"
   ]
  },
  {
   "cell_type": "code",
   "execution_count": 29,
   "metadata": {},
   "outputs": [
    {
     "data": {
      "text/plain": [
       "{'_id': ObjectId('5ca453368fd54bc4290e015a'),\n",
       " 'id': 228293,\n",
       " 'name': 'Curry Stand Chicken Tikka Masala Sauce',\n",
       " 'href': 'https://www.allrecipes.com/recipe/228293/curry-stand-chicken-tikka-masala-sauce',\n",
       " 'viewed': 1}"
      ]
     },
     "execution_count": 29,
     "metadata": {},
     "output_type": "execute_result"
    }
   ],
   "source": [
    "results_coll.find_one()"
   ]
  },
  {
   "cell_type": "code",
   "execution_count": 33,
   "metadata": {},
   "outputs": [
    {
     "data": {
      "text/plain": [
       "['admin',\n",
       " 'allrecipes',\n",
       " 'config',\n",
       " 'fraud',\n",
       " 'fraud_case_study',\n",
       " 'local',\n",
       " 'nyt_dump',\n",
       " 'recipes_test']"
      ]
     },
     "execution_count": 33,
     "metadata": {},
     "output_type": "execute_result"
    }
   ],
   "source": [
    "mc.list_database_names()"
   ]
  },
  {
   "cell_type": "code",
   "execution_count": 34,
   "metadata": {},
   "outputs": [],
   "source": [
    "db_test = mc['recipes_test']"
   ]
  },
  {
   "cell_type": "code",
   "execution_count": 35,
   "metadata": {},
   "outputs": [
    {
     "data": {
      "text/plain": [
       "['search_results', 'recipes']"
      ]
     },
     "execution_count": 35,
     "metadata": {},
     "output_type": "execute_result"
    }
   ],
   "source": [
    "db_test.list_collection_names()"
   ]
  },
  {
   "cell_type": "code",
   "execution_count": 36,
   "metadata": {},
   "outputs": [],
   "source": [
    "recipes_test = db_test['recipes']"
   ]
  },
  {
   "cell_type": "code",
   "execution_count": 37,
   "metadata": {},
   "outputs": [
    {
     "data": {
      "text/plain": [
       "{'_id': ObjectId('5ca3adba8fd54b1b485da598'),\n",
       " 'id': '78299',\n",
       " 'name': 'Boilermaker Tailgate Chili',\n",
       " 'href': 'https://www.allrecipes.com/recipe/78299/boilermaker-tailgate-chili/',\n",
       " 'category': {'lvl_1': 'Soups, Stews and Chili',\n",
       "  'lvl_2': 'Chili',\n",
       "  'lvl_3': 'Pork Chili'},\n",
       " 'rating_info': {'rating': 4.8183069229126, 'made_by': 12000, 'reviews': 4000},\n",
       " 'submitter_info': {'id': 591623,\n",
       "  'name': 'MIGHTYPURDUE22',\n",
       "  'followers': 41,\n",
       "  'href': 'https://www.allrecipes.com/cook/591623/'},\n",
       " 'ingredients': [{'quantity': 2.0,\n",
       "   'units': 'pound',\n",
       "   'ingredient': 'ground beef chuck'},\n",
       "  {'quantity': 1.0, 'units': 'pound', 'ingredient': 'italian sausage'},\n",
       "  {'quantity': 45.0, 'units': 'ounce', 'ingredient': 'chili beans'},\n",
       "  {'quantity': 15.0,\n",
       "   'units': 'ounce',\n",
       "   'ingredient': 'chili beans in spicy sauce'},\n",
       "  {'quantity': 56.0, 'units': 'ounce', 'ingredient': 'tomatoes with juice'},\n",
       "  {'quantity': 6.0, 'units': 'ounce', 'ingredient': 'tomato paste'},\n",
       "  {'quantity': 1.0, 'units': 'each', 'ingredient': 'yellow onion'},\n",
       "  {'quantity': 3.0, 'units': 'stalk', 'ingredient': 'celery'},\n",
       "  {'quantity': 1.0, 'units': 'each', 'ingredient': 'green bell pepper'},\n",
       "  {'quantity': 1.0, 'units': 'each', 'ingredient': 'red bell pepper'},\n",
       "  {'quantity': 2.0, 'units': 'each', 'ingredient': 'green chile peppers'},\n",
       "  {'quantity': 1.0, 'units': 'tablespoon', 'ingredient': 'bacon bits'},\n",
       "  {'quantity': 4.0, 'units': 'cube', 'ingredient': 'beef bouillon'},\n",
       "  {'quantity': 0.5, 'units': 'cup', 'ingredient': 'beer'},\n",
       "  {'quantity': 0.25, 'units': 'cup', 'ingredient': 'chili powder'},\n",
       "  {'quantity': 1.0,\n",
       "   'units': 'tablespoon',\n",
       "   'ingredient': 'worcestershire sauce'},\n",
       "  {'quantity': 1.0, 'units': 'tablespoon', 'ingredient': 'garlic'},\n",
       "  {'quantity': 1.0, 'units': 'tablespoon', 'ingredient': 'oregano'},\n",
       "  {'quantity': 2.0, 'units': 'teaspoon', 'ingredient': 'ground cumin'},\n",
       "  {'quantity': 2.0,\n",
       "   'units': 'teaspoon',\n",
       "   'ingredient': 'pepper sauce eg tabasco'},\n",
       "  {'quantity': 1.0, 'units': 'teaspoon', 'ingredient': 'basil'},\n",
       "  {'quantity': 1.0, 'units': 'teaspoon', 'ingredient': 'salt'},\n",
       "  {'quantity': 1.0, 'units': 'teaspoon', 'ingredient': 'ground black pepper'},\n",
       "  {'quantity': 1.0, 'units': 'teaspoon', 'ingredient': 'cayenne pepper'},\n",
       "  {'quantity': 1.0, 'units': 'teaspoon', 'ingredient': 'paprika'},\n",
       "  {'quantity': 1.0, 'units': 'teaspoon', 'ingredient': 'white sugar'},\n",
       "  {'quantity': 10.5, 'units': 'ounce', 'ingredient': 'corn chips'},\n",
       "  {'quantity': 8.0, 'units': 'ounce', 'ingredient': 'cheddar cheese'}],\n",
       " 'directions': {'timing': {'prep': 30, 'cook': 120, 'total': 150},\n",
       "  'steps': ['Heat a large stock pot over medium-high heat. Crumble the ground chuck and sausage into the hot pan, and cook until evenly browned. Drain off excess grease.',\n",
       "   'Pour in the chili beans, spicy chili beans, diced tomatoes and tomato paste. Add the onion, celery, green and red bell peppers, chile peppers, bacon bits, bouillon, and beer. Season with chili powder, Worcestershire sauce, garlic, oregano, cumin, hot pepper sauce, basil, salt, pepper, cayenne, paprika, and sugar. Stir to blend, then cover and simmer over low heat for at least 2 hours, stirring occasionally.',\n",
       "   'After 2 hours, taste, and adjust salt, pepper, and chili powder if necessary. The longer the chili simmers, the better it will taste. Remove from heat and serve, or refrigerate, and serve the next day.',\n",
       "   'To serve, ladle into bowls, and top with corn chips and shredded Cheddar cheese.'],\n",
       "  'servings': 12}}"
      ]
     },
     "execution_count": 37,
     "metadata": {},
     "output_type": "execute_result"
    }
   ],
   "source": [
    "recipes_test.find_one()"
   ]
  },
  {
   "cell_type": "code",
   "execution_count": 38,
   "metadata": {},
   "outputs": [
    {
     "data": {
      "text/plain": [
       "<pymongo.results.InsertOneResult at 0x117c5b588>"
      ]
     },
     "execution_count": 38,
     "metadata": {},
     "output_type": "execute_result"
    }
   ],
   "source": [
    "fake = {'id':12345, 'name':'My Fake Recipe', 'ingredients':None}\n",
    "recipes_test.insert_one(fake)"
   ]
  },
  {
   "cell_type": "code",
   "execution_count": 64,
   "metadata": {},
   "outputs": [],
   "source": [
    "cursor = recipes_test.find().sort([('_id',-1)]).limit(1)\n",
    "recipe = next(cursor)"
   ]
  },
  {
   "cell_type": "code",
   "execution_count": 73,
   "metadata": {},
   "outputs": [],
   "source": [
    "timestamp = recipe['_id'].generation_time"
   ]
  },
  {
   "cell_type": "code",
   "execution_count": 76,
   "metadata": {},
   "outputs": [
    {
     "data": {
      "text/plain": [
       "'2019-04-03 19:10:11'"
      ]
     },
     "execution_count": 76,
     "metadata": {},
     "output_type": "execute_result"
    }
   ],
   "source": [
    "timestamp.strftime('%Y-%m-%d %H:%M:%S')"
   ]
  },
  {
   "cell_type": "code",
   "execution_count": 86,
   "metadata": {},
   "outputs": [],
   "source": [
    "now = datetime.now(timezone.utc)"
   ]
  },
  {
   "cell_type": "code",
   "execution_count": 88,
   "metadata": {},
   "outputs": [],
   "source": [
    "diff = now-timestamp"
   ]
  },
  {
   "cell_type": "code",
   "execution_count": 92,
   "metadata": {},
   "outputs": [
    {
     "data": {
      "text/plain": [
       "'0:24:21.896417'"
      ]
     },
     "execution_count": 92,
     "metadata": {},
     "output_type": "execute_result"
    }
   ],
   "source": [
    "str(diff)"
   ]
  },
  {
   "cell_type": "code",
   "execution_count": null,
   "metadata": {},
   "outputs": [],
   "source": []
  }
 ],
 "metadata": {
  "kernelspec": {
   "display_name": "Python 3",
   "language": "python",
   "name": "python3"
  },
  "language_info": {
   "codemirror_mode": {
    "name": "ipython",
    "version": 3
   },
   "file_extension": ".py",
   "mimetype": "text/x-python",
   "name": "python",
   "nbconvert_exporter": "python",
   "pygments_lexer": "ipython3",
   "version": "3.6.8"
  }
 },
 "nbformat": 4,
 "nbformat_minor": 2
}
