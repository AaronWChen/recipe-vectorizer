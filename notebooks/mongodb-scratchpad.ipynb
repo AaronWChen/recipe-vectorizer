{
 "cells": [
  {
   "cell_type": "code",
   "execution_count": 1,
   "metadata": {},
   "outputs": [],
   "source": [
    "import pymongo\n",
    "import numpy\n",
    "import json\n",
    "from datetime import *"
   ]
  },
  {
   "cell_type": "code",
   "execution_count": 3,
   "metadata": {},
   "outputs": [],
   "source": [
    "mc = pymongo.MongoClient()\n",
    "db = mc['allrecipes']\n",
    "recipes_coll = db['recipes']\n",
    "results_coll = db['search_results']"
   ]
  },
  {
   "cell_type": "code",
   "execution_count": 16,
   "metadata": {},
   "outputs": [
    {
     "data": {
      "text/plain": [
       "2536"
      ]
     },
     "execution_count": 16,
     "metadata": {},
     "output_type": "execute_result"
    }
   ],
   "source": [
    "len(list(recipes_coll.find()))"
   ]
  },
  {
   "cell_type": "code",
   "execution_count": 17,
   "metadata": {},
   "outputs": [
    {
     "data": {
      "text/plain": [
       "2785"
      ]
     },
     "execution_count": 17,
     "metadata": {},
     "output_type": "execute_result"
    }
   ],
   "source": [
    "len(list(results_coll.find()))"
   ]
  },
  {
   "cell_type": "code",
   "execution_count": 26,
   "metadata": {},
   "outputs": [
    {
     "data": {
      "text/plain": [
       "0"
      ]
     },
     "execution_count": 26,
     "metadata": {},
     "output_type": "execute_result"
    }
   ],
   "source": [
    "len(list(results_coll.find({'viewed': 1})))"
   ]
  },
  {
   "cell_type": "code",
   "execution_count": 6,
   "metadata": {},
   "outputs": [
    {
     "name": "stdout",
     "output_type": "stream",
     "text": [
      "set()\n"
     ]
    }
   ],
   "source": [
    "cursor = recipes_coll.find()\n",
    "repeats = set()\n",
    "for recipe in cursor:\n",
    "    if len(list(recipes_coll.find({'id':recipe['id']}))) > 1:\n",
    "        repeats.add(recipe['id'])\n",
    "print(repeats)"
   ]
  },
  {
   "cell_type": "code",
   "execution_count": 52,
   "metadata": {},
   "outputs": [
    {
     "data": {
      "text/plain": [
       "[{'_id': ObjectId('5ca3d364c6d0b0065c2390a8'),\n",
       "  'id': 16882,\n",
       "  'name': 'Chili Casserole',\n",
       "  'href': 'https://www.allrecipes.com/recipe/16882/chili-casserole/',\n",
       "  'viewed': 1},\n",
       " {'_id': ObjectId('5ca3e376c6d0b005b6f9ab3e'),\n",
       "  'id': 16882,\n",
       "  'name': 'Chili Casserole',\n",
       "  'href': 'https://www.allrecipes.com/recipe/16882/chili-casserole',\n",
       "  'viewed': 1}]"
      ]
     },
     "execution_count": 52,
     "metadata": {},
     "output_type": "execute_result"
    }
   ],
   "source": [
    "list(results_coll.find({'id' : 16882}))"
   ]
  },
  {
   "cell_type": "code",
   "execution_count": 51,
   "metadata": {},
   "outputs": [
    {
     "data": {
      "text/plain": [
       "[{'_id': ObjectId('5cae71878fd54b212e0db877'),\n",
       "  'id': 16882,\n",
       "  'name': 'Chili Casserole',\n",
       "  'href': 'https://www.allrecipes.com/recipe/16882/chili-casserole/',\n",
       "  'category': {'lvl_1': 'World Cuisine',\n",
       "   'lvl_2': 'Latin American',\n",
       "   'lvl_3': 'Mexican'},\n",
       "  'rating_info': {'rating': 3.97744369506836, 'made_by': 156, 'reviews': 90},\n",
       "  'submitter_info': {'id': 1744,\n",
       "   'name': 'sal',\n",
       "   'followers': 113,\n",
       "   'href': 'https://www.allrecipes.com/cook/1744/'},\n",
       "  'ingredients': {'beef': {'quantity': 1.5,\n",
       "    'units': 'pound',\n",
       "    'normalized_qty': 24.0,\n",
       "    'category': 'protein'},\n",
       "   'onion': {'quantity': 0.5,\n",
       "    'units': 'cup',\n",
       "    'normalized_qty': 4.0,\n",
       "    'category': 'vegetable'},\n",
       "   'celery': {'quantity': 3.0,\n",
       "    'units': 'stalk',\n",
       "    'normalized_qty': 6.0,\n",
       "    'category': 'vegetable'},\n",
       "   'chili': {'quantity': 15.0,\n",
       "    'units': 'ounce',\n",
       "    'normalized_qty': 15.0,\n",
       "    'category': 'other'},\n",
       "   'tomato': {'quantity': 14.5,\n",
       "    'units': 'ounce',\n",
       "    'normalized_qty': 14.5,\n",
       "    'category': 'vegetable'},\n",
       "   'taco sauce': {'quantity': 0.25,\n",
       "    'units': 'cup',\n",
       "    'normalized_qty': 2.0,\n",
       "    'category': 'other'},\n",
       "   'corn': {'quantity': 15.0,\n",
       "    'units': 'ounce',\n",
       "    'normalized_qty': 15.0,\n",
       "    'category': 'vegetable'},\n",
       "   'egg noodle': {'quantity': 8.0,\n",
       "    'units': 'ounce',\n",
       "    'normalized_qty': 8.0,\n",
       "    'category': 'other'},\n",
       "   'cheddar cheese': {'quantity': 0.25,\n",
       "    'units': 'cup',\n",
       "    'normalized_qty': 2.0,\n",
       "    'category': 'other'}},\n",
       "  'ingredients_raw': ['1 1/2 pounds ground beef',\n",
       "   '1/2 cup chopped onion',\n",
       "   '3 stalks celery, chopped',\n",
       "   '1 (15 ounce) can chili',\n",
       "   '1 (14.5 ounce) can peeled and diced tomatoes with juice',\n",
       "   '1/4 cup taco sauce',\n",
       "   '1 (15 ounce) can corn',\n",
       "   '1 (8 ounce) package egg noodles',\n",
       "   '1/4 cup shredded Cheddar cheese'],\n",
       "  'directions': {'timing': {'prep': 20, 'cook': 20, 'total': 40},\n",
       "   'steps': ['Preheat oven to 350 degrees F (175 degrees C).',\n",
       "    'In a large skillet over medium high heat, saute the beef and onion for 5 to 10 minutes, or until meat is browned and onion is tender; drain fat. Add the celery, chili, tomatoes, taco sauce and corn. Heat thoroughly, reduce heat to low and allow to simmer.',\n",
       "    'Meanwhile, prepare the noodles according to package directions. When cooked, place them in a 9x13 inch baking dish. Pour the meat mixture over the noodles, stirring well. Top with the cheese.',\n",
       "    'Bake at 350 degrees F (175 degrees C) for 20 minutes, or until cheese is completely melted and bubbly.'],\n",
       "   'servings': 6}}]"
      ]
     },
     "execution_count": 51,
     "metadata": {},
     "output_type": "execute_result"
    }
   ],
   "source": [
    "list(recipes_coll.find({'id' : 16882}))"
   ]
  },
  {
   "cell_type": "code",
   "execution_count": 15,
   "metadata": {},
   "outputs": [],
   "source": [
    "for recipe_id in repeats:\n",
    "    recipes_coll.delete_one({'id':recipe_id})"
   ]
  },
  {
   "cell_type": "code",
   "execution_count": 32,
   "metadata": {},
   "outputs": [
    {
     "name": "stdout",
     "output_type": "stream",
     "text": [
      "List length : 386\n",
      "Set length  : 386\n",
      "Repeats     : 0\n"
     ]
    }
   ],
   "source": [
    "cursor = results_coll.find()\n",
    "id_list = []\n",
    "id_set = set()\n",
    "repeats = set()\n",
    "for result in cursor:\n",
    "    if len(list(results_coll.find({'id':result['id']}))) > 1:\n",
    "        repeats.add(result['id'])\n",
    "    id_list.append(result['id'])\n",
    "    id_set.add(result['id'])\n",
    "print('List length :', len(id_list))\n",
    "print('Set length  :', len(id_set))\n",
    "print('Repeats     :', len(repeats))"
   ]
  },
  {
   "cell_type": "code",
   "execution_count": 31,
   "metadata": {},
   "outputs": [
    {
     "name": "stdout",
     "output_type": "stream",
     "text": [
      "Len. prev.: 0\n",
      "Len. curr.: 486\n",
      "Len. prev.: 486\n",
      "Len. curr.: 426\n",
      "Len. prev.: 426\n",
      "Len. curr.: 387\n",
      "Len. prev.: 387\n",
      "Len. curr.: 387\n",
      "Len. prev.: 387\n",
      "Len. curr.: 386\n"
     ]
    }
   ],
   "source": [
    "len_prev = 0\n",
    "while True:\n",
    "    cursor = results_coll.find()\n",
    "    repeats = set()\n",
    "    len_current = 0\n",
    "    for result in cursor:\n",
    "        if len(list(results_coll.find({'id':result['id']}))) > 1:\n",
    "            repeats.add(result['id'])\n",
    "        len_current += 1\n",
    "    print('Len. prev.:', len_prev)\n",
    "    print('Len. curr.:', len_current)\n",
    "    if len(repeats) == 0:\n",
    "        break\n",
    "    if len_prev == len_current:\n",
    "        for result_id in repeats:\n",
    "            results_coll.delete_one({'id':result_id, 'viewed':1})\n",
    "    else:\n",
    "        for result_id in repeats:\n",
    "            results_coll.delete_one({'id':result_id, 'viewed':0})\n",
    "    len_prev = len_current"
   ]
  },
  {
   "cell_type": "code",
   "execution_count": 29,
   "metadata": {},
   "outputs": [
    {
     "data": {
      "text/plain": [
       "{'_id': ObjectId('5ca453368fd54bc4290e015a'),\n",
       " 'id': 228293,\n",
       " 'name': 'Curry Stand Chicken Tikka Masala Sauce',\n",
       " 'href': 'https://www.allrecipes.com/recipe/228293/curry-stand-chicken-tikka-masala-sauce',\n",
       " 'viewed': 1}"
      ]
     },
     "execution_count": 29,
     "metadata": {},
     "output_type": "execute_result"
    }
   ],
   "source": [
    "results_coll.find_one()"
   ]
  },
  {
   "cell_type": "code",
   "execution_count": 33,
   "metadata": {},
   "outputs": [
    {
     "data": {
      "text/plain": [
       "['admin',\n",
       " 'allrecipes',\n",
       " 'config',\n",
       " 'fraud',\n",
       " 'fraud_case_study',\n",
       " 'local',\n",
       " 'nyt_dump',\n",
       " 'recipes_test']"
      ]
     },
     "execution_count": 33,
     "metadata": {},
     "output_type": "execute_result"
    }
   ],
   "source": [
    "mc.list_database_names()"
   ]
  },
  {
   "cell_type": "code",
   "execution_count": 34,
   "metadata": {},
   "outputs": [],
   "source": [
    "db_test = mc['recipes_test']"
   ]
  },
  {
   "cell_type": "code",
   "execution_count": 35,
   "metadata": {},
   "outputs": [
    {
     "data": {
      "text/plain": [
       "['search_results', 'recipes']"
      ]
     },
     "execution_count": 35,
     "metadata": {},
     "output_type": "execute_result"
    }
   ],
   "source": [
    "db_test.list_collection_names()"
   ]
  },
  {
   "cell_type": "code",
   "execution_count": 36,
   "metadata": {},
   "outputs": [],
   "source": [
    "recipes_test = db_test['recipes']"
   ]
  },
  {
   "cell_type": "code",
   "execution_count": 19,
   "metadata": {},
   "outputs": [
    {
     "data": {
      "text/plain": [
       "{'_id': ObjectId('5ca3e27cc6d0b005b6f9ab2f'),\n",
       " 'id': 214843,\n",
       " 'name': \"Dad's Chili\",\n",
       " 'href': 'https://www.allrecipes.com/recipe/214843/dads-chili/',\n",
       " 'category': {'lvl_1': 'Soups, Stews and Chili',\n",
       "  'lvl_2': 'Chili',\n",
       "  'lvl_3': 'Pork Chili'},\n",
       " 'rating_info': None,\n",
       " 'submitter_info': {'id': 393481,\n",
       "  'name': 'DNACLOWN',\n",
       "  'followers': 0,\n",
       "  'href': 'https://www.allrecipes.com/cook/393481/'},\n",
       " 'ingredients': {'beef': {'quantity': 2.5,\n",
       "   'units': 'pound',\n",
       "   'normalized_qty': 40.0,\n",
       "   'category': 'protein'},\n",
       "  'pork': {'quantity': 1.0,\n",
       "   'units': 'pound',\n",
       "   'normalized_qty': 16.0,\n",
       "   'category': 'other'},\n",
       "  'butter': {'quantity': 0.5,\n",
       "   'units': 'cup',\n",
       "   'normalized_qty': 4.0,\n",
       "   'category': 'fat'},\n",
       "  'garlic': {'quantity': 2.0,\n",
       "   'units': 'clove',\n",
       "   'normalized_qty': 1.0,\n",
       "   'category': 'vegetable'},\n",
       "  'bell pepper': {'quantity': 1.0,\n",
       "   'units': 'pound',\n",
       "   'normalized_qty': 16.0,\n",
       "   'category': 'vegetable'},\n",
       "  'onion': {'quantity': 1.5,\n",
       "   'units': 'pound',\n",
       "   'normalized_qty': 24.0,\n",
       "   'category': 'vegetable'},\n",
       "  'pinto beans': {'quantity': 30.0,\n",
       "   'units': 'ounce',\n",
       "   'normalized_qty': 30.0,\n",
       "   'category': 'vegetable'},\n",
       "  'tomato': {'quantity': 5.0,\n",
       "   'units': 'cup',\n",
       "   'normalized_qty': 40.0,\n",
       "   'category': 'vegetable'},\n",
       "  'parsley': {'quantity': 0.5,\n",
       "   'units': 'cup',\n",
       "   'normalized_qty': 4.0,\n",
       "   'category': 'vegetable'},\n",
       "  'chili powder': {'quantity': 2.0,\n",
       "   'units': 'tablespoon',\n",
       "   'normalized_qty': 1.0,\n",
       "   'category': 'seasoning'},\n",
       "  'black pepper': {'quantity': 1.5,\n",
       "   'units': 'teaspoon',\n",
       "   'normalized_qty': 0.25,\n",
       "   'category': 'seasoning'},\n",
       "  'monosodium glutamate': {'quantity': 1.5,\n",
       "   'units': 'teaspoon',\n",
       "   'normalized_qty': 0.25,\n",
       "   'category': 'other'},\n",
       "  'salt': {'quantity': 1.0,\n",
       "   'units': 'tablespoon',\n",
       "   'normalized_qty': 0.5,\n",
       "   'category': 'seasoning'},\n",
       "  'cumin': {'quantity': 1.5,\n",
       "   'units': 'teaspoon',\n",
       "   'normalized_qty': 0.25,\n",
       "   'category': 'seasoning'}},\n",
       " 'ingredients_raw': ['2 1/2 pounds ground beef',\n",
       "  '1 pound ground pork',\n",
       "  '1/2 cup butter',\n",
       "  '2 cloves garlic, diced',\n",
       "  '1 pound green bell pepper, chopped',\n",
       "  '1 1/2 pounds onion, chopped',\n",
       "  '2 (15 ounce) cans pinto beans, rinsed and drained',\n",
       "  '5 cups canned diced tomatoes with their juice',\n",
       "  '1/2 cup chopped fresh parsley',\n",
       "  '2 tablespoons chili powder, or more to taste',\n",
       "  '1 1/2 teaspoons ground black pepper',\n",
       "  \"1 1/2 teaspoons monosodium glutamate (such as Ac'cent®)\",\n",
       "  '1 tablespoon salt',\n",
       "  '1 1/2 teaspoons ground cumin'],\n",
       " 'directions': {'timing': {'prep': 15, 'cook': 80, 'total': 95},\n",
       "  'steps': ['Heat a large skillet over medium-high heat and stir in the ground beef and ground pork. Cook and stir until the meat is crumbly, evenly browned, and no longer pink. Drain and discard any excess grease. Set meat aside. Melt the butter in the pot over medium heat. Stir in the garlic, bell pepper, and onion; cook and stir until the onion has softened and turned translucent, about 5 minutes. Stir in the cooked meat, pinto beans, tomatoes, parsley, chili powder, pepper, monosodium glutamate, salt, and cumin. Cover and bring to a boil, then reduce heat, and simmer for 1 hour.'],\n",
       "  'servings': 12}}"
      ]
     },
     "execution_count": 19,
     "metadata": {},
     "output_type": "execute_result"
    }
   ],
   "source": [
    "recipes_coll.find_one()"
   ]
  },
  {
   "cell_type": "code",
   "execution_count": 38,
   "metadata": {},
   "outputs": [
    {
     "data": {
      "text/plain": [
       "<pymongo.results.InsertOneResult at 0x117c5b588>"
      ]
     },
     "execution_count": 38,
     "metadata": {},
     "output_type": "execute_result"
    }
   ],
   "source": [
    "fake = {'id':12345, 'name':'My Fake Recipe', 'ingredients':None}\n",
    "recipes_test.insert_one(fake)"
   ]
  },
  {
   "cell_type": "code",
   "execution_count": 100,
   "metadata": {},
   "outputs": [],
   "source": [
    "cursor = recipes_test.find().sort([('_id',-1)]).limit(1)\n",
    "recipe = next(cursor)"
   ]
  },
  {
   "cell_type": "code",
   "execution_count": 73,
   "metadata": {},
   "outputs": [],
   "source": [
    "timestamp = recipe['_id'].generation_time"
   ]
  },
  {
   "cell_type": "code",
   "execution_count": 76,
   "metadata": {},
   "outputs": [
    {
     "data": {
      "text/plain": [
       "'2019-04-03 19:10:11'"
      ]
     },
     "execution_count": 76,
     "metadata": {},
     "output_type": "execute_result"
    }
   ],
   "source": [
    "timestamp.strftime('%Y-%m-%d %H:%M:%S')"
   ]
  },
  {
   "cell_type": "code",
   "execution_count": 86,
   "metadata": {},
   "outputs": [],
   "source": [
    "now = datetime.now(timezone.utc)"
   ]
  },
  {
   "cell_type": "code",
   "execution_count": 88,
   "metadata": {},
   "outputs": [],
   "source": [
    "diff = now-timestamp"
   ]
  },
  {
   "cell_type": "code",
   "execution_count": 92,
   "metadata": {},
   "outputs": [
    {
     "data": {
      "text/plain": [
       "'0:24:21.896417'"
      ]
     },
     "execution_count": 92,
     "metadata": {},
     "output_type": "execute_result"
    }
   ],
   "source": [
    "str(diff)"
   ]
  },
  {
   "cell_type": "code",
   "execution_count": 99,
   "metadata": {},
   "outputs": [
    {
     "data": {
      "text/plain": [
       "False"
      ]
     },
     "execution_count": 99,
     "metadata": {},
     "output_type": "execute_result"
    }
   ],
   "source": [
    "bool(int('0'))"
   ]
  },
  {
   "cell_type": "code",
   "execution_count": 101,
   "metadata": {},
   "outputs": [],
   "source": [
    "def get_next_recipe(collection, reverse=False):\n",
    "    direction = -1 if reverse else 1\n",
    "    cursor = collection.find({'viewed':0}).sort([('_id',direction)]).limit(1)\n",
    "    return next(cursor)"
   ]
  },
  {
   "cell_type": "code",
   "execution_count": 102,
   "metadata": {},
   "outputs": [
    {
     "ename": "StopIteration",
     "evalue": "",
     "output_type": "error",
     "traceback": [
      "\u001b[0;31m---------------------------------------------------------------------------\u001b[0m",
      "\u001b[0;31mStopIteration\u001b[0m                             Traceback (most recent call last)",
      "\u001b[0;32m<ipython-input-102-e3cc9d3ca68d>\u001b[0m in \u001b[0;36m<module>\u001b[0;34m\u001b[0m\n\u001b[0;32m----> 1\u001b[0;31m \u001b[0mget_next_recipe\u001b[0m\u001b[0;34m(\u001b[0m\u001b[0mrecipes_coll\u001b[0m\u001b[0;34m)\u001b[0m\u001b[0;34m\u001b[0m\u001b[0;34m\u001b[0m\u001b[0m\n\u001b[0m",
      "\u001b[0;32m<ipython-input-101-9e265b4b3be7>\u001b[0m in \u001b[0;36mget_next_recipe\u001b[0;34m(collection, reverse)\u001b[0m\n\u001b[1;32m      2\u001b[0m     \u001b[0mdirection\u001b[0m \u001b[0;34m=\u001b[0m \u001b[0;34m-\u001b[0m\u001b[0;36m1\u001b[0m \u001b[0;32mif\u001b[0m \u001b[0mreverse\u001b[0m \u001b[0;32melse\u001b[0m \u001b[0;36m1\u001b[0m\u001b[0;34m\u001b[0m\u001b[0;34m\u001b[0m\u001b[0m\n\u001b[1;32m      3\u001b[0m     \u001b[0mcursor\u001b[0m \u001b[0;34m=\u001b[0m \u001b[0mcollection\u001b[0m\u001b[0;34m.\u001b[0m\u001b[0mfind\u001b[0m\u001b[0;34m(\u001b[0m\u001b[0;34m{\u001b[0m\u001b[0;34m'viewed'\u001b[0m\u001b[0;34m:\u001b[0m\u001b[0;36m0\u001b[0m\u001b[0;34m}\u001b[0m\u001b[0;34m)\u001b[0m\u001b[0;34m.\u001b[0m\u001b[0msort\u001b[0m\u001b[0;34m(\u001b[0m\u001b[0;34m[\u001b[0m\u001b[0;34m(\u001b[0m\u001b[0;34m'_id'\u001b[0m\u001b[0;34m,\u001b[0m\u001b[0mdirection\u001b[0m\u001b[0;34m)\u001b[0m\u001b[0;34m]\u001b[0m\u001b[0;34m)\u001b[0m\u001b[0;34m.\u001b[0m\u001b[0mlimit\u001b[0m\u001b[0;34m(\u001b[0m\u001b[0;36m1\u001b[0m\u001b[0;34m)\u001b[0m\u001b[0;34m\u001b[0m\u001b[0;34m\u001b[0m\u001b[0m\n\u001b[0;32m----> 4\u001b[0;31m     \u001b[0;32mreturn\u001b[0m \u001b[0mnext\u001b[0m\u001b[0;34m(\u001b[0m\u001b[0mcursor\u001b[0m\u001b[0;34m)\u001b[0m\u001b[0;34m\u001b[0m\u001b[0;34m\u001b[0m\u001b[0m\n\u001b[0m",
      "\u001b[0;32m~/anaconda3/lib/python3.6/site-packages/pymongo/cursor.py\u001b[0m in \u001b[0;36mnext\u001b[0;34m(self)\u001b[0m\n\u001b[1;32m   1195\u001b[0m                 \u001b[0;32mreturn\u001b[0m \u001b[0mself\u001b[0m\u001b[0;34m.\u001b[0m\u001b[0m__data\u001b[0m\u001b[0;34m.\u001b[0m\u001b[0mpopleft\u001b[0m\u001b[0;34m(\u001b[0m\u001b[0;34m)\u001b[0m\u001b[0;34m\u001b[0m\u001b[0;34m\u001b[0m\u001b[0m\n\u001b[1;32m   1196\u001b[0m         \u001b[0;32melse\u001b[0m\u001b[0;34m:\u001b[0m\u001b[0;34m\u001b[0m\u001b[0;34m\u001b[0m\u001b[0m\n\u001b[0;32m-> 1197\u001b[0;31m             \u001b[0;32mraise\u001b[0m \u001b[0mStopIteration\u001b[0m\u001b[0;34m\u001b[0m\u001b[0;34m\u001b[0m\u001b[0m\n\u001b[0m\u001b[1;32m   1198\u001b[0m \u001b[0;34m\u001b[0m\u001b[0m\n\u001b[1;32m   1199\u001b[0m     \u001b[0m__next__\u001b[0m \u001b[0;34m=\u001b[0m \u001b[0mnext\u001b[0m\u001b[0;34m\u001b[0m\u001b[0;34m\u001b[0m\u001b[0m\n",
      "\u001b[0;31mStopIteration\u001b[0m: "
     ]
    }
   ],
   "source": [
    "get_next_recipe(recipes_coll)"
   ]
  },
  {
   "cell_type": "code",
   "execution_count": 111,
   "metadata": {},
   "outputs": [],
   "source": [
    "cursor = results_coll.find({'viewed':0}).sort([('_id',1)]).limit(2)"
   ]
  },
  {
   "cell_type": "code",
   "execution_count": 112,
   "metadata": {},
   "outputs": [
    {
     "data": {
      "text/plain": [
       "{'_id': ObjectId('5ca3f1e0c6d0b007d9d1a215'),\n",
       " 'id': 244979,\n",
       " 'name': \"Chef John's Peanut Curry Chicken\",\n",
       " 'href': 'https://www.allrecipes.com/recipe/244979/chef-johns-peanut-curry-chicken',\n",
       " 'viewed': 0}"
      ]
     },
     "execution_count": 112,
     "metadata": {},
     "output_type": "execute_result"
    }
   ],
   "source": [
    "next(cursor)"
   ]
  },
  {
   "cell_type": "code",
   "execution_count": 115,
   "metadata": {},
   "outputs": [
    {
     "data": {
      "text/plain": [
       "[{'_id': ObjectId('5ca50eeb8fd54be84351ec46'),\n",
       "  'id': 87476,\n",
       "  'name': 'Tropical Grilled Pork Chops',\n",
       "  'href': 'https://www.allrecipes.com/recipe/87476/tropical-grilled-pork-chops',\n",
       "  'viewed': 0},\n",
       " {'_id': ObjectId('5ca510b0f07ba52d6fb5ea01'),\n",
       "  'id': 87476,\n",
       "  'name': 'Tropical Grilled Pork Chops',\n",
       "  'href': 'https://www.allrecipes.com/recipe/87476/tropical-grilled-pork-chops',\n",
       "  'viewed': 0}]"
      ]
     },
     "execution_count": 115,
     "metadata": {},
     "output_type": "execute_result"
    }
   ],
   "source": [
    "list(results_coll.find({'name':'Tropical Grilled Pork Chops'}))"
   ]
  },
  {
   "cell_type": "code",
   "execution_count": 122,
   "metadata": {},
   "outputs": [],
   "source": [
    "deleted = results_coll.delete_one({'id':'apple'})"
   ]
  },
  {
   "cell_type": "code",
   "execution_count": 125,
   "metadata": {},
   "outputs": [
    {
     "data": {
      "text/plain": [
       "0"
      ]
     },
     "execution_count": 125,
     "metadata": {},
     "output_type": "execute_result"
    }
   ],
   "source": [
    "deleted.deleted_count"
   ]
  },
  {
   "cell_type": "code",
   "execution_count": 131,
   "metadata": {},
   "outputs": [
    {
     "name": "stdout",
     "output_type": "stream",
     "text": [
      "Boilermaker Tailgate Chili\n",
      "Flatlander Chili\n",
      "The Best Vegetarian Chili in the World\n",
      "It's Chili by George!!\n",
      "Easy Chili I\n",
      "Creamy White Chili\n",
      "Debdoozie's Blue Ribbon Chili\n",
      "Just Like Wendy's® Chili\n",
      "Frank's Spicy Alabama Onion Beer Chili\n",
      "Beef, Bean, and Beer Chili\n",
      "Smokin' Scovilles Turkey Chili\n",
      "Terrific Turkey Chili\n",
      "Washabinaros Chili\n",
      "Jeff's Hot Dog Chili\n",
      "Chili I\n",
      "White Bean Chicken Chili\n",
      "Best Damn Chili\n",
      "My Chili\n",
      "Paleo Chili\n",
      "Quick Chili I\n",
      "Chili Sauce\n",
      "Elk Chili\n",
      "Chili Mac\n",
      "Fiesta Chili\n",
      "Oktoberfest Chili\n",
      "Alligator Chili\n",
      "Corn Chili\n",
      "Polish Chili\n",
      "Chili Dip\n",
      "JRay's Chili\n",
      "Chili-ghetti\n",
      "Seafood Chili\n",
      "Chili Verde\n",
      "Tangy Chili\n",
      "Chili Liver\n",
      "Chorizo Chili\n",
      "Melanie's Chili\n",
      "No-Fuss Slow Cooker Chili\n",
      "John's Chili\n",
      "Chinese Chili\n",
      "Killer Chili\n",
      "Fruity Chili\n",
      "Quick Chili\n",
      "Hearty Chili\n",
      "Chili with Quinoa\n",
      "Homemade Chili\n",
      "Fairuzah's Chili\n",
      "Vegan Chili\n",
      "Kas' Chili\n",
      "Chili Nachos\n",
      "Rhubarb Chili\n",
      "Chili Bread\n",
      "Chili Colorado\n",
      "Kelly's Chili\n",
      "Grandma's Chili\n",
      "Tequila Chili\n",
      "Football Chili\n",
      "Steak Chili\n",
      "Chili IV\n",
      "Easy Chili\n",
      "Mama's Chili\n",
      "Chili Burgers\n",
      "Cornucopia Chili\n"
     ]
    }
   ],
   "source": [
    "recipe_ids = set()\n",
    "cursor = recipes_coll.find({'ingredients_raw':{'$exists':False}})\n",
    "\n",
    "for recipe in cursor:\n",
    "    print(recipe['name'])\n",
    "    recipe_ids.add(recipe['id'])"
   ]
  },
  {
   "cell_type": "code",
   "execution_count": 132,
   "metadata": {},
   "outputs": [
    {
     "name": "stdout",
     "output_type": "stream",
     "text": [
      "75906\n",
      "58499\n",
      "235014\n",
      "14985\n",
      "103305\n",
      "141705\n",
      "219020\n",
      "233613\n",
      "54669\n",
      "242063\n",
      "7056\n",
      "13329\n",
      "13969\n",
      "13331\n",
      "16276\n",
      "218132\n",
      "70038\n",
      "13079\n",
      "84760\n",
      "213912\n",
      "26389\n",
      "255259\n",
      "26400\n",
      "245409\n",
      "13987\n",
      "15401\n",
      "231082\n",
      "62763\n",
      "230828\n",
      "223538\n",
      "15410\n",
      "50100\n",
      "72508\n",
      "229949\n",
      "140099\n",
      "26438\n",
      "13127\n",
      "213449\n",
      "235466\n",
      "180300\n",
      "205645\n",
      "244558\n",
      "13010\n",
      "42966\n",
      "213463\n",
      "24921\n",
      "78299\n",
      "17633\n",
      "238051\n",
      "233828\n",
      "88291\n",
      "16235\n",
      "235502\n",
      "25711\n",
      "13423\n",
      "232559\n",
      "25330\n",
      "16368\n",
      "49652\n",
      "245493\n",
      "35831\n",
      "85752\n",
      "240380\n"
     ]
    }
   ],
   "source": [
    "for i in recipe_ids:\n",
    "    print(i)"
   ]
  },
  {
   "cell_type": "code",
   "execution_count": 152,
   "metadata": {},
   "outputs": [
    {
     "name": "stdout",
     "output_type": "stream",
     "text": [
      "1\n",
      "1\n",
      "1\n",
      "1\n",
      "1\n",
      "1\n",
      "1\n",
      "1\n",
      "1\n",
      "1\n",
      "1\n",
      "1\n",
      "1\n",
      "1\n",
      "1\n",
      "1\n",
      "1\n",
      "1\n",
      "1\n",
      "1\n",
      "1\n",
      "1\n",
      "1\n",
      "1\n",
      "1\n",
      "1\n",
      "1\n",
      "1\n",
      "1\n",
      "1\n",
      "1\n",
      "1\n",
      "1\n",
      "1\n",
      "1\n",
      "1\n",
      "1\n",
      "1\n",
      "1\n",
      "1\n",
      "1\n",
      "1\n",
      "1\n",
      "1\n",
      "1\n",
      "1\n",
      "1\n",
      "1\n",
      "1\n",
      "1\n",
      "1\n",
      "1\n",
      "1\n",
      "1\n",
      "1\n",
      "1\n",
      "1\n",
      "1\n",
      "1\n",
      "1\n",
      "1\n",
      "1\n",
      "1\n",
      "1\n",
      "1\n",
      "1\n",
      "1\n",
      "1\n",
      "1\n",
      "1\n",
      "1\n",
      "1\n",
      "-1\n",
      "1\n",
      "1\n",
      "1\n",
      "1\n",
      "1\n",
      "1\n",
      "1\n",
      "1\n",
      "1\n",
      "1\n",
      "1\n",
      "1\n",
      "1\n",
      "1\n",
      "1\n",
      "1\n",
      "1\n",
      "1\n",
      "1\n",
      "1\n",
      "1\n",
      "1\n",
      "1\n",
      "1\n",
      "1\n",
      "1\n",
      "1\n",
      "1\n",
      "1\n",
      "1\n",
      "1\n",
      "1\n",
      "1\n",
      "1\n",
      "1\n",
      "1\n",
      "1\n",
      "1\n",
      "1\n",
      "1\n",
      "1\n",
      "1\n",
      "1\n",
      "1\n",
      "1\n",
      "1\n",
      "1\n",
      "1\n",
      "1\n",
      "1\n",
      "1\n",
      "1\n",
      "1\n",
      "1\n",
      "1\n",
      "1\n",
      "1\n",
      "1\n",
      "1\n",
      "1\n",
      "1\n",
      "1\n",
      "1\n",
      "1\n",
      "1\n",
      "-1\n",
      "1\n",
      "1\n",
      "1\n",
      "-1\n",
      "1\n",
      "-1\n",
      "1\n",
      "1\n",
      "1\n",
      "1\n",
      "1\n",
      "1\n",
      "-1\n",
      "1\n",
      "1\n",
      "1\n",
      "1\n",
      "1\n",
      "1\n",
      "-1\n",
      "1\n",
      "1\n",
      "1\n",
      "1\n",
      "1\n",
      "1\n",
      "1\n",
      "1\n",
      "1\n",
      "-1\n",
      "1\n",
      "1\n",
      "1\n",
      "1\n",
      "1\n",
      "1\n",
      "1\n",
      "1\n",
      "1\n",
      "1\n",
      "1\n",
      "1\n",
      "1\n",
      "1\n",
      "1\n",
      "1\n",
      "1\n",
      "1\n",
      "1\n",
      "1\n",
      "1\n",
      "1\n",
      "1\n",
      "1\n",
      "1\n",
      "1\n",
      "1\n",
      "1\n",
      "1\n",
      "1\n",
      "1\n",
      "1\n",
      "1\n",
      "1\n",
      "1\n",
      "1\n",
      "1\n",
      "1\n",
      "1\n",
      "1\n",
      "-1\n",
      "1\n",
      "1\n",
      "1\n",
      "1\n",
      "1\n",
      "1\n",
      "1\n",
      "1\n",
      "1\n",
      "1\n",
      "1\n",
      "1\n",
      "1\n",
      "1\n",
      "1\n",
      "1\n",
      "1\n",
      "1\n",
      "1\n",
      "1\n",
      "1\n",
      "1\n",
      "1\n",
      "1\n",
      "1\n",
      "1\n",
      "-1\n",
      "1\n",
      "1\n",
      "1\n",
      "1\n",
      "1\n",
      "1\n",
      "1\n",
      "1\n",
      "1\n",
      "1\n",
      "1\n",
      "1\n",
      "1\n",
      "1\n",
      "1\n",
      "1\n",
      "1\n",
      "1\n",
      "1\n",
      "1\n",
      "1\n",
      "1\n",
      "1\n",
      "1\n",
      "1\n",
      "1\n",
      "1\n",
      "1\n",
      "1\n",
      "1\n",
      "1\n",
      "1\n",
      "1\n",
      "1\n",
      "1\n",
      "1\n",
      "1\n",
      "1\n",
      "1\n",
      "1\n",
      "1\n",
      "1\n",
      "1\n",
      "1\n",
      "1\n",
      "1\n",
      "1\n",
      "1\n",
      "1\n",
      "1\n",
      "1\n",
      "1\n",
      "1\n",
      "1\n",
      "1\n",
      "1\n",
      "1\n",
      "1\n",
      "1\n",
      "-1\n",
      "1\n",
      "1\n",
      "1\n",
      "1\n",
      "1\n",
      "1\n",
      "1\n",
      "1\n",
      "1\n",
      "1\n",
      "-1\n",
      "1\n",
      "1\n",
      "1\n",
      "1\n",
      "1\n",
      "1\n",
      "1\n",
      "1\n",
      "1\n",
      "1\n",
      "1\n",
      "1\n",
      "1\n",
      "1\n",
      "1\n",
      "1\n",
      "1\n",
      "1\n",
      "1\n",
      "1\n",
      "1\n",
      "1\n",
      "1\n",
      "1\n",
      "-1\n",
      "1\n",
      "1\n",
      "1\n",
      "1\n",
      "1\n",
      "1\n",
      "1\n",
      "1\n",
      "1\n",
      "1\n",
      "1\n",
      "1\n",
      "1\n",
      "1\n",
      "1\n",
      "1\n",
      "-1\n",
      "-1\n",
      "-1\n",
      "1\n",
      "1\n",
      "1\n",
      "1\n",
      "1\n",
      "1\n",
      "-1\n",
      "1\n",
      "-1\n",
      "1\n",
      "-1\n",
      "1\n",
      "1\n",
      "1\n",
      "-1\n",
      "1\n",
      "-1\n",
      "1\n",
      "-1\n",
      "1\n",
      "1\n",
      "-1\n",
      "1\n",
      "1\n",
      "1\n",
      "1\n",
      "1\n",
      "-1\n",
      "1\n",
      "1\n",
      "1\n",
      "1\n",
      "1\n",
      "1\n",
      "1\n",
      "1\n",
      "1\n",
      "1\n",
      "1\n",
      "1\n",
      "1\n",
      "1\n",
      "1\n",
      "1\n",
      "1\n",
      "1\n",
      "1\n",
      "1\n",
      "1\n",
      "1\n",
      "1\n",
      "1\n",
      "1\n",
      "1\n",
      "1\n",
      "1\n",
      "1\n",
      "1\n",
      "1\n",
      "1\n",
      "1\n",
      "1\n",
      "1\n",
      "1\n",
      "1\n",
      "1\n",
      "1\n",
      "1\n",
      "1\n",
      "1\n",
      "1\n",
      "1\n",
      "1\n",
      "1\n",
      "1\n",
      "1\n",
      "1\n",
      "1\n",
      "1\n",
      "1\n",
      "1\n",
      "1\n",
      "1\n",
      "-1\n",
      "1\n",
      "1\n",
      "1\n",
      "-1\n",
      "1\n",
      "-1\n",
      "1\n",
      "1\n",
      "1\n",
      "1\n",
      "1\n",
      "-1\n",
      "1\n",
      "1\n",
      "1\n",
      "1\n",
      "1\n",
      "1\n",
      "1\n",
      "1\n",
      "1\n",
      "1\n",
      "1\n",
      "-1\n",
      "1\n",
      "1\n",
      "1\n",
      "1\n",
      "1\n",
      "1\n",
      "1\n",
      "1\n",
      "1\n",
      "1\n",
      "1\n",
      "1\n",
      "1\n",
      "1\n",
      "1\n",
      "1\n",
      "1\n",
      "1\n",
      "1\n",
      "1\n",
      "1\n",
      "1\n",
      "1\n",
      "1\n",
      "1\n",
      "1\n",
      "1\n",
      "1\n",
      "1\n",
      "1\n",
      "1\n",
      "1\n",
      "1\n",
      "1\n",
      "1\n",
      "1\n",
      "1\n",
      "1\n",
      "1\n",
      "1\n",
      "1\n",
      "1\n",
      "1\n",
      "1\n",
      "1\n",
      "-1\n",
      "1\n",
      "1\n",
      "-1\n",
      "1\n",
      "1\n",
      "1\n",
      "1\n",
      "1\n",
      "1\n",
      "1\n",
      "-1\n",
      "1\n",
      "-1\n",
      "1\n",
      "-1\n",
      "1\n",
      "1\n",
      "1\n",
      "1\n",
      "1\n",
      "1\n",
      "1\n",
      "1\n",
      "1\n",
      "-1\n",
      "1\n",
      "1\n",
      "1\n",
      "1\n",
      "1\n",
      "1\n",
      "1\n",
      "1\n",
      "1\n",
      "1\n",
      "-1\n",
      "1\n",
      "1\n",
      "1\n",
      "1\n",
      "1\n",
      "1\n",
      "1\n",
      "1\n",
      "1\n",
      "1\n",
      "1\n",
      "1\n",
      "1\n",
      "1\n",
      "1\n",
      "1\n",
      "1\n",
      "1\n",
      "1\n",
      "1\n",
      "1\n",
      "-1\n",
      "1\n",
      "1\n",
      "1\n",
      "1\n",
      "1\n",
      "1\n",
      "1\n",
      "1\n",
      "1\n",
      "1\n",
      "1\n",
      "1\n"
     ]
    }
   ],
   "source": [
    "import json\n",
    "with open('../data/instance-1/search_results.json') as f:\n",
    "    for line in f:\n",
    "        result = json.loads(line)\n",
    "        if result['viewed'] != 0:\n",
    "            results_coll.update_one({'id':result['id']},\n",
    "                                    {\"$set\":{'viewed': result['viewed']}}, upsert=False)\n",
    "            "
   ]
  },
  {
   "cell_type": "code",
   "execution_count": 148,
   "metadata": {},
   "outputs": [
    {
     "name": "stdout",
     "output_type": "stream",
     "text": [
      "{'_id': {'$oid': '5ca3c610c6d0b008793f2b2a'}, 'id': 14985, 'name': \"It's Chili by George!!\", 'href': 'https://www.allrecipes.com/recipe/14985/its-chili-by-george', 'viewed': 1}\n"
     ]
    }
   ],
   "source": [
    "print(results_1[3])"
   ]
  },
  {
   "cell_type": "code",
   "execution_count": null,
   "metadata": {},
   "outputs": [],
   "source": []
  }
 ],
 "metadata": {
  "kernelspec": {
   "display_name": "Python 3",
   "language": "python",
   "name": "python3"
  },
  "language_info": {
   "codemirror_mode": {
    "name": "ipython",
    "version": 3
   },
   "file_extension": ".py",
   "mimetype": "text/x-python",
   "name": "python",
   "nbconvert_exporter": "python",
   "pygments_lexer": "ipython3",
   "version": "3.6.8"
  }
 },
 "nbformat": 4,
 "nbformat_minor": 2
}
