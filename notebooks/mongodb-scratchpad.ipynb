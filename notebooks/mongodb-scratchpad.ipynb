{
 "cells": [
  {
   "cell_type": "code",
   "execution_count": 1,
   "metadata": {},
   "outputs": [],
   "source": [
    "import pymongo\n",
    "import numpy\n",
    "import json"
   ]
  },
  {
   "cell_type": "code",
   "execution_count": 2,
   "metadata": {},
   "outputs": [],
   "source": [
    "mc = pymongo.MongoClient()\n",
    "db = mc['allrecipes']\n",
    "recipes_coll = db['recipes']\n",
    "results_coll = db['search_results']"
   ]
  },
  {
   "cell_type": "code",
   "execution_count": 3,
   "metadata": {},
   "outputs": [
    {
     "data": {
      "text/plain": [
       "290"
      ]
     },
     "execution_count": 3,
     "metadata": {},
     "output_type": "execute_result"
    }
   ],
   "source": [
    "len(list(recipes_coll.find()))"
   ]
  },
  {
   "cell_type": "code",
   "execution_count": 4,
   "metadata": {},
   "outputs": [
    {
     "data": {
      "text/plain": [
       "488"
      ]
     },
     "execution_count": 4,
     "metadata": {},
     "output_type": "execute_result"
    }
   ],
   "source": [
    "len(list(results_coll.find()))"
   ]
  },
  {
   "cell_type": "code",
   "execution_count": 16,
   "metadata": {},
   "outputs": [
    {
     "name": "stdout",
     "output_type": "stream",
     "text": [
      "set()\n"
     ]
    }
   ],
   "source": [
    "cursor = recipes_coll.find()\n",
    "repeats = set()\n",
    "for recipe in cursor:\n",
    "    if len(list(recipes_coll.find({'id':recipe['id']}))) > 1:\n",
    "        repeats.add(recipe['id'])\n",
    "print(repeats)"
   ]
  },
  {
   "cell_type": "code",
   "execution_count": 13,
   "metadata": {},
   "outputs": [
    {
     "data": {
      "text/plain": [
       "[{'_id': ObjectId('5ca3cf24c6d0b005892ceb08'),\n",
       "  'id': 15914,\n",
       "  'name': 'Chili Soup',\n",
       "  'href': 'https://www.allrecipes.com/recipe/15914/chili-soup/',\n",
       "  'category': {'lvl_1': 'Soups, Stews and Chili',\n",
       "   'lvl_2': 'Chili',\n",
       "   'lvl_3': 'Beef Chili'},\n",
       "  'rating_info': {'rating': 4.4642858505249, 'made_by': 48, 'reviews': 25},\n",
       "  'submitter_info': None,\n",
       "  'ingredients': [{'quantity': 3.0,\n",
       "    'units': 'pound',\n",
       "    'ingredient': 'ground beef'},\n",
       "   {'quantity': 1.5, 'units': 'cup', 'ingredient': 'onion'},\n",
       "   {'quantity': 2.0, 'units': 'each', 'ingredient': 'potatoes'},\n",
       "   {'quantity': 60.0, 'units': 'ounce', 'ingredient': 'kidney beans'},\n",
       "   {'quantity': 43.0, 'units': 'ounce', 'ingredient': 'tomato soup'},\n",
       "   {'quantity': 8.0, 'units': 'cup', 'ingredient': 'tomato juice'},\n",
       "   {'quantity': 3.0, 'units': 'teaspoon', 'ingredient': 'chili powder'},\n",
       "   {'quantity': 8.0, 'units': 'cup', 'ingredient': 'water'}],\n",
       "  'directions': {'timing': None,\n",
       "   'steps': ['In a large pot over medium heat, combine the ground beef and onions. Saute for 5 minutes, or until meat is browned. Drain excess fat and add the potatoes, beans, tomato soup, tomato juice, chili powder, water and salt to taste. Bring just to a boil and reduce heat to low. Simmer for 1 hour and serve.'],\n",
       "   'servings': 14}},\n",
       " {'_id': ObjectId('5ca4cca8f07ba5267ca0892a'),\n",
       "  'id': 15914,\n",
       "  'name': 'Chili Soup',\n",
       "  'href': 'https://www.allrecipes.com/recipe/15914/chili-soup/',\n",
       "  'category': {'lvl_1': 'Soups, Stews and Chili',\n",
       "   'lvl_2': 'Chili',\n",
       "   'lvl_3': 'Beef Chili'},\n",
       "  'rating_info': None,\n",
       "  'submitter_info': None,\n",
       "  'ingredients': [{'quantity': 3.0,\n",
       "    'units': 'pound',\n",
       "    'ingredient': 'ground beef'},\n",
       "   {'quantity': 1.5, 'units': 'cup', 'ingredient': 'onion'},\n",
       "   {'quantity': 2.0, 'units': 'each', 'ingredient': 'potatoes'},\n",
       "   {'quantity': 60.0, 'units': 'ounce', 'ingredient': 'kidney beans'},\n",
       "   {'quantity': 43.0, 'units': 'ounce', 'ingredient': 'tomato soup'},\n",
       "   {'quantity': 8.0, 'units': 'cup', 'ingredient': 'tomato juice'},\n",
       "   {'quantity': 3.0, 'units': 'teaspoon', 'ingredient': 'chili powder'},\n",
       "   {'quantity': 8.0, 'units': 'cup', 'ingredient': 'water'}],\n",
       "  'ingredients_raw': ['3 pounds ground beef',\n",
       "   '1 1/2 cups chopped onion',\n",
       "   '2 potatoes, cubed',\n",
       "   '4 (15 ounce) cans kidney beans',\n",
       "   '4 (10.75 ounce) cans condensed tomato soup',\n",
       "   '8 cups tomato juice',\n",
       "   '3 teaspoons chili powder',\n",
       "   '8 cups water'],\n",
       "  'directions': {'timing': None,\n",
       "   'steps': ['In a large pot over medium heat, combine the ground beef and onions. Saute for 5 minutes, or until meat is browned. Drain excess fat and add the potatoes, beans, tomato soup, tomato juice, chili powder, water and salt to taste. Bring just to a boil and reduce heat to low. Simmer for 1 hour and serve.'],\n",
       "   'servings': 14}}]"
      ]
     },
     "execution_count": 13,
     "metadata": {},
     "output_type": "execute_result"
    }
   ],
   "source": [
    "list(recipes_coll.find({'id':15914}))"
   ]
  },
  {
   "cell_type": "code",
   "execution_count": 15,
   "metadata": {},
   "outputs": [],
   "source": [
    "for recipe_id in repeats:\n",
    "    recipes_coll.delete_one({'id':recipe_id})"
   ]
  },
  {
   "cell_type": "code",
   "execution_count": 32,
   "metadata": {},
   "outputs": [
    {
     "name": "stdout",
     "output_type": "stream",
     "text": [
      "List length : 386\n",
      "Set length  : 386\n",
      "Repeats     : 0\n"
     ]
    }
   ],
   "source": [
    "cursor = results_coll.find()\n",
    "id_list = []\n",
    "id_set = set()\n",
    "repeats = set()\n",
    "for result in cursor:\n",
    "    if len(list(results_coll.find({'id':result['id']}))) > 1:\n",
    "        repeats.add(result['id'])\n",
    "    id_list.append(result['id'])\n",
    "    id_set.add(result['id'])\n",
    "print('List length :', len(id_list))\n",
    "print('Set length  :', len(id_set))\n",
    "print('Repeats     :', len(repeats))"
   ]
  },
  {
   "cell_type": "code",
   "execution_count": 31,
   "metadata": {},
   "outputs": [
    {
     "name": "stdout",
     "output_type": "stream",
     "text": [
      "Len. prev.: 0\n",
      "Len. curr.: 486\n",
      "Len. prev.: 486\n",
      "Len. curr.: 426\n",
      "Len. prev.: 426\n",
      "Len. curr.: 387\n",
      "Len. prev.: 387\n",
      "Len. curr.: 387\n",
      "Len. prev.: 387\n",
      "Len. curr.: 386\n"
     ]
    }
   ],
   "source": [
    "len_prev = 0\n",
    "while True:\n",
    "    cursor = results_coll.find()\n",
    "    repeats = set()\n",
    "    len_current = 0\n",
    "    for result in cursor:\n",
    "        if len(list(results_coll.find({'id':result['id']}))) > 1:\n",
    "            repeats.add(result['id'])\n",
    "        len_current += 1\n",
    "    print('Len. prev.:', len_prev)\n",
    "    print('Len. curr.:', len_current)\n",
    "    if len(repeats) == 0:\n",
    "        break\n",
    "    if len_prev == len_current:\n",
    "        for result_id in repeats:\n",
    "            results_coll.delete_one({'id':result_id, 'viewed':1})\n",
    "    else:\n",
    "        for result_id in repeats:\n",
    "            results_coll.delete_one({'id':result_id, 'viewed':0})\n",
    "    len_prev = len_current"
   ]
  },
  {
   "cell_type": "code",
   "execution_count": 29,
   "metadata": {},
   "outputs": [
    {
     "data": {
      "text/plain": [
       "{'_id': ObjectId('5ca453368fd54bc4290e015a'),\n",
       " 'id': 228293,\n",
       " 'name': 'Curry Stand Chicken Tikka Masala Sauce',\n",
       " 'href': 'https://www.allrecipes.com/recipe/228293/curry-stand-chicken-tikka-masala-sauce',\n",
       " 'viewed': 1}"
      ]
     },
     "execution_count": 29,
     "metadata": {},
     "output_type": "execute_result"
    }
   ],
   "source": [
    "results_coll.find_one()"
   ]
  },
  {
   "cell_type": "code",
   "execution_count": null,
   "metadata": {},
   "outputs": [],
   "source": []
  }
 ],
 "metadata": {
  "kernelspec": {
   "display_name": "Python 3",
   "language": "python",
   "name": "python3"
  },
  "language_info": {
   "codemirror_mode": {
    "name": "ipython",
    "version": 3
   },
   "file_extension": ".py",
   "mimetype": "text/x-python",
   "name": "python",
   "nbconvert_exporter": "python",
   "pygments_lexer": "ipython3",
   "version": "3.6.8"
  }
 },
 "nbformat": 4,
 "nbformat_minor": 2
}
