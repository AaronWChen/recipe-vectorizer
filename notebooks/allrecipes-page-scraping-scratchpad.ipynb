{
 "cells": [
  {
   "cell_type": "code",
   "execution_count": 391,
   "metadata": {},
   "outputs": [],
   "source": [
    "import time\n",
    "import random\n",
    "import requests\n",
    "import selenium\n",
    "from string import ascii_lowercase\n",
    "from selenium.webdriver import Firefox, Chrome\n",
    "from bs4 import BeautifulSoup\n",
    "import pandas as pd\n",
    "import string\n",
    "import numpy as np\n",
    "from selenium.webdriver.common.keys import Keys\n",
    "import pymongo"
   ]
  },
  {
   "cell_type": "code",
   "execution_count": 182,
   "metadata": {},
   "outputs": [],
   "source": [
    "browser = Chrome()"
   ]
  },
  {
   "cell_type": "code",
   "execution_count": 314,
   "metadata": {},
   "outputs": [],
   "source": [
    "url='https://www.allrecipes.com/recipe/141833/thai-green-curry-chicken/'\n",
    "browser.get(url)"
   ]
  },
  {
   "cell_type": "code",
   "execution_count": 84,
   "metadata": {},
   "outputs": [],
   "source": [
    "time.sleep(2)"
   ]
  },
  {
   "cell_type": "code",
   "execution_count": 307,
   "metadata": {},
   "outputs": [],
   "source": [
    "def _get_ingredients(browser):\n",
    "    all_items = []\n",
    "    count = 1\n",
    "    while True:\n",
    "        try:\n",
    "            sel = 'ul#lst_ingredients_{0}'.format(count)\n",
    "            ing_list = browser.find_element_by_css_selector(sel)\n",
    "            all_items += ing_list.text.split('\\n')\n",
    "            count += 1\n",
    "        except:\n",
    "            break\n",
    "    ingredients = []\n",
    "    for item in all_items:\n",
    "        if item[0] in string.digits:\n",
    "            ingredients.append(item)\n",
    "    return ingredients"
   ]
  },
  {
   "cell_type": "code",
   "execution_count": 427,
   "metadata": {},
   "outputs": [
    {
     "data": {
      "text/plain": [
       "['1 teaspoon vegetable oil',\n",
       " '1 pound ground turkey',\n",
       " '1/2 onion, chopped',\n",
       " '2 cups chicken broth',\n",
       " '1 (28 ounce) can crushed tomatoes',\n",
       " '1 (15 ounce) can black beans, rinsed and drained',\n",
       " '1 (15 ounce) can kidney beans, rinsed and drained',\n",
       " '1 (16 ounce) can refried beans',\n",
       " '1 tablespoon minced garlic',\n",
       " '2 1/2 tablespoons chili powder',\n",
       " '1 teaspoon paprika',\n",
       " '1 teaspoon dried oregano',\n",
       " '1/2 teaspoon ground cumin',\n",
       " '2 tablespoons shredded Cheddar cheese (optional)']"
      ]
     },
     "execution_count": 427,
     "metadata": {},
     "output_type": "execute_result"
    }
   ],
   "source": [
    "ingredients = get_ingredients()\n",
    "ingredients"
   ]
  },
  {
   "cell_type": "code",
   "execution_count": 369,
   "metadata": {},
   "outputs": [],
   "source": [
    "def _determine_quantity(item):\n",
    "    quantity = 0\n",
    "    for i, elem in enumerate(item.split()):\n",
    "        if elem[0] in string.digits:\n",
    "            try:\n",
    "                quantity += float(elem)\n",
    "            except:\n",
    "                numer, denom = elem.split('/')\n",
    "                quantity += float(numer) / float(denom)\n",
    "        else:\n",
    "            idx = i\n",
    "            break\n",
    "    remainder = ' '.join(item.split()[idx:])\n",
    "    return quantity, remainder"
   ]
  },
  {
   "cell_type": "code",
   "execution_count": 370,
   "metadata": {},
   "outputs": [],
   "source": [
    "def _parse_special(item, flag_words):\n",
    "    # Determine special word\n",
    "    sp_word = ')'\n",
    "    for word in flag_words:\n",
    "        if word in item.split():\n",
    "            sp_word = ' ' + word + ' '\n",
    "            break\n",
    "    \n",
    "    # Parse item \n",
    "    count_and_size = item.split(sp_word)[0]\n",
    "    remainder = item.split(sp_word)[1]\n",
    "    count, rest = _determine_quantity(count_and_size)\n",
    "    if sp_word == ')':\n",
    "        size, unit = _determine_quantity(rest[1:])\n",
    "    else:\n",
    "        size, unit = _determine_quantity(rest[1:-1])\n",
    "    quantity = count * size\n",
    "    return quantity, unit, remainder"
   ]
  },
  {
   "cell_type": "code",
   "execution_count": 371,
   "metadata": {},
   "outputs": [],
   "source": [
    "def _remove_descriptors(item,\n",
    "                        phrases=phrases,\n",
    "                        stopwords=stopwords,\n",
    "                        suffixes=suffixes):\n",
    "    # Remove common/unnecessary ending phrases\n",
    "    for phrase in phrases:\n",
    "        if len(item.split(phrase)) > 1:\n",
    "            item = item.split(phrase)[0]\n",
    "    # Remove punctuation and stopwords\n",
    "    words = []\n",
    "    for elem in item.split():\n",
    "        word = ''.join([letter for letter in elem.lower() if letter in string.ascii_lowercase])\n",
    "        if word not in stopwords:\n",
    "            words.append(word)\n",
    "    # Remove adjectives and adverbs    \n",
    "    for suffix in suffixes:\n",
    "        for word in words.copy():\n",
    "            try:\n",
    "                if (word[-len(suffix):] == suffix) and word != 'red':\n",
    "                    words.remove(word)\n",
    "            except:\n",
    "                continue\n",
    "    return ' '.join(words)"
   ]
  },
  {
   "cell_type": "code",
   "execution_count": 372,
   "metadata": {},
   "outputs": [],
   "source": [
    "def parse_ingredients(ingredients, units=units, flag_words=flag_words):\n",
    "    '''\n",
    "    Parses a list of ingredients into a list of dictionaries with the following format: \n",
    "        {'quantity': (float),\n",
    "         'units': (str),\n",
    "         'ingredient': (str)}\n",
    "    Also takes argument 'units', a list of accepted units (e.g., ['cups', 'tablespoon']).\n",
    "    If an ingredident does not specify a unit in this list, the label 'each' will be applied.\n",
    "    '''\n",
    "    ing_list = []\n",
    "    for item in ingredients:\n",
    "        item_dict = {}\n",
    "        # Check item for flag words (require special parsing treatment)\n",
    "        flag = False\n",
    "        for word in item.split():\n",
    "            if word in flag_words:\n",
    "                flag = True\n",
    "        if item.split()[1][0] == '(':\n",
    "            flag = True  \n",
    "        # Parse quantities and units        \n",
    "        if flag:\n",
    "            quantity, unit, remainder = _parse_special(item, flag_words)\n",
    "            item_dict['quantity'] = quantity\n",
    "            item_dict['units'] = unit if unit[-1] != 's' else unit[:-1]\n",
    "        else:\n",
    "            quantity, remainder = _determine_quantity(item) \n",
    "            item_dict['quantity'] = quantity\n",
    "            if remainder.split()[0] in units:\n",
    "                unit = remainder.split()[0]\n",
    "                item_dict['units'] = unit if unit[-1] != 's' else unit[:-1]\n",
    "                remainder = ' '.join(remainder.split()[1:])\n",
    "            else:\n",
    "                item_dict['units'] = 'each'\n",
    "        # Remove preparation instructions from remaining text to isolate ingredient\n",
    "        item_dict['ingredient'] = _remove_descriptors(remainder)\n",
    "        # Add item dictionary to list\n",
    "        ing_list.append(item_dict)\n",
    "    return ing_list"
   ]
  },
  {
   "cell_type": "code",
   "execution_count": 386,
   "metadata": {},
   "outputs": [],
   "source": [
    "units = ['pound', 'pounds', 'cup', 'cups', 'tablespoon', 'tablespoons', 'teaspoon', 'teaspoons',\n",
    "         'clove', 'cloves', 'stalk', 'stalks', 'ounce', 'ounces', 'oz.', 'cubes', 'pint', 'pints',\n",
    "         'quart', 'quarts']\n",
    "phrases = [' - ',' or ', ' for garnish', ' cut ', ' such as ', ' like ', 'e.g.']\n",
    "stopwords = ['and', 'into', 'very', 'hot', 'cold', 'fresh', 'large', 'medium', 'small', 'halves', 'torn', 'bulk',\n",
    "             'optional']\n",
    "suffixes = ['ed','less','ly']\n",
    "flag_words = ['can', 'cans', 'package', 'packages', 'jar', 'jars', 'container', 'containers', 'bag', 'bags',\n",
    "              'bottle', 'bottles']"
   ]
  },
  {
   "cell_type": "code",
   "execution_count": 373,
   "metadata": {},
   "outputs": [
    {
     "data": {
      "text/html": [
       "<div>\n",
       "<style scoped>\n",
       "    .dataframe tbody tr th:only-of-type {\n",
       "        vertical-align: middle;\n",
       "    }\n",
       "\n",
       "    .dataframe tbody tr th {\n",
       "        vertical-align: top;\n",
       "    }\n",
       "\n",
       "    .dataframe thead th {\n",
       "        text-align: right;\n",
       "    }\n",
       "</style>\n",
       "<table border=\"1\" class=\"dataframe\">\n",
       "  <thead>\n",
       "    <tr style=\"text-align: right;\">\n",
       "      <th></th>\n",
       "      <th>ingredient</th>\n",
       "      <th>quantity</th>\n",
       "      <th>units</th>\n",
       "    </tr>\n",
       "  </thead>\n",
       "  <tbody>\n",
       "    <tr>\n",
       "      <th>0</th>\n",
       "      <td>ground beef chuck</td>\n",
       "      <td>2.00</td>\n",
       "      <td>pound</td>\n",
       "    </tr>\n",
       "    <tr>\n",
       "      <th>1</th>\n",
       "      <td>italian sausage</td>\n",
       "      <td>1.00</td>\n",
       "      <td>pound</td>\n",
       "    </tr>\n",
       "    <tr>\n",
       "      <th>2</th>\n",
       "      <td>chili beans</td>\n",
       "      <td>45.00</td>\n",
       "      <td>ounce</td>\n",
       "    </tr>\n",
       "    <tr>\n",
       "      <th>3</th>\n",
       "      <td>chili beans in spicy sauce</td>\n",
       "      <td>15.00</td>\n",
       "      <td>ounce</td>\n",
       "    </tr>\n",
       "    <tr>\n",
       "      <th>4</th>\n",
       "      <td>tomatoes with juice</td>\n",
       "      <td>56.00</td>\n",
       "      <td>ounce</td>\n",
       "    </tr>\n",
       "    <tr>\n",
       "      <th>5</th>\n",
       "      <td>tomato paste</td>\n",
       "      <td>6.00</td>\n",
       "      <td>ounce</td>\n",
       "    </tr>\n",
       "    <tr>\n",
       "      <th>6</th>\n",
       "      <td>yellow onion</td>\n",
       "      <td>1.00</td>\n",
       "      <td>each</td>\n",
       "    </tr>\n",
       "    <tr>\n",
       "      <th>7</th>\n",
       "      <td>celery</td>\n",
       "      <td>3.00</td>\n",
       "      <td>stalk</td>\n",
       "    </tr>\n",
       "    <tr>\n",
       "      <th>8</th>\n",
       "      <td>green bell pepper</td>\n",
       "      <td>1.00</td>\n",
       "      <td>each</td>\n",
       "    </tr>\n",
       "    <tr>\n",
       "      <th>9</th>\n",
       "      <td>red bell pepper</td>\n",
       "      <td>1.00</td>\n",
       "      <td>each</td>\n",
       "    </tr>\n",
       "    <tr>\n",
       "      <th>10</th>\n",
       "      <td>green chile peppers</td>\n",
       "      <td>2.00</td>\n",
       "      <td>each</td>\n",
       "    </tr>\n",
       "    <tr>\n",
       "      <th>11</th>\n",
       "      <td>bacon bits</td>\n",
       "      <td>1.00</td>\n",
       "      <td>tablespoon</td>\n",
       "    </tr>\n",
       "    <tr>\n",
       "      <th>12</th>\n",
       "      <td>beef bouillon</td>\n",
       "      <td>4.00</td>\n",
       "      <td>cube</td>\n",
       "    </tr>\n",
       "    <tr>\n",
       "      <th>13</th>\n",
       "      <td>beer</td>\n",
       "      <td>0.50</td>\n",
       "      <td>cup</td>\n",
       "    </tr>\n",
       "    <tr>\n",
       "      <th>14</th>\n",
       "      <td>chili powder</td>\n",
       "      <td>0.25</td>\n",
       "      <td>cup</td>\n",
       "    </tr>\n",
       "    <tr>\n",
       "      <th>15</th>\n",
       "      <td>worcestershire sauce</td>\n",
       "      <td>1.00</td>\n",
       "      <td>tablespoon</td>\n",
       "    </tr>\n",
       "    <tr>\n",
       "      <th>16</th>\n",
       "      <td>garlic</td>\n",
       "      <td>1.00</td>\n",
       "      <td>tablespoon</td>\n",
       "    </tr>\n",
       "    <tr>\n",
       "      <th>17</th>\n",
       "      <td>oregano</td>\n",
       "      <td>1.00</td>\n",
       "      <td>tablespoon</td>\n",
       "    </tr>\n",
       "    <tr>\n",
       "      <th>18</th>\n",
       "      <td>ground cumin</td>\n",
       "      <td>2.00</td>\n",
       "      <td>teaspoon</td>\n",
       "    </tr>\n",
       "    <tr>\n",
       "      <th>19</th>\n",
       "      <td>pepper sauce eg tabasco</td>\n",
       "      <td>2.00</td>\n",
       "      <td>teaspoon</td>\n",
       "    </tr>\n",
       "    <tr>\n",
       "      <th>20</th>\n",
       "      <td>basil</td>\n",
       "      <td>1.00</td>\n",
       "      <td>teaspoon</td>\n",
       "    </tr>\n",
       "    <tr>\n",
       "      <th>21</th>\n",
       "      <td>salt</td>\n",
       "      <td>1.00</td>\n",
       "      <td>teaspoon</td>\n",
       "    </tr>\n",
       "    <tr>\n",
       "      <th>22</th>\n",
       "      <td>ground black pepper</td>\n",
       "      <td>1.00</td>\n",
       "      <td>teaspoon</td>\n",
       "    </tr>\n",
       "    <tr>\n",
       "      <th>23</th>\n",
       "      <td>cayenne pepper</td>\n",
       "      <td>1.00</td>\n",
       "      <td>teaspoon</td>\n",
       "    </tr>\n",
       "    <tr>\n",
       "      <th>24</th>\n",
       "      <td>paprika</td>\n",
       "      <td>1.00</td>\n",
       "      <td>teaspoon</td>\n",
       "    </tr>\n",
       "    <tr>\n",
       "      <th>25</th>\n",
       "      <td>white sugar</td>\n",
       "      <td>1.00</td>\n",
       "      <td>teaspoon</td>\n",
       "    </tr>\n",
       "    <tr>\n",
       "      <th>26</th>\n",
       "      <td>corn chips</td>\n",
       "      <td>10.50</td>\n",
       "      <td>ounce</td>\n",
       "    </tr>\n",
       "    <tr>\n",
       "      <th>27</th>\n",
       "      <td>cheddar cheese</td>\n",
       "      <td>8.00</td>\n",
       "      <td>ounce</td>\n",
       "    </tr>\n",
       "  </tbody>\n",
       "</table>\n",
       "</div>"
      ],
      "text/plain": [
       "                    ingredient  quantity       units\n",
       "0            ground beef chuck      2.00       pound\n",
       "1              italian sausage      1.00       pound\n",
       "2                  chili beans     45.00       ounce\n",
       "3   chili beans in spicy sauce     15.00       ounce\n",
       "4          tomatoes with juice     56.00       ounce\n",
       "5                 tomato paste      6.00       ounce\n",
       "6                 yellow onion      1.00        each\n",
       "7                       celery      3.00       stalk\n",
       "8            green bell pepper      1.00        each\n",
       "9              red bell pepper      1.00        each\n",
       "10         green chile peppers      2.00        each\n",
       "11                  bacon bits      1.00  tablespoon\n",
       "12               beef bouillon      4.00        cube\n",
       "13                        beer      0.50         cup\n",
       "14                chili powder      0.25         cup\n",
       "15        worcestershire sauce      1.00  tablespoon\n",
       "16                      garlic      1.00  tablespoon\n",
       "17                     oregano      1.00  tablespoon\n",
       "18                ground cumin      2.00    teaspoon\n",
       "19     pepper sauce eg tabasco      2.00    teaspoon\n",
       "20                       basil      1.00    teaspoon\n",
       "21                        salt      1.00    teaspoon\n",
       "22         ground black pepper      1.00    teaspoon\n",
       "23              cayenne pepper      1.00    teaspoon\n",
       "24                     paprika      1.00    teaspoon\n",
       "25                 white sugar      1.00    teaspoon\n",
       "26                  corn chips     10.50       ounce\n",
       "27              cheddar cheese      8.00       ounce"
      ]
     },
     "execution_count": 373,
     "metadata": {},
     "output_type": "execute_result"
    }
   ],
   "source": [
    "pd.DataFrame(parse_ingredients(ingredients))"
   ]
  },
  {
   "cell_type": "code",
   "execution_count": 400,
   "metadata": {},
   "outputs": [],
   "source": [
    "def _get_id(browser):\n",
    "    id_and_name = browser.current_url.split('recipe/')[1]\n",
    "    return int(id_and_name.split('/')[0])"
   ]
  },
  {
   "cell_type": "code",
   "execution_count": 273,
   "metadata": {},
   "outputs": [],
   "source": [
    "def _get_name(browser):\n",
    "    sel = 'h1#recipe-main-content'\n",
    "    name = browser.find_element_by_css_selector(sel)\n",
    "    return name.text"
   ]
  },
  {
   "cell_type": "code",
   "execution_count": 404,
   "metadata": {},
   "outputs": [
    {
     "data": {
      "text/plain": [
       "'Flatlander Chili'"
      ]
     },
     "execution_count": 404,
     "metadata": {},
     "output_type": "execute_result"
    }
   ],
   "source": [
    "_get_name(browser)"
   ]
  },
  {
   "cell_type": "code",
   "execution_count": 422,
   "metadata": {},
   "outputs": [],
   "source": [
    "def _get_rating_info(browser):\n",
    "    rating_info = {}\n",
    "    sel = 'div.rating-stars'\n",
    "    rating = browser.find_element_by_css_selector(sel)\n",
    "    rating_info['rating'] = float(rating.get_attribute('data-ratingstars'))\n",
    "    sel = 'div.summary-stats-box'\n",
    "    reviews = browser.find_element_by_css_selector(sel).text.split()\n",
    "    try:\n",
    "        n_made = int(reviews[0])\n",
    "    except:\n",
    "        n_made = int(reviews[0][:-1]) * 1000\n",
    "    try:\n",
    "        n_reviews = int(reviews[4])\n",
    "    except:\n",
    "        n_reviews = int(reviews[4][:-1]) * 1000    \n",
    "    rating_info['made_by'] = n_made\n",
    "    rating_info['reviews'] = n_reviews\n",
    "    return rating_info"
   ]
  },
  {
   "cell_type": "code",
   "execution_count": 421,
   "metadata": {},
   "outputs": [
    {
     "data": {
      "text/plain": [
       "['2', 'made', 'it', '|', '0', 'reviews', '|', '3', 'photos']"
      ]
     },
     "execution_count": 421,
     "metadata": {},
     "output_type": "execute_result"
    }
   ],
   "source": [
    "sel = 'div.summary-stats-box'\n",
    "reviews = browser.find_element_by_css_selector(sel)\n",
    "reviews.text.split()"
   ]
  },
  {
   "cell_type": "code",
   "execution_count": 423,
   "metadata": {},
   "outputs": [
    {
     "data": {
      "text/plain": [
       "{'rating': 4.0, 'made_by': 2, 'reviews': 0}"
      ]
     },
     "execution_count": 423,
     "metadata": {},
     "output_type": "execute_result"
    }
   ],
   "source": [
    "_get_rating_info(browser)"
   ]
  },
  {
   "cell_type": "code",
   "execution_count": 305,
   "metadata": {},
   "outputs": [],
   "source": [
    "def _get_categories(browser):\n",
    "    sel = 'ol.breadcrumbs li'\n",
    "    categories = browser.find_elements_by_css_selector(sel)\n",
    "    cat_list = [category.text for category in categories]\n",
    "    cat_dict = {}\n",
    "    cat_dict['lvl_1'] = cat_list[2]\n",
    "    try:\n",
    "        cat_dict['lvl_2'] = cat_list[3]\n",
    "    except:\n",
    "        cat_dict['lvl_2'] = None\n",
    "    try:\n",
    "        cat_dict['lvl_3'] = cat_list[4]\n",
    "    except:\n",
    "        cat_dict['lvl_3'] = None\n",
    "    return cat_dict"
   ]
  },
  {
   "cell_type": "code",
   "execution_count": 290,
   "metadata": {},
   "outputs": [
    {
     "data": {
      "text/plain": [
       "{'cat_1': 'Soups, Stews and Chili', 'cat_2': 'Soup', 'cat_3': 'Chicken Soup'}"
      ]
     },
     "execution_count": 290,
     "metadata": {},
     "output_type": "execute_result"
    }
   ],
   "source": [
    "_get_categories(browser)"
   ]
  },
  {
   "cell_type": "code",
   "execution_count": 310,
   "metadata": {},
   "outputs": [],
   "source": [
    "def _get_submitter_info(browser):\n",
    "    submitter_info = {}\n",
    "    sel = 'div.summary-background div.submitter'\n",
    "    submitter = browser.find_element_by_css_selector(sel)\n",
    "    followers = submitter.find_element_by_css_selector('div.submitter__img span').text\n",
    "    name = submitter.find_element_by_css_selector('p span.submitter__name').text\n",
    "    href = (submitter.find_element_by_css_selector('div.submitter__img a')\n",
    "                     .get_attribute('href'))\n",
    "    id_num = href.split('/')[-2]\n",
    "    submitter_info['id'] = int(id_num)\n",
    "    submitter_info['name'] = name\n",
    "    submitter_info['followers'] = int(followers)\n",
    "    submitter_info['href'] = href\n",
    "    return submitter_info"
   ]
  },
  {
   "cell_type": "code",
   "execution_count": 419,
   "metadata": {},
   "outputs": [
    {
     "data": {
      "text/plain": [
       "{'id': 2307691,\n",
       " 'name': 'sleepEp',\n",
       " 'followers': 0,\n",
       " 'href': 'https://www.allrecipes.com/cook/2307691/'}"
      ]
     },
     "execution_count": 419,
     "metadata": {},
     "output_type": "execute_result"
    }
   ],
   "source": [
    "_get_submitter_info(browser)"
   ]
  },
  {
   "cell_type": "code",
   "execution_count": 428,
   "metadata": {},
   "outputs": [],
   "source": [
    "def get_recipe_info(browser):\n",
    "    recipe_info = {}\n",
    "    recipe_info['id'] = _get_id(browser)\n",
    "    recipe_info['name'] = _get_name(browser)\n",
    "    recipe_info['href'] = browser.current_url.split('?')[0]\n",
    "    recipe_info['category'] = _get_categories(browser)\n",
    "    recipe_info['rating_info'] = _get_rating_info(browser)\n",
    "    try:\n",
    "        recipe_info['submitter_info'] = _get_submitter_info(browser)\n",
    "    except:\n",
    "        recipe_info['submitter_info'] = None\n",
    "    ingredients = _get_ingredients(browser)\n",
    "    recipe_info['ingredients'] = parse_ingredients(ingredients)\n",
    "    recipe_info['ingredients_raw'] = ingredients\n",
    "    recipe_info['directions'] = _get_directions(browser)\n",
    "    return recipe_info"
   ]
  },
  {
   "cell_type": "code",
   "execution_count": 429,
   "metadata": {},
   "outputs": [
    {
     "data": {
      "text/plain": [
       "{'id': 218328,\n",
       " 'name': 'Easy Turkey Chili',\n",
       " 'href': 'https://www.allrecipes.com/recipe/218328/easy-turkey-chili/',\n",
       " 'category': {'lvl_1': 'Soups, Stews and Chili',\n",
       "  'lvl_2': 'Chili',\n",
       "  'lvl_3': 'Turkey Chili'},\n",
       " 'rating_info': {'rating': 4.75961542129517, 'made_by': 231, 'reviews': 83},\n",
       " 'submitter_info': {'id': 3126961,\n",
       "  'name': 'aworley',\n",
       "  'followers': 4,\n",
       "  'href': 'https://www.allrecipes.com/cook/3126961/'},\n",
       " 'ingredients': [{'quantity': 1.0,\n",
       "   'units': 'teaspoon',\n",
       "   'ingredient': 'vegetable oil'},\n",
       "  {'quantity': 1.0, 'units': 'pound', 'ingredient': 'ground turkey'},\n",
       "  {'quantity': 0.5, 'units': 'each', 'ingredient': 'onion'},\n",
       "  {'quantity': 2.0, 'units': 'cup', 'ingredient': 'chicken broth'},\n",
       "  {'quantity': 28.0, 'units': 'ounce', 'ingredient': 'tomatoes'},\n",
       "  {'quantity': 15.0, 'units': 'ounce', 'ingredient': 'black beans'},\n",
       "  {'quantity': 15.0, 'units': 'ounce', 'ingredient': 'kidney beans'},\n",
       "  {'quantity': 16.0, 'units': 'ounce', 'ingredient': 'beans'},\n",
       "  {'quantity': 1.0, 'units': 'tablespoon', 'ingredient': 'garlic'},\n",
       "  {'quantity': 2.5, 'units': 'tablespoon', 'ingredient': 'chili powder'},\n",
       "  {'quantity': 1.0, 'units': 'teaspoon', 'ingredient': 'paprika'},\n",
       "  {'quantity': 1.0, 'units': 'teaspoon', 'ingredient': 'oregano'},\n",
       "  {'quantity': 0.5, 'units': 'teaspoon', 'ingredient': 'ground cumin'},\n",
       "  {'quantity': 2.0,\n",
       "   'units': 'tablespoon',\n",
       "   'ingredient': 'cheddar cheese optional'}],\n",
       " 'ingredients_raw': ['1 teaspoon vegetable oil',\n",
       "  '1 pound ground turkey',\n",
       "  '1/2 onion, chopped',\n",
       "  '2 cups chicken broth',\n",
       "  '1 (28 ounce) can crushed tomatoes',\n",
       "  '1 (15 ounce) can black beans, rinsed and drained',\n",
       "  '1 (15 ounce) can kidney beans, rinsed and drained',\n",
       "  '1 (16 ounce) can refried beans',\n",
       "  '1 tablespoon minced garlic',\n",
       "  '2 1/2 tablespoons chili powder',\n",
       "  '1 teaspoon paprika',\n",
       "  '1 teaspoon dried oregano',\n",
       "  '1/2 teaspoon ground cumin',\n",
       "  '2 tablespoons shredded Cheddar cheese (optional)'],\n",
       " 'directions': {'timing': {'prep': 10, 'cook': 45, 'total': 55},\n",
       "  'steps': ['Heat vegetable oil in a large pot over medium-high heat and stir in the ground turkey. Cook and stir until the turkey is crumbly, evenly browned, and no longer pink. Drain and discard any excess grease. Stir in the onion; cook and stir until the onion is tender, about 5 minutes.',\n",
       "   'Add the chicken broth, tomatoes, black beans, kidney beans, refried beans, garlic, chili powder, paprika, oregano, cumin, salt, and black pepper. Bring to a boil, then reduce heat to low. Cover and simmer for 30 minutes. Sprinkle each bowl with a teaspoon of Cheddar cheese, if desired.'],\n",
       "  'servings': 6}}"
      ]
     },
     "execution_count": 429,
     "metadata": {},
     "output_type": "execute_result"
    }
   ],
   "source": [
    "get_recipe_info(browser)"
   ]
  },
  {
   "cell_type": "code",
   "execution_count": 418,
   "metadata": {},
   "outputs": [],
   "source": [
    "def _get_directions(browser):\n",
    "    directions = {}\n",
    "    try:\n",
    "        directions['timing'] = _get_timing(browser)\n",
    "    except:\n",
    "        directions['timing'] = None\n",
    "    sel = 'div.directions--section li.step'\n",
    "    steps = browser.find_elements_by_css_selector(sel)\n",
    "    directions['steps'] = [step.text for step in steps if step.text]\n",
    "    try:\n",
    "        directions['servings'] = _get_servings(browser)\n",
    "    except:\n",
    "        directions['servings'] = None\n",
    "    return directions"
   ]
  },
  {
   "cell_type": "code",
   "execution_count": 336,
   "metadata": {},
   "outputs": [
    {
     "data": {
      "text/plain": [
       "{'timing': {'prep': 20, 'cook': 40, 'ready_in': 60},\n",
       " 'steps': ['Toss chicken first in 1 tablespoon dark soy sauce, then in the flour, coating pieces evenly. Heat the oil in a large skillet over medium high heat. Place chicken in the skillet, cook and stir chicken until browned, about 5 minutes. Remove chicken.',\n",
       "  'Reduce heat to medium and stir in curry paste. Cook for 1 minute until fragrant, then stir in green onions, garlic, and ginger; cook an additional 2 minutes. Return chicken to the skillet, stirring to coat with the curry mixture. Stir the coconut milk, fish sauce, 1 tablespoon soy sauce, and sugar into the chicken-curry mixture. Allow to simmer over medium heat for 20 minutes until the chicken is tender. Serve garnished with cilantro leaves.']}"
      ]
     },
     "execution_count": 336,
     "metadata": {},
     "output_type": "execute_result"
    }
   ],
   "source": [
    "_get_directions(browser)"
   ]
  },
  {
   "cell_type": "code",
   "execution_count": 411,
   "metadata": {},
   "outputs": [],
   "source": [
    "def _get_timing(browser):\n",
    "    timing = {}\n",
    "    sel = 'div.directions--section ul.prepTime li.prepTime__item'\n",
    "    timing_list = browser.find_elements_by_css_selector(sel)\n",
    "    time_str = timing_list[1].get_attribute('aria-label').split(': ')[1]\n",
    "    timing['prep'] = _parse_timing_string(time_str)\n",
    "    time_str = timing_list[2].get_attribute('aria-label').split(': ')[1]\n",
    "    timing['cook'] = _parse_timing_string(time_str)\n",
    "    time_str = timing_list[3].get_attribute('aria-label').split('Ready in ')[1]\n",
    "    timing['total'] = _parse_timing_string(time_str)\n",
    "    return timing"
   ]
  },
  {
   "cell_type": "code",
   "execution_count": 410,
   "metadata": {},
   "outputs": [],
   "source": [
    "def _parse_timing_string(string):\n",
    "    total = 0\n",
    "    if len(string.split('Hours')) > 1:\n",
    "        total += 60 * int(string.split('Hours')[0])\n",
    "        string = string.split('Hours')[1]\n",
    "    if len(string.split('Hour')) > 1:\n",
    "        total += 60 * int(string.split('Hour')[0])\n",
    "        string = string.split('Hour')[1]\n",
    "    if len(string.split('Minutes')) > 1:\n",
    "        total += int(string.split('Minutes')[0])\n",
    "    return total"
   ]
  },
  {
   "cell_type": "code",
   "execution_count": 382,
   "metadata": {},
   "outputs": [],
   "source": [
    "def _get_servings(browser):\n",
    "    sel = 'span.servings-count span.ng-binding'\n",
    "    servings = browser.find_element_by_css_selector(sel)\n",
    "    return int(servings.text)"
   ]
  },
  {
   "cell_type": "code",
   "execution_count": 383,
   "metadata": {},
   "outputs": [
    {
     "data": {
      "text/plain": [
       "12"
      ]
     },
     "execution_count": 383,
     "metadata": {},
     "output_type": "execute_result"
    }
   ],
   "source": [
    "_get_servings(browser)"
   ]
  },
  {
   "cell_type": "code",
   "execution_count": 392,
   "metadata": {},
   "outputs": [],
   "source": [
    "mc = pymongo.MongoClient()"
   ]
  },
  {
   "cell_type": "code",
   "execution_count": 396,
   "metadata": {},
   "outputs": [],
   "source": [
    "test_db = mc['recipes_test']\n",
    "recipes_coll = test_db['recipes']"
   ]
  },
  {
   "cell_type": "code",
   "execution_count": 398,
   "metadata": {},
   "outputs": [
    {
     "data": {
      "text/plain": [
       "<pymongo.results.InsertOneResult at 0x10ef51dc8>"
      ]
     },
     "execution_count": 398,
     "metadata": {},
     "output_type": "execute_result"
    }
   ],
   "source": [
    "recipes_coll.insert_one(get_recipe_info(browser))"
   ]
  },
  {
   "cell_type": "code",
   "execution_count": 399,
   "metadata": {},
   "outputs": [
    {
     "data": {
      "text/plain": [
       "[{'_id': ObjectId('5ca3adba8fd54b1b485da598'),\n",
       "  'id': '78299',\n",
       "  'name': 'Boilermaker Tailgate Chili',\n",
       "  'href': 'https://www.allrecipes.com/recipe/78299/boilermaker-tailgate-chili/',\n",
       "  'category': {'lvl_1': 'Soups, Stews and Chili',\n",
       "   'lvl_2': 'Chili',\n",
       "   'lvl_3': 'Pork Chili'},\n",
       "  'rating_info': {'rating': 4.8183069229126,\n",
       "   'made_by': 12000,\n",
       "   'reviews': 4000},\n",
       "  'submitter_info': {'id': 591623,\n",
       "   'name': 'MIGHTYPURDUE22',\n",
       "   'followers': 41,\n",
       "   'href': 'https://www.allrecipes.com/cook/591623/'},\n",
       "  'ingredients': [{'quantity': 2.0,\n",
       "    'units': 'pound',\n",
       "    'ingredient': 'ground beef chuck'},\n",
       "   {'quantity': 1.0, 'units': 'pound', 'ingredient': 'italian sausage'},\n",
       "   {'quantity': 45.0, 'units': 'ounce', 'ingredient': 'chili beans'},\n",
       "   {'quantity': 15.0,\n",
       "    'units': 'ounce',\n",
       "    'ingredient': 'chili beans in spicy sauce'},\n",
       "   {'quantity': 56.0, 'units': 'ounce', 'ingredient': 'tomatoes with juice'},\n",
       "   {'quantity': 6.0, 'units': 'ounce', 'ingredient': 'tomato paste'},\n",
       "   {'quantity': 1.0, 'units': 'each', 'ingredient': 'yellow onion'},\n",
       "   {'quantity': 3.0, 'units': 'stalk', 'ingredient': 'celery'},\n",
       "   {'quantity': 1.0, 'units': 'each', 'ingredient': 'green bell pepper'},\n",
       "   {'quantity': 1.0, 'units': 'each', 'ingredient': 'red bell pepper'},\n",
       "   {'quantity': 2.0, 'units': 'each', 'ingredient': 'green chile peppers'},\n",
       "   {'quantity': 1.0, 'units': 'tablespoon', 'ingredient': 'bacon bits'},\n",
       "   {'quantity': 4.0, 'units': 'cube', 'ingredient': 'beef bouillon'},\n",
       "   {'quantity': 0.5, 'units': 'cup', 'ingredient': 'beer'},\n",
       "   {'quantity': 0.25, 'units': 'cup', 'ingredient': 'chili powder'},\n",
       "   {'quantity': 1.0,\n",
       "    'units': 'tablespoon',\n",
       "    'ingredient': 'worcestershire sauce'},\n",
       "   {'quantity': 1.0, 'units': 'tablespoon', 'ingredient': 'garlic'},\n",
       "   {'quantity': 1.0, 'units': 'tablespoon', 'ingredient': 'oregano'},\n",
       "   {'quantity': 2.0, 'units': 'teaspoon', 'ingredient': 'ground cumin'},\n",
       "   {'quantity': 2.0,\n",
       "    'units': 'teaspoon',\n",
       "    'ingredient': 'pepper sauce eg tabasco'},\n",
       "   {'quantity': 1.0, 'units': 'teaspoon', 'ingredient': 'basil'},\n",
       "   {'quantity': 1.0, 'units': 'teaspoon', 'ingredient': 'salt'},\n",
       "   {'quantity': 1.0, 'units': 'teaspoon', 'ingredient': 'ground black pepper'},\n",
       "   {'quantity': 1.0, 'units': 'teaspoon', 'ingredient': 'cayenne pepper'},\n",
       "   {'quantity': 1.0, 'units': 'teaspoon', 'ingredient': 'paprika'},\n",
       "   {'quantity': 1.0, 'units': 'teaspoon', 'ingredient': 'white sugar'},\n",
       "   {'quantity': 10.5, 'units': 'ounce', 'ingredient': 'corn chips'},\n",
       "   {'quantity': 8.0, 'units': 'ounce', 'ingredient': 'cheddar cheese'}],\n",
       "  'directions': {'timing': {'prep': 30, 'cook': 120, 'total': 150},\n",
       "   'steps': ['Heat a large stock pot over medium-high heat. Crumble the ground chuck and sausage into the hot pan, and cook until evenly browned. Drain off excess grease.',\n",
       "    'Pour in the chili beans, spicy chili beans, diced tomatoes and tomato paste. Add the onion, celery, green and red bell peppers, chile peppers, bacon bits, bouillon, and beer. Season with chili powder, Worcestershire sauce, garlic, oregano, cumin, hot pepper sauce, basil, salt, pepper, cayenne, paprika, and sugar. Stir to blend, then cover and simmer over low heat for at least 2 hours, stirring occasionally.',\n",
       "    'After 2 hours, taste, and adjust salt, pepper, and chili powder if necessary. The longer the chili simmers, the better it will taste. Remove from heat and serve, or refrigerate, and serve the next day.',\n",
       "    'To serve, ladle into bowls, and top with corn chips and shredded Cheddar cheese.'],\n",
       "   'servings': 12}}]"
      ]
     },
     "execution_count": 399,
     "metadata": {},
     "output_type": "execute_result"
    }
   ],
   "source": [
    "list(recipes_coll.find())"
   ]
  },
  {
   "cell_type": "code",
   "execution_count": null,
   "metadata": {},
   "outputs": [],
   "source": []
  }
 ],
 "metadata": {
  "kernelspec": {
   "display_name": "Python 3",
   "language": "python",
   "name": "python3"
  },
  "language_info": {
   "codemirror_mode": {
    "name": "ipython",
    "version": 3
   },
   "file_extension": ".py",
   "mimetype": "text/x-python",
   "name": "python",
   "nbconvert_exporter": "python",
   "pygments_lexer": "ipython3",
   "version": "3.6.8"
  }
 },
 "nbformat": 4,
 "nbformat_minor": 2
}
