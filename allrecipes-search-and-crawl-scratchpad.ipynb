{
 "cells": [
  {
   "cell_type": "code",
   "execution_count": 2,
   "metadata": {},
   "outputs": [],
   "source": [
    "import time\n",
    "import random\n",
    "import requests\n",
    "import selenium\n",
    "from string import ascii_lowercase\n",
    "from selenium.webdriver import Firefox, Chrome\n",
    "from bs4 import BeautifulSoup\n",
    "import pandas as pd\n",
    "import string\n",
    "import numpy as np\n",
    "from selenium.webdriver.common.keys import Keys"
   ]
  },
  {
   "cell_type": "code",
   "execution_count": 3,
   "metadata": {},
   "outputs": [],
   "source": [
    "browser = Chrome()"
   ]
  },
  {
   "cell_type": "code",
   "execution_count": 5,
   "metadata": {},
   "outputs": [],
   "source": [
    "def search_allrecipes(search_item, browser, typo_rate=0.1):\n",
    "    \"\"\"Goes to the Allrecipes.com homepage and searches for item specified by 'search_item'\"\"\"\n",
    "    url='https://www.allrecipes.com'\n",
    "    browser.get(url)\n",
    "    sel = 'input#searchText'\n",
    "    search_bar = browser.find_element_by_css_selector(sel)\n",
    "    search_bar.click()\n",
    "    type_item(search_item, search_bar, typo_rate)\n",
    "    search_bar.send_keys('\\n')"
   ]
  },
  {
   "cell_type": "code",
   "execution_count": 29,
   "metadata": {},
   "outputs": [],
   "source": [
    "url='https://www.allrecipes.com'\n",
    "browser.get(url)"
   ]
  },
  {
   "cell_type": "code",
   "execution_count": 30,
   "metadata": {},
   "outputs": [],
   "source": [
    "sel = 'input#searchText'\n",
    "search_bar = browser.find_element_by_css_selector(sel)\n",
    "search_bar.click()"
   ]
  },
  {
   "cell_type": "code",
   "execution_count": 7,
   "metadata": {},
   "outputs": [],
   "source": [
    "def type_item(item, field, typo_rate=0.1):\n",
    "    for char in item:\n",
    "        if np.random.random() < typo_rate:\n",
    "            field.send_keys(make_typo(char))\n",
    "            time.sleep(0.2 * np.random.random() + typo_rate)\n",
    "            field.send_keys('\\b')\n",
    "        field.send_keys(char)\n",
    "        time.sleep(0.05 * np.random.random() + typo_rate)"
   ]
  },
  {
   "cell_type": "code",
   "execution_count": 8,
   "metadata": {},
   "outputs": [],
   "source": [
    "def make_typo(key, repeat=True):\n",
    "    '''Returns a letter adjacent to (or identical to, if repeat=True) the input key.'''\n",
    "    key = key.lower()\n",
    "    row2 = list('qwertyuiop[')\n",
    "    row3 = list(\"asdfghjkl;\")\n",
    "    row4 = list('zxcvbnm,.')\n",
    "    adj_keys = [key] if repeat else []\n",
    "    if key in row2:\n",
    "        idx = row2.index(key)\n",
    "        if idx > 0:\n",
    "            adj_keys += [row2[idx-1] , row2[idx+1]] + row3[idx-1:idx+1]\n",
    "        else:\n",
    "            adj_keys += list('was')\n",
    "    elif key in row3:\n",
    "        idx = row3.index(key)\n",
    "        if idx > 0:\n",
    "            adj_keys += row2[idx:idx+2] + [row3[idx-1] , row3[idx+1]] + row4[idx-1:idx+1]\n",
    "        else:\n",
    "            adj_keys += list('qwsz')\n",
    "    elif key in row4:\n",
    "        idx = row4.index(key)\n",
    "        if idx > 0:\n",
    "            adj_keys += row3[idx:idx+2] + [row4[idx-1] , row4[idx+1]]\n",
    "        else:\n",
    "            adj_keys += list('asx')\n",
    "    return np.random.choice(adj_keys)"
   ]
  },
  {
   "cell_type": "code",
   "execution_count": 57,
   "metadata": {},
   "outputs": [
    {
     "data": {
      "text/plain": [
       "'chicken enchiladas'"
      ]
     },
     "execution_count": 57,
     "metadata": {},
     "output_type": "execute_result"
    }
   ],
   "source": [
    "search_bar.get_attribute('value')"
   ]
  },
  {
   "cell_type": "code",
   "execution_count": 75,
   "metadata": {},
   "outputs": [],
   "source": [
    "def clear_field(field):\n",
    "    contents = field.get_attribute('value')\n",
    "    for _ in contents:\n",
    "        field.send_keys('\\b')\n",
    "        time.sleep(0.02 * np.random.random() + 0.05)"
   ]
  },
  {
   "cell_type": "code",
   "execution_count": 68,
   "metadata": {},
   "outputs": [],
   "source": [
    "clear_field()"
   ]
  },
  {
   "cell_type": "code",
   "execution_count": 69,
   "metadata": {},
   "outputs": [],
   "source": [
    "type_item('chicken pizza')"
   ]
  },
  {
   "cell_type": "code",
   "execution_count": 80,
   "metadata": {},
   "outputs": [],
   "source": [
    "browser = Chrome()"
   ]
  },
  {
   "cell_type": "code",
   "execution_count": 78,
   "metadata": {},
   "outputs": [],
   "source": [
    "search_allrecipes('stew', browser)"
   ]
  },
  {
   "cell_type": "code",
   "execution_count": 106,
   "metadata": {},
   "outputs": [],
   "source": [
    "sel = 'a.toggle-similar'\n",
    "sort = browser.find_element_by_css_selector(sel)\n",
    "sort.click()"
   ]
  },
  {
   "cell_type": "code",
   "execution_count": 111,
   "metadata": {},
   "outputs": [],
   "source": [
    "sel = 'a.toggle-similar ul.sort-nav'\n",
    "sort_options = browser.find_elements_by_css_selector(sel)\n",
    "sort_options"
   ]
  },
  {
   "cell_type": "code",
   "execution_count": 35,
   "metadata": {},
   "outputs": [],
   "source": [
    "sel = 'article.fixed-recipe-card'\n",
    "search_results = browser.find_elements_by_css_selector(sel)"
   ]
  },
  {
   "cell_type": "code",
   "execution_count": 38,
   "metadata": {},
   "outputs": [],
   "source": [
    "sel = 'div.fixed-recipe-card__info'\n",
    "info = search_results[22].find_element_by_css_selector(sel)\n",
    "href = info.get_attribute('href')\n",
    "name = info.text"
   ]
  },
  {
   "cell_type": "code",
   "execution_count": 39,
   "metadata": {},
   "outputs": [
    {
     "data": {
      "text/plain": [
       "'Elk Chili\\n77\\nA simple but tasty chili recipe using ground elk meat as the base. Best served with Mexican…\\nBy JJHOME'"
      ]
     },
     "execution_count": 39,
     "metadata": {},
     "output_type": "execute_result"
    }
   ],
   "source": [
    "name"
   ]
  },
  {
   "cell_type": "code",
   "execution_count": 33,
   "metadata": {},
   "outputs": [
    {
     "name": "stdout",
     "output_type": "stream",
     "text": [
      "Boilermaker Tailgate Chili\n",
      "Flatlander Chili\n",
      "The Best Vegetarian Chili in the World\n",
      "It's Chili by George!!\n",
      "Easy Chili I\n",
      "Debdoozie's Blue Ribbon Chili\n",
      "Creamy White Chili\n",
      "Just Like Wendy's® Chili\n",
      "Frank's Spicy Alabama Onion Beer Chili\n",
      "Terrific Turkey Chili\n",
      "Smokin' Scovilles Turkey Chili\n",
      "Beef, Bean, and Beer Chili\n",
      "Washabinaros Chili\n",
      "Chili I\n",
      "Jeff's Hot Dog Chili\n",
      "White Bean Chicken Chili\n",
      "Best Damn Chili\n",
      "My Chili\n",
      "Paleo Chili\n",
      "Quick Chili I\n",
      "Chili Sauce\n"
     ]
    },
    {
     "ename": "NoSuchElementException",
     "evalue": "Message: no such element: Unable to locate element: {\"method\":\"css selector\",\"selector\":\"div.fixed-recipe-card__info h3 a\"}\n  (Session info: chrome=73.0.3683.86)\n  (Driver info: chromedriver=73.0.3683.20 (8e2b610813e167eee3619ac4ce6e42e3ec622017),platform=Mac OS X 10.14.3 x86_64)\n",
     "output_type": "error",
     "traceback": [
      "\u001b[0;31m---------------------------------------------------------------------------\u001b[0m",
      "\u001b[0;31mNoSuchElementException\u001b[0m                    Traceback (most recent call last)",
      "\u001b[0;32m<ipython-input-33-42983c3a6e96>\u001b[0m in \u001b[0;36m<module>\u001b[0;34m\u001b[0m\n\u001b[1;32m      3\u001b[0m \u001b[0;32mfor\u001b[0m \u001b[0melement\u001b[0m \u001b[0;32min\u001b[0m \u001b[0msearch_results\u001b[0m\u001b[0;34m:\u001b[0m\u001b[0;34m\u001b[0m\u001b[0;34m\u001b[0m\u001b[0m\n\u001b[1;32m      4\u001b[0m     \u001b[0msel\u001b[0m \u001b[0;34m=\u001b[0m \u001b[0;34m'div.fixed-recipe-card__info h3 a'\u001b[0m\u001b[0;34m\u001b[0m\u001b[0;34m\u001b[0m\u001b[0m\n\u001b[0;32m----> 5\u001b[0;31m     \u001b[0minfo\u001b[0m \u001b[0;34m=\u001b[0m \u001b[0melement\u001b[0m\u001b[0;34m.\u001b[0m\u001b[0mfind_element_by_css_selector\u001b[0m\u001b[0;34m(\u001b[0m\u001b[0msel\u001b[0m\u001b[0;34m)\u001b[0m\u001b[0;34m\u001b[0m\u001b[0;34m\u001b[0m\u001b[0m\n\u001b[0m\u001b[1;32m      6\u001b[0m     \u001b[0mhrefs\u001b[0m\u001b[0;34m.\u001b[0m\u001b[0mappend\u001b[0m\u001b[0;34m(\u001b[0m\u001b[0minfo\u001b[0m\u001b[0;34m.\u001b[0m\u001b[0mget_attribute\u001b[0m\u001b[0;34m(\u001b[0m\u001b[0;34m'href'\u001b[0m\u001b[0;34m)\u001b[0m\u001b[0;34m)\u001b[0m\u001b[0;34m\u001b[0m\u001b[0;34m\u001b[0m\u001b[0m\n\u001b[1;32m      7\u001b[0m     \u001b[0mnames\u001b[0m\u001b[0;34m.\u001b[0m\u001b[0mappend\u001b[0m\u001b[0;34m(\u001b[0m\u001b[0minfo\u001b[0m\u001b[0;34m.\u001b[0m\u001b[0mtext\u001b[0m\u001b[0;34m)\u001b[0m\u001b[0;34m\u001b[0m\u001b[0;34m\u001b[0m\u001b[0m\n",
      "\u001b[0;32m~/anaconda3/lib/python3.6/site-packages/selenium/webdriver/remote/webelement.py\u001b[0m in \u001b[0;36mfind_element_by_css_selector\u001b[0;34m(self, css_selector)\u001b[0m\n\u001b[1;32m    428\u001b[0m             \u001b[0melement\u001b[0m \u001b[0;34m=\u001b[0m \u001b[0melement\u001b[0m\u001b[0;34m.\u001b[0m\u001b[0mfind_element_by_css_selector\u001b[0m\u001b[0;34m(\u001b[0m\u001b[0;34m'#foo'\u001b[0m\u001b[0;34m)\u001b[0m\u001b[0;34m\u001b[0m\u001b[0;34m\u001b[0m\u001b[0m\n\u001b[1;32m    429\u001b[0m         \"\"\"\n\u001b[0;32m--> 430\u001b[0;31m         \u001b[0;32mreturn\u001b[0m \u001b[0mself\u001b[0m\u001b[0;34m.\u001b[0m\u001b[0mfind_element\u001b[0m\u001b[0;34m(\u001b[0m\u001b[0mby\u001b[0m\u001b[0;34m=\u001b[0m\u001b[0mBy\u001b[0m\u001b[0;34m.\u001b[0m\u001b[0mCSS_SELECTOR\u001b[0m\u001b[0;34m,\u001b[0m \u001b[0mvalue\u001b[0m\u001b[0;34m=\u001b[0m\u001b[0mcss_selector\u001b[0m\u001b[0;34m)\u001b[0m\u001b[0;34m\u001b[0m\u001b[0;34m\u001b[0m\u001b[0m\n\u001b[0m\u001b[1;32m    431\u001b[0m \u001b[0;34m\u001b[0m\u001b[0m\n\u001b[1;32m    432\u001b[0m     \u001b[0;32mdef\u001b[0m \u001b[0mfind_elements_by_css_selector\u001b[0m\u001b[0;34m(\u001b[0m\u001b[0mself\u001b[0m\u001b[0;34m,\u001b[0m \u001b[0mcss_selector\u001b[0m\u001b[0;34m)\u001b[0m\u001b[0;34m:\u001b[0m\u001b[0;34m\u001b[0m\u001b[0;34m\u001b[0m\u001b[0m\n",
      "\u001b[0;32m~/anaconda3/lib/python3.6/site-packages/selenium/webdriver/remote/webelement.py\u001b[0m in \u001b[0;36mfind_element\u001b[0;34m(self, by, value)\u001b[0m\n\u001b[1;32m    657\u001b[0m \u001b[0;34m\u001b[0m\u001b[0m\n\u001b[1;32m    658\u001b[0m         return self._execute(Command.FIND_CHILD_ELEMENT,\n\u001b[0;32m--> 659\u001b[0;31m                              {\"using\": by, \"value\": value})['value']\n\u001b[0m\u001b[1;32m    660\u001b[0m \u001b[0;34m\u001b[0m\u001b[0m\n\u001b[1;32m    661\u001b[0m     \u001b[0;32mdef\u001b[0m \u001b[0mfind_elements\u001b[0m\u001b[0;34m(\u001b[0m\u001b[0mself\u001b[0m\u001b[0;34m,\u001b[0m \u001b[0mby\u001b[0m\u001b[0;34m=\u001b[0m\u001b[0mBy\u001b[0m\u001b[0;34m.\u001b[0m\u001b[0mID\u001b[0m\u001b[0;34m,\u001b[0m \u001b[0mvalue\u001b[0m\u001b[0;34m=\u001b[0m\u001b[0;32mNone\u001b[0m\u001b[0;34m)\u001b[0m\u001b[0;34m:\u001b[0m\u001b[0;34m\u001b[0m\u001b[0;34m\u001b[0m\u001b[0m\n",
      "\u001b[0;32m~/anaconda3/lib/python3.6/site-packages/selenium/webdriver/remote/webelement.py\u001b[0m in \u001b[0;36m_execute\u001b[0;34m(self, command, params)\u001b[0m\n\u001b[1;32m    631\u001b[0m             \u001b[0mparams\u001b[0m \u001b[0;34m=\u001b[0m \u001b[0;34m{\u001b[0m\u001b[0;34m}\u001b[0m\u001b[0;34m\u001b[0m\u001b[0;34m\u001b[0m\u001b[0m\n\u001b[1;32m    632\u001b[0m         \u001b[0mparams\u001b[0m\u001b[0;34m[\u001b[0m\u001b[0;34m'id'\u001b[0m\u001b[0;34m]\u001b[0m \u001b[0;34m=\u001b[0m \u001b[0mself\u001b[0m\u001b[0;34m.\u001b[0m\u001b[0m_id\u001b[0m\u001b[0;34m\u001b[0m\u001b[0;34m\u001b[0m\u001b[0m\n\u001b[0;32m--> 633\u001b[0;31m         \u001b[0;32mreturn\u001b[0m \u001b[0mself\u001b[0m\u001b[0;34m.\u001b[0m\u001b[0m_parent\u001b[0m\u001b[0;34m.\u001b[0m\u001b[0mexecute\u001b[0m\u001b[0;34m(\u001b[0m\u001b[0mcommand\u001b[0m\u001b[0;34m,\u001b[0m \u001b[0mparams\u001b[0m\u001b[0;34m)\u001b[0m\u001b[0;34m\u001b[0m\u001b[0;34m\u001b[0m\u001b[0m\n\u001b[0m\u001b[1;32m    634\u001b[0m \u001b[0;34m\u001b[0m\u001b[0m\n\u001b[1;32m    635\u001b[0m     \u001b[0;32mdef\u001b[0m \u001b[0mfind_element\u001b[0m\u001b[0;34m(\u001b[0m\u001b[0mself\u001b[0m\u001b[0;34m,\u001b[0m \u001b[0mby\u001b[0m\u001b[0;34m=\u001b[0m\u001b[0mBy\u001b[0m\u001b[0;34m.\u001b[0m\u001b[0mID\u001b[0m\u001b[0;34m,\u001b[0m \u001b[0mvalue\u001b[0m\u001b[0;34m=\u001b[0m\u001b[0;32mNone\u001b[0m\u001b[0;34m)\u001b[0m\u001b[0;34m:\u001b[0m\u001b[0;34m\u001b[0m\u001b[0;34m\u001b[0m\u001b[0m\n",
      "\u001b[0;32m~/anaconda3/lib/python3.6/site-packages/selenium/webdriver/remote/webdriver.py\u001b[0m in \u001b[0;36mexecute\u001b[0;34m(self, driver_command, params)\u001b[0m\n\u001b[1;32m    319\u001b[0m         \u001b[0mresponse\u001b[0m \u001b[0;34m=\u001b[0m \u001b[0mself\u001b[0m\u001b[0;34m.\u001b[0m\u001b[0mcommand_executor\u001b[0m\u001b[0;34m.\u001b[0m\u001b[0mexecute\u001b[0m\u001b[0;34m(\u001b[0m\u001b[0mdriver_command\u001b[0m\u001b[0;34m,\u001b[0m \u001b[0mparams\u001b[0m\u001b[0;34m)\u001b[0m\u001b[0;34m\u001b[0m\u001b[0;34m\u001b[0m\u001b[0m\n\u001b[1;32m    320\u001b[0m         \u001b[0;32mif\u001b[0m \u001b[0mresponse\u001b[0m\u001b[0;34m:\u001b[0m\u001b[0;34m\u001b[0m\u001b[0;34m\u001b[0m\u001b[0m\n\u001b[0;32m--> 321\u001b[0;31m             \u001b[0mself\u001b[0m\u001b[0;34m.\u001b[0m\u001b[0merror_handler\u001b[0m\u001b[0;34m.\u001b[0m\u001b[0mcheck_response\u001b[0m\u001b[0;34m(\u001b[0m\u001b[0mresponse\u001b[0m\u001b[0;34m)\u001b[0m\u001b[0;34m\u001b[0m\u001b[0;34m\u001b[0m\u001b[0m\n\u001b[0m\u001b[1;32m    322\u001b[0m             response['value'] = self._unwrap_value(\n\u001b[1;32m    323\u001b[0m                 response.get('value', None))\n",
      "\u001b[0;32m~/anaconda3/lib/python3.6/site-packages/selenium/webdriver/remote/errorhandler.py\u001b[0m in \u001b[0;36mcheck_response\u001b[0;34m(self, response)\u001b[0m\n\u001b[1;32m    240\u001b[0m                 \u001b[0malert_text\u001b[0m \u001b[0;34m=\u001b[0m \u001b[0mvalue\u001b[0m\u001b[0;34m[\u001b[0m\u001b[0;34m'alert'\u001b[0m\u001b[0;34m]\u001b[0m\u001b[0;34m.\u001b[0m\u001b[0mget\u001b[0m\u001b[0;34m(\u001b[0m\u001b[0;34m'text'\u001b[0m\u001b[0;34m)\u001b[0m\u001b[0;34m\u001b[0m\u001b[0;34m\u001b[0m\u001b[0m\n\u001b[1;32m    241\u001b[0m             \u001b[0;32mraise\u001b[0m \u001b[0mexception_class\u001b[0m\u001b[0;34m(\u001b[0m\u001b[0mmessage\u001b[0m\u001b[0;34m,\u001b[0m \u001b[0mscreen\u001b[0m\u001b[0;34m,\u001b[0m \u001b[0mstacktrace\u001b[0m\u001b[0;34m,\u001b[0m \u001b[0malert_text\u001b[0m\u001b[0;34m)\u001b[0m\u001b[0;34m\u001b[0m\u001b[0;34m\u001b[0m\u001b[0m\n\u001b[0;32m--> 242\u001b[0;31m         \u001b[0;32mraise\u001b[0m \u001b[0mexception_class\u001b[0m\u001b[0;34m(\u001b[0m\u001b[0mmessage\u001b[0m\u001b[0;34m,\u001b[0m \u001b[0mscreen\u001b[0m\u001b[0;34m,\u001b[0m \u001b[0mstacktrace\u001b[0m\u001b[0;34m)\u001b[0m\u001b[0;34m\u001b[0m\u001b[0;34m\u001b[0m\u001b[0m\n\u001b[0m\u001b[1;32m    243\u001b[0m \u001b[0;34m\u001b[0m\u001b[0m\n\u001b[1;32m    244\u001b[0m     \u001b[0;32mdef\u001b[0m \u001b[0m_value_or_default\u001b[0m\u001b[0;34m(\u001b[0m\u001b[0mself\u001b[0m\u001b[0;34m,\u001b[0m \u001b[0mobj\u001b[0m\u001b[0;34m,\u001b[0m \u001b[0mkey\u001b[0m\u001b[0;34m,\u001b[0m \u001b[0mdefault\u001b[0m\u001b[0;34m)\u001b[0m\u001b[0;34m:\u001b[0m\u001b[0;34m\u001b[0m\u001b[0;34m\u001b[0m\u001b[0m\n",
      "\u001b[0;31mNoSuchElementException\u001b[0m: Message: no such element: Unable to locate element: {\"method\":\"css selector\",\"selector\":\"div.fixed-recipe-card__info h3 a\"}\n  (Session info: chrome=73.0.3683.86)\n  (Driver info: chromedriver=73.0.3683.20 (8e2b610813e167eee3619ac4ce6e42e3ec622017),platform=Mac OS X 10.14.3 x86_64)\n"
     ]
    }
   ],
   "source": [
    "hrefs = []\n",
    "names = []\n",
    "for element in search_results:\n",
    "    sel = 'div.fixed-recipe-card__info h3 a'\n",
    "    info = element.find_element_by_css_selector(sel)\n",
    "    hrefs.append(info.get_attribute('href'))\n",
    "    names.append(info.text)\n",
    "    print(info.text)"
   ]
  },
  {
   "cell_type": "code",
   "execution_count": 72,
   "metadata": {},
   "outputs": [],
   "source": [
    "browser.execute_script('window.scrollTo(0, document.body.scrollHeight - 1000);')"
   ]
  },
  {
   "cell_type": "code",
   "execution_count": 46,
   "metadata": {},
   "outputs": [],
   "source": [
    "def get_search_results(browser):\n",
    "    '''\n",
    "    Finds and returns all recipe names and hyperlink references on current browser page.\n",
    "    '''\n",
    "    sel = 'article.fixed-recipe-card'\n",
    "    search_results = browser.find_elements_by_css_selector(sel)\n",
    "    hrefs = []\n",
    "    names = []\n",
    "    for element in search_results:\n",
    "        try:\n",
    "            sel = 'div.fixed-recipe-card__info h3 a'\n",
    "            info = element.find_element_by_css_selector(sel)\n",
    "            href = info.get_attribute('href')\n",
    "            hrefs.append(href.split('/?')[0])\n",
    "            names.append(info.text)\n",
    "        except:\n",
    "            continue\n",
    "    return names, hrefs"
   ]
  },
  {
   "cell_type": "code",
   "execution_count": 82,
   "metadata": {},
   "outputs": [],
   "source": [
    "names, hrefs = get_search_results(browser)"
   ]
  },
  {
   "cell_type": "code",
   "execution_count": 83,
   "metadata": {},
   "outputs": [
    {
     "data": {
      "text/plain": [
       "160"
      ]
     },
     "execution_count": 83,
     "metadata": {},
     "output_type": "execute_result"
    }
   ],
   "source": [
    "len(names)"
   ]
  },
  {
   "cell_type": "code",
   "execution_count": 84,
   "metadata": {},
   "outputs": [
    {
     "data": {
      "text/plain": [
       "['https://www.allrecipes.com/recipe/234534/beef-and-guinness-stew',\n",
       " 'https://www.allrecipes.com/recipe/19481/frogmore-stew',\n",
       " 'https://www.allrecipes.com/recipe/25678/beef-stew-vi',\n",
       " 'https://www.allrecipes.com/recipe/241310/chef-johns-beef-and-barley-stew',\n",
       " 'https://www.allrecipes.com/recipe/236988/chef-johns-irish-pork-stew',\n",
       " 'https://www.allrecipes.com/recipe/25200/slow-cooker-beef-stew-iv',\n",
       " 'https://www.allrecipes.com/recipe/73139/vegetarian-tortilla-stew',\n",
       " 'https://www.allrecipes.com/recipe/55610/get-a-husband-brunswick-stew',\n",
       " 'https://www.allrecipes.com/recipe/16035/irish-lamb-stew',\n",
       " 'https://www.allrecipes.com/recipe/211541/pork-stew-in-green-salsa-guisado-de-puerco-con-tomatillos',\n",
       " 'https://www.allrecipes.com/recipe/236603/chef-johns-irish-stew',\n",
       " 'https://www.allrecipes.com/recipe/12862/oyster-stew',\n",
       " 'https://www.allrecipes.com/recipe/13440/venison-stew-i',\n",
       " 'https://www.allrecipes.com/recipe/14685/slow-cooker-beef-stew-i',\n",
       " 'https://www.allrecipes.com/recipe/229255/beef-and-cabbage-stew',\n",
       " 'https://www.allrecipes.com/recipe/100292/irish-stew',\n",
       " 'https://www.allrecipes.com/recipe/215565/make-ahead-slow-cooker-beef-stew',\n",
       " 'https://www.allrecipes.com/recipe/233398/summer-squash-and-sausage-stew',\n",
       " 'https://www.allrecipes.com/recipe/237287/paleo-chicken-stew',\n",
       " 'https://www.allrecipes.com/recipe/238412/slow-cooker-mexican-beef-stew',\n",
       " 'https://www.allrecipes.com/recipe/13444/posole-stew',\n",
       " 'https://www.allrecipes.com/recipe/13055/southwest-stew',\n",
       " 'https://www.allrecipes.com/recipe/71872/posse-stew',\n",
       " 'https://www.allrecipes.com/recipe/55314/daddys-stew',\n",
       " 'https://www.allrecipes.com/recipe/58993/sailors-stew',\n",
       " 'https://www.allrecipes.com/recipe/12862/oyster-stew',\n",
       " 'https://www.allrecipes.com/recipe/100292/irish-stew',\n",
       " 'https://www.allrecipes.com/recipe/68888/wyoming-stew',\n",
       " 'https://www.allrecipes.com/recipe/21764/gizzard-stew',\n",
       " 'https://www.allrecipes.com/recipe/14609/veal-stew',\n",
       " 'https://www.allrecipes.com/recipe/13299/frogmoor-stew',\n",
       " 'https://www.allrecipes.com/recipe/31587/stewed-potatoes',\n",
       " 'https://www.allrecipes.com/recipe/13243/root-stew',\n",
       " 'https://www.allrecipes.com/recipe/234097/blackhorse-stew',\n",
       " 'https://www.allrecipes.com/recipe/20522/manifold-stew',\n",
       " 'https://www.allrecipes.com/recipe/24534/cookson-stew',\n",
       " 'https://www.allrecipes.com/recipe/16384/brunswick-stew',\n",
       " 'https://www.allrecipes.com/recipe/18888/stewed-squash',\n",
       " 'https://www.allrecipes.com/recipe/13016/lobster-stew',\n",
       " 'https://www.allrecipes.com/recipe/13232/fisherman-stew',\n",
       " 'https://www.allrecipes.com/recipe/69770/fish-stew',\n",
       " 'https://www.allrecipes.com/recipe/85639/seafood-stew',\n",
       " 'https://www.allrecipes.com/recipe/236102/beef-stew',\n",
       " 'https://www.allrecipes.com/recipe/106038/hobo-stew',\n",
       " 'https://www.allrecipes.com/recipe/13305/veal-stew',\n",
       " 'https://www.allrecipes.com/recipe/15519/chunky-stew',\n",
       " 'https://www.allrecipes.com/recipe/104316/pirate-stew',\n",
       " 'https://www.allrecipes.com/recipe/25672/zucchini-stew',\n",
       " 'https://www.allrecipes.com/recipe/41878/lentil-stew',\n",
       " 'https://www.allrecipes.com/recipe/16295/thunderbird-stew',\n",
       " 'https://www.allrecipes.com/recipe/16495/squash-stew',\n",
       " 'https://www.allrecipes.com/recipe/15841/hamburger-stew',\n",
       " 'https://www.allrecipes.com/recipe/23124/vegan-stew',\n",
       " 'https://www.allrecipes.com/recipe/90222/shipwreck-stew',\n",
       " 'https://www.allrecipes.com/recipe/13297/bachelors-stew',\n",
       " 'https://www.allrecipes.com/recipe/13069/cheapskate-stew',\n",
       " 'https://www.allrecipes.com/recipe/59334/chuckwagon-stew',\n",
       " 'https://www.allrecipes.com/recipe/25678/beef-stew-vi',\n",
       " 'https://www.allrecipes.com/recipe/234534/beef-and-guinnessr-stew',\n",
       " 'https://www.allrecipes.com/recipe/71808/brazilian-black-bean-stew',\n",
       " 'https://www.allrecipes.com/recipe/149731/kyles-favorite-beef-stew',\n",
       " 'https://www.allrecipes.com/recipe/55610/get-a-husband-brunswick-stew',\n",
       " 'https://www.allrecipes.com/recipe/73139/vegetarian-tortilla-stew',\n",
       " 'https://www.allrecipes.com/recipe/229255/beef-and-cabbage-stew',\n",
       " 'https://www.allrecipes.com/recipe/16035/irish-lamb-stew',\n",
       " 'https://www.allrecipes.com/recipe/217952/west-african-peanut-stew',\n",
       " 'https://www.allrecipes.com/recipe/231352/sexy-fish-stew',\n",
       " 'https://www.allrecipes.com/recipe/25843/hasenpfeffer-rabbit-stew',\n",
       " 'https://www.allrecipes.com/recipe/24226/baked-beef-stew',\n",
       " 'https://www.allrecipes.com/recipe/83421/trinidad-stewed-chicken',\n",
       " 'https://www.allrecipes.com/recipe/23152/beef-stew-v',\n",
       " 'https://www.allrecipes.com/recipe/236603/chef-johns-irish-stew-',\n",
       " 'https://www.allrecipes.com/recipe/13440/venison-stew-i',\n",
       " 'https://www.allrecipes.com/recipe/228224/chicken-stew-with-dumplings',\n",
       " 'https://www.allrecipes.com/recipe/141158/chicken-thigh-and-dumpling-stew',\n",
       " 'https://www.allrecipes.com/recipe/230965/slow-simmer-beef-stew',\n",
       " 'https://www.allrecipes.com/recipe/83270/russells-fish-stew',\n",
       " 'https://www.allrecipes.com/recipe/13194/spiced-beef-stew',\n",
       " 'https://www.allrecipes.com/recipe/14660/cuban-beef-stew',\n",
       " 'https://www.allrecipes.com/recipe/233398/summer-squash-and-sausage-stew-',\n",
       " 'https://www.allrecipes.com/recipe/217947/moroccan-chickpea-stew',\n",
       " 'https://www.allrecipes.com/recipe/23922/green-chili-stew',\n",
       " 'https://www.allrecipes.com/recipe/223428/savory-vegetable-beef-stew',\n",
       " 'https://www.allrecipes.com/recipe/82748/sc-frogmore-stew',\n",
       " 'https://www.allrecipes.com/recipe/44318/lamb-and-winter-vegetable-stew',\n",
       " 'https://www.allrecipes.com/recipe/69274/turkish-fish-stew',\n",
       " 'https://www.allrecipes.com/recipe/82160/texas-cowboy-stew',\n",
       " 'https://www.allrecipes.com/recipe/141395/mediterranean-lamb-and-lentil-stew',\n",
       " 'https://www.allrecipes.com/recipe/75086/pressure-cooker-beef-stew',\n",
       " 'https://www.allrecipes.com/recipe/230419/pork-sweet-potato-stew',\n",
       " 'https://www.allrecipes.com/recipe/222044/grandpas-oyster-stew',\n",
       " 'https://www.allrecipes.com/recipe/216747/oyster-stew-for-one-or-two',\n",
       " 'https://www.allrecipes.com/recipe/89583/roasted-green-chile-stew',\n",
       " 'https://www.allrecipes.com/recipe/13449/venison-stew-ii',\n",
       " 'https://www.allrecipes.com/recipe/138131/bigos-hunters-stew',\n",
       " 'https://www.allrecipes.com/recipe/84113/hearty-turkey-stew-with-vegetables',\n",
       " 'https://www.allrecipes.com/recipe/214064/beef-stew-with-ale',\n",
       " 'https://www.allrecipes.com/recipe/137967/african-style-oxtail-stew',\n",
       " 'https://www.allrecipes.com/recipe/237287/paleo-chicken-stew',\n",
       " 'https://www.allrecipes.com/recipe/21092/italian-stewed-tomatoes',\n",
       " 'https://www.allrecipes.com/recipe/45048/pork-and-hominy-stew',\n",
       " 'https://www.allrecipes.com/recipe/236731/tender-pork-stew-with-beans',\n",
       " 'https://www.allrecipes.com/recipe/13345/french-beef-stew',\n",
       " 'https://www.allrecipes.com/recipe/216925/jgs-irish-lamb-stew',\n",
       " 'https://www.allrecipes.com/recipe/215082/aunt-ritas-italian-stew',\n",
       " 'https://www.allrecipes.com/recipe/234983/vegan-african-stew',\n",
       " 'https://www.allrecipes.com/recipe/25675/rocky-mountain-stew',\n",
       " 'https://www.allrecipes.com/recipe/14659/roasted-vegetable-and-beef-stew',\n",
       " 'https://www.allrecipes.com/recipe/254978/jersey-fresh-stewed-tomatoes',\n",
       " 'https://www.allrecipes.com/recipe/240939/alitas-tomato-beef-stew',\n",
       " 'https://www.allrecipes.com/recipe/230331/jennifers-burgundy-beef-stew',\n",
       " 'https://www.allrecipes.com/recipe/164503/caras-moroccan-stew',\n",
       " 'https://www.allrecipes.com/recipe/110238/all-pumpkins-night-stew',\n",
       " 'https://www.allrecipes.com/recipe/223463/spicy-beef-vegetable-stew',\n",
       " 'https://www.allrecipes.com/recipe/13225/quick-texas-stew',\n",
       " 'https://www.allrecipes.com/recipe/12914/provincial-beef-stew',\n",
       " 'https://www.allrecipes.com/recipe/217161/easter-egg-stew',\n",
       " 'https://www.allrecipes.com/recipe/84175/rabbit-stew-with-coconut-cream',\n",
       " 'https://www.allrecipes.com/recipe/64014/apple-cider-beef-stew',\n",
       " 'https://www.allrecipes.com/recipe/233873/hearty-cranberry-bison-stew',\n",
       " 'https://www.allrecipes.com/recipe/87895/pennsyltucky-pepper-stew',\n",
       " 'https://www.allrecipes.com/recipe/200006/kerr-lake-catfish-stew',\n",
       " 'https://www.allrecipes.com/recipe/213670/easy-venison-stew',\n",
       " 'https://www.allrecipes.com/recipe/239902/no-yolksr-lamb-stew',\n",
       " 'https://www.allrecipes.com/recipe/256295/mexican-beef-and-vegetable-stew',\n",
       " 'https://www.allrecipes.com/recipe/214706/easy-green-chile-stew',\n",
       " 'https://www.allrecipes.com/recipe/87549/moms-oyster-stew',\n",
       " 'https://www.allrecipes.com/recipe/46321/beef-heart-stew',\n",
       " 'https://www.allrecipes.com/recipe/69377/southern-style-beef-stew',\n",
       " 'https://www.allrecipes.com/recipe/130325/chestnut-lentils-and-vegetable-stew',\n",
       " 'https://www.allrecipes.com/recipe/87810/southwest-garden-stew',\n",
       " 'https://www.allrecipes.com/recipe/239150/santa-fe-stew',\n",
       " 'https://www.allrecipes.com/recipe/230335/5-hour-beef-stew',\n",
       " 'https://www.allrecipes.com/recipe/245361/creamy-pork-stew',\n",
       " 'https://www.allrecipes.com/recipe/168646/auntie-anitas-lobster-stew',\n",
       " 'https://www.allrecipes.com/recipe/177360/rons-stewed-shrimp',\n",
       " 'https://www.allrecipes.com/recipe/237206/slow-cooker-caribou-stew',\n",
       " 'https://www.allrecipes.com/recipe/238771/hawaiian-ginger-chicken-stew',\n",
       " 'https://www.allrecipes.com/recipe/83448/tomato-rich-fish-stew',\n",
       " 'https://www.allrecipes.com/recipe/52357/summer-zucchini-stew',\n",
       " 'https://www.allrecipes.com/recipe/128573/spanish-style-oxtail-stew',\n",
       " 'https://www.allrecipes.com/recipe/54365/hearty-harvest-and-ham-stew',\n",
       " 'https://www.allrecipes.com/recipe/69286/eggplant-and-lamb-stew',\n",
       " 'https://www.allrecipes.com/recipe/143324/portuguese-fava-bean-stew',\n",
       " 'https://www.allrecipes.com/recipe/13252/green-chili-stew',\n",
       " 'https://www.allrecipes.com/recipe/228662/african-cabbage-stew',\n",
       " 'https://www.allrecipes.com/recipe/230315/hearty-hoppin-john-stew',\n",
       " 'https://www.allrecipes.com/recipe/240360/home-style-beef-stew',\n",
       " 'https://www.allrecipes.com/recipe/241257/harmons-brunswick-stew-',\n",
       " 'https://www.allrecipes.com/recipe/240450/persian-style-pumpkin-stew',\n",
       " 'https://www.allrecipes.com/recipe/54282/lamb-stew-with-green-beans',\n",
       " 'https://www.allrecipes.com/recipe/8513/gypsy-chicken-stew',\n",
       " 'https://www.allrecipes.com/recipe/157831/chuck-wagon-stew',\n",
       " 'https://www.allrecipes.com/recipe/177129/chayote-and-sausage-stew',\n",
       " 'https://www.allrecipes.com/recipe/178512/maltese-rabbit-stew',\n",
       " 'https://www.allrecipes.com/recipe/13364/terris-chicken-carcass-stew',\n",
       " 'https://www.allrecipes.com/recipe/31810/portuguese-chourico-stew',\n",
       " 'https://www.allrecipes.com/recipe/13164/grison-beef-stew',\n",
       " 'https://www.allrecipes.com/recipe/217781/malabari-chicken-stew',\n",
       " 'https://www.allrecipes.com/recipe/218353/lavohns-beef-stew']"
      ]
     },
     "execution_count": 84,
     "metadata": {},
     "output_type": "execute_result"
    }
   ],
   "source": [
    "hrefs"
   ]
  },
  {
   "cell_type": "code",
   "execution_count": 71,
   "metadata": {},
   "outputs": [],
   "source": [
    "browser.get(url)"
   ]
  },
  {
   "cell_type": "code",
   "execution_count": 70,
   "metadata": {},
   "outputs": [],
   "source": [
    "url = browser.current_url"
   ]
  },
  {
   "cell_type": "code",
   "execution_count": 73,
   "metadata": {},
   "outputs": [],
   "source": [
    "sel = 'button#btnMoreResults'\n",
    "more_button = browser.find_element_by_css_selector(sel)"
   ]
  },
  {
   "cell_type": "code",
   "execution_count": 85,
   "metadata": {},
   "outputs": [],
   "source": [
    "def populate_search_page(browser, num_pages=10):\n",
    "    '''Populates browser page with specified number of pages of search results'''\n",
    "    for _ in range(num_pages):\n",
    "        try:\n",
    "            sel = 'button#btnMoreResults'\n",
    "            more_button = browser.find_element_by_css_selector(sel)\n",
    "            more_button.click()\n",
    "        except:\n",
    "            browser.execute_script('window.scrollTo(0, document.body.scrollHeight - 1000);')\n",
    "        time.sleep(5 + 3*np.random.random())"
   ]
  },
  {
   "cell_type": "code",
   "execution_count": 81,
   "metadata": {},
   "outputs": [],
   "source": [
    "populate_search_page(browser, num_pages=5)"
   ]
  },
  {
   "cell_type": "code",
   "execution_count": null,
   "metadata": {},
   "outputs": [],
   "source": []
  }
 ],
 "metadata": {
  "kernelspec": {
   "display_name": "Python 3",
   "language": "python",
   "name": "python3"
  },
  "language_info": {
   "codemirror_mode": {
    "name": "ipython",
    "version": 3
   },
   "file_extension": ".py",
   "mimetype": "text/x-python",
   "name": "python",
   "nbconvert_exporter": "python",
   "pygments_lexer": "ipython3",
   "version": "3.6.8"
  }
 },
 "nbformat": 4,
 "nbformat_minor": 2
}
