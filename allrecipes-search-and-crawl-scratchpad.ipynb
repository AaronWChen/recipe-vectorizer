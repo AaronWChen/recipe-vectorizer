{
 "cells": [
  {
   "cell_type": "code",
   "execution_count": 2,
   "metadata": {},
   "outputs": [],
   "source": [
    "import time\n",
    "import random\n",
    "import requests\n",
    "import selenium\n",
    "from string import ascii_lowercase\n",
    "from selenium.webdriver import Firefox, Chrome\n",
    "from bs4 import BeautifulSoup\n",
    "import pandas as pd\n",
    "import string\n",
    "import numpy as np\n",
    "from selenium.webdriver.common.keys import Keys\n",
    "import pymongo"
   ]
  },
  {
   "cell_type": "code",
   "execution_count": 8,
   "metadata": {},
   "outputs": [],
   "source": [
    "browser = Chrome()"
   ]
  },
  {
   "cell_type": "code",
   "execution_count": 10,
   "metadata": {},
   "outputs": [],
   "source": [
    "def search_allrecipes(search_item, browser, typo_rate=0.1):\n",
    "    \"\"\"Goes to the Allrecipes.com homepage and searches for item specified by 'search_item'\"\"\"\n",
    "    url='https://www.allrecipes.com'\n",
    "    browser.get(url)\n",
    "    sel = 'input#searchText'\n",
    "    search_bar = browser.find_element_by_css_selector(sel)\n",
    "    search_bar.click()\n",
    "    type_item(search_item, search_bar, typo_rate)\n",
    "    search_bar.send_keys('\\n')"
   ]
  },
  {
   "cell_type": "code",
   "execution_count": 11,
   "metadata": {},
   "outputs": [],
   "source": [
    "def type_item(item, field, typo_rate=0.1):\n",
    "    for char in item:\n",
    "        if np.random.random() < typo_rate:\n",
    "            field.send_keys(make_typo(char))\n",
    "            time.sleep(0.2 * np.random.random() + typo_rate)\n",
    "            field.send_keys('\\b')\n",
    "        field.send_keys(char)\n",
    "        time.sleep(0.05 * np.random.random() + typo_rate)"
   ]
  },
  {
   "cell_type": "code",
   "execution_count": 12,
   "metadata": {},
   "outputs": [],
   "source": [
    "def make_typo(key, repeat=True):\n",
    "    '''Returns a letter adjacent to (or identical to, if repeat=True) the input key.'''\n",
    "    key = key.lower()\n",
    "    row2 = list('qwertyuiop[')\n",
    "    row3 = list(\"asdfghjkl;\")\n",
    "    row4 = list('zxcvbnm,.')\n",
    "    adj_keys = [key] if repeat else []\n",
    "    if key in row2:\n",
    "        idx = row2.index(key)\n",
    "        if idx > 0:\n",
    "            adj_keys += [row2[idx-1] , row2[idx+1]] + row3[idx-1:idx+1]\n",
    "        else:\n",
    "            adj_keys += list('was')\n",
    "    elif key in row3:\n",
    "        idx = row3.index(key)\n",
    "        if idx > 0:\n",
    "            adj_keys += row2[idx:idx+2] + [row3[idx-1] , row3[idx+1]] + row4[idx-1:idx+1]\n",
    "        else:\n",
    "            adj_keys += list('qwsz')\n",
    "    elif key in row4:\n",
    "        idx = row4.index(key)\n",
    "        if idx > 0:\n",
    "            adj_keys += row3[idx:idx+2] + [row4[idx-1] , row4[idx+1]]\n",
    "        else:\n",
    "            adj_keys += list('asx')\n",
    "    return np.random.choice(adj_keys)"
   ]
  },
  {
   "cell_type": "code",
   "execution_count": 13,
   "metadata": {},
   "outputs": [],
   "source": [
    "def clear_field(field):\n",
    "    contents = field.get_attribute('value')\n",
    "    for _ in contents:\n",
    "        field.send_keys('\\b')\n",
    "        time.sleep(0.02 * np.random.random() + 0.05)"
   ]
  },
  {
   "cell_type": "code",
   "execution_count": 14,
   "metadata": {},
   "outputs": [],
   "source": [
    "search_allrecipes('chili', browser)"
   ]
  },
  {
   "cell_type": "code",
   "execution_count": 72,
   "metadata": {},
   "outputs": [],
   "source": [
    "browser.execute_script('window.scrollTo(0, document.body.scrollHeight - 1000);')"
   ]
  },
  {
   "cell_type": "code",
   "execution_count": 15,
   "metadata": {},
   "outputs": [],
   "source": [
    "def get_search_results(browser):\n",
    "    '''\n",
    "    Finds and returns all recipe ids, names, and hyperlinks on current browser page.\n",
    "    '''\n",
    "    sel = 'article.fixed-recipe-card'\n",
    "    search_results = browser.find_elements_by_css_selector(sel)\n",
    "    hrefs = []\n",
    "    names = []\n",
    "    for element in search_results:\n",
    "        try:\n",
    "            sel = 'div.fixed-recipe-card__info h3 a'\n",
    "            info = element.find_element_by_css_selector(sel)\n",
    "            href = info.get_attribute('href')\n",
    "            hrefs.append(href.split('/?')[0])\n",
    "            names.append(info.text)\n",
    "        except:\n",
    "            continue\n",
    "    ids = []\n",
    "    for href in hrefs:\n",
    "        id_and_name = href.split('recipe/')[1]\n",
    "        ids.append(int(id_and_name.split('/')[0]))\n",
    "    return ids, names, hrefs"
   ]
  },
  {
   "cell_type": "code",
   "execution_count": 16,
   "metadata": {},
   "outputs": [],
   "source": [
    "ids, names, hrefs = get_search_results(browser)"
   ]
  },
  {
   "cell_type": "code",
   "execution_count": 85,
   "metadata": {},
   "outputs": [],
   "source": [
    "def populate_search_page(browser, num_pages=10, scroll_delay=4):\n",
    "    '''Populates browser page with specified number of pages of search results'''\n",
    "    for _ in range(num_pages):\n",
    "        try:\n",
    "            sel = 'button#btnMoreResults'\n",
    "            more_button = browser.find_element_by_css_selector(sel)\n",
    "            more_button.click()\n",
    "        except:\n",
    "            browser.execute_script('window.scrollTo(0, document.body.scrollHeight - 1000);')\n",
    "        time.sleep(scroll_delay + scroll_delay*np.random.random())"
   ]
  },
  {
   "cell_type": "code",
   "execution_count": 81,
   "metadata": {},
   "outputs": [],
   "source": [
    "populate_search_page(browser, num_pages=5)"
   ]
  },
  {
   "cell_type": "code",
   "execution_count": 3,
   "metadata": {},
   "outputs": [],
   "source": [
    "mc = pymongo.MongoClient()"
   ]
  },
  {
   "cell_type": "code",
   "execution_count": 4,
   "metadata": {},
   "outputs": [],
   "source": [
    "test_db = mc['recipes_test']"
   ]
  },
  {
   "cell_type": "code",
   "execution_count": 19,
   "metadata": {},
   "outputs": [],
   "source": [
    "results_coll = test_db['search_results']"
   ]
  },
  {
   "cell_type": "code",
   "execution_count": 20,
   "metadata": {},
   "outputs": [],
   "source": [
    "def add_results_to_collection(browser, collection):\n",
    "    ids, names, hrefs = get_search_results(browser)\n",
    "    for i, name, href in zip(ids, names, hrefs):\n",
    "        # If 'id' is not in database, add entry\n",
    "        if len(list(collection.find({'id':i}))) == 0:\n",
    "            item = {'id':i,\n",
    "                    'name': name,\n",
    "                    'href': href,\n",
    "                    'viewed': 0}\n",
    "            collection.insert_one(item)"
   ]
  },
  {
   "cell_type": "code",
   "execution_count": 23,
   "metadata": {},
   "outputs": [],
   "source": [
    "add_results_to_collection(browser, results_coll)"
   ]
  },
  {
   "cell_type": "code",
   "execution_count": 25,
   "metadata": {},
   "outputs": [],
   "source": [
    "def mark_as_viewed(recipe_id, collection):\n",
    "    collection.update_one({'id':recipe_id},\n",
    "                          {\"$set\":{'viewed': 1}}, upsert=False)"
   ]
  },
  {
   "cell_type": "code",
   "execution_count": 26,
   "metadata": {},
   "outputs": [],
   "source": [
    "mark_as_viewed(78299, results_coll)"
   ]
  },
  {
   "cell_type": "code",
   "execution_count": 29,
   "metadata": {},
   "outputs": [
    {
     "data": {
      "text/plain": [
       "20"
      ]
     },
     "execution_count": 29,
     "metadata": {},
     "output_type": "execute_result"
    }
   ],
   "source": [
    "len(list(results_coll.find()))"
   ]
  },
  {
   "cell_type": "code",
   "execution_count": null,
   "metadata": {},
   "outputs": [],
   "source": []
  }
 ],
 "metadata": {
  "kernelspec": {
   "display_name": "Python 3",
   "language": "python",
   "name": "python3"
  },
  "language_info": {
   "codemirror_mode": {
    "name": "ipython",
    "version": 3
   },
   "file_extension": ".py",
   "mimetype": "text/x-python",
   "name": "python",
   "nbconvert_exporter": "python",
   "pygments_lexer": "ipython3",
   "version": "3.6.8"
  }
 },
 "nbformat": 4,
 "nbformat_minor": 2
}
