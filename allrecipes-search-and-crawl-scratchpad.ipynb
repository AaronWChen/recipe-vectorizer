{
 "cells": [
  {
   "cell_type": "code",
   "execution_count": 2,
   "metadata": {},
   "outputs": [],
   "source": [
    "import time\n",
    "import random\n",
    "import requests\n",
    "import selenium\n",
    "from string import ascii_lowercase\n",
    "from selenium.webdriver import Firefox, Chrome\n",
    "from bs4 import BeautifulSoup\n",
    "import pandas as pd\n",
    "import string\n",
    "import numpy as np\n",
    "from selenium.webdriver.common.keys import Keys\n",
    "import pymongo"
   ]
  },
  {
   "cell_type": "code",
   "execution_count": 8,
   "metadata": {},
   "outputs": [],
   "source": [
    "browser = Chrome()"
   ]
  },
  {
   "cell_type": "code",
   "execution_count": 10,
   "metadata": {},
   "outputs": [],
   "source": [
    "def search_allrecipes(search_item, browser, typo_rate=0.1):\n",
    "    \"\"\"Goes to the Allrecipes.com homepage and searches for item specified by 'search_item'\"\"\"\n",
    "    url='https://www.allrecipes.com'\n",
    "    browser.get(url)\n",
    "    sel = 'input#searchText'\n",
    "    search_bar = browser.find_element_by_css_selector(sel)\n",
    "    search_bar.click()\n",
    "    type_item(search_item, search_bar, typo_rate)\n",
    "    search_bar.send_keys('\\n')"
   ]
  },
  {
   "cell_type": "code",
   "execution_count": 11,
   "metadata": {},
   "outputs": [],
   "source": [
    "def type_item(item, field, typo_rate=0.1):\n",
    "    for char in item:\n",
    "        if np.random.random() < typo_rate:\n",
    "            field.send_keys(make_typo(char))\n",
    "            time.sleep(0.2 * np.random.random() + typo_rate)\n",
    "            field.send_keys('\\b')\n",
    "        field.send_keys(char)\n",
    "        time.sleep(0.05 * np.random.random() + typo_rate)"
   ]
  },
  {
   "cell_type": "code",
   "execution_count": 12,
   "metadata": {},
   "outputs": [],
   "source": [
    "def make_typo(key, repeat=True):\n",
    "    '''Returns a letter adjacent to (or identical to, if repeat=True) the input key.'''\n",
    "    key = key.lower()\n",
    "    row2 = list('qwertyuiop[')\n",
    "    row3 = list(\"asdfghjkl;\")\n",
    "    row4 = list('zxcvbnm,.')\n",
    "    adj_keys = [key] if repeat else []\n",
    "    if key in row2:\n",
    "        idx = row2.index(key)\n",
    "        if idx > 0:\n",
    "            adj_keys += [row2[idx-1] , row2[idx+1]] + row3[idx-1:idx+1]\n",
    "        else:\n",
    "            adj_keys += list('was')\n",
    "    elif key in row3:\n",
    "        idx = row3.index(key)\n",
    "        if idx > 0:\n",
    "            adj_keys += row2[idx:idx+2] + [row3[idx-1] , row3[idx+1]] + row4[idx-1:idx+1]\n",
    "        else:\n",
    "            adj_keys += list('qwsz')\n",
    "    elif key in row4:\n",
    "        idx = row4.index(key)\n",
    "        if idx > 0:\n",
    "            adj_keys += row3[idx:idx+2] + [row4[idx-1] , row4[idx+1]]\n",
    "        else:\n",
    "            adj_keys += list('asx')\n",
    "    return np.random.choice(adj_keys)"
   ]
  },
  {
   "cell_type": "code",
   "execution_count": 13,
   "metadata": {},
   "outputs": [],
   "source": [
    "def clear_field(field):\n",
    "    contents = field.get_attribute('value')\n",
    "    for _ in contents:\n",
    "        field.send_keys('\\b')\n",
    "        time.sleep(0.02 * np.random.random() + 0.05)"
   ]
  },
  {
   "cell_type": "code",
   "execution_count": 14,
   "metadata": {},
   "outputs": [],
   "source": [
    "search_allrecipes('chili', browser)"
   ]
  },
  {
   "cell_type": "code",
   "execution_count": 72,
   "metadata": {},
   "outputs": [],
   "source": [
    "browser.execute_script('window.scrollTo(0, document.body.scrollHeight - 1000);')"
   ]
  },
  {
   "cell_type": "code",
   "execution_count": 15,
   "metadata": {},
   "outputs": [],
   "source": [
    "def get_search_results(browser):\n",
    "    '''\n",
    "    Finds and returns all recipe ids, names, and hyperlinks on current browser page.\n",
    "    '''\n",
    "    sel = 'article.fixed-recipe-card'\n",
    "    search_results = browser.find_elements_by_css_selector(sel)\n",
    "    hrefs = []\n",
    "    names = []\n",
    "    for element in search_results:\n",
    "        try:\n",
    "            sel = 'div.fixed-recipe-card__info h3 a'\n",
    "            info = element.find_element_by_css_selector(sel)\n",
    "            href = info.get_attribute('href')\n",
    "            hrefs.append(href.split('/?')[0])\n",
    "            names.append(info.text)\n",
    "        except:\n",
    "            continue\n",
    "    ids = []\n",
    "    for href in hrefs:\n",
    "        id_and_name = href.split('recipe/')[1]\n",
    "        ids.append(int(id_and_name.split('/')[0]))\n",
    "    return ids, names, hrefs"
   ]
  },
  {
   "cell_type": "code",
   "execution_count": 41,
   "metadata": {},
   "outputs": [],
   "source": [
    "ids, names, hrefs = get_search_results(browser)"
   ]
  },
  {
   "cell_type": "code",
   "execution_count": 43,
   "metadata": {},
   "outputs": [
    {
     "data": {
      "text/plain": [
       "['https://www.allrecipes.com/recipe/78299/boilermaker-tailgate-chili',\n",
       " 'https://www.allrecipes.com/recipe/13079/flatlander-chili',\n",
       " 'https://www.allrecipes.com/recipe/72508/the-best-vegetarian-chili-in-the-world',\n",
       " 'https://www.allrecipes.com/recipe/14985/its-chili-by-george',\n",
       " 'https://www.allrecipes.com/recipe/15401/easy-chili-i',\n",
       " 'https://www.allrecipes.com/recipe/229949/creamy-white-chili',\n",
       " 'https://www.allrecipes.com/recipe/16235/debdoozies-blue-ribbon-chili',\n",
       " 'https://www.allrecipes.com/recipe/231082/just-like-wendys-chili',\n",
       " 'https://www.allrecipes.com/recipe/70038/franks-spicy-alabama-onion-beer-chili',\n",
       " 'https://www.allrecipes.com/recipe/244558/beef-bean-and-beer-chili',\n",
       " 'https://www.allrecipes.com/recipe/84760/smokin-scovilles-turkey-chili',\n",
       " 'https://www.allrecipes.com/recipe/62763/terrific-turkey-chili',\n",
       " 'https://www.allrecipes.com/recipe/25711/washabinaros-chili',\n",
       " 'https://www.allrecipes.com/recipe/223538/jeffs-hot-dog-chili',\n",
       " 'https://www.allrecipes.com/recipe/16276/chili-i',\n",
       " 'https://www.allrecipes.com/recipe/13010/white-bean-chicken-chili',\n",
       " 'https://www.allrecipes.com/recipe/233613/best-damn-chili',\n",
       " 'https://www.allrecipes.com/recipe/13423/my-chili',\n",
       " 'https://www.allrecipes.com/recipe/235014/paleo-chili',\n",
       " 'https://www.allrecipes.com/recipe/13329/quick-chili-i',\n",
       " 'https://www.allrecipes.com/recipe/58499/chili-sauce',\n",
       " 'https://www.allrecipes.com/recipe/42966/elk-chili',\n",
       " 'https://www.allrecipes.com/recipe/213912/chili-mac',\n",
       " 'https://www.allrecipes.com/recipe/235502/fiesta-chili',\n",
       " 'https://www.allrecipes.com/recipe/219020/oktoberfest-chili',\n",
       " 'https://www.allrecipes.com/recipe/213449/alligator-chili',\n",
       " 'https://www.allrecipes.com/recipe/26400/corn-chili',\n",
       " 'https://www.allrecipes.com/recipe/50100/polish-chili',\n",
       " 'https://www.allrecipes.com/recipe/24921/chili-dip',\n",
       " 'https://www.allrecipes.com/recipe/230828/jrays-chili',\n",
       " 'https://www.allrecipes.com/recipe/233828/chili-ghetti',\n",
       " 'https://www.allrecipes.com/recipe/245409/seafood-chili',\n",
       " 'https://www.allrecipes.com/recipe/35831/chili-verde',\n",
       " 'https://www.allrecipes.com/recipe/13331/tangy-chili',\n",
       " 'https://www.allrecipes.com/recipe/15914/chili-soup',\n",
       " 'https://www.allrecipes.com/recipe/49652/chili-liver',\n",
       " 'https://www.allrecipes.com/recipe/232559/chorizo-chili',\n",
       " 'https://www.allrecipes.com/recipe/26438/melanies-chili',\n",
       " 'https://www.allrecipes.com/recipe/13127/no-fuss-slow-cooker-chili',\n",
       " 'https://www.allrecipes.com/recipe/85752/johns-chili',\n",
       " 'https://www.allrecipes.com/recipe/218132/chinese-chili',\n",
       " 'https://www.allrecipes.com/recipe/213463/killer-chili',\n",
       " 'https://www.allrecipes.com/recipe/180300/fruity-chili',\n",
       " 'https://www.allrecipes.com/recipe/238051/quick-chili',\n",
       " 'https://www.allrecipes.com/recipe/103305/hearty-chili',\n",
       " 'https://www.allrecipes.com/recipe/242063/chili-with-quinoa',\n",
       " 'https://www.allrecipes.com/recipe/255259/homemade-chili',\n",
       " 'https://www.allrecipes.com/recipe/54669/fairuzahs-chili',\n",
       " 'https://www.allrecipes.com/recipe/25330/vegan-chili',\n",
       " 'https://www.allrecipes.com/recipe/205645/kas-chili',\n",
       " 'https://www.allrecipes.com/recipe/240380/chili-nachos',\n",
       " 'https://www.allrecipes.com/recipe/245493/rhubarb-chili',\n",
       " 'https://www.allrecipes.com/recipe/7056/chili-bread',\n",
       " 'https://www.allrecipes.com/recipe/141705/chili-colorado',\n",
       " 'https://www.allrecipes.com/recipe/88291/kellys-chili',\n",
       " 'https://www.allrecipes.com/recipe/17633/grandmas-chili',\n",
       " 'https://www.allrecipes.com/recipe/140099/tequila-chili',\n",
       " 'https://www.allrecipes.com/recipe/235466/football-chili',\n",
       " 'https://www.allrecipes.com/recipe/15410/steak-chili',\n",
       " 'https://www.allrecipes.com/recipe/26389/chili-iv',\n",
       " 'https://www.allrecipes.com/recipe/13987/easy-chili',\n",
       " 'https://www.allrecipes.com/recipe/16368/mamas-chili',\n",
       " 'https://www.allrecipes.com/recipe/75906/chili-burgers',\n",
       " 'https://www.allrecipes.com/recipe/13969/cornucopia-chili',\n",
       " 'https://www.allrecipes.com/recipe/214843/dads-chili',\n",
       " 'https://www.allrecipes.com/recipe/26462/russian-chili',\n",
       " 'https://www.allrecipes.com/recipe/15386/chili-iii',\n",
       " 'https://www.allrecipes.com/recipe/16188/camp-chili',\n",
       " 'https://www.allrecipes.com/recipe/8835/chicken-chili',\n",
       " 'https://www.allrecipes.com/recipe/13067/the-ultimate-chili',\n",
       " 'https://www.allrecipes.com/recipe/24406/swinks-chili',\n",
       " 'https://www.allrecipes.com/recipe/220076/mvp-chili',\n",
       " 'https://www.allrecipes.com/recipe/23118/chili-with-ziti',\n",
       " 'https://www.allrecipes.com/recipe/17308/casablanca-chili',\n",
       " 'https://www.allrecipes.com/recipe/15868/lentil-chili',\n",
       " 'https://www.allrecipes.com/recipe/80760/no-tomato-chili',\n",
       " 'https://www.allrecipes.com/recipe/25722/pumpkin-chili',\n",
       " 'https://www.allrecipes.com/recipe/25420/chili-casserole',\n",
       " 'https://www.allrecipes.com/recipe/25686/miners-chili',\n",
       " 'https://www.allrecipes.com/recipe/20080/chili-chicken']"
      ]
     },
     "execution_count": 43,
     "metadata": {},
     "output_type": "execute_result"
    }
   ],
   "source": [
    "hrefs"
   ]
  },
  {
   "cell_type": "code",
   "execution_count": 85,
   "metadata": {},
   "outputs": [],
   "source": [
    "def populate_search_page(browser, num_pages=10, scroll_delay=4):\n",
    "    '''Populates browser page with specified number of pages of search results'''\n",
    "    for _ in range(num_pages):\n",
    "        try:\n",
    "            sel = 'button#btnMoreResults'\n",
    "            more_button = browser.find_element_by_css_selector(sel)\n",
    "            more_button.click()\n",
    "        except:\n",
    "            browser.execute_script('window.scrollTo(0, document.body.scrollHeight - 1000);')\n",
    "        time.sleep(scroll_delay + scroll_delay*np.random.random())"
   ]
  },
  {
   "cell_type": "code",
   "execution_count": 81,
   "metadata": {},
   "outputs": [],
   "source": [
    "populate_search_page(browser, num_pages=5)"
   ]
  },
  {
   "cell_type": "code",
   "execution_count": 3,
   "metadata": {},
   "outputs": [],
   "source": [
    "mc = pymongo.MongoClient()"
   ]
  },
  {
   "cell_type": "code",
   "execution_count": 4,
   "metadata": {},
   "outputs": [],
   "source": [
    "test_db = mc['recipes_test']"
   ]
  },
  {
   "cell_type": "code",
   "execution_count": 19,
   "metadata": {},
   "outputs": [],
   "source": [
    "results_coll = test_db['search_results']"
   ]
  },
  {
   "cell_type": "code",
   "execution_count": 20,
   "metadata": {},
   "outputs": [],
   "source": [
    "def add_results_to_collection(browser, collection):\n",
    "    ids, names, hrefs = get_search_results(browser)\n",
    "    for i, name, href in zip(ids, names, hrefs):\n",
    "        # If 'id' is not in database, add entry\n",
    "        if len(list(collection.find({'id':i}))) == 0:\n",
    "            item = {'id':i,\n",
    "                    'name': name,\n",
    "                    'href': href,\n",
    "                    'viewed': 0}\n",
    "            collection.insert_one(item)"
   ]
  },
  {
   "cell_type": "code",
   "execution_count": 23,
   "metadata": {},
   "outputs": [],
   "source": [
    "add_results_to_collection(browser, results_coll)"
   ]
  },
  {
   "cell_type": "code",
   "execution_count": 25,
   "metadata": {},
   "outputs": [],
   "source": [
    "def mark_as_viewed(recipe_id, collection, error=False):\n",
    "    indicator = -1 if error else 1\n",
    "    collection.update_one({'id':recipe_id},\n",
    "                          {\"$set\":{'viewed': indicator}}, upsert=False)"
   ]
  },
  {
   "cell_type": "code",
   "execution_count": 26,
   "metadata": {},
   "outputs": [],
   "source": [
    "mark_as_viewed(78299, results_coll)"
   ]
  },
  {
   "cell_type": "code",
   "execution_count": 29,
   "metadata": {},
   "outputs": [
    {
     "data": {
      "text/plain": [
       "20"
      ]
     },
     "execution_count": 29,
     "metadata": {},
     "output_type": "execute_result"
    }
   ],
   "source": [
    "len(list(results_coll.find()))"
   ]
  },
  {
   "cell_type": "code",
   "execution_count": 39,
   "metadata": {},
   "outputs": [],
   "source": [
    "a = results_coll.find_one({'viewed':0})"
   ]
  },
  {
   "cell_type": "code",
   "execution_count": 37,
   "metadata": {},
   "outputs": [
    {
     "data": {
      "text/plain": [
       "dict"
      ]
     },
     "execution_count": 37,
     "metadata": {},
     "output_type": "execute_result"
    }
   ],
   "source": [
    "type(a)"
   ]
  },
  {
   "cell_type": "code",
   "execution_count": 40,
   "metadata": {},
   "outputs": [
    {
     "data": {
      "text/plain": [
       "'https://www.allrecipes.com/recipe/13079/flatlander-chili'"
      ]
     },
     "execution_count": 40,
     "metadata": {},
     "output_type": "execute_result"
    }
   ],
   "source": [
    "a['href']"
   ]
  },
  {
   "cell_type": "code",
   "execution_count": null,
   "metadata": {},
   "outputs": [],
   "source": []
  }
 ],
 "metadata": {
  "kernelspec": {
   "display_name": "Python 3",
   "language": "python",
   "name": "python3"
  },
  "language_info": {
   "codemirror_mode": {
    "name": "ipython",
    "version": 3
   },
   "file_extension": ".py",
   "mimetype": "text/x-python",
   "name": "python",
   "nbconvert_exporter": "python",
   "pygments_lexer": "ipython3",
   "version": "3.6.8"
  }
 },
 "nbformat": 4,
 "nbformat_minor": 2
}
